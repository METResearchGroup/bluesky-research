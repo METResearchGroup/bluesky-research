{
 "cells": [
  {
   "cell_type": "markdown",
   "metadata": {},
   "source": [
    "# Comparing Llama3 models\n",
    "\n",
    "We have individual results from Llama3-8b and Llama3-70b. Let's compare them against each other and see what we get.\n",
    "\n",
    "Let's load the results for each model for the prompts that had available context."
   ]
  },
  {
   "cell_type": "code",
   "execution_count": 14,
   "metadata": {},
   "outputs": [],
   "source": [
    "import numpy as np\n",
    "import pandas as pd"
   ]
  },
  {
   "cell_type": "code",
   "execution_count": 2,
   "metadata": {},
   "outputs": [],
   "source": [
    "llama3_8b_filename = \"llama3_8b_posts_available_context_results.csv\"\n",
    "llama3_70b_filename = \"llama3_70b_posts_available_context_results.csv\""
   ]
  },
  {
   "cell_type": "code",
   "execution_count": 3,
   "metadata": {},
   "outputs": [],
   "source": [
    "llama3_8b_df = pd.read_csv(llama3_8b_filename)\n",
    "llama3_70b_df = pd.read_csv(llama3_70b_filename)"
   ]
  },
  {
   "cell_type": "markdown",
   "metadata": {},
   "source": [
    "Let's start with comparing the results across prompts that use context (since this is what we'd do in practice anyways)"
   ]
  },
  {
   "cell_type": "code",
   "execution_count": 5,
   "metadata": {},
   "outputs": [],
   "source": [
    "llama3_8b_df_context_posts = llama3_8b_df[llama3_8b_df[\"has_context\"]]\n",
    "llama3_70b_df_context_posts = llama3_70b_df[llama3_70b_df[\"has_context\"]]"
   ]
  },
  {
   "cell_type": "markdown",
   "metadata": {},
   "source": [
    "Starting first with the civic labels"
   ]
  },
  {
   "cell_type": "code",
   "execution_count": 10,
   "metadata": {},
   "outputs": [],
   "source": [
    "llama3_8b_civic_labels = llama3_8b_df_context_posts[[\"link\", \"civic_label\"]]\n",
    "llama3_8b_civic_labels = llama3_8b_civic_labels.rename(columns={\"civic_label\": \"llama3_8b_civic_label\"})\n",
    "llama3_70b_civic_labels = llama3_70b_df_context_posts[[\"link\", \"civic_label\"]]\n",
    "llama3_70b_civic_labels = llama3_70b_civic_labels.rename(columns={\"civic_label\": \"llama3_70b_civic_label\"})"
   ]
  },
  {
   "cell_type": "code",
   "execution_count": 12,
   "metadata": {},
   "outputs": [],
   "source": [
    "joined_civic_labels = pd.merge(\n",
    "    llama3_8b_civic_labels, llama3_70b_civic_labels, on=\"link\"\n",
    ")"
   ]
  },
  {
   "cell_type": "code",
   "execution_count": 13,
   "metadata": {},
   "outputs": [
    {
     "data": {
      "text/html": [
       "<div>\n",
       "<style scoped>\n",
       "    .dataframe tbody tr th:only-of-type {\n",
       "        vertical-align: middle;\n",
       "    }\n",
       "\n",
       "    .dataframe tbody tr th {\n",
       "        vertical-align: top;\n",
       "    }\n",
       "\n",
       "    .dataframe thead th {\n",
       "        text-align: right;\n",
       "    }\n",
       "</style>\n",
       "<table border=\"1\" class=\"dataframe\">\n",
       "  <thead>\n",
       "    <tr style=\"text-align: right;\">\n",
       "      <th></th>\n",
       "      <th>link</th>\n",
       "      <th>llama3_8b_civic_label</th>\n",
       "      <th>llama3_70b_civic_label</th>\n",
       "    </tr>\n",
       "  </thead>\n",
       "  <tbody>\n",
       "    <tr>\n",
       "      <th>0</th>\n",
       "      <td>https://bsky.app/profile/jbouie.bsky.social/po...</td>\n",
       "      <td>civic</td>\n",
       "      <td>civic</td>\n",
       "    </tr>\n",
       "    <tr>\n",
       "      <th>1</th>\n",
       "      <td>https://bsky.app/profile/lethalityjane.bsky.so...</td>\n",
       "      <td>civic</td>\n",
       "      <td>civic</td>\n",
       "    </tr>\n",
       "    <tr>\n",
       "      <th>2</th>\n",
       "      <td>https://bsky.app/profile/esqueer.bsky.social/p...</td>\n",
       "      <td>civic</td>\n",
       "      <td>civic</td>\n",
       "    </tr>\n",
       "    <tr>\n",
       "      <th>3</th>\n",
       "      <td>https://bsky.app/profile/bachynski.bsky.social...</td>\n",
       "      <td>civic</td>\n",
       "      <td>civic</td>\n",
       "    </tr>\n",
       "    <tr>\n",
       "      <th>4</th>\n",
       "      <td>https://bsky.app/profile/rainsurname.bsky.soci...</td>\n",
       "      <td>civic</td>\n",
       "      <td>civic</td>\n",
       "    </tr>\n",
       "  </tbody>\n",
       "</table>\n",
       "</div>"
      ],
      "text/plain": [
       "                                                link llama3_8b_civic_label  \\\n",
       "0  https://bsky.app/profile/jbouie.bsky.social/po...                 civic   \n",
       "1  https://bsky.app/profile/lethalityjane.bsky.so...                 civic   \n",
       "2  https://bsky.app/profile/esqueer.bsky.social/p...                 civic   \n",
       "3  https://bsky.app/profile/bachynski.bsky.social...                 civic   \n",
       "4  https://bsky.app/profile/rainsurname.bsky.soci...                 civic   \n",
       "\n",
       "  llama3_70b_civic_label  \n",
       "0                  civic  \n",
       "1                  civic  \n",
       "2                  civic  \n",
       "3                  civic  \n",
       "4                  civic  "
      ]
     },
     "execution_count": 13,
     "metadata": {},
     "output_type": "execute_result"
    }
   ],
   "source": [
    "joined_civic_labels.head()"
   ]
  },
  {
   "cell_type": "code",
   "execution_count": 15,
   "metadata": {},
   "outputs": [],
   "source": [
    "correlation_prop = np.mean([joined_civic_labels[\"llama3_8b_civic_label\"] == joined_civic_labels[\"llama3_70b_civic_label\"]])  "
   ]
  },
  {
   "cell_type": "code",
   "execution_count": 16,
   "metadata": {},
   "outputs": [
    {
     "name": "stdout",
     "output_type": "stream",
     "text": [
      "Correlation between Llama3-8b and Llama3-70b for civic classification: 0.8805970149253731\n"
     ]
    }
   ],
   "source": [
    "print(f\"Correlation between Llama3-8b and Llama3-70b for civic classification: {correlation_prop}\")"
   ]
  },
  {
   "cell_type": "markdown",
   "metadata": {},
   "source": [
    "Now let's do the political ideology. Let's focus on the civic posts, and then calculate the correlation for the posts that both classify as civic."
   ]
  },
  {
   "cell_type": "code",
   "execution_count": 20,
   "metadata": {},
   "outputs": [],
   "source": [
    "# for llama3_8b model\n",
    "civic_llama3_8b_df_context_posts = llama3_8b_df_context_posts[\n",
    "    llama3_8b_df_context_posts[\"civic_label\"] == \"civic\"\n",
    "]\n",
    "civic_llama3_8b_df_context_posts = civic_llama3_8b_df_context_posts[[\"link\", \"political_label\"]]\n",
    "civic_llama3_8b_df_context_posts = civic_llama3_8b_df_context_posts.rename(columns={\"political_label\": \"llama3_8b_political_label\"})\n",
    "\n",
    "\n",
    "# for llama3_70b model\n",
    "civic_llama3_70b_df_context_posts = llama3_70b_df_context_posts[\n",
    "    llama3_70b_df_context_posts[\"civic_label\"] == \"civic\"\n",
    "]\n",
    "civic_llama3_70b_df_context_posts = civic_llama3_70b_df_context_posts[[\"link\", \"political_label\"]]\n",
    "civic_llama3_70b_df_context_posts = civic_llama3_70b_df_context_posts.rename(columns={\"political_label\": \"llama3_70b_political_label\"})"
   ]
  },
  {
   "cell_type": "code",
   "execution_count": 21,
   "metadata": {},
   "outputs": [],
   "source": [
    "joined_political_ideology_labels = pd.merge(\n",
    "    civic_llama3_8b_df_context_posts,\n",
    "    civic_llama3_70b_df_context_posts,\n",
    "    on=\"link\",\n",
    "    how=\"inner\"\n",
    ")"
   ]
  },
  {
   "cell_type": "code",
   "execution_count": 23,
   "metadata": {},
   "outputs": [
    {
     "data": {
      "text/html": [
       "<div>\n",
       "<style scoped>\n",
       "    .dataframe tbody tr th:only-of-type {\n",
       "        vertical-align: middle;\n",
       "    }\n",
       "\n",
       "    .dataframe tbody tr th {\n",
       "        vertical-align: top;\n",
       "    }\n",
       "\n",
       "    .dataframe thead th {\n",
       "        text-align: right;\n",
       "    }\n",
       "</style>\n",
       "<table border=\"1\" class=\"dataframe\">\n",
       "  <thead>\n",
       "    <tr style=\"text-align: right;\">\n",
       "      <th></th>\n",
       "      <th>link</th>\n",
       "      <th>llama3_8b_political_label</th>\n",
       "      <th>llama3_70b_political_label</th>\n",
       "    </tr>\n",
       "  </thead>\n",
       "  <tbody>\n",
       "    <tr>\n",
       "      <th>0</th>\n",
       "      <td>https://bsky.app/profile/jbouie.bsky.social/po...</td>\n",
       "      <td>left-leaning</td>\n",
       "      <td>left-leaning</td>\n",
       "    </tr>\n",
       "    <tr>\n",
       "      <th>1</th>\n",
       "      <td>https://bsky.app/profile/lethalityjane.bsky.so...</td>\n",
       "      <td>unclear</td>\n",
       "      <td>unclear</td>\n",
       "    </tr>\n",
       "    <tr>\n",
       "      <th>2</th>\n",
       "      <td>https://bsky.app/profile/esqueer.bsky.social/p...</td>\n",
       "      <td>left-leaning</td>\n",
       "      <td>left-leaning</td>\n",
       "    </tr>\n",
       "    <tr>\n",
       "      <th>3</th>\n",
       "      <td>https://bsky.app/profile/bachynski.bsky.social...</td>\n",
       "      <td>left-leaning</td>\n",
       "      <td>left-leaning</td>\n",
       "    </tr>\n",
       "    <tr>\n",
       "      <th>4</th>\n",
       "      <td>https://bsky.app/profile/rainsurname.bsky.soci...</td>\n",
       "      <td>left-leaning</td>\n",
       "      <td>left-leaning</td>\n",
       "    </tr>\n",
       "  </tbody>\n",
       "</table>\n",
       "</div>"
      ],
      "text/plain": [
       "                                                link  \\\n",
       "0  https://bsky.app/profile/jbouie.bsky.social/po...   \n",
       "1  https://bsky.app/profile/lethalityjane.bsky.so...   \n",
       "2  https://bsky.app/profile/esqueer.bsky.social/p...   \n",
       "3  https://bsky.app/profile/bachynski.bsky.social...   \n",
       "4  https://bsky.app/profile/rainsurname.bsky.soci...   \n",
       "\n",
       "  llama3_8b_political_label llama3_70b_political_label  \n",
       "0              left-leaning               left-leaning  \n",
       "1                   unclear                    unclear  \n",
       "2              left-leaning               left-leaning  \n",
       "3              left-leaning               left-leaning  \n",
       "4              left-leaning               left-leaning  "
      ]
     },
     "execution_count": 23,
     "metadata": {},
     "output_type": "execute_result"
    }
   ],
   "source": [
    "joined_political_ideology_labels.head()"
   ]
  },
  {
   "cell_type": "code",
   "execution_count": 24,
   "metadata": {},
   "outputs": [],
   "source": [
    "political_ideology_correlation_prop = np.mean(\n",
    "    [\n",
    "        joined_political_ideology_labels[\"llama3_8b_political_label\"]\n",
    "        == joined_political_ideology_labels[\"llama3_70b_political_label\"]\n",
    "    ]\n",
    ")  "
   ]
  },
  {
   "cell_type": "code",
   "execution_count": 25,
   "metadata": {},
   "outputs": [
    {
     "name": "stdout",
     "output_type": "stream",
     "text": [
      "Correlation between Llama3-8b and Llama3-70b for political classification: 0.7131782945736435\n"
     ]
    }
   ],
   "source": [
    "print(f\"Correlation between Llama3-8b and Llama3-70b for political classification: {political_ideology_correlation_prop}\")"
   ]
  },
  {
   "cell_type": "code",
   "execution_count": null,
   "metadata": {},
   "outputs": [],
   "source": []
  }
 ],
 "metadata": {
  "kernelspec": {
   "display_name": "bluesky-research",
   "language": "python",
   "name": "python3"
  },
  "language_info": {
   "codemirror_mode": {
    "name": "ipython",
    "version": 3
   },
   "file_extension": ".py",
   "mimetype": "text/x-python",
   "name": "python",
   "nbconvert_exporter": "python",
   "pygments_lexer": "ipython3",
   "version": "3.10.13"
  }
 },
 "nbformat": 4,
 "nbformat_minor": 2
}
