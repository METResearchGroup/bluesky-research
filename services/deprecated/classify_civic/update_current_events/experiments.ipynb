{
 "cells": [
  {
   "cell_type": "markdown",
   "metadata": {},
   "source": [
    "## Experiments with NYTimes API\n",
    "\n",
    "Compilation of experiments with [NYTimes API](\"https://developer.nytimes.com/\")"
   ]
  },
  {
   "cell_type": "code",
   "execution_count": 10,
   "metadata": {},
   "outputs": [],
   "source": [
    "from services.classify_civic.update_current_events.sync_nytimes_articles import *"
   ]
  },
  {
   "cell_type": "code",
   "execution_count": null,
   "metadata": {},
   "outputs": [],
   "source": [
    "res = load_section_topstories(\"politics\")"
   ]
  },
  {
   "cell_type": "code",
   "execution_count": null,
   "metadata": {},
   "outputs": [],
   "source": [
    "res"
   ]
  },
  {
   "cell_type": "code",
   "execution_count": null,
   "metadata": {},
   "outputs": [],
   "source": [
    "res[\"results\"][0]"
   ]
  },
  {
   "cell_type": "markdown",
   "metadata": {},
   "source": [
    "Now let's see the output if we do the full sync + write to DB."
   ]
  },
  {
   "cell_type": "code",
   "execution_count": 11,
   "metadata": {},
   "outputs": [
    {
     "name": "stdout",
     "output_type": "stream",
     "text": [
      "Loading articles for politics section...\n",
      "Finished loading 25 articles.\n",
      "----------\n",
      "Loading articles for us section...\n",
      "Finished loading 24 articles.\n",
      "----------\n",
      "Loading articles for world section...\n",
      "Finished loading 37 articles.\n",
      "----------\n"
     ]
    }
   ],
   "source": [
    "section_to_topstories_map: dict[str, list] = (\n",
    "    load_all_section_topstories(sections=[\"politics\", \"us\", \"world\"])\n",
    ")"
   ]
  },
  {
   "cell_type": "code",
   "execution_count": 12,
   "metadata": {},
   "outputs": [
    {
     "name": "stdout",
     "output_type": "stream",
     "text": [
      "Writing the latest articles for the politics section to DB.\n",
      "Writing 25 articles to DB.\n",
      "Finished writing 25 articles to DB.\n",
      "----------\n",
      "Writing the latest articles for the us section to DB.\n",
      "Writing 24 articles to DB.\n",
      "Finished writing 24 articles to DB.\n",
      "----------\n",
      "Writing the latest articles for the world section to DB.\n",
      "Writing 37 articles to DB.\n",
      "Finished writing 37 articles to DB.\n",
      "----------\n"
     ]
    }
   ],
   "source": [
    "for section, topstories_list in section_to_topstories_map.items():\n",
    "    print(f\"Writing the latest articles for the {section} section to DB.\")\n",
    "    processed_articles = process_articles(topstories_list)\n",
    "    write_articles_to_db(processed_articles)\n",
    "    print('-' * 10)"
   ]
  },
  {
   "cell_type": "code",
   "execution_count": 13,
   "metadata": {},
   "outputs": [
    {
     "name": "stdout",
     "output_type": "stream",
     "text": [
      "Execution time: 0 minutes, 0 seconds\n"
     ]
    }
   ],
   "source": [
    "df = load_all_articles_as_df()"
   ]
  },
  {
   "cell_type": "code",
   "execution_count": 16,
   "metadata": {},
   "outputs": [],
   "source": [
    "foo = df[\"abstract\"][0] + \" \" + df[\"title\"][0] + \" \" + df[\"captions\"][0]"
   ]
  },
  {
   "cell_type": "code",
   "execution_count": 17,
   "metadata": {},
   "outputs": [
    {
     "data": {
      "text/plain": [
       "'Marilyn Lands flipped a State House seat in the deep-red state by 25 percentage points, underscoring the continued political potency of reproductive rights. Democrat Running on Abortion and I.V.F. Access Wins Special Election in Alabama The Democratic candidate Marilyn Lands defeated her Republican opponent, Teddy Powell, by about 25 percentage points — an extraordinary margin in a swing district.'"
      ]
     },
     "execution_count": 17,
     "metadata": {},
     "output_type": "execute_result"
    }
   ],
   "source": [
    "foo"
   ]
  },
  {
   "cell_type": "code",
   "execution_count": 14,
   "metadata": {},
   "outputs": [
    {
     "data": {
      "text/html": [
       "<div>\n",
       "<style scoped>\n",
       "    .dataframe tbody tr th:only-of-type {\n",
       "        vertical-align: middle;\n",
       "    }\n",
       "\n",
       "    .dataframe tbody tr th {\n",
       "        vertical-align: top;\n",
       "    }\n",
       "\n",
       "    .dataframe thead th {\n",
       "        text-align: right;\n",
       "    }\n",
       "</style>\n",
       "<table border=\"1\" class=\"dataframe\">\n",
       "  <thead>\n",
       "    <tr style=\"text-align: right;\">\n",
       "      <th></th>\n",
       "      <th>id</th>\n",
       "      <th>nytimes_uri</th>\n",
       "      <th>title</th>\n",
       "      <th>abstract</th>\n",
       "      <th>url</th>\n",
       "      <th>published_date</th>\n",
       "      <th>captions</th>\n",
       "    </tr>\n",
       "  </thead>\n",
       "  <tbody>\n",
       "    <tr>\n",
       "      <th>0</th>\n",
       "      <td>1</td>\n",
       "      <td>nyt://article/d45c86b2-117e-5fed-807d-a41dff8d...</td>\n",
       "      <td>Democrat Running on Abortion and I.V.F. Access...</td>\n",
       "      <td>Marilyn Lands flipped a State House seat in th...</td>\n",
       "      <td>https://www.nytimes.com/2024/03/27/us/politics...</td>\n",
       "      <td>2024-03-27T09:43:38-04:00</td>\n",
       "      <td>The Democratic candidate Marilyn Lands defeate...</td>\n",
       "    </tr>\n",
       "    <tr>\n",
       "      <th>1</th>\n",
       "      <td>2</td>\n",
       "      <td>nyt://article/6d602738-cde6-5e8e-8921-f49634e9...</td>\n",
       "      <td>New Georgia Data Gives Insight on Primaries, P...</td>\n",
       "      <td>The vote history data supports the polling tha...</td>\n",
       "      <td>https://www.nytimes.com/2024/03/27/upshot/bide...</td>\n",
       "      <td>2024-03-27T05:04:15-04:00</td>\n",
       "      <td>Data from the March 12 primary in Georgia is c...</td>\n",
       "    </tr>\n",
       "    <tr>\n",
       "      <th>2</th>\n",
       "      <td>3</td>\n",
       "      <td>nyt://article/6d39505a-2866-5087-8fff-28af9239...</td>\n",
       "      <td>One Grieving Mother Hasn’t Given Up Hope for a...</td>\n",
       "      <td>A year after losing her daughter in the Covena...</td>\n",
       "      <td>https://www.nytimes.com/2024/03/27/us/politics...</td>\n",
       "      <td>2024-03-27T05:03:32-04:00</td>\n",
       "      <td>Katy Dieckhaus looking through one of the jour...</td>\n",
       "    </tr>\n",
       "    <tr>\n",
       "      <th>3</th>\n",
       "      <td>4</td>\n",
       "      <td>nyt://interactive/682e22bb-3e31-5fba-a32c-8ac5...</td>\n",
       "      <td>How Trump Moved Money to Pay $100 Million in L...</td>\n",
       "      <td>Trump supporters poured money into his effort ...</td>\n",
       "      <td>https://www.nytimes.com/interactive/2024/03/27...</td>\n",
       "      <td>2024-03-27T05:03:02-04:00</td>\n",
       "      <td></td>\n",
       "    </tr>\n",
       "    <tr>\n",
       "      <th>4</th>\n",
       "      <td>5</td>\n",
       "      <td>nyt://article/cbe159e1-0021-5857-8bbd-c448ac91...</td>\n",
       "      <td>They Grow Your Berries and Peaches, but Often ...</td>\n",
       "      <td>Farmers of fruits and vegetables say coverage ...</td>\n",
       "      <td>https://www.nytimes.com/2024/03/27/business/ec...</td>\n",
       "      <td>2024-03-27T05:00:52-04:00</td>\n",
       "      <td>Bernie Smiarowski grows potatoes and strawberr...</td>\n",
       "    </tr>\n",
       "    <tr>\n",
       "      <th>...</th>\n",
       "      <td>...</td>\n",
       "      <td>...</td>\n",
       "      <td>...</td>\n",
       "      <td>...</td>\n",
       "      <td>...</td>\n",
       "      <td>...</td>\n",
       "      <td>...</td>\n",
       "    </tr>\n",
       "    <tr>\n",
       "      <th>81</th>\n",
       "      <td>82</td>\n",
       "      <td>nyt://article/780eb804-a9fc-510d-a8cb-d756c7c2...</td>\n",
       "      <td>A French-Malian Singer Is Caught in an Olympic...</td>\n",
       "      <td>Aya Nakamura’s music is one of France’s top cu...</td>\n",
       "      <td>https://www.nytimes.com/2024/03/26/world/europ...</td>\n",
       "      <td>2024-03-26T00:01:13-04:00</td>\n",
       "      <td>Aya Nakamura is France’s most popular singer a...</td>\n",
       "    </tr>\n",
       "    <tr>\n",
       "      <th>82</th>\n",
       "      <td>83</td>\n",
       "      <td>nyt://article/057743db-2792-535e-a2e5-f14081be...</td>\n",
       "      <td>U.N. Security Council Calls for Immediate Ceas...</td>\n",
       "      <td>The U.S. decision not to vote on the resolutio...</td>\n",
       "      <td>https://www.nytimes.com/2024/03/25/world/middl...</td>\n",
       "      <td>2024-03-25T19:00:14-04:00</td>\n",
       "      <td>Linda Thomas-Greenfield, the U.S. ambassador t...</td>\n",
       "    </tr>\n",
       "    <tr>\n",
       "      <th>83</th>\n",
       "      <td>84</td>\n",
       "      <td>nyt://article/99a756c9-b045-570d-801e-c794f72c...</td>\n",
       "      <td>Tuesday Briefing: U.N. Voted for a Gaza Cease-...</td>\n",
       "      <td>Also, searching for Iceland’s northern lights.</td>\n",
       "      <td>https://www.nytimes.com/2024/03/25/briefing/un...</td>\n",
       "      <td>2024-03-25T16:35:37-04:00</td>\n",
       "      <td>Palestinians inspected the damage to a buildin...</td>\n",
       "    </tr>\n",
       "    <tr>\n",
       "      <th>84</th>\n",
       "      <td>85</td>\n",
       "      <td>nyt://article/8f4bce50-e374-589c-a078-1e56c202...</td>\n",
       "      <td>Videos and Online Profiles Link Suspects to Mo...</td>\n",
       "      <td>Clothing and other details appear to show a co...</td>\n",
       "      <td>https://www.nytimes.com/2024/03/25/world/europ...</td>\n",
       "      <td>2024-03-25T13:42:30-04:00</td>\n",
       "      <td>A photograph released by the Islamic State pur...</td>\n",
       "    </tr>\n",
       "    <tr>\n",
       "      <th>85</th>\n",
       "      <td>86</td>\n",
       "      <td>nyt://article/c517db97-aae9-5de5-8529-0a44b7a5...</td>\n",
       "      <td>Israeli Soldier’s Video Undercuts Medic’s Acco...</td>\n",
       "      <td>Kibbutz residents concluded that two sisters k...</td>\n",
       "      <td>https://www.nytimes.com/2024/03/25/world/middl...</td>\n",
       "      <td>2024-03-25T13:26:26-04:00</td>\n",
       "      <td>At least 97 civilians were killed in Be’eri, a...</td>\n",
       "    </tr>\n",
       "  </tbody>\n",
       "</table>\n",
       "<p>86 rows × 7 columns</p>\n",
       "</div>"
      ],
      "text/plain": [
       "    id                                        nytimes_uri  \\\n",
       "0    1  nyt://article/d45c86b2-117e-5fed-807d-a41dff8d...   \n",
       "1    2  nyt://article/6d602738-cde6-5e8e-8921-f49634e9...   \n",
       "2    3  nyt://article/6d39505a-2866-5087-8fff-28af9239...   \n",
       "3    4  nyt://interactive/682e22bb-3e31-5fba-a32c-8ac5...   \n",
       "4    5  nyt://article/cbe159e1-0021-5857-8bbd-c448ac91...   \n",
       "..  ..                                                ...   \n",
       "81  82  nyt://article/780eb804-a9fc-510d-a8cb-d756c7c2...   \n",
       "82  83  nyt://article/057743db-2792-535e-a2e5-f14081be...   \n",
       "83  84  nyt://article/99a756c9-b045-570d-801e-c794f72c...   \n",
       "84  85  nyt://article/8f4bce50-e374-589c-a078-1e56c202...   \n",
       "85  86  nyt://article/c517db97-aae9-5de5-8529-0a44b7a5...   \n",
       "\n",
       "                                                title  \\\n",
       "0   Democrat Running on Abortion and I.V.F. Access...   \n",
       "1   New Georgia Data Gives Insight on Primaries, P...   \n",
       "2   One Grieving Mother Hasn’t Given Up Hope for a...   \n",
       "3   How Trump Moved Money to Pay $100 Million in L...   \n",
       "4   They Grow Your Berries and Peaches, but Often ...   \n",
       "..                                                ...   \n",
       "81  A French-Malian Singer Is Caught in an Olympic...   \n",
       "82  U.N. Security Council Calls for Immediate Ceas...   \n",
       "83  Tuesday Briefing: U.N. Voted for a Gaza Cease-...   \n",
       "84  Videos and Online Profiles Link Suspects to Mo...   \n",
       "85  Israeli Soldier’s Video Undercuts Medic’s Acco...   \n",
       "\n",
       "                                             abstract  \\\n",
       "0   Marilyn Lands flipped a State House seat in th...   \n",
       "1   The vote history data supports the polling tha...   \n",
       "2   A year after losing her daughter in the Covena...   \n",
       "3   Trump supporters poured money into his effort ...   \n",
       "4   Farmers of fruits and vegetables say coverage ...   \n",
       "..                                                ...   \n",
       "81  Aya Nakamura’s music is one of France’s top cu...   \n",
       "82  The U.S. decision not to vote on the resolutio...   \n",
       "83     Also, searching for Iceland’s northern lights.   \n",
       "84  Clothing and other details appear to show a co...   \n",
       "85  Kibbutz residents concluded that two sisters k...   \n",
       "\n",
       "                                                  url  \\\n",
       "0   https://www.nytimes.com/2024/03/27/us/politics...   \n",
       "1   https://www.nytimes.com/2024/03/27/upshot/bide...   \n",
       "2   https://www.nytimes.com/2024/03/27/us/politics...   \n",
       "3   https://www.nytimes.com/interactive/2024/03/27...   \n",
       "4   https://www.nytimes.com/2024/03/27/business/ec...   \n",
       "..                                                ...   \n",
       "81  https://www.nytimes.com/2024/03/26/world/europ...   \n",
       "82  https://www.nytimes.com/2024/03/25/world/middl...   \n",
       "83  https://www.nytimes.com/2024/03/25/briefing/un...   \n",
       "84  https://www.nytimes.com/2024/03/25/world/europ...   \n",
       "85  https://www.nytimes.com/2024/03/25/world/middl...   \n",
       "\n",
       "               published_date  \\\n",
       "0   2024-03-27T09:43:38-04:00   \n",
       "1   2024-03-27T05:04:15-04:00   \n",
       "2   2024-03-27T05:03:32-04:00   \n",
       "3   2024-03-27T05:03:02-04:00   \n",
       "4   2024-03-27T05:00:52-04:00   \n",
       "..                        ...   \n",
       "81  2024-03-26T00:01:13-04:00   \n",
       "82  2024-03-25T19:00:14-04:00   \n",
       "83  2024-03-25T16:35:37-04:00   \n",
       "84  2024-03-25T13:42:30-04:00   \n",
       "85  2024-03-25T13:26:26-04:00   \n",
       "\n",
       "                                             captions  \n",
       "0   The Democratic candidate Marilyn Lands defeate...  \n",
       "1   Data from the March 12 primary in Georgia is c...  \n",
       "2   Katy Dieckhaus looking through one of the jour...  \n",
       "3                                                      \n",
       "4   Bernie Smiarowski grows potatoes and strawberr...  \n",
       "..                                                ...  \n",
       "81  Aya Nakamura is France’s most popular singer a...  \n",
       "82  Linda Thomas-Greenfield, the U.S. ambassador t...  \n",
       "83  Palestinians inspected the damage to a buildin...  \n",
       "84  A photograph released by the Islamic State pur...  \n",
       "85  At least 97 civilians were killed in Be’eri, a...  \n",
       "\n",
       "[86 rows x 7 columns]"
      ]
     },
     "execution_count": 14,
     "metadata": {},
     "output_type": "execute_result"
    }
   ],
   "source": [
    "df"
   ]
  },
  {
   "cell_type": "markdown",
   "metadata": {},
   "source": [
    "Now let's play around with how to vectorize articles"
   ]
  },
  {
   "cell_type": "code",
   "execution_count": 18,
   "metadata": {},
   "outputs": [
    {
     "name": "stdout",
     "output_type": "stream",
     "text": [
      "Execution time: 0 minutes, 0 seconds\n"
     ]
    }
   ],
   "source": [
    "all_articles_df: pd.DataFrame = load_all_articles_as_df()"
   ]
  },
  {
   "cell_type": "code",
   "execution_count": 19,
   "metadata": {},
   "outputs": [],
   "source": [
    "all_articles_df[\"full_text\"] = (\n",
    "    all_articles_df[\"title\"] + \" \"\n",
    "    + all_articles_df[\"abstract\"] + \" \"\n",
    "    + all_articles_df[\"captions\"]\n",
    ")"
   ]
  },
  {
   "cell_type": "code",
   "execution_count": 21,
   "metadata": {},
   "outputs": [],
   "source": [
    "MAX_CHUNK_SIZE = 512\n",
    "all_articles_df[\"full_text_truncated\"] = all_articles_df[\"full_text\"].apply(\n",
    "    lambda x: x[:MAX_CHUNK_SIZE]\n",
    ")"
   ]
  },
  {
   "cell_type": "code",
   "execution_count": 22,
   "metadata": {},
   "outputs": [],
   "source": [
    "all_articles_dict_list = all_articles_df.to_dict(orient=\"records\")"
   ]
  },
  {
   "cell_type": "code",
   "execution_count": 23,
   "metadata": {},
   "outputs": [],
   "source": [
    "from langchain.docstore.document import Document as LangchainDocument"
   ]
  },
  {
   "cell_type": "code",
   "execution_count": 24,
   "metadata": {},
   "outputs": [],
   "source": [
    "raw_knowledge_base: list[LangchainDocument] = [\n",
    "    LangchainDocument(\n",
    "        page_content=article[\"full_text_truncated\"],\n",
    "        metadata={\n",
    "            \"id\": article[\"id\"], \"nytimes_uri\": article[\"nytimes_uri\"]\n",
    "        }\n",
    "    )\n",
    "    for article in all_articles_dict_list\n",
    "]"
   ]
  },
  {
   "cell_type": "code",
   "execution_count": 28,
   "metadata": {},
   "outputs": [
    {
     "data": {
      "text/plain": [
       "{'page_content': 'Democrat Running on Abortion and I.V.F. Access Wins Special Election in Alabama Marilyn Lands flipped a State House seat in the deep-red state by 25 percentage points, underscoring the continued political potency of reproductive rights. The Democratic candidate Marilyn Lands defeated her Republican opponent, Teddy Powell, by about 25 percentage points — an extraordinary margin in a swing district.',\n",
       " 'metadata': {'id': 1,\n",
       "  'nytimes_uri': 'nyt://article/d45c86b2-117e-5fed-807d-a41dff8da796'},\n",
       " 'type': 'Document'}"
      ]
     },
     "execution_count": 28,
     "metadata": {},
     "output_type": "execute_result"
    }
   ],
   "source": [
    "raw_knowledge_base[0].__dict__"
   ]
  },
  {
   "cell_type": "code",
   "execution_count": 30,
   "metadata": {},
   "outputs": [],
   "source": [
    "from langchain_community.embeddings import HuggingFaceEmbeddings\n",
    "from langchain_community.vectorstores.faiss import FAISS\n",
    "from langchain_community.vectorstores.utils import DistanceStrategy"
   ]
  },
  {
   "cell_type": "code",
   "execution_count": 31,
   "metadata": {},
   "outputs": [
    {
     "name": "stderr",
     "output_type": "stream",
     "text": [
      "Load pretrained SentenceTransformer: thenlper/gte-small\n"
     ]
    },
    {
     "data": {
      "application/vnd.jupyter.widget-view+json": {
       "model_id": "828cae2664db4138851d892bf8bf6240",
       "version_major": 2,
       "version_minor": 0
      },
      "text/plain": [
       "modules.json:   0%|          | 0.00/385 [00:00<?, ?B/s]"
      ]
     },
     "metadata": {},
     "output_type": "display_data"
    },
    {
     "data": {
      "application/vnd.jupyter.widget-view+json": {
       "model_id": "8abcf9c917e846408eb274a213c3bf83",
       "version_major": 2,
       "version_minor": 0
      },
      "text/plain": [
       "README.md:   0%|          | 0.00/68.1k [00:00<?, ?B/s]"
      ]
     },
     "metadata": {},
     "output_type": "display_data"
    },
    {
     "data": {
      "application/vnd.jupyter.widget-view+json": {
       "model_id": "bb21af2d0f134e5798b0eece06c65a6b",
       "version_major": 2,
       "version_minor": 0
      },
      "text/plain": [
       "sentence_bert_config.json:   0%|          | 0.00/57.0 [00:00<?, ?B/s]"
      ]
     },
     "metadata": {},
     "output_type": "display_data"
    },
    {
     "data": {
      "application/vnd.jupyter.widget-view+json": {
       "model_id": "2be175071a89457f979d8479b1905cc6",
       "version_major": 2,
       "version_minor": 0
      },
      "text/plain": [
       "config.json:   0%|          | 0.00/583 [00:00<?, ?B/s]"
      ]
     },
     "metadata": {},
     "output_type": "display_data"
    },
    {
     "data": {
      "application/vnd.jupyter.widget-view+json": {
       "model_id": "0a60e356a5444d9dbfc30e16b1089e98",
       "version_major": 2,
       "version_minor": 0
      },
      "text/plain": [
       "model.safetensors:   0%|          | 0.00/66.7M [00:00<?, ?B/s]"
      ]
     },
     "metadata": {},
     "output_type": "display_data"
    },
    {
     "data": {
      "application/vnd.jupyter.widget-view+json": {
       "model_id": "eb7bf3fdd7ba46348687e789cd844141",
       "version_major": 2,
       "version_minor": 0
      },
      "text/plain": [
       "tokenizer_config.json:   0%|          | 0.00/394 [00:00<?, ?B/s]"
      ]
     },
     "metadata": {},
     "output_type": "display_data"
    },
    {
     "data": {
      "application/vnd.jupyter.widget-view+json": {
       "model_id": "d059955a6daa4b32ab7883338ec78bb9",
       "version_major": 2,
       "version_minor": 0
      },
      "text/plain": [
       "vocab.txt:   0%|          | 0.00/232k [00:00<?, ?B/s]"
      ]
     },
     "metadata": {},
     "output_type": "display_data"
    },
    {
     "data": {
      "application/vnd.jupyter.widget-view+json": {
       "model_id": "14a2affd068b40a7aaf700c3fc0c65e4",
       "version_major": 2,
       "version_minor": 0
      },
      "text/plain": [
       "tokenizer.json:   0%|          | 0.00/712k [00:00<?, ?B/s]"
      ]
     },
     "metadata": {},
     "output_type": "display_data"
    },
    {
     "data": {
      "application/vnd.jupyter.widget-view+json": {
       "model_id": "d0b3bcac1a6e43eba5591bd70f9f4211",
       "version_major": 2,
       "version_minor": 0
      },
      "text/plain": [
       "special_tokens_map.json:   0%|          | 0.00/125 [00:00<?, ?B/s]"
      ]
     },
     "metadata": {},
     "output_type": "display_data"
    },
    {
     "data": {
      "application/vnd.jupyter.widget-view+json": {
       "model_id": "c1456e2a4dad4ad1901da7e05ba6626b",
       "version_major": 2,
       "version_minor": 0
      },
      "text/plain": [
       "1_Pooling/config.json:   0%|          | 0.00/190 [00:00<?, ?B/s]"
      ]
     },
     "metadata": {},
     "output_type": "display_data"
    },
    {
     "name": "stderr",
     "output_type": "stream",
     "text": [
      "Use pytorch device_name: mps\n"
     ]
    }
   ],
   "source": [
    "DEFAULT_EMBEDDING_MODEL = \"thenlper/gte-small\"\n",
    "\n",
    "#tokenizer = AutoTokenizer.from_pretrained(\"thenlper/gte-small\")\n",
    "embedding_model = HuggingFaceEmbeddings(\n",
    "    model_name=DEFAULT_EMBEDDING_MODEL,\n",
    "    multi_process=True,\n",
    "    #model_kwargs={\"device\": \"cuda\"},\n",
    "    encode_kwargs={\"normalize_embeddings\": True},  # set True for cosine similarity\n",
    ")"
   ]
  },
  {
   "cell_type": "code",
   "execution_count": 33,
   "metadata": {},
   "outputs": [
    {
     "name": "stderr",
     "output_type": "stream",
     "text": [
      "CUDA/NPU is not available. Starting 4 CPU workers\n",
      "Start multi-process pool on devices: cpu, cpu, cpu, cpu\n",
      "Loading faiss.\n",
      "Successfully loaded faiss.\n"
     ]
    }
   ],
   "source": [
    "knowledge_vector_db = FAISS.from_documents(\n",
    "    raw_knowledge_base, embedding_model, distance_strategy=DistanceStrategy.COSINE\n",
    ")"
   ]
  },
  {
   "cell_type": "code",
   "execution_count": 37,
   "metadata": {},
   "outputs": [],
   "source": [
    "knowledge_vector_db.save_local(\"faiss_index_nytimes\")"
   ]
  },
  {
   "cell_type": "code",
   "execution_count": 38,
   "metadata": {},
   "outputs": [],
   "source": [
    "#knowledge_vector_db.save_local(\"faiss_index_nytimes\")\n",
    "new_db = FAISS.load_local(\"faiss_index_nytimes\", embedding_model)\n"
   ]
  },
  {
   "cell_type": "code",
   "execution_count": 34,
   "metadata": {},
   "outputs": [
    {
     "name": "stderr",
     "output_type": "stream",
     "text": [
      "CUDA/NPU is not available. Starting 4 CPU workers\n",
      "Start multi-process pool on devices: cpu, cpu, cpu, cpu\n"
     ]
    }
   ],
   "source": [
    "user_query = \"Can you believe what's happening with Democrats and IVF access?\"\n",
    "query_vector = embedding_model.embed_query(user_query)"
   ]
  },
  {
   "cell_type": "code",
   "execution_count": 35,
   "metadata": {},
   "outputs": [
    {
     "name": "stderr",
     "output_type": "stream",
     "text": [
      "CUDA/NPU is not available. Starting 4 CPU workers\n",
      "Start multi-process pool on devices: cpu, cpu, cpu, cpu\n"
     ]
    }
   ],
   "source": [
    "retrieved_docs = knowledge_vector_db.similarity_search(query=user_query, k=5)"
   ]
  },
  {
   "cell_type": "code",
   "execution_count": 39,
   "metadata": {},
   "outputs": [
    {
     "name": "stderr",
     "output_type": "stream",
     "text": [
      "CUDA/NPU is not available. Starting 4 CPU workers\n",
      "Start multi-process pool on devices: cpu, cpu, cpu, cpu\n"
     ]
    }
   ],
   "source": [
    "retrieved_docs = new_db.similarity_search(query=user_query, k=5)"
   ]
  },
  {
   "cell_type": "code",
   "execution_count": 36,
   "metadata": {},
   "outputs": [
    {
     "data": {
      "text/plain": [
       "[Document(page_content='Democrat Running on Abortion and I.V.F. Access Wins Special Election in Alabama Marilyn Lands flipped a State House seat in the deep-red state by 25 percentage points, underscoring the continued political potency of reproductive rights. The Democratic candidate Marilyn Lands defeated her Republican opponent, Teddy Powell, by about 25 percentage points — an extraordinary margin in a swing district.', metadata={'id': 1, 'nytimes_uri': 'nyt://article/d45c86b2-117e-5fed-807d-a41dff8da796'}),\n",
       " Document(page_content='Democrat Running on Abortion and I.V.F. Access Wins Special Election in Alabama Marilyn Lands flipped a State House seat in the deep-red state by 25 percentage points, underscoring the continued political potency of reproductive rights. The Democratic candidate Marilyn Lands defeated her Republican opponent, Teddy Powell, by about 25 percentage points — an extraordinary margin in a swing district.', metadata={'id': 26, 'nytimes_uri': 'nyt://article/d45c86b2-117e-5fed-807d-a41dff8da796'}),\n",
       " Document(page_content='Here’s What Is at Stake in the Supreme Court’s Abortion Pill Case Changes the F.D.A. made in 2016 and 2021 significantly broadened access to mifepristone. Mifepristone is currently used in nearly two-thirds of all abortions in the United States.', metadata={'id': 22, 'nytimes_uri': 'nyt://article/347e0bb8-a252-543a-8995-89e5b2bb7b60'}),\n",
       " Document(page_content='In North Carolina, Biden Attacks Trump and G.O.P. Over Health Care The White House is using the 14th anniversary of the Affordable Care Act to draw a contrast with Republicans who have sought to do away with all or parts of the law. Vice President Kamala Harris and President Biden visited Raleigh, N.C., on Tuesday, part of their string of campaign events in battleground states in recent weeks.', metadata={'id': 25, 'nytimes_uri': 'nyt://article/26eed1af-149d-5ebc-9f3d-a855316ef7c3'}),\n",
       " Document(page_content='3 Things to Know About Nicole Shanahan, R.F.K. Jr.’s Running Mate She indicated that she supports Robert F. Kennedy Jr.’s vaccine stance, and she bankrolled his Super Bowl ad. She has never held elected office. Nicole Shanahan said that she was drawn to Robert F. Kennedy Jr.’s campaign in part by his efforts to challenge scientific consensus on matters including vaccines.', metadata={'id': 14, 'nytimes_uri': 'nyt://article/e1d61a60-89ac-5203-8227-e010e02ca7e5'})]"
      ]
     },
     "execution_count": 36,
     "metadata": {},
     "output_type": "execute_result"
    }
   ],
   "source": [
    "retrieved_docs"
   ]
  },
  {
   "cell_type": "code",
   "execution_count": 41,
   "metadata": {},
   "outputs": [
    {
     "data": {
      "text/plain": [
       "langchain_core.documents.base.Document"
      ]
     },
     "execution_count": 41,
     "metadata": {},
     "output_type": "execute_result"
    }
   ],
   "source": [
    "type(retrieved_docs[0])"
   ]
  },
  {
   "cell_type": "code",
   "execution_count": null,
   "metadata": {},
   "outputs": [],
   "source": []
  }
 ],
 "metadata": {
  "kernelspec": {
   "display_name": "bluesky-research",
   "language": "python",
   "name": "python3"
  },
  "language_info": {
   "codemirror_mode": {
    "name": "ipython",
    "version": 3
   },
   "file_extension": ".py",
   "mimetype": "text/x-python",
   "name": "python",
   "nbconvert_exporter": "python",
   "pygments_lexer": "ipython3",
   "version": "3.10.13"
  }
 },
 "nbformat": 4,
 "nbformat_minor": 2
}
