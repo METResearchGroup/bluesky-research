{
 "cells": [
  {
   "cell_type": "markdown",
   "metadata": {},
   "source": [
    "# Generate annotated training data\n",
    "\n",
    "This Jupyter notebook will be the hub for generating annotated training data. We'll go through the following steps:\n",
    "\n",
    "1. Set up labeling session\n",
    "2. Label data\n",
    "3. Export labeled data"
   ]
  },
  {
   "cell_type": "markdown",
   "metadata": {},
   "source": [
    "## Part I: Set up labeling session\n",
    "\n",
    "In this part, we will (1) get the training data that we will label, and (2) get (and save) the configurations for our annotation session. This is all done automatically via a helper function, `set_up_labeling_session`, which optionally takes a parameter `config_path` that is a local path to a configuration .json file."
   ]
  },
  {
   "cell_type": "code",
   "execution_count": 1,
   "metadata": {},
   "outputs": [],
   "source": [
    "import json\n",
    "\n",
    "from services.generate_training_data.helper import set_up_labeling_session"
   ]
  },
  {
   "cell_type": "markdown",
   "metadata": {},
   "source": [
    "You can set up a labeling session manually:"
   ]
  },
  {
   "cell_type": "code",
   "execution_count": null,
   "metadata": {},
   "outputs": [],
   "source": [
    "session_dict: dict = set_up_labeling_session()"
   ]
  },
  {
   "cell_type": "markdown",
   "metadata": {},
   "source": [
    "You can also use an existing config. This is an example configuration file:"
   ]
  },
  {
   "cell_type": "code",
   "execution_count": 4,
   "metadata": {},
   "outputs": [],
   "source": [
    "sample_config = {\n",
    "    \"num_samples\": 100,\n",
    "    \"task_name\": \"post-ranking\",\n",
    "    \"task_description\": \"Ranking posts as those we want to uprank ('uprank'), downrank ('downrank') or neither ('neutral')\",\n",
    "    \"label_options\": [\"uprank\", \"downrank\", \"neutral\"],\n",
    "    \"labeling_session_name\": \"post-ranking_2024-04-06-07:10:56\",\n",
    "    \"data_to_label_filename\": \"post-ranking_2024-04-06-07:10:56.jsonl\",\n",
    "    \"notes\": \"\",\n",
    "    \"config_name\": \"post-ranking_2024-04-06-07:10:56.json\",\n",
    "}"
   ]
  },
  {
   "cell_type": "code",
   "execution_count": 6,
   "metadata": {},
   "outputs": [],
   "source": [
    "with open(\"example_config.json\", \"w\") as f:\n",
    "    f.write(json.dumps(sample_config, indent=4))"
   ]
  },
  {
   "cell_type": "markdown",
   "metadata": {},
   "source": [
    "To load an example configuration file, we can do the following:"
   ]
  },
  {
   "cell_type": "code",
   "execution_count": null,
   "metadata": {},
   "outputs": [],
   "source": [
    "with open(\"example_config.json\", \"r\") as f:\n",
    "    config = json.load(f)"
   ]
  },
  {
   "cell_type": "markdown",
   "metadata": {},
   "source": [
    "Here's another example configuration file (this has actual data as well)"
   ]
  },
  {
   "cell_type": "code",
   "execution_count": 2,
   "metadata": {},
   "outputs": [],
   "source": [
    "session_name = \"post-ranking_2024-04-06-07:10:56\"\n",
    "data_to_label_filename = \"post-ranking_2024-04-06-07:10:56.jsonl\"\n",
    "config_filename = \"post-ranking_2024-04-06-07:10:56.json\""
   ]
  },
  {
   "cell_type": "code",
   "execution_count": 3,
   "metadata": {},
   "outputs": [
    {
     "name": "stdout",
     "output_type": "stream",
     "text": [
      "Exported data to label at /Users/mark/Documents/work/bluesky-research/services/generate_training_data/data_to_label/post-ranking_2024-04-06-07:10:56.jsonl\n",
      "Exported config at /Users/mark/Documents/work/bluesky-research/services/generate_training_data/labeling_session_configs/post-ranking_2024-04-06-07:10:56.json\n",
      "Labeling session set up for config post-ranking_2024-04-06-07:10:56.json to label data at post-ranking_2024-04-06-07:10:56.jsonl at 2024-04-06-07:49:43.\n"
     ]
    }
   ],
   "source": [
    "session_dict: dict = set_up_labeling_session(config_filename=config_filename)"
   ]
  },
  {
   "cell_type": "code",
   "execution_count": 5,
   "metadata": {},
   "outputs": [
    {
     "data": {
      "text/plain": [
       "dict_keys(['config', 'data_to_label'])"
      ]
     },
     "execution_count": 5,
     "metadata": {},
     "output_type": "execute_result"
    }
   ],
   "source": [
    "session_dict.keys()"
   ]
  },
  {
   "cell_type": "markdown",
   "metadata": {},
   "source": [
    "## Part II: Label data"
   ]
  },
  {
   "cell_type": "markdown",
   "metadata": {},
   "source": [
    "Now that we have our data to label, let's label the data"
   ]
  },
  {
   "cell_type": "code",
   "execution_count": 15,
   "metadata": {},
   "outputs": [],
   "source": [
    "config = session_dict[\"config\"]"
   ]
  },
  {
   "cell_type": "code",
   "execution_count": 10,
   "metadata": {},
   "outputs": [],
   "source": [
    "labeled_data: list[dict] = []\n",
    "label_options = session_dict[\"config\"][\"label_options\"]\n",
    "data_to_label: list[dict] = session_dict[\"data_to_label\"]"
   ]
  },
  {
   "cell_type": "code",
   "execution_count": 11,
   "metadata": {},
   "outputs": [
    {
     "data": {
      "text/plain": [
       "{'id': 63376,\n",
       " 'uri': 'at://did:plc:sb6fu4sinwphqpvoznvz7efo/app.bsky.feed.post/3kpen5qxtnc2c',\n",
       " 'created_at': '2024-04-05T07:55:27.468Z',\n",
       " 'text': \"I'm having a lot of fun with this photo box\",\n",
       " 'embed': '{\"has_image\": true, \"image_alt_text\": \"\", \"has_embedded_record\": false, \"embedded_record\": null, \"has_external\": false, \"external\": null}',\n",
       " 'langs': 'en',\n",
       " 'entities': None,\n",
       " 'facets': None,\n",
       " 'labels': None,\n",
       " 'reply': None,\n",
       " 'reply_parent': None,\n",
       " 'reply_root': None,\n",
       " 'tags': None,\n",
       " 'py_type': 'app.bsky.feed.post',\n",
       " 'cid': 'bafyreieoci2xeo6zis4urhwohei6zhbtn3i73vk3c3jjf3k7jjkolxz7n4',\n",
       " 'author': 'did:plc:sb6fu4sinwphqpvoznvz7efo',\n",
       " 'synctimestamp': '2024-04-05-07:55:27'}"
      ]
     },
     "execution_count": 11,
     "metadata": {},
     "output_type": "execute_result"
    }
   ],
   "source": [
    "data_to_label[0]"
   ]
  },
  {
   "cell_type": "code",
   "execution_count": 35,
   "metadata": {},
   "outputs": [],
   "source": [
    "def generate_string_to_annotate(post: dict) -> str:\n",
    "    \"\"\"Generates a string to annotate for a post.\n",
    "\n",
    "    We can include information beyond just the text of a post, and thus provide\n",
    "    any context that we might want to include as well.\n",
    "    \"\"\"\n",
    "    return f\"\"\"\n",
    "        [text]: {post['text']}\n",
    "        [embed]: {post['embed']}\n",
    "        [facets]: {post['facets']}\n",
    "        [labels] {post['labels']}\n",
    "        [reply_parent]: {post['reply_parent']}\n",
    "        [reply_root]: {post['reply_root']}\n",
    "        [tags]: {post['tags']}\\n\n",
    "    \"\"\""
   ]
  },
  {
   "cell_type": "code",
   "execution_count": 36,
   "metadata": {},
   "outputs": [],
   "source": [
    "strings_to_annotate = [generate_string_to_annotate(post) for post in data_to_label]"
   ]
  },
  {
   "cell_type": "markdown",
   "metadata": {},
   "source": [
    "Now that we have our data that we want to annotate, let's set up our Pigeon session. We want to display the text, but properly render the newline breaks, so we also need to do some syntactic sugar to accommodate that."
   ]
  },
  {
   "cell_type": "code",
   "execution_count": 25,
   "metadata": {},
   "outputs": [],
   "source": [
    "from IPython.display import display, HTML\n",
    "from pigeon import annotate"
   ]
  },
  {
   "cell_type": "code",
   "execution_count": 37,
   "metadata": {},
   "outputs": [],
   "source": [
    "def format_text(text):\n",
    "    return text.replace(\"\\n\", \"<br>\")"
   ]
  },
  {
   "cell_type": "markdown",
   "metadata": {},
   "source": [
    "Now that we have our setup completed plus our data prepared, let's label!"
   ]
  },
  {
   "cell_type": "code",
   "execution_count": null,
   "metadata": {},
   "outputs": [],
   "source": [
    "annotations: list[tuple] = annotate(\n",
    "    examples=strings_to_annotate,\n",
    "    options=label_options,\n",
    "    display_fn=lambda text: display(HTML(format_text(text))),\n",
    ")"
   ]
  },
  {
   "cell_type": "markdown",
   "metadata": {},
   "source": [
    "Now that we have our annotations, we grab the results and combine them with our initial posts so that we can have a list of post URIs and the labels provided."
   ]
  },
  {
   "cell_type": "code",
   "execution_count": null,
   "metadata": {},
   "outputs": [],
   "source": [
    "for post, (_, label) in zip(data_to_label, annotations):\n",
    "    res = {\"uri\": post[\"uri\"], \"label\": label}\n",
    "    labeled_data.append(post)"
   ]
  },
  {
   "cell_type": "markdown",
   "metadata": {},
   "source": [
    "Now that we have lists of `{\"uri\": uri, \"label\": label}` posts, let's combine them with other metadata from our config."
   ]
  },
  {
   "cell_type": "code",
   "execution_count": 16,
   "metadata": {},
   "outputs": [
    {
     "data": {
      "text/plain": [
       "{'labeling_session_name': 'post-ranking_2024-04-06-07:10:56',\n",
       " 'timestamp': '2024-04-06-07:49:43',\n",
       " 'task_name': 'post-ranking',\n",
       " 'task_description': \"Ranking posts as those we want to uprank ('uprank'), downrank ('downrank') or neither ('neutral')\",\n",
       " 'label_options': ['uprank', 'downrank', 'neutral'],\n",
       " 'num_samples': 100,\n",
       " 'notes': '',\n",
       " 'data_to_label_filename': 'post-ranking_2024-04-06-07:10:56.jsonl'}"
      ]
     },
     "execution_count": 16,
     "metadata": {},
     "output_type": "execute_result"
    }
   ],
   "source": [
    "config"
   ]
  },
  {
   "cell_type": "code",
   "execution_count": null,
   "metadata": {},
   "outputs": [],
   "source": [
    "data_to_export: list[dict] = [\n",
    "    {\n",
    "        \"uri\": labeled_post[\"uri\"],\n",
    "        \"label\": labeled_post[\"label\"],\n",
    "        \"task\": config[\"task_name\"],\n",
    "        \"labeling_session_name\": config[\"labeling_session_name\"],\n",
    "        \"notes\": config[\"notes\"],\n",
    "        \"timestamp\": config[\"timestamp\"],\n",
    "    }\n",
    "    for labeled_post in labeled_data\n",
    "]"
   ]
  },
  {
   "cell_type": "markdown",
   "metadata": {},
   "source": [
    "## Part III: Export labeled data\n",
    "\n",
    "Now that we have our labeled data, let's write it to the database."
   ]
  },
  {
   "cell_type": "code",
   "execution_count": null,
   "metadata": {},
   "outputs": [],
   "source": [
    "from services.generate_training_data.database import batch_write_training_data_to_db"
   ]
  },
  {
   "cell_type": "code",
   "execution_count": null,
   "metadata": {},
   "outputs": [],
   "source": [
    "batch_write_training_data_to_db(data_to_export)"
   ]
  },
  {
   "cell_type": "markdown",
   "metadata": {},
   "source": [
    "## Part IV: Load labeled data\n",
    "\n",
    "Now that we have our previous task, let's load the results"
   ]
  },
  {
   "cell_type": "code",
   "execution_count": null,
   "metadata": {},
   "outputs": [],
   "source": [
    "from services.generate_training_data.database import load_data_from_previous_session"
   ]
  },
  {
   "cell_type": "code",
   "execution_count": null,
   "metadata": {},
   "outputs": [],
   "source": [
    "res: list[dict] = load_data_from_previous_session(config[\"labeling_session_name\"])"
   ]
  }
 ],
 "metadata": {
  "kernelspec": {
   "display_name": "bluesky-research",
   "language": "python",
   "name": "python3"
  },
  "language_info": {
   "codemirror_mode": {
    "name": "ipython",
    "version": 3
   },
   "file_extension": ".py",
   "mimetype": "text/x-python",
   "name": "python",
   "nbconvert_exporter": "python",
   "pygments_lexer": "ipython3",
   "version": "3.10.13"
  }
 },
 "nbformat": 4,
 "nbformat_minor": 2
}
