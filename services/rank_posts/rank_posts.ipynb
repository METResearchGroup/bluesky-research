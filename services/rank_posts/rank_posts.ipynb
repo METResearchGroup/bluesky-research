{
 "cells": [
  {
   "cell_type": "code",
   "execution_count": 45,
   "metadata": {},
   "outputs": [],
   "source": [
    "from atproto_client.models.app.bsky.actor.defs import ProfileView\n",
    "from atproto_client.models.app.bsky.feed.defs import ThreadViewPost\n",
    "from atproto_client.models.app.bsky.feed.post import GetRecordResponse\n",
    "from atproto_client.models.app.bsky.feed.get_likes import Like\n",
    "from atproto_client.models.app.bsky.feed.get_post_thread import Response as PostThreadResponse\n",
    "\n",
    "import pandas as pd\n",
    "\n",
    "from lib.helper import client\n",
    "from services.sync.search.helper import send_request_with_pagination"
   ]
  },
  {
   "cell_type": "code",
   "execution_count": 2,
   "metadata": {},
   "outputs": [],
   "source": [
    "civic_posts = pd.read_csv('sample_bluesky_civic_posts.csv')\n",
    "noncivic_posts = pd.read_csv('sample_bluesky_noncivic_posts.csv')"
   ]
  },
  {
   "cell_type": "markdown",
   "metadata": {},
   "source": [
    "Let's grab the most up-to-date engagement data for each post. We have the link for each post so we can easily get the post ID. Let's grab the post record object given the link for the post."
   ]
  },
  {
   "cell_type": "code",
   "execution_count": 3,
   "metadata": {},
   "outputs": [],
   "source": [
    "def get_author_handle_and_post_id_from_link(link: str) -> dict[str, str]:\n",
    "    \"\"\"Given a link, get the author and post ID.\n",
    "    \n",
    "    Example:\n",
    "    >get_author_and_post_id_from_link(\"https://bsky.app/profile/scottsantens.com/post/3knqkh2es7k2i\")\n",
    "    {'author': 'scottsantens.com', 'post_id': '3knqkh2es7k2i}\n",
    "    \"\"\"\n",
    "    # Split the link by the forward slash\n",
    "    split_link = link.split(\"/\")\n",
    "    # Get the author and post ID\n",
    "    author = split_link[4]\n",
    "    post_id = split_link[6]\n",
    "    return {\"author\": author, \"post_id\": post_id}"
   ]
  },
  {
   "cell_type": "code",
   "execution_count": 4,
   "metadata": {},
   "outputs": [],
   "source": [
    "def get_author_did_from_handle(author_handle: str) -> str:\n",
    "    \"\"\"Given an author handle, get the DID.\n",
    "    \n",
    "    Example:\n",
    "    >get_author_did_from_handle(\"scottsantens.com\")\n",
    "    \"did:example:123\"\n",
    "    \"\"\"\n",
    "    # Get the profile\n",
    "    profile = client.get_profile(author_handle)\n",
    "    # Get the DID\n",
    "    return profile[\"did\"]\n"
   ]
  },
  {
   "cell_type": "code",
   "execution_count": 5,
   "metadata": {},
   "outputs": [],
   "source": [
    "def get_post_record_from_post_link(link: str) -> GetRecordResponse:\n",
    "    \"\"\"Given a post link, get the post record.\n",
    "    \n",
    "    Example:\n",
    "    >post = get_post_record_from_post_link(\"https://bsky.app/profile/gbbranstetter.bsky.social/post/3knssi4ouko24\")\n",
    "    GetRecordResponse(\n",
    "        uri='at://did:plc:mlmouohgzbjofidukcp4pxf2/app.bsky.feed.post/3knssi4ouko24',\n",
    "        value=Record(created_at='2024-03-16T12:17:36.784Z', text='A running theme in Woods\\' telling is how even those who opposed Hitler blamed his rise on the \"depravity\" and excess of Weimar Berlin \"as if the mere presence of ersatz women in the club was enough to foment and justify a right-wing putsch\"--a phrase I find myself repeating often', embed=Main(record=Main(cid='bafyreiesskdi2vfkrvj2kaajglsklqd7b3wywn2goyxhr7ctl3kvaikbsa', uri='at://did:plc:mlmouohgzbjofidukcp4pxf2/app.bsky.feed.post/3knss3jmoeu2f', py_type='com.atproto.repo.strongRef'), py_type='app.bsky.embed.record'), entities=None, facets=None, labels=None, langs=['en'], reply=None, tags=None, py_type='app.bsky.feed.post'),\n",
    "        cid='bafyreidujr2qzblrtxyh6e5shqtjdool2c7vim5jsqybdhi4pkpuphuj5q'\n",
    "    )\n",
    "    \"\"\"\n",
    "    author_and_post_id: dict = get_author_handle_and_post_id_from_link(link)\n",
    "    author_did: str = get_author_did_from_handle(author_and_post_id[\"author\"])\n",
    "    post_rkey = author_and_post_id[\"post_id\"]\n",
    "    profile_identify = author_did\n",
    "    print(f\"Getting post record for {post_rkey} by {profile_identify}\")\n",
    "    response = client.get_post(\n",
    "        post_rkey=post_rkey, profile_identify=profile_identify\n",
    "    )\n",
    "    return response"
   ]
  },
  {
   "cell_type": "code",
   "execution_count": 6,
   "metadata": {},
   "outputs": [
    {
     "name": "stderr",
     "output_type": "stream",
     "text": [
      "HTTP Request: GET https://bsky.social/xrpc/app.bsky.actor.getProfile?actor=gbbranstetter.bsky.social \"HTTP/1.1 200 OK\"\n"
     ]
    },
    {
     "name": "stdout",
     "output_type": "stream",
     "text": [
      "Getting post record for 3knssi4ouko24 by did:plc:mlmouohgzbjofidukcp4pxf2\n"
     ]
    },
    {
     "name": "stderr",
     "output_type": "stream",
     "text": [
      "HTTP Request: GET https://bsky.social/xrpc/com.atproto.repo.getRecord?collection=app.bsky.feed.post&repo=did%3Aplc%3Amlmouohgzbjofidukcp4pxf2&rkey=3knssi4ouko24 \"HTTP/1.1 200 OK\"\n"
     ]
    }
   ],
   "source": [
    "post_record = get_post_record_from_post_link(\"https://bsky.app/profile/gbbranstetter.bsky.social/post/3knssi4ouko24\")"
   ]
  },
  {
   "cell_type": "code",
   "execution_count": 7,
   "metadata": {},
   "outputs": [],
   "source": [
    "def get_repost_profiles(post_uri: str) -> list[ProfileView]:\n",
    "    \"\"\"Get the profiles of all the users who reposted a post.\"\"\"\n",
    "    reposts: list[ProfileView] = send_request_with_pagination(\n",
    "        func=client.get_reposted_by,\n",
    "        kwargs={\"uri\": post_uri},\n",
    "        response_key=\"reposted_by\",\n",
    "        limit=None\n",
    "    )\n",
    "\n",
    "    return reposts"
   ]
  },
  {
   "cell_type": "code",
   "execution_count": 16,
   "metadata": {},
   "outputs": [],
   "source": [
    "def get_liked_by_profiles(post_uri: str) -> list[Like]:\n",
    "    \"\"\"Get the profiles of all the users who liked a post.\"\"\"\n",
    "    likes: list[Like] = send_request_with_pagination(\n",
    "        func=client.get_likes,\n",
    "        kwargs={\"uri\": post_uri},\n",
    "        response_key=\"likes\",\n",
    "        limit=None\n",
    "    )\n",
    "\n",
    "    return likes"
   ]
  },
  {
   "cell_type": "code",
   "execution_count": 47,
   "metadata": {},
   "outputs": [],
   "source": [
    "def get_post_thread_replies(post_uri: str) -> list[ThreadViewPost]:\n",
    "    \"\"\"Get the thread of replies to a post.\"\"\"\n",
    "    response: PostThreadResponse = client.get_post_thread(post_uri[\"uri\"])\n",
    "    thread: ThreadViewPost = response.thread\n",
    "    replies: list[ThreadViewPost] = thread.replies\n",
    "    return replies"
   ]
  },
  {
   "cell_type": "code",
   "execution_count": null,
   "metadata": {},
   "outputs": [],
   "source": [
    "def calculate_post_engagement(post_response: GetRecordResponse) -> dict:\n",
    "    \"\"\"Calculates the number of likes, retweets, and comments for a post.\"\"\"\n",
    "    # grab # of likes\n",
    "    likes: list[Like] = get_liked_by_profiles(post_response[\"uri\"])\n",
    "    num_likes: int = len(likes)\n",
    "\n",
    "    # grab # of retweets/reposts\n",
    "    reposts: list[ProfileView] = get_repost_profiles(post_response[\"uri\"])\n",
    "    num_reposts = len(reposts)\n",
    "\n",
    "    # grab # of replies\n",
    "    replies: list[ThreadViewPost] = get_post_thread_replies(post_response[\"uri\"])\n",
    "    num_replies = len(replies)\n",
    "\n",
    "    return {\n",
    "        \"uri\": post_response[\"uri\"],\n",
    "        \"num_likes\": num_likes,\n",
    "        \"num_reposts\": num_reposts,\n",
    "        \"num_replies\": num_replies\n",
    "    }\n"
   ]
  },
  {
   "cell_type": "code",
   "execution_count": null,
   "metadata": {},
   "outputs": [],
   "source": []
  },
  {
   "cell_type": "code",
   "execution_count": null,
   "metadata": {},
   "outputs": [],
   "source": []
  },
  {
   "cell_type": "markdown",
   "metadata": {},
   "source": [
    "Need to grab engagement:\n",
    "- Number of likes\n",
    "- Number of retweets\n",
    "- Number of comments\n",
    "\n",
    "Need to also later on sort by timestamp"
   ]
  },
  {
   "cell_type": "code",
   "execution_count": null,
   "metadata": {},
   "outputs": [],
   "source": []
  },
  {
   "cell_type": "code",
   "execution_count": 56,
   "metadata": {},
   "outputs": [
    {
     "data": {
      "text/plain": [
       "atproto_client.models.app.bsky.feed.post.Record"
      ]
     },
     "execution_count": 56,
     "metadata": {},
     "output_type": "execute_result"
    }
   ],
   "source": [
    "type(response.__dict__[\"value\"])"
   ]
  },
  {
   "cell_type": "code",
   "execution_count": 94,
   "metadata": {},
   "outputs": [
    {
     "name": "stderr",
     "output_type": "stream",
     "text": [
      "HTTP Request: GET https://bsky.social/xrpc/app.bsky.feed.getLikes?uri=at%3A%2F%2Fdid%3Aplc%3Amlmouohgzbjofidukcp4pxf2%2Fapp.bsky.feed.post%2F3knssi4ouko24 \"HTTP/1.1 200 OK\"\n"
     ]
    }
   ],
   "source": [
    "likes_response = client.get_likes(\"at://did:plc:mlmouohgzbjofidukcp4pxf2/app.bsky.feed.post/3knssi4ouko24\")"
   ]
  },
  {
   "cell_type": "code",
   "execution_count": 96,
   "metadata": {},
   "outputs": [
    {
     "data": {
      "text/plain": [
       "50"
      ]
     },
     "execution_count": 96,
     "metadata": {},
     "output_type": "execute_result"
    }
   ],
   "source": [
    "len(likes_response.likes)"
   ]
  },
  {
   "cell_type": "code",
   "execution_count": 47,
   "metadata": {},
   "outputs": [
    {
     "data": {
      "text/plain": [
       "{'uri': 'at://did:plc:mlmouohgzbjofidukcp4pxf2/app.bsky.feed.post/3knssi4ouko24',\n",
       " 'value': Record(created_at='2024-03-16T12:17:36.784Z', text='A running theme in Woods\\' telling is how even those who opposed Hitler blamed his rise on the \"depravity\" and excess of Weimar Berlin \"as if the mere presence of ersatz women in the club was enough to foment and justify a right-wing putsch\"--a phrase I find myself repeating often', embed=Main(record=Main(cid='bafyreiesskdi2vfkrvj2kaajglsklqd7b3wywn2goyxhr7ctl3kvaikbsa', uri='at://did:plc:mlmouohgzbjofidukcp4pxf2/app.bsky.feed.post/3knss3jmoeu2f', py_type='com.atproto.repo.strongRef'), py_type='app.bsky.embed.record'), entities=None, facets=None, labels=None, langs=['en'], reply=None, tags=None, py_type='app.bsky.feed.post'),\n",
       " 'cid': 'bafyreidujr2qzblrtxyh6e5shqtjdool2c7vim5jsqybdhi4pkpuphuj5q'}"
      ]
     },
     "execution_count": 47,
     "metadata": {},
     "output_type": "execute_result"
    }
   ],
   "source": [
    "response.__dict__"
   ]
  },
  {
   "cell_type": "code",
   "execution_count": 39,
   "metadata": {},
   "outputs": [
    {
     "name": "stderr",
     "output_type": "stream",
     "text": [
      "HTTP Request: GET https://bsky.social/xrpc/app.bsky.actor.getProfile?actor=gbbranstetter.bsky.social \"HTTP/1.1 200 OK\"\n"
     ]
    },
    {
     "name": "stdout",
     "output_type": "stream",
     "text": [
      "Getting post record for 3knssi4ouko24 by did:plc:mlmouohgzbjofidukcp4pxf2\n"
     ]
    },
    {
     "name": "stderr",
     "output_type": "stream",
     "text": [
      "HTTP Request: GET https://bsky.social/xrpc/com.atproto.repo.getRecord?collection=app.bsky.feed.post&repo=did%3Aplc%3Amlmouohgzbjofidukcp4pxf2&rkey=3knssi4ouko24 \"HTTP/1.1 200 OK\"\n"
     ]
    }
   ],
   "source": [
    "post = get_post_record_from_post_link(\"https://bsky.app/profile/gbbranstetter.bsky.social/post/3knssi4ouko24\")"
   ]
  },
  {
   "cell_type": "code",
   "execution_count": 43,
   "metadata": {},
   "outputs": [
    {
     "data": {
      "text/plain": [
       "{'created_at': '2024-02-08T10:10:09.453Z',\n",
       " 'text': \"Oh no! How dare you, pronoucing your opinion about politics which might be influencing your very life. In a public space? Willy-nilly? Not on that guy's watch.\",\n",
       " 'embed': Main(images=[Image(alt='', image=BlobRef(mime_type='image/jpeg', size=49277, ref=IpldLink(link='bafkreihxwhsyvjvfi5ttp73ctrzqxkpnhk4kvgiqaxxoqbuerdm45p4dn4'), py_type='blob'), aspect_ratio=AspectRatio(height=197, width=256, py_type='app.bsky.embed.images#aspectRatio'), py_type='app.bsky.embed.images#image')], py_type='app.bsky.embed.images'),\n",
       " 'entities': None,\n",
       " 'facets': None,\n",
       " 'labels': None,\n",
       " 'langs': ['cs'],\n",
       " 'reply': ReplyRef(parent=Main(cid='bafyreifdjsjf27qcmoa4ajdrzqvk62pmokm5pyyvrnw2cd3lw5hcz5kzue', uri='at://did:plc:atwgx3kry3qwsd67eve5wkwd/app.bsky.feed.post/3kkvjexa6nl2e', py_type='com.atproto.repo.strongRef'), root=Main(cid='bafyreic3xabs2jpcaer7ppk7zzuv55batlenxynjgtekd6mcjwbinmottu', uri='at://did:plc:atwgx3kry3qwsd67eve5wkwd/app.bsky.feed.post/3kkrkrgmizs2y', py_type='com.atproto.repo.strongRef'), py_type='app.bsky.feed.post#replyRef'),\n",
       " 'tags': None,\n",
       " 'py_type': 'app.bsky.feed.post'}"
      ]
     },
     "execution_count": 43,
     "metadata": {},
     "output_type": "execute_result"
    }
   ],
   "source": [
    "record.__dict__"
   ]
  },
  {
   "cell_type": "code",
   "execution_count": 4,
   "metadata": {},
   "outputs": [
    {
     "data": {
      "text/html": [
       "<div>\n",
       "<style scoped>\n",
       "    .dataframe tbody tr th:only-of-type {\n",
       "        vertical-align: middle;\n",
       "    }\n",
       "\n",
       "    .dataframe tbody tr th {\n",
       "        vertical-align: top;\n",
       "    }\n",
       "\n",
       "    .dataframe thead th {\n",
       "        text-align: right;\n",
       "    }\n",
       "</style>\n",
       "<table border=\"1\" class=\"dataframe\">\n",
       "  <thead>\n",
       "    <tr style=\"text-align: right;\">\n",
       "      <th></th>\n",
       "      <th>Link</th>\n",
       "      <th>Text</th>\n",
       "      <th>Retweets</th>\n",
       "      <th>Likes</th>\n",
       "      <th>Comments</th>\n",
       "      <th>Feed</th>\n",
       "      <th>Timestamp</th>\n",
       "      <th>Goal: collect attention-grabbing political tweets</th>\n",
       "    </tr>\n",
       "  </thead>\n",
       "  <tbody>\n",
       "    <tr>\n",
       "      <th>0</th>\n",
       "      <td>https://bsky.app/profile/gbbranstetter.bsky.so...</td>\n",
       "      <td>A running theme in Woods' telling is how even ...</td>\n",
       "      <td>46</td>\n",
       "      <td>177.0</td>\n",
       "      <td>NaN</td>\n",
       "      <td>https://bsky.app/profile/did:plc:z72i7hdynmk6r...</td>\n",
       "      <td>3/16/2024</td>\n",
       "      <td>NaN</td>\n",
       "    </tr>\n",
       "    <tr>\n",
       "      <th>1</th>\n",
       "      <td>https://bsky.app/profile/juliusgoat.bsky.socia...</td>\n",
       "      <td>And now conservatives today are making the sam...</td>\n",
       "      <td>52</td>\n",
       "      <td>151.0</td>\n",
       "      <td>NaN</td>\n",
       "      <td>https://bsky.app/profile/did:plc:z72i7hdynmk6r...</td>\n",
       "      <td>3/16/2024</td>\n",
       "      <td>NaN</td>\n",
       "    </tr>\n",
       "    <tr>\n",
       "      <th>2</th>\n",
       "      <td>https://bsky.app/profile/jbouie.bsky.social/po...</td>\n",
       "      <td>this from @radleybalko.bsky.social is very good</td>\n",
       "      <td>79</td>\n",
       "      <td>225.0</td>\n",
       "      <td>NaN</td>\n",
       "      <td>https://bsky.app/profile/did:plc:z72i7hdynmk6r...</td>\n",
       "      <td>3/16/2024</td>\n",
       "      <td>NaN</td>\n",
       "    </tr>\n",
       "    <tr>\n",
       "      <th>3</th>\n",
       "      <td>https://bsky.app/profile/gbbranstetter.bsky.so...</td>\n",
       "      <td>They say this about Putin and Orban and their ...</td>\n",
       "      <td>15</td>\n",
       "      <td>58.0</td>\n",
       "      <td>NaN</td>\n",
       "      <td>https://bsky.app/profile/did:plc:z72i7hdynmk6r...</td>\n",
       "      <td>3/16/2024</td>\n",
       "      <td>NaN</td>\n",
       "    </tr>\n",
       "    <tr>\n",
       "      <th>4</th>\n",
       "      <td>https://bsky.app/profile/jameeljaffer.bsky.soc...</td>\n",
       "      <td>This framing is really something.</td>\n",
       "      <td>20</td>\n",
       "      <td>139.0</td>\n",
       "      <td>NaN</td>\n",
       "      <td>https://bsky.app/profile/did:plc:z72i7hdynmk6r...</td>\n",
       "      <td>3/16/2024</td>\n",
       "      <td>NaN</td>\n",
       "    </tr>\n",
       "  </tbody>\n",
       "</table>\n",
       "</div>"
      ],
      "text/plain": [
       "                                                Link  \\\n",
       "0  https://bsky.app/profile/gbbranstetter.bsky.so...   \n",
       "1  https://bsky.app/profile/juliusgoat.bsky.socia...   \n",
       "2  https://bsky.app/profile/jbouie.bsky.social/po...   \n",
       "3  https://bsky.app/profile/gbbranstetter.bsky.so...   \n",
       "4  https://bsky.app/profile/jameeljaffer.bsky.soc...   \n",
       "\n",
       "                                                Text  Retweets  Likes  \\\n",
       "0  A running theme in Woods' telling is how even ...        46  177.0   \n",
       "1  And now conservatives today are making the sam...        52  151.0   \n",
       "2    this from @radleybalko.bsky.social is very good        79  225.0   \n",
       "3  They say this about Putin and Orban and their ...        15   58.0   \n",
       "4                  This framing is really something.        20  139.0   \n",
       "\n",
       "   Comments                                               Feed  Timestamp  \\\n",
       "0       NaN  https://bsky.app/profile/did:plc:z72i7hdynmk6r...  3/16/2024   \n",
       "1       NaN  https://bsky.app/profile/did:plc:z72i7hdynmk6r...  3/16/2024   \n",
       "2       NaN  https://bsky.app/profile/did:plc:z72i7hdynmk6r...  3/16/2024   \n",
       "3       NaN  https://bsky.app/profile/did:plc:z72i7hdynmk6r...  3/16/2024   \n",
       "4       NaN  https://bsky.app/profile/did:plc:z72i7hdynmk6r...  3/16/2024   \n",
       "\n",
       "   Goal: collect attention-grabbing political tweets  \n",
       "0                                                NaN  \n",
       "1                                                NaN  \n",
       "2                                                NaN  \n",
       "3                                                NaN  \n",
       "4                                                NaN  "
      ]
     },
     "execution_count": 4,
     "metadata": {},
     "output_type": "execute_result"
    }
   ],
   "source": [
    "civic_posts.head()"
   ]
  },
  {
   "cell_type": "code",
   "execution_count": 3,
   "metadata": {},
   "outputs": [],
   "source": [
    "civic_posts_dicts = civic_posts.to_dict(orient='records')\n",
    "noncivic_posts_dicts = noncivic_posts.to_dict(orient='records')"
   ]
  },
  {
   "cell_type": "code",
   "execution_count": null,
   "metadata": {},
   "outputs": [],
   "source": []
  }
 ],
 "metadata": {
  "kernelspec": {
   "display_name": "bluesky-research",
   "language": "python",
   "name": "python3"
  },
  "language_info": {
   "codemirror_mode": {
    "name": "ipython",
    "version": 3
   },
   "file_extension": ".py",
   "mimetype": "text/x-python",
   "name": "python",
   "nbconvert_exporter": "python",
   "pygments_lexer": "ipython3",
   "version": "3.10.13"
  }
 },
 "nbformat": 4,
 "nbformat_minor": 2
}
