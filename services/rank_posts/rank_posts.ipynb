{
 "cells": [
  {
   "cell_type": "code",
   "execution_count": 210,
   "metadata": {},
   "outputs": [],
   "source": [
    "import json\n",
    "import math\n",
    "\n",
    "from atproto_client.models.app.bsky.actor.defs import ProfileView, ProfileViewDetailed\n",
    "from atproto_client.models.app.bsky.feed.defs import ThreadViewPost\n",
    "from atproto_client.models.app.bsky.feed.post import GetRecordResponse\n",
    "from atproto_client.models.app.bsky.feed.get_likes import Like\n",
    "from atproto_client.models.app.bsky.feed.get_post_thread import Response as PostThreadResponse\n",
    "\n",
    "import pandas as pd\n",
    "import matplotlib.pyplot as plt\n",
    "\n",
    "from lib.helper import client\n",
    "from services.classify.models.perspective_api import perform_batch_inference\n",
    "from services.sync.search.helper import send_request_with_pagination"
   ]
  },
  {
   "cell_type": "code",
   "execution_count": 202,
   "metadata": {},
   "outputs": [],
   "source": [
    "pd.set_option(\"max_colwidth\", None)"
   ]
  },
  {
   "cell_type": "code",
   "execution_count": 16,
   "metadata": {},
   "outputs": [],
   "source": [
    "civic_posts = pd.read_csv('sample_bluesky_civic_posts.csv')\n",
    "noncivic_posts = pd.read_csv('sample_bluesky_noncivic_posts.csv')"
   ]
  },
  {
   "cell_type": "markdown",
   "metadata": {},
   "source": [
    "Let's grab the most up-to-date engagement data for each post. We have the link for each post so we can easily get the post ID. Let's grab the post record object given the link for the post."
   ]
  },
  {
   "cell_type": "markdown",
   "metadata": {},
   "source": [
    "### Step 1: Grab post information given the link to a post"
   ]
  },
  {
   "cell_type": "code",
   "execution_count": 3,
   "metadata": {},
   "outputs": [],
   "source": [
    "def get_author_handle_and_post_id_from_link(link: str) -> dict[str, str]:\n",
    "    \"\"\"Given a link, get the author and post ID.\n",
    "    \n",
    "    Example:\n",
    "    >get_author_and_post_id_from_link(\"https://bsky.app/profile/scottsantens.com/post/3knqkh2es7k2i\")\n",
    "    {'author': 'scottsantens.com', 'post_id': '3knqkh2es7k2i}\n",
    "    \"\"\"\n",
    "    # Split the link by the forward slash\n",
    "    split_link = link.split(\"/\")\n",
    "    # Get the author and post ID\n",
    "    author = split_link[4]\n",
    "    post_id = split_link[6]\n",
    "    return {\"author\": author, \"post_id\": post_id}"
   ]
  },
  {
   "cell_type": "code",
   "execution_count": 4,
   "metadata": {},
   "outputs": [],
   "source": [
    "def get_author_did_from_handle(author_handle: str) -> str:\n",
    "    \"\"\"Given an author handle, get the DID.\n",
    "    \n",
    "    Example:\n",
    "    >get_author_did_from_handle(\"scottsantens.com\")\n",
    "    \"did:example:123\"\n",
    "    \"\"\"\n",
    "    # Get the profile\n",
    "    profile = client.get_profile(author_handle)\n",
    "    # Get the DID\n",
    "    return profile[\"did\"]\n"
   ]
  },
  {
   "cell_type": "code",
   "execution_count": 5,
   "metadata": {},
   "outputs": [],
   "source": [
    "def get_post_record_from_post_link(link: str) -> GetRecordResponse:\n",
    "    \"\"\"Given a post link, get the post record.\n",
    "    \n",
    "    Example:\n",
    "    >post = get_post_record_from_post_link(\"https://bsky.app/profile/gbbranstetter.bsky.social/post/3knssi4ouko24\")\n",
    "    GetRecordResponse(\n",
    "        uri='at://did:plc:mlmouohgzbjofidukcp4pxf2/app.bsky.feed.post/3knssi4ouko24',\n",
    "        value=Record(created_at='2024-03-16T12:17:36.784Z', text='A running theme in Woods\\' telling is how even those who opposed Hitler blamed his rise on the \"depravity\" and excess of Weimar Berlin \"as if the mere presence of ersatz women in the club was enough to foment and justify a right-wing putsch\"--a phrase I find myself repeating often', embed=Main(record=Main(cid='bafyreiesskdi2vfkrvj2kaajglsklqd7b3wywn2goyxhr7ctl3kvaikbsa', uri='at://did:plc:mlmouohgzbjofidukcp4pxf2/app.bsky.feed.post/3knss3jmoeu2f', py_type='com.atproto.repo.strongRef'), py_type='app.bsky.embed.record'), entities=None, facets=None, labels=None, langs=['en'], reply=None, tags=None, py_type='app.bsky.feed.post'),\n",
    "        cid='bafyreidujr2qzblrtxyh6e5shqtjdool2c7vim5jsqybdhi4pkpuphuj5q'\n",
    "    )\n",
    "    \"\"\"\n",
    "    author_and_post_id: dict = get_author_handle_and_post_id_from_link(link)\n",
    "    author_did: str = get_author_did_from_handle(author_and_post_id[\"author\"])\n",
    "    post_rkey = author_and_post_id[\"post_id\"]\n",
    "    profile_identify = author_did\n",
    "    print(f\"Getting post record for {post_rkey} by {profile_identify}\")\n",
    "    response = client.get_post(\n",
    "        post_rkey=post_rkey, profile_identify=profile_identify\n",
    "    )\n",
    "    return response"
   ]
  },
  {
   "cell_type": "markdown",
   "metadata": {},
   "source": [
    "### Step 1: Given a post URI, grab engagement data (reposts, likes, replies)"
   ]
  },
  {
   "cell_type": "code",
   "execution_count": 6,
   "metadata": {},
   "outputs": [],
   "source": [
    "def get_repost_profiles(post_uri: str) -> list[ProfileView]:\n",
    "    \"\"\"Get the profiles of all the users who reposted a post.\"\"\"\n",
    "    reposts: list[ProfileView] = send_request_with_pagination(\n",
    "        func=client.get_reposted_by,\n",
    "        kwargs={\"uri\": post_uri},\n",
    "        response_key=\"reposted_by\",\n",
    "        limit=None,\n",
    "        silence_logs=True\n",
    "    )\n",
    "    return reposts"
   ]
  },
  {
   "cell_type": "code",
   "execution_count": 7,
   "metadata": {},
   "outputs": [],
   "source": [
    "def get_liked_by_profiles(post_uri: str) -> list[Like]:\n",
    "    \"\"\"Get the profiles of all the users who liked a post.\"\"\"\n",
    "    likes: list[Like] = send_request_with_pagination(\n",
    "        func=client.get_likes,\n",
    "        kwargs={\"uri\": post_uri},\n",
    "        response_key=\"likes\",\n",
    "        limit=None,\n",
    "        silence_logs=True\n",
    "    )\n",
    "    return likes"
   ]
  },
  {
   "cell_type": "code",
   "execution_count": 8,
   "metadata": {},
   "outputs": [],
   "source": [
    "def get_post_thread_replies(post_uri: str) -> list[ThreadViewPost]:\n",
    "    \"\"\"Get the thread of replies to a post.\"\"\"\n",
    "    response: PostThreadResponse = client.get_post_thread(post_uri)\n",
    "    thread: ThreadViewPost = response.thread\n",
    "    replies: list[ThreadViewPost] = thread.replies\n",
    "    return replies"
   ]
  },
  {
   "cell_type": "code",
   "execution_count": 9,
   "metadata": {},
   "outputs": [],
   "source": [
    "def calculate_post_engagement(post_response: GetRecordResponse) -> dict:\n",
    "    \"\"\"Calculates the number of likes, retweets, and comments for a post.\"\"\"\n",
    "    uri = post_response[\"uri\"]\n",
    "\n",
    "    # grab # of likes\n",
    "    likes: list[Like] = get_liked_by_profiles(uri)\n",
    "    num_likes: int = len(likes)\n",
    "\n",
    "    # grab # of retweets/reposts\n",
    "    reposts: list[ProfileView] = get_repost_profiles(uri)\n",
    "    num_reposts = len(reposts)\n",
    "\n",
    "    # grab # of replies\n",
    "    replies: list[ThreadViewPost] = get_post_thread_replies(uri)\n",
    "    num_replies = len(replies)\n",
    "\n",
    "    return {\n",
    "        \"uri\": uri,\n",
    "        \"num_likes\": num_likes,\n",
    "        \"num_reposts\": num_reposts,\n",
    "        \"num_replies\": num_replies\n",
    "    }\n"
   ]
  },
  {
   "cell_type": "markdown",
   "metadata": {},
   "source": [
    "### Step 3: Let's calculate the post engagement given a post link"
   ]
  },
  {
   "cell_type": "code",
   "execution_count": 10,
   "metadata": {},
   "outputs": [],
   "source": [
    "def calculate_post_engagement_from_link(link: str) -> dict:\n",
    "    \"\"\"Calculates the number of likes, retweets, and comments for a post given a link.\"\"\"\n",
    "    post_response: GetRecordResponse = get_post_record_from_post_link(link)\n",
    "    post_engagement = calculate_post_engagement(post_response)\n",
    "    return {\n",
    "        \"link\": link,\n",
    "        \"created_at\": post_response.value.created_at,\n",
    "        **post_engagement\n",
    "    }"
   ]
  },
  {
   "cell_type": "markdown",
   "metadata": {},
   "source": [
    "### Step 4: Let's apply this function to each of the posts that we have, in order to get up-to-date engagement data for each post\n"
   ]
  },
  {
   "cell_type": "code",
   "execution_count": 11,
   "metadata": {},
   "outputs": [],
   "source": [
    "map_link_to_engagement_data = {} # cache so we don't make duplicate requests"
   ]
  },
  {
   "cell_type": "code",
   "execution_count": 12,
   "metadata": {},
   "outputs": [],
   "source": [
    "def write_engagement_data_to_json(engagement_data: dict) -> None:\n",
    "    post_id = engagement_data[\"uri\"].split(\"/\")[-1]\n",
    "    json_filename = f\"engagement_data/engagement_data_{post_id}.json\"\n",
    "    with open(json_filename, \"w\") as f:\n",
    "        json.dump(engagement_data, f)"
   ]
  },
  {
   "cell_type": "code",
   "execution_count": 13,
   "metadata": {},
   "outputs": [],
   "source": [
    "def generate_post_engagement_data_from_link(link: str) -> dict:\n",
    "    \"\"\"Generates the post engagement data from a link.\"\"\"\n",
    "    if link in map_link_to_engagement_data:\n",
    "        print(f\"Engagement data already exists for {link}. Returning cached data.\")\n",
    "        return map_link_to_engagement_data[link]\n",
    "    else:\n",
    "        post_engagement_data = calculate_post_engagement_from_link(link)\n",
    "        map_link_to_engagement_data[link] = post_engagement_data\n",
    "        write_engagement_data_to_json(post_engagement_data)\n",
    "        return post_engagement_data"
   ]
  },
  {
   "cell_type": "code",
   "execution_count": 14,
   "metadata": {},
   "outputs": [],
   "source": [
    "civic_links = civic_posts[\"Link\"].tolist()\n",
    "noncivic_links = noncivic_posts[\"Link\"].tolist()"
   ]
  },
  {
   "cell_type": "code",
   "execution_count": null,
   "metadata": {},
   "outputs": [],
   "source": [
    "# takes 18 minutes to run for ~180 posts. Grossly inefficient, please don't run.\n",
    "# to future Mark: please use caching, thanks. Also see if you can bundle requests.\n",
    "\"\"\"\n",
    "for link in civic_posts[\"Link\"].tolist():\n",
    "    try:\n",
    "        generate_post_engagement_data_from_link(link)\n",
    "    except Exception as e:\n",
    "        print(f\"Unable to generate post engagement data for {link}: {e}\")\n",
    "        continue\n",
    "\"\"\""
   ]
  },
  {
   "cell_type": "code",
   "execution_count": 41,
   "metadata": {},
   "outputs": [],
   "source": [
    "civic_posts_engagement_data = [item[1] for item in map_link_to_engagement_data.items()]"
   ]
  },
  {
   "cell_type": "markdown",
   "metadata": {},
   "source": [
    "Note: using a for-loop and making all these requests is grossly inefficient (~15 minutes and lots of requests), so I'll just manually impute for the noncivic posts."
   ]
  },
  {
   "cell_type": "code",
   "execution_count": null,
   "metadata": {},
   "outputs": [],
   "source": [
    "\"\"\"\n",
    "for link in noncivic_posts[\"Link\"].tolist():\n",
    "    try:\n",
    "        generate_post_engagement_data_from_link(link)\n",
    "    except Exception as e:\n",
    "        print(f\"Unable to generate post engagement data for {link}: {e}\")\n",
    "        continue\n",
    "\"\"\""
   ]
  },
  {
   "cell_type": "code",
   "execution_count": 98,
   "metadata": {},
   "outputs": [
    {
     "data": {
      "text/plain": [
       "{'link': 'https://bsky.app/profile/gbbranstetter.bsky.social/post/3knssi4ouko24',\n",
       " 'created_at': '2024-03-16T12:17:36.784Z',\n",
       " 'uri': 'at://did:plc:mlmouohgzbjofidukcp4pxf2/app.bsky.feed.post/3knssi4ouko24',\n",
       " 'num_likes': 384,\n",
       " 'num_reposts': 83,\n",
       " 'num_replies': 9,\n",
       " 'civic': True}"
      ]
     },
     "execution_count": 98,
     "metadata": {},
     "output_type": "execute_result"
    }
   ],
   "source": [
    "civic_posts_engagement_data[0]"
   ]
  },
  {
   "cell_type": "markdown",
   "metadata": {},
   "source": [
    "I need to add in the \"Text\" and \"Feed\" columns, stupidly I didn't do this."
   ]
  },
  {
   "cell_type": "code",
   "execution_count": 115,
   "metadata": {},
   "outputs": [],
   "source": [
    "civic_posts_subset = civic_posts[[\"Link\", \"Text\", \"Feed\"]]\n",
    "\n",
    "# lowercase and change the column names\n",
    "civic_posts_subset.columns = [\"link\", \"text\", \"source_feed\"]"
   ]
  },
  {
   "cell_type": "code",
   "execution_count": 116,
   "metadata": {},
   "outputs": [
    {
     "data": {
      "text/html": [
       "<div>\n",
       "<style scoped>\n",
       "    .dataframe tbody tr th:only-of-type {\n",
       "        vertical-align: middle;\n",
       "    }\n",
       "\n",
       "    .dataframe tbody tr th {\n",
       "        vertical-align: top;\n",
       "    }\n",
       "\n",
       "    .dataframe thead th {\n",
       "        text-align: right;\n",
       "    }\n",
       "</style>\n",
       "<table border=\"1\" class=\"dataframe\">\n",
       "  <thead>\n",
       "    <tr style=\"text-align: right;\">\n",
       "      <th></th>\n",
       "      <th>link</th>\n",
       "      <th>text</th>\n",
       "      <th>source_feed</th>\n",
       "    </tr>\n",
       "  </thead>\n",
       "  <tbody>\n",
       "    <tr>\n",
       "      <th>0</th>\n",
       "      <td>https://bsky.app/profile/gbbranstetter.bsky.so...</td>\n",
       "      <td>A running theme in Woods' telling is how even ...</td>\n",
       "      <td>https://bsky.app/profile/did:plc:z72i7hdynmk6r...</td>\n",
       "    </tr>\n",
       "    <tr>\n",
       "      <th>1</th>\n",
       "      <td>https://bsky.app/profile/juliusgoat.bsky.socia...</td>\n",
       "      <td>And now conservatives today are making the sam...</td>\n",
       "      <td>https://bsky.app/profile/did:plc:z72i7hdynmk6r...</td>\n",
       "    </tr>\n",
       "    <tr>\n",
       "      <th>2</th>\n",
       "      <td>https://bsky.app/profile/jbouie.bsky.social/po...</td>\n",
       "      <td>this from @radleybalko.bsky.social is very good</td>\n",
       "      <td>https://bsky.app/profile/did:plc:z72i7hdynmk6r...</td>\n",
       "    </tr>\n",
       "    <tr>\n",
       "      <th>3</th>\n",
       "      <td>https://bsky.app/profile/gbbranstetter.bsky.so...</td>\n",
       "      <td>They say this about Putin and Orban and their ...</td>\n",
       "      <td>https://bsky.app/profile/did:plc:z72i7hdynmk6r...</td>\n",
       "    </tr>\n",
       "    <tr>\n",
       "      <th>4</th>\n",
       "      <td>https://bsky.app/profile/jameeljaffer.bsky.soc...</td>\n",
       "      <td>This framing is really something.</td>\n",
       "      <td>https://bsky.app/profile/did:plc:z72i7hdynmk6r...</td>\n",
       "    </tr>\n",
       "  </tbody>\n",
       "</table>\n",
       "</div>"
      ],
      "text/plain": [
       "                                                link  \\\n",
       "0  https://bsky.app/profile/gbbranstetter.bsky.so...   \n",
       "1  https://bsky.app/profile/juliusgoat.bsky.socia...   \n",
       "2  https://bsky.app/profile/jbouie.bsky.social/po...   \n",
       "3  https://bsky.app/profile/gbbranstetter.bsky.so...   \n",
       "4  https://bsky.app/profile/jameeljaffer.bsky.soc...   \n",
       "\n",
       "                                                text  \\\n",
       "0  A running theme in Woods' telling is how even ...   \n",
       "1  And now conservatives today are making the sam...   \n",
       "2    this from @radleybalko.bsky.social is very good   \n",
       "3  They say this about Putin and Orban and their ...   \n",
       "4                  This framing is really something.   \n",
       "\n",
       "                                         source_feed  \n",
       "0  https://bsky.app/profile/did:plc:z72i7hdynmk6r...  \n",
       "1  https://bsky.app/profile/did:plc:z72i7hdynmk6r...  \n",
       "2  https://bsky.app/profile/did:plc:z72i7hdynmk6r...  \n",
       "3  https://bsky.app/profile/did:plc:z72i7hdynmk6r...  \n",
       "4  https://bsky.app/profile/did:plc:z72i7hdynmk6r...  "
      ]
     },
     "execution_count": 116,
     "metadata": {},
     "output_type": "execute_result"
    }
   ],
   "source": [
    "civic_posts_subset.head()"
   ]
  },
  {
   "cell_type": "code",
   "execution_count": 143,
   "metadata": {},
   "outputs": [],
   "source": [
    "foo = pd.DataFrame(civic_posts_engagement_data)"
   ]
  },
  {
   "cell_type": "code",
   "execution_count": 144,
   "metadata": {},
   "outputs": [
    {
     "data": {
      "text/plain": [
       "(361, 7)"
      ]
     },
     "execution_count": 144,
     "metadata": {},
     "output_type": "execute_result"
    }
   ],
   "source": [
    "foo.shape"
   ]
  },
  {
   "cell_type": "code",
   "execution_count": 117,
   "metadata": {},
   "outputs": [],
   "source": [
    "civic_posts_df = pd.merge(\n",
    "    pd.DataFrame(civic_posts_engagement_data),\n",
    "    civic_posts_subset,\n",
    "    left_on=\"link\",\n",
    "    right_on=\"link\",\n",
    "    how=\"left\"\n",
    ")"
   ]
  },
  {
   "cell_type": "code",
   "execution_count": 141,
   "metadata": {},
   "outputs": [],
   "source": [
    "civic_posts_engagement_data_enriched = civic_posts_df.to_dict(orient=\"records\")"
   ]
  },
  {
   "cell_type": "code",
   "execution_count": 142,
   "metadata": {},
   "outputs": [
    {
     "data": {
      "text/plain": [
       "(367, 9)"
      ]
     },
     "execution_count": 142,
     "metadata": {},
     "output_type": "execute_result"
    }
   ],
   "source": [
    "civic_posts_df.shape"
   ]
  },
  {
   "cell_type": "code",
   "execution_count": 23,
   "metadata": {},
   "outputs": [],
   "source": [
    "noncivic_posts_dicts: list[dict] = noncivic_posts.to_dict(orient=\"records\")"
   ]
  },
  {
   "cell_type": "code",
   "execution_count": 24,
   "metadata": {},
   "outputs": [
    {
     "data": {
      "text/plain": [
       "{'Link': 'https://bsky.app/profile/joshuaerlich.bsky.social/post/3knsul6pqtk2x',\n",
       " 'Text': 'it really is incredible how much of the last 20 years of tech ‘innovation’ is useless bullshit that kills the environment and fucks labor',\n",
       " 'Retweets': 159,\n",
       " 'Likes': 775,\n",
       " 'Comments': 25,\n",
       " 'Feed': 'https://bsky.app/profile/did:plc:z72i7hdynmk6r22z27h6tvur/feed/hot-classic',\n",
       " 'Timestamp': '3/16/2024'}"
      ]
     },
     "execution_count": 24,
     "metadata": {},
     "output_type": "execute_result"
    }
   ],
   "source": [
    "noncivic_posts_dicts[0]"
   ]
  },
  {
   "cell_type": "markdown",
   "metadata": {},
   "source": [
    "We need to get the URI and created_at for each of the noncivic posts. Otherwise we (manually) have all the engagement information"
   ]
  },
  {
   "cell_type": "code",
   "execution_count": 95,
   "metadata": {},
   "outputs": [],
   "source": [
    "noncivic_posts_engagement_data = []\n",
    "total_noncivic_posts = len(noncivic_posts_dicts)"
   ]
  },
  {
   "cell_type": "code",
   "execution_count": null,
   "metadata": {},
   "outputs": [],
   "source": [
    "# ~ 2 minutes / 200 posts \n",
    "for idx, noncivic_post in enumerate(noncivic_posts_dicts):\n",
    "    if idx % 20 == 0:\n",
    "        print(f\"Processing post index {idx} of {total_noncivic_posts}\")\n",
    "    link = noncivic_post[\"Link\"]\n",
    "    if link in map_link_to_engagement_data:\n",
    "        print(f\"Engagement data already exists for {link}. Returning cached data.\")\n",
    "        #noncivic_posts_engagement_data.append(map_link_to_engagement_data[link])\n",
    "        response_data = map_link_to_engagement_data[link]\n",
    "        # continue\n",
    "    else:\n",
    "        try:\n",
    "            post_response: GetRecordResponse = get_post_record_from_post_link(link)\n",
    "            uri = post_response[\"uri\"]\n",
    "            created_at = post_response.value.created_at\n",
    "            response_data = {\"uri\": uri, \"created_at\": created_at, \"link\": link}\n",
    "        except Exception as e:\n",
    "            print(f\"Unable to get post record for {link}: {e}\")\n",
    "            continue\n",
    "    post_engagement_data = {\n",
    "        \"num_likes\": noncivic_post[\"Likes\"],\n",
    "        \"num_reposts\": noncivic_post[\"Retweets\"],\n",
    "        \"num_replies\": noncivic_post[\"Comments\"],\n",
    "        \"text\": noncivic_post[\"Text\"],\n",
    "        \"source_feed\": noncivic_post[\"Feed\"]\n",
    "    }\n",
    "    post_engagement_data = {**response_data, **post_engagement_data}\n",
    "    map_link_to_engagement_data[link] = post_engagement_data\n",
    "    noncivic_posts_engagement_data.append(post_engagement_data)\n",
    "    #write_engagement_data_to_json(post_engagement_data)"
   ]
  },
  {
   "cell_type": "markdown",
   "metadata": {},
   "source": [
    "Now that we have the engagement data for both civic and noncivic posts, let's aggregate them."
   ]
  },
  {
   "cell_type": "code",
   "execution_count": 151,
   "metadata": {},
   "outputs": [],
   "source": [
    "bluesky_pilot_posts: list[dict] = []"
   ]
  },
  {
   "cell_type": "code",
   "execution_count": 152,
   "metadata": {},
   "outputs": [],
   "source": [
    "set_noncivic_post_uris = set([item[\"uri\"] for item in noncivic_posts_engagement_data])"
   ]
  },
  {
   "cell_type": "code",
   "execution_count": 153,
   "metadata": {},
   "outputs": [],
   "source": [
    "# while processing, data got polluted, so I need to extract just the civic posts.\n",
    "filtered_civic_posts_engagement_data_enriched = [\n",
    "    civic_post for civic_post in civic_posts_engagement_data_enriched\n",
    "    if civic_post[\"uri\"] not in set_noncivic_post_uris\n",
    "]"
   ]
  },
  {
   "cell_type": "code",
   "execution_count": 155,
   "metadata": {},
   "outputs": [],
   "source": [
    "for post in filtered_civic_posts_engagement_data_enriched:\n",
    "    post[\"civic\"] = True\n",
    "    bluesky_pilot_posts.append(post)\n",
    "\n",
    "for post in noncivic_posts_engagement_data:\n",
    "    post[\"civic\"] = False\n",
    "    bluesky_pilot_posts.append(post)"
   ]
  },
  {
   "cell_type": "code",
   "execution_count": 157,
   "metadata": {},
   "outputs": [],
   "source": [
    "bluesky_pilot_posts_df = pd.DataFrame(bluesky_pilot_posts)"
   ]
  },
  {
   "cell_type": "code",
   "execution_count": 124,
   "metadata": {},
   "outputs": [
    {
     "data": {
      "text/html": [
       "<div>\n",
       "<style scoped>\n",
       "    .dataframe tbody tr th:only-of-type {\n",
       "        vertical-align: middle;\n",
       "    }\n",
       "\n",
       "    .dataframe tbody tr th {\n",
       "        vertical-align: top;\n",
       "    }\n",
       "\n",
       "    .dataframe thead th {\n",
       "        text-align: right;\n",
       "    }\n",
       "</style>\n",
       "<table border=\"1\" class=\"dataframe\">\n",
       "  <thead>\n",
       "    <tr style=\"text-align: right;\">\n",
       "      <th></th>\n",
       "      <th>link</th>\n",
       "      <th>created_at</th>\n",
       "      <th>uri</th>\n",
       "      <th>num_likes</th>\n",
       "      <th>num_reposts</th>\n",
       "      <th>num_replies</th>\n",
       "      <th>civic</th>\n",
       "      <th>text</th>\n",
       "      <th>source_feed</th>\n",
       "    </tr>\n",
       "  </thead>\n",
       "  <tbody>\n",
       "    <tr>\n",
       "      <th>0</th>\n",
       "      <td>https://bsky.app/profile/gbbranstetter.bsky.so...</td>\n",
       "      <td>2024-03-16T12:17:36.784Z</td>\n",
       "      <td>at://did:plc:mlmouohgzbjofidukcp4pxf2/app.bsky...</td>\n",
       "      <td>384</td>\n",
       "      <td>83</td>\n",
       "      <td>9</td>\n",
       "      <td>True</td>\n",
       "      <td>A running theme in Woods' telling is how even ...</td>\n",
       "      <td>https://bsky.app/profile/did:plc:z72i7hdynmk6r...</td>\n",
       "    </tr>\n",
       "    <tr>\n",
       "      <th>1</th>\n",
       "      <td>https://bsky.app/profile/gbbranstetter.bsky.so...</td>\n",
       "      <td>2024-03-16T12:17:36.784Z</td>\n",
       "      <td>at://did:plc:mlmouohgzbjofidukcp4pxf2/app.bsky...</td>\n",
       "      <td>384</td>\n",
       "      <td>83</td>\n",
       "      <td>9</td>\n",
       "      <td>True</td>\n",
       "      <td>A running theme in Woods' telling is how even ...</td>\n",
       "      <td>https://bsky.app/profile/did:plc:z72i7hdynmk6r...</td>\n",
       "    </tr>\n",
       "    <tr>\n",
       "      <th>2</th>\n",
       "      <td>https://bsky.app/profile/juliusgoat.bsky.socia...</td>\n",
       "      <td>2024-03-16T12:32:35.934Z</td>\n",
       "      <td>at://did:plc:tzy4hibtkautrntsz5f3ns37/app.bsky...</td>\n",
       "      <td>346</td>\n",
       "      <td>89</td>\n",
       "      <td>8</td>\n",
       "      <td>True</td>\n",
       "      <td>And now conservatives today are making the sam...</td>\n",
       "      <td>https://bsky.app/profile/did:plc:z72i7hdynmk6r...</td>\n",
       "    </tr>\n",
       "    <tr>\n",
       "      <th>3</th>\n",
       "      <td>https://bsky.app/profile/jbouie.bsky.social/po...</td>\n",
       "      <td>2024-03-16T12:32:25.792Z</td>\n",
       "      <td>at://did:plc:nvfposmpmhegtyvhbs75s3pw/app.bsky...</td>\n",
       "      <td>926</td>\n",
       "      <td>280</td>\n",
       "      <td>27</td>\n",
       "      <td>True</td>\n",
       "      <td>this from @radleybalko.bsky.social is very good</td>\n",
       "      <td>https://bsky.app/profile/did:plc:z72i7hdynmk6r...</td>\n",
       "    </tr>\n",
       "    <tr>\n",
       "      <th>4</th>\n",
       "      <td>https://bsky.app/profile/gbbranstetter.bsky.so...</td>\n",
       "      <td>2024-03-16T12:32:05.540Z</td>\n",
       "      <td>at://did:plc:mlmouohgzbjofidukcp4pxf2/app.bsky...</td>\n",
       "      <td>99</td>\n",
       "      <td>20</td>\n",
       "      <td>1</td>\n",
       "      <td>True</td>\n",
       "      <td>They say this about Putin and Orban and their ...</td>\n",
       "      <td>https://bsky.app/profile/did:plc:z72i7hdynmk6r...</td>\n",
       "    </tr>\n",
       "    <tr>\n",
       "      <th>5</th>\n",
       "      <td>https://bsky.app/profile/jameeljaffer.bsky.soc...</td>\n",
       "      <td>2024-03-16T12:28:54.641Z</td>\n",
       "      <td>at://did:plc:eqtfqntwixcnk2fn6im5ntwr/app.bsky...</td>\n",
       "      <td>252</td>\n",
       "      <td>32</td>\n",
       "      <td>11</td>\n",
       "      <td>True</td>\n",
       "      <td>This framing is really something.</td>\n",
       "      <td>https://bsky.app/profile/did:plc:z72i7hdynmk6r...</td>\n",
       "    </tr>\n",
       "    <tr>\n",
       "      <th>6</th>\n",
       "      <td>https://bsky.app/profile/ohnoshetwitnt.bsky.so...</td>\n",
       "      <td>2024-03-16T13:31:16.518Z</td>\n",
       "      <td>at://did:plc:qbvmzulle4ytussf2qpzoqqd/app.bsky...</td>\n",
       "      <td>275</td>\n",
       "      <td>26</td>\n",
       "      <td>8</td>\n",
       "      <td>True</td>\n",
       "      <td>The fact that Bill Maher has Republicans defen...</td>\n",
       "      <td>https://bsky.app/profile/did:plc:z72i7hdynmk6r...</td>\n",
       "    </tr>\n",
       "    <tr>\n",
       "      <th>7</th>\n",
       "      <td>https://bsky.app/profile/ohnoshetwitnt.bsky.so...</td>\n",
       "      <td>2024-03-16T13:31:16.518Z</td>\n",
       "      <td>at://did:plc:qbvmzulle4ytussf2qpzoqqd/app.bsky...</td>\n",
       "      <td>275</td>\n",
       "      <td>26</td>\n",
       "      <td>8</td>\n",
       "      <td>True</td>\n",
       "      <td>The fact that Bill Maher has Republicans defen...</td>\n",
       "      <td>https://bsky.app/profile/did:plc:tenurhgjptubk...</td>\n",
       "    </tr>\n",
       "    <tr>\n",
       "      <th>8</th>\n",
       "      <td>https://bsky.app/profile/esqueer.bsky.social/p...</td>\n",
       "      <td>2024-03-15T21:00:06.688Z</td>\n",
       "      <td>at://did:plc:sefgphqp2xqwh2hawaixykwz/app.bsky...</td>\n",
       "      <td>3087</td>\n",
       "      <td>1409</td>\n",
       "      <td>155</td>\n",
       "      <td>True</td>\n",
       "      <td>Twitter is nuking every single post that menti...</td>\n",
       "      <td>https://bsky.app/profile/did:plc:tenurhgjptubk...</td>\n",
       "    </tr>\n",
       "    <tr>\n",
       "      <th>9</th>\n",
       "      <td>https://bsky.app/profile/chriswarcraft.bsky.so...</td>\n",
       "      <td>2024-03-15T22:20:33.356Z</td>\n",
       "      <td>at://did:plc:oofa3qqoiszsmajbigfqskqv/app.bsky...</td>\n",
       "      <td>2642</td>\n",
       "      <td>590</td>\n",
       "      <td>39</td>\n",
       "      <td>True</td>\n",
       "      <td>I don’t want Supreme Court justices that are f...</td>\n",
       "      <td>https://bsky.app/profile/did:plc:tenurhgjptubk...</td>\n",
       "    </tr>\n",
       "  </tbody>\n",
       "</table>\n",
       "</div>"
      ],
      "text/plain": [
       "                                                link  \\\n",
       "0  https://bsky.app/profile/gbbranstetter.bsky.so...   \n",
       "1  https://bsky.app/profile/gbbranstetter.bsky.so...   \n",
       "2  https://bsky.app/profile/juliusgoat.bsky.socia...   \n",
       "3  https://bsky.app/profile/jbouie.bsky.social/po...   \n",
       "4  https://bsky.app/profile/gbbranstetter.bsky.so...   \n",
       "5  https://bsky.app/profile/jameeljaffer.bsky.soc...   \n",
       "6  https://bsky.app/profile/ohnoshetwitnt.bsky.so...   \n",
       "7  https://bsky.app/profile/ohnoshetwitnt.bsky.so...   \n",
       "8  https://bsky.app/profile/esqueer.bsky.social/p...   \n",
       "9  https://bsky.app/profile/chriswarcraft.bsky.so...   \n",
       "\n",
       "                 created_at  \\\n",
       "0  2024-03-16T12:17:36.784Z   \n",
       "1  2024-03-16T12:17:36.784Z   \n",
       "2  2024-03-16T12:32:35.934Z   \n",
       "3  2024-03-16T12:32:25.792Z   \n",
       "4  2024-03-16T12:32:05.540Z   \n",
       "5  2024-03-16T12:28:54.641Z   \n",
       "6  2024-03-16T13:31:16.518Z   \n",
       "7  2024-03-16T13:31:16.518Z   \n",
       "8  2024-03-15T21:00:06.688Z   \n",
       "9  2024-03-15T22:20:33.356Z   \n",
       "\n",
       "                                                 uri  num_likes  num_reposts  \\\n",
       "0  at://did:plc:mlmouohgzbjofidukcp4pxf2/app.bsky...        384           83   \n",
       "1  at://did:plc:mlmouohgzbjofidukcp4pxf2/app.bsky...        384           83   \n",
       "2  at://did:plc:tzy4hibtkautrntsz5f3ns37/app.bsky...        346           89   \n",
       "3  at://did:plc:nvfposmpmhegtyvhbs75s3pw/app.bsky...        926          280   \n",
       "4  at://did:plc:mlmouohgzbjofidukcp4pxf2/app.bsky...         99           20   \n",
       "5  at://did:plc:eqtfqntwixcnk2fn6im5ntwr/app.bsky...        252           32   \n",
       "6  at://did:plc:qbvmzulle4ytussf2qpzoqqd/app.bsky...        275           26   \n",
       "7  at://did:plc:qbvmzulle4ytussf2qpzoqqd/app.bsky...        275           26   \n",
       "8  at://did:plc:sefgphqp2xqwh2hawaixykwz/app.bsky...       3087         1409   \n",
       "9  at://did:plc:oofa3qqoiszsmajbigfqskqv/app.bsky...       2642          590   \n",
       "\n",
       "   num_replies  civic                                               text  \\\n",
       "0            9   True  A running theme in Woods' telling is how even ...   \n",
       "1            9   True  A running theme in Woods' telling is how even ...   \n",
       "2            8   True  And now conservatives today are making the sam...   \n",
       "3           27   True    this from @radleybalko.bsky.social is very good   \n",
       "4            1   True  They say this about Putin and Orban and their ...   \n",
       "5           11   True                  This framing is really something.   \n",
       "6            8   True  The fact that Bill Maher has Republicans defen...   \n",
       "7            8   True  The fact that Bill Maher has Republicans defen...   \n",
       "8          155   True  Twitter is nuking every single post that menti...   \n",
       "9           39   True  I don’t want Supreme Court justices that are f...   \n",
       "\n",
       "                                         source_feed  \n",
       "0  https://bsky.app/profile/did:plc:z72i7hdynmk6r...  \n",
       "1  https://bsky.app/profile/did:plc:z72i7hdynmk6r...  \n",
       "2  https://bsky.app/profile/did:plc:z72i7hdynmk6r...  \n",
       "3  https://bsky.app/profile/did:plc:z72i7hdynmk6r...  \n",
       "4  https://bsky.app/profile/did:plc:z72i7hdynmk6r...  \n",
       "5  https://bsky.app/profile/did:plc:z72i7hdynmk6r...  \n",
       "6  https://bsky.app/profile/did:plc:z72i7hdynmk6r...  \n",
       "7  https://bsky.app/profile/did:plc:tenurhgjptubk...  \n",
       "8  https://bsky.app/profile/did:plc:tenurhgjptubk...  \n",
       "9  https://bsky.app/profile/did:plc:tenurhgjptubk...  "
      ]
     },
     "execution_count": 124,
     "metadata": {},
     "output_type": "execute_result"
    }
   ],
   "source": [
    "bluesky_pilot_posts_df.head(10)"
   ]
  },
  {
   "cell_type": "code",
   "execution_count": 125,
   "metadata": {},
   "outputs": [],
   "source": [
    "bluesky_pilot_posts_df.to_csv(\"bluesky_pilot_posts.csv\", index=False)"
   ]
  },
  {
   "cell_type": "markdown",
   "metadata": {},
   "source": [
    "An oversight on my end was not calculating superposters. We can do this by looking at the number of posts that a person has written, which should be easily available. For a first pass, we can check if they've written more than 25 posts in the past week."
   ]
  },
  {
   "cell_type": "code",
   "execution_count": 47,
   "metadata": {},
   "outputs": [],
   "source": [
    "def get_author_profile_from_link(link: str) -> ProfileViewDetailed:\n",
    "    \"\"\"Given a link, get the author profile.\n",
    "    \n",
    "    Example:\n",
    "    >get_author_profile_from_link(\"https://bsky.app/profile/gbbranstetter.bsky.social/post/3knssi4ouko24)\n",
    "    ProfileViewDetailed(\n",
    "        did='did:plc:mlmouohgzbjofidukcp4pxf2',\n",
    "        handle='gbbranstetter.bsky.social',\n",
    "        avatar='https://cdn.bsky.app/img/avatar/plain/did:plc:mlmouohgzbjofidukcp4pxf2/bafkreicdpwjn4jyxlcbkxmm7baha6vfohzujcjfre6vvx35vruhud64a7e@jpeg',\n",
    "        banner='https://cdn.bsky.app/img/banner/plain/did:plc:mlmouohgzbjofidukcp4pxf2/bafkreidnd5k7yltrbprbygfgpzoxngihqp4aziouuwsvsecindofzipjhe@jpeg',\n",
    "        description='comms strategy @aclu // autonomy.substack.com // opinions my own ',\n",
    "        display_name='Gillian Branstetter',\n",
    "        followers_count=14545,\n",
    "        follows_count=502,\n",
    "        indexed_at='2024-03-20T14:58:09.443Z',\n",
    "        labels=[Label(cts='1970-01-01T00:00:00.000Z', src='did:plc:mlmouohgzbjofidukcp4pxf2', uri='at://did:plc:mlmouohgzbjofidukcp4pxf2/app.bsky.actor.profile/self', val='!no-unauthenticated', cid='bafyreigay5agy6hjvqnbi2xcn4bwinxaw4g5g3vjcxjsom5me7njrigv2a', neg=None, py_type='com.atproto.label.defs#label')],\n",
    "        posts_count=4429,\n",
    "        viewer=ViewerState(blocked_by=False, blocking=None, blocking_by_list=None, followed_by=None, following=None, muted=False, muted_by_list=None, py_type='app.bsky.actor.defs#viewerState'),\n",
    "        py_type='app.bsky.actor.defs#profileViewDetailed',\n",
    "        associated={'lists': 0, 'feedgens': 0, 'labeler': False}\n",
    "    )\n",
    "    \"\"\"\n",
    "    author_and_post_id: dict = get_author_handle_and_post_id_from_link(link)\n",
    "    author_did: str = get_author_did_from_handle(author_and_post_id[\"author\"])\n",
    "    return client.get_profile(author_did)"
   ]
  },
  {
   "cell_type": "code",
   "execution_count": 48,
   "metadata": {},
   "outputs": [],
   "source": [
    "links = bluesky_pilot_posts_df[\"link\"].tolist()"
   ]
  },
  {
   "cell_type": "code",
   "execution_count": 56,
   "metadata": {},
   "outputs": [],
   "source": [
    "author_did_to_profile: dict[str, dict] = {}"
   ]
  },
  {
   "cell_type": "code",
   "execution_count": null,
   "metadata": {},
   "outputs": [],
   "source": [
    "# ~6 minutes for 300 posts\n",
    "for link in links:\n",
    "    author_and_post_id: dict = get_author_handle_and_post_id_from_link(link)\n",
    "    author_did: str = get_author_did_from_handle(author_and_post_id[\"author\"])\n",
    "    if author_did in author_did_to_profile:\n",
    "        continue\n",
    "    try:\n",
    "        author_profile = get_author_profile_from_link(link)\n",
    "        author_did_to_profile[author_did] = author_profile.__dict__\n",
    "    except Exception as e:\n",
    "        print(f\"Unable to get author profile for {author_did}: {e}\")\n",
    "        continue"
   ]
  },
  {
   "cell_type": "code",
   "execution_count": 58,
   "metadata": {},
   "outputs": [
    {
     "data": {
      "text/plain": [
       "238"
      ]
     },
     "execution_count": 58,
     "metadata": {},
     "output_type": "execute_result"
    }
   ],
   "source": [
    "len(author_did_to_profile.keys())"
   ]
  },
  {
   "cell_type": "code",
   "execution_count": 78,
   "metadata": {},
   "outputs": [],
   "source": [
    "pilot_post_authors_df = pd.DataFrame(author_did_to_profile.values())"
   ]
  },
  {
   "cell_type": "markdown",
   "metadata": {},
   "source": [
    "Now let's classify certain authors as superposters or not."
   ]
  },
  {
   "cell_type": "markdown",
   "metadata": {},
   "source": [
    "First, let's do some EDA on the authors and see how many posts they each have. Maybe we can set a threshold of picking author in the top X% of posts?"
   ]
  },
  {
   "cell_type": "code",
   "execution_count": 63,
   "metadata": {},
   "outputs": [
    {
     "data": {
      "text/plain": [
       "0      4429\n",
       "1      1753\n",
       "2      4671\n",
       "3       193\n",
       "4       610\n",
       "       ... \n",
       "233    3078\n",
       "234    2857\n",
       "235    1287\n",
       "236    1494\n",
       "237    2874\n",
       "Name: posts_count, Length: 238, dtype: int64"
      ]
     },
     "execution_count": 63,
     "metadata": {},
     "output_type": "execute_result"
    }
   ],
   "source": [
    "pilot_post_authors_df[\"posts_count\"]"
   ]
  },
  {
   "cell_type": "code",
   "execution_count": 67,
   "metadata": {},
   "outputs": [
    {
     "data": {
      "text/plain": [
       "<Axes: ylabel='Frequency'>"
      ]
     },
     "execution_count": 67,
     "metadata": {},
     "output_type": "execute_result"
    },
    {
     "data": {
      "image/png": "[encoded data removed]",
      "text/plain": [
       "<Figure size 640x480 with 1 Axes>"
      ]
     },
     "metadata": {},
     "output_type": "display_data"
    }
   ],
   "source": [
    "# plot histogram of posts_count\n",
    "pilot_post_authors_df[\"posts_count\"].plot.hist()\n"
   ]
  },
  {
   "cell_type": "markdown",
   "metadata": {},
   "source": [
    "OK, seems like very long-tailed behavior. Let me get some more fine-grained details."
   ]
  },
  {
   "cell_type": "code",
   "execution_count": 70,
   "metadata": {},
   "outputs": [],
   "source": [
    "# calculate top 1% of post_count\n",
    "top_1_percent_post_count = pilot_post_authors_df[\"posts_count\"].quantile(0.99)\n",
    "\n",
    "# calculate top 5% of post_count\n",
    "top_5_percent_post_count = pilot_post_authors_df[\"posts_count\"].quantile(0.95)\n",
    "\n",
    "# calculate top 10% of post_count\n",
    "top_10_percent_post_count = pilot_post_authors_df[\"posts_count\"].quantile(0.90)\n",
    "\n",
    "# calculate top 25% of post_count\n",
    "top_25_percent_post_count = pilot_post_authors_df[\"posts_count\"].quantile(0.75)\n",
    "\n",
    "# calculate top 50% of post_count\n",
    "top_50_percent_post_count = pilot_post_authors_df[\"posts_count\"].quantile(0.50)"
   ]
  },
  {
   "cell_type": "code",
   "execution_count": 75,
   "metadata": {},
   "outputs": [
    {
     "name": "stdout",
     "output_type": "stream",
     "text": [
      "Top 1%: 35724.15\n",
      "Top 5%: 21824.349999999984\n",
      "Top 10%: 14157.40000000001\n",
      "Top 25%: 6296.0\n",
      "Top 50%: 2851.5\n"
     ]
    }
   ],
   "source": [
    "print(f\"Top 1%: {top_1_percent_post_count}\")\n",
    "print(f\"Top 5%: {top_5_percent_post_count}\")\n",
    "print(f\"Top 10%: {top_10_percent_post_count}\")\n",
    "print(f\"Top 25%: {top_25_percent_post_count}\")\n",
    "print(f\"Top 50%: {top_50_percent_post_count}\")"
   ]
  },
  {
   "cell_type": "code",
   "execution_count": 74,
   "metadata": {},
   "outputs": [
    {
     "data": {
      "image/png": "[encoded data removed]",
      "text/plain": [
       "<Figure size 640x480 with 1 Axes>"
      ]
     },
     "metadata": {},
     "output_type": "display_data"
    }
   ],
   "source": [
    "# add the quantiles as vertical red lines to the histogram. Add a legend to the plot.\n",
    "# add labels to each red line.\n",
    "pilot_post_authors_df[\"posts_count\"].plot.hist()\n",
    "plt.axvline(top_1_percent_post_count, color='r', linestyle='--', label=\"Top 1%\")\n",
    "plt.axvline(top_5_percent_post_count, color='r', linestyle='-', label=\"Top 5%\")\n",
    "plt.axvline(top_10_percent_post_count, color='r', linestyle='-.', label=\"Top 10%\")\n",
    "plt.axvline(top_25_percent_post_count, color='r', linestyle=':', label=\"Top 25%\")\n",
    "plt.axvline(top_50_percent_post_count, color='r', linestyle='-', label=\"Top 50%\")\n",
    "plt.show()"
   ]
  },
  {
   "cell_type": "markdown",
   "metadata": {},
   "source": [
    "Let's just use authors in the top 25% for now. I suspect that in the wider population, these would already be long-tailed users."
   ]
  },
  {
   "cell_type": "code",
   "execution_count": 79,
   "metadata": {},
   "outputs": [],
   "source": [
    "# create a new column, \"is_frequent_poster\", that is 1 if the user's post_count\n",
    "# is above the top 25% of post_count, and 0 otherwise.\n",
    "pilot_post_authors_df[\"is_frequent_poster\"] = (\n",
    "    pilot_post_authors_df[\"posts_count\"] > top_25_percent_post_count\n",
    ")"
   ]
  },
  {
   "cell_type": "code",
   "execution_count": 80,
   "metadata": {},
   "outputs": [],
   "source": [
    "pilot_post_authors_df.to_csv(\"bluesky_pilot_posts_authors.csv\", index=False)"
   ]
  },
  {
   "cell_type": "markdown",
   "metadata": {},
   "source": [
    "Now let's combine the post and the author data in order to enrich each post with information about its author. Specifically, we need to add the \"is_frequent_poster\" column to the post table.\n",
    "\n",
    "We'll do this by grabbing the handle from the `link` column in the `bluesky_pilot_posts_df` DataFrame, mapping that to the `handle` column in the `pilot_post_authors_df` DataFrame."
   ]
  },
  {
   "cell_type": "code",
   "execution_count": 83,
   "metadata": {},
   "outputs": [],
   "source": [
    "def get_author_handle_from_link(link: str) -> str:\n",
    "    \"\"\"Given a link, get the author handle.\n",
    "    \n",
    "    Example:\n",
    "    >get_author_handle_from_link(\"https://bsky.app/profile/gbbranstetter.bsky.social/post/3knssi4ouko24)\n",
    "    \"gbbranstetter.bsky.social\"\n",
    "    \"\"\"\n",
    "    author_and_post_id: dict = get_author_handle_and_post_id_from_link(link)\n",
    "    return author_and_post_id[\"author\"]"
   ]
  },
  {
   "cell_type": "code",
   "execution_count": 158,
   "metadata": {},
   "outputs": [],
   "source": [
    "bluesky_pilot_posts_df[\"author_handle\"] = bluesky_pilot_posts_df[\"link\"].apply(get_author_handle_from_link)"
   ]
  },
  {
   "cell_type": "code",
   "execution_count": 159,
   "metadata": {},
   "outputs": [],
   "source": [
    "enriched_bluesky_pilot_posts_df = bluesky_pilot_posts_df.merge(\n",
    "    pilot_post_authors_df[[\"handle\", \"is_frequent_poster\"]],\n",
    "    left_on=\"author_handle\",\n",
    "    right_on=\"handle\",\n",
    "    how=\"left\"\n",
    ")"
   ]
  },
  {
   "cell_type": "code",
   "execution_count": 160,
   "metadata": {},
   "outputs": [
    {
     "data": {
      "text/plain": [
       "is_frequent_poster\n",
       "False    259\n",
       "True     113\n",
       "Name: count, dtype: int64"
      ]
     },
     "execution_count": 160,
     "metadata": {},
     "output_type": "execute_result"
    }
   ],
   "source": [
    "enriched_bluesky_pilot_posts_df[\"is_frequent_poster\"].value_counts()"
   ]
  },
  {
   "cell_type": "code",
   "execution_count": 161,
   "metadata": {},
   "outputs": [],
   "source": [
    "# drop duplicates based on \"link\" column\n",
    "enriched_bluesky_pilot_posts_df = (\n",
    "    enriched_bluesky_pilot_posts_df.drop_duplicates(subset=[\"link\"])\n",
    ")"
   ]
  },
  {
   "cell_type": "code",
   "execution_count": 164,
   "metadata": {},
   "outputs": [
    {
     "data": {
      "text/html": [
       "<div>\n",
       "<style scoped>\n",
       "    .dataframe tbody tr th:only-of-type {\n",
       "        vertical-align: middle;\n",
       "    }\n",
       "\n",
       "    .dataframe tbody tr th {\n",
       "        vertical-align: top;\n",
       "    }\n",
       "\n",
       "    .dataframe thead th {\n",
       "        text-align: right;\n",
       "    }\n",
       "</style>\n",
       "<table border=\"1\" class=\"dataframe\">\n",
       "  <thead>\n",
       "    <tr style=\"text-align: right;\">\n",
       "      <th></th>\n",
       "      <th>link</th>\n",
       "      <th>created_at</th>\n",
       "      <th>uri</th>\n",
       "      <th>num_likes</th>\n",
       "      <th>num_reposts</th>\n",
       "      <th>num_replies</th>\n",
       "      <th>civic</th>\n",
       "      <th>text</th>\n",
       "      <th>source_feed</th>\n",
       "      <th>author_handle</th>\n",
       "      <th>handle</th>\n",
       "      <th>is_frequent_poster</th>\n",
       "    </tr>\n",
       "  </thead>\n",
       "  <tbody>\n",
       "    <tr>\n",
       "      <th>0</th>\n",
       "      <td>https://bsky.app/profile/gbbranstetter.bsky.so...</td>\n",
       "      <td>2024-03-16T12:17:36.784Z</td>\n",
       "      <td>at://did:plc:mlmouohgzbjofidukcp4pxf2/app.bsky...</td>\n",
       "      <td>384</td>\n",
       "      <td>83</td>\n",
       "      <td>9</td>\n",
       "      <td>True</td>\n",
       "      <td>A running theme in Woods' telling is how even ...</td>\n",
       "      <td>https://bsky.app/profile/did:plc:z72i7hdynmk6r...</td>\n",
       "      <td>gbbranstetter.bsky.social</td>\n",
       "      <td>gbbranstetter.bsky.social</td>\n",
       "      <td>False</td>\n",
       "    </tr>\n",
       "    <tr>\n",
       "      <th>2</th>\n",
       "      <td>https://bsky.app/profile/juliusgoat.bsky.socia...</td>\n",
       "      <td>2024-03-16T12:32:35.934Z</td>\n",
       "      <td>at://did:plc:tzy4hibtkautrntsz5f3ns37/app.bsky...</td>\n",
       "      <td>346</td>\n",
       "      <td>89</td>\n",
       "      <td>8</td>\n",
       "      <td>True</td>\n",
       "      <td>And now conservatives today are making the sam...</td>\n",
       "      <td>https://bsky.app/profile/did:plc:z72i7hdynmk6r...</td>\n",
       "      <td>juliusgoat.bsky.social</td>\n",
       "      <td>juliusgoat.bsky.social</td>\n",
       "      <td>False</td>\n",
       "    </tr>\n",
       "    <tr>\n",
       "      <th>3</th>\n",
       "      <td>https://bsky.app/profile/jbouie.bsky.social/po...</td>\n",
       "      <td>2024-03-16T12:32:25.792Z</td>\n",
       "      <td>at://did:plc:nvfposmpmhegtyvhbs75s3pw/app.bsky...</td>\n",
       "      <td>926</td>\n",
       "      <td>280</td>\n",
       "      <td>27</td>\n",
       "      <td>True</td>\n",
       "      <td>this from @radleybalko.bsky.social is very good</td>\n",
       "      <td>https://bsky.app/profile/did:plc:z72i7hdynmk6r...</td>\n",
       "      <td>jbouie.bsky.social</td>\n",
       "      <td>jbouie.bsky.social</td>\n",
       "      <td>False</td>\n",
       "    </tr>\n",
       "    <tr>\n",
       "      <th>4</th>\n",
       "      <td>https://bsky.app/profile/gbbranstetter.bsky.so...</td>\n",
       "      <td>2024-03-16T12:32:05.540Z</td>\n",
       "      <td>at://did:plc:mlmouohgzbjofidukcp4pxf2/app.bsky...</td>\n",
       "      <td>99</td>\n",
       "      <td>20</td>\n",
       "      <td>1</td>\n",
       "      <td>True</td>\n",
       "      <td>They say this about Putin and Orban and their ...</td>\n",
       "      <td>https://bsky.app/profile/did:plc:z72i7hdynmk6r...</td>\n",
       "      <td>gbbranstetter.bsky.social</td>\n",
       "      <td>gbbranstetter.bsky.social</td>\n",
       "      <td>False</td>\n",
       "    </tr>\n",
       "    <tr>\n",
       "      <th>5</th>\n",
       "      <td>https://bsky.app/profile/jameeljaffer.bsky.soc...</td>\n",
       "      <td>2024-03-16T12:28:54.641Z</td>\n",
       "      <td>at://did:plc:eqtfqntwixcnk2fn6im5ntwr/app.bsky...</td>\n",
       "      <td>252</td>\n",
       "      <td>32</td>\n",
       "      <td>11</td>\n",
       "      <td>True</td>\n",
       "      <td>This framing is really something.</td>\n",
       "      <td>https://bsky.app/profile/did:plc:z72i7hdynmk6r...</td>\n",
       "      <td>jameeljaffer.bsky.social</td>\n",
       "      <td>jameeljaffer.bsky.social</td>\n",
       "      <td>False</td>\n",
       "    </tr>\n",
       "  </tbody>\n",
       "</table>\n",
       "</div>"
      ],
      "text/plain": [
       "                                                link  \\\n",
       "0  https://bsky.app/profile/gbbranstetter.bsky.so...   \n",
       "2  https://bsky.app/profile/juliusgoat.bsky.socia...   \n",
       "3  https://bsky.app/profile/jbouie.bsky.social/po...   \n",
       "4  https://bsky.app/profile/gbbranstetter.bsky.so...   \n",
       "5  https://bsky.app/profile/jameeljaffer.bsky.soc...   \n",
       "\n",
       "                 created_at  \\\n",
       "0  2024-03-16T12:17:36.784Z   \n",
       "2  2024-03-16T12:32:35.934Z   \n",
       "3  2024-03-16T12:32:25.792Z   \n",
       "4  2024-03-16T12:32:05.540Z   \n",
       "5  2024-03-16T12:28:54.641Z   \n",
       "\n",
       "                                                 uri  num_likes  num_reposts  \\\n",
       "0  at://did:plc:mlmouohgzbjofidukcp4pxf2/app.bsky...        384           83   \n",
       "2  at://did:plc:tzy4hibtkautrntsz5f3ns37/app.bsky...        346           89   \n",
       "3  at://did:plc:nvfposmpmhegtyvhbs75s3pw/app.bsky...        926          280   \n",
       "4  at://did:plc:mlmouohgzbjofidukcp4pxf2/app.bsky...         99           20   \n",
       "5  at://did:plc:eqtfqntwixcnk2fn6im5ntwr/app.bsky...        252           32   \n",
       "\n",
       "   num_replies  civic                                               text  \\\n",
       "0            9   True  A running theme in Woods' telling is how even ...   \n",
       "2            8   True  And now conservatives today are making the sam...   \n",
       "3           27   True    this from @radleybalko.bsky.social is very good   \n",
       "4            1   True  They say this about Putin and Orban and their ...   \n",
       "5           11   True                  This framing is really something.   \n",
       "\n",
       "                                         source_feed  \\\n",
       "0  https://bsky.app/profile/did:plc:z72i7hdynmk6r...   \n",
       "2  https://bsky.app/profile/did:plc:z72i7hdynmk6r...   \n",
       "3  https://bsky.app/profile/did:plc:z72i7hdynmk6r...   \n",
       "4  https://bsky.app/profile/did:plc:z72i7hdynmk6r...   \n",
       "5  https://bsky.app/profile/did:plc:z72i7hdynmk6r...   \n",
       "\n",
       "               author_handle                     handle  is_frequent_poster  \n",
       "0  gbbranstetter.bsky.social  gbbranstetter.bsky.social               False  \n",
       "2     juliusgoat.bsky.social     juliusgoat.bsky.social               False  \n",
       "3         jbouie.bsky.social         jbouie.bsky.social               False  \n",
       "4  gbbranstetter.bsky.social  gbbranstetter.bsky.social               False  \n",
       "5   jameeljaffer.bsky.social   jameeljaffer.bsky.social               False  "
      ]
     },
     "execution_count": 164,
     "metadata": {},
     "output_type": "execute_result"
    }
   ],
   "source": [
    "enriched_bluesky_pilot_posts_df.head()"
   ]
  },
  {
   "cell_type": "code",
   "execution_count": 163,
   "metadata": {},
   "outputs": [
    {
     "data": {
      "text/plain": [
       "civic\n",
       "False    187\n",
       "True     174\n",
       "Name: count, dtype: int64"
      ]
     },
     "execution_count": 163,
     "metadata": {},
     "output_type": "execute_result"
    }
   ],
   "source": [
    "enriched_bluesky_pilot_posts_df[\"civic\"].value_counts()"
   ]
  },
  {
   "cell_type": "code",
   "execution_count": 165,
   "metadata": {},
   "outputs": [],
   "source": [
    "enriched_bluesky_pilot_posts_df.to_csv(\"bluesky_pilot_posts.csv\", index=False)"
   ]
  },
  {
   "cell_type": "markdown",
   "metadata": {},
   "source": [
    "OK, now we have the engagement data plus if the post author is a frequent poster."
   ]
  },
  {
   "cell_type": "markdown",
   "metadata": {},
   "source": [
    "### Step 5: Let's get inference data for each of these posts\n",
    "\n",
    "Now that we have the posts, let's use the Perspective API to get toxicity and constructiveness data for these posts and add these as features."
   ]
  },
  {
   "cell_type": "code",
   "execution_count": 167,
   "metadata": {},
   "outputs": [],
   "source": [
    "post_uri_to_text_map = {}\n",
    "\n",
    "for idx, row in enriched_bluesky_pilot_posts_df.iterrows():\n",
    "    uri = row[\"uri\"]\n",
    "    text = row[\"text\"]\n",
    "    post_uri_to_text_map[uri] = text"
   ]
  },
  {
   "cell_type": "code",
   "execution_count": 168,
   "metadata": {},
   "outputs": [],
   "source": [
    "texts = list(post_uri_to_text_map.values())"
   ]
  },
  {
   "cell_type": "code",
   "execution_count": null,
   "metadata": {},
   "outputs": [],
   "source": [
    "# pings Perspective API\n",
    "classifications: list[dict] = perform_batch_inference(texts)"
   ]
  },
  {
   "cell_type": "code",
   "execution_count": 174,
   "metadata": {},
   "outputs": [
    {
     "data": {
      "text/plain": [
       "361"
      ]
     },
     "execution_count": 174,
     "metadata": {},
     "output_type": "execute_result"
    }
   ],
   "source": [
    "len(post_uri_to_text_map.keys())"
   ]
  },
  {
   "cell_type": "code",
   "execution_count": 173,
   "metadata": {},
   "outputs": [
    {
     "data": {
      "text/plain": [
       "361"
      ]
     },
     "execution_count": 173,
     "metadata": {},
     "output_type": "execute_result"
    }
   ],
   "source": [
    "len(classifications)"
   ]
  },
  {
   "cell_type": "code",
   "execution_count": 175,
   "metadata": {},
   "outputs": [
    {
     "data": {
      "text/plain": [
       "{'text': 'A running theme in Woods\\' telling is how even those who opposed Hitler blamed his rise on the \"depravity\" and excess of Weimar Berlin \"as if the mere presence of ersatz women\\nin theclubwas enough to foment and justify a right-wing putsch\"--a phrase I find myself repeating often',\n",
       " 'prob_toxic': 0.15103401,\n",
       " 'label_toxic': 0,\n",
       " 'prob_affinity': 0.26146647,\n",
       " 'label_affinity': 0,\n",
       " 'prob_compassion': 0.17844121,\n",
       " 'label_compassion': 0,\n",
       " 'prob_constructive': 0.4490613,\n",
       " 'label_constructive': 0,\n",
       " 'prob_curiosity': 0.39127967,\n",
       " 'label_curiosity': 0,\n",
       " 'prob_nuance': 0.43793672,\n",
       " 'label_nuance': 0,\n",
       " 'prob_personal_story': 0.29584426,\n",
       " 'label_personal_story': 0,\n",
       " 'prob_alienation': 0.6844828,\n",
       " 'label_alienation': 1,\n",
       " 'prob_fearmongering': 0.15237163,\n",
       " 'label_fearmongering': 0,\n",
       " 'prob_generalization': 0.5528038,\n",
       " 'label_generalization': 1,\n",
       " 'prob_moral_outrage': 0.44657364,\n",
       " 'label_moral_outrage': 0,\n",
       " 'prob_scapegoating': 0.30857164,\n",
       " 'label_scapegoating': 0}"
      ]
     },
     "execution_count": 175,
     "metadata": {},
     "output_type": "execute_result"
    }
   ],
   "source": [
    "classifications[0]"
   ]
  },
  {
   "cell_type": "code",
   "execution_count": 176,
   "metadata": {},
   "outputs": [],
   "source": [
    "post_uri_to_text_labels_map = {}\n",
    "\n",
    "for idx, uri in enumerate(post_uri_to_text_map.keys()):\n",
    "    post_uri_to_text_labels_map[uri] = classifications[idx]"
   ]
  },
  {
   "cell_type": "code",
   "execution_count": 178,
   "metadata": {},
   "outputs": [],
   "source": [
    "classifications_dicts_list: list[dict] = [\n",
    "    {**{\"did\": key}, **item}\n",
    "    for (key, item) in post_uri_to_text_labels_map.items()\n",
    "]"
   ]
  },
  {
   "cell_type": "code",
   "execution_count": 179,
   "metadata": {},
   "outputs": [
    {
     "data": {
      "text/plain": [
       "{'did': 'at://did:plc:mlmouohgzbjofidukcp4pxf2/app.bsky.feed.post/3knssi4ouko24',\n",
       " 'text': 'A running theme in Woods\\' telling is how even those who opposed Hitler blamed his rise on the \"depravity\" and excess of Weimar Berlin \"as if the mere presence of ersatz women\\nin theclubwas enough to foment and justify a right-wing putsch\"--a phrase I find myself repeating often',\n",
       " 'prob_toxic': 0.15103401,\n",
       " 'label_toxic': 0,\n",
       " 'prob_affinity': 0.26146647,\n",
       " 'label_affinity': 0,\n",
       " 'prob_compassion': 0.17844121,\n",
       " 'label_compassion': 0,\n",
       " 'prob_constructive': 0.4490613,\n",
       " 'label_constructive': 0,\n",
       " 'prob_curiosity': 0.39127967,\n",
       " 'label_curiosity': 0,\n",
       " 'prob_nuance': 0.43793672,\n",
       " 'label_nuance': 0,\n",
       " 'prob_personal_story': 0.29584426,\n",
       " 'label_personal_story': 0,\n",
       " 'prob_alienation': 0.6844828,\n",
       " 'label_alienation': 1,\n",
       " 'prob_fearmongering': 0.15237163,\n",
       " 'label_fearmongering': 0,\n",
       " 'prob_generalization': 0.5528038,\n",
       " 'label_generalization': 1,\n",
       " 'prob_moral_outrage': 0.44657364,\n",
       " 'label_moral_outrage': 0,\n",
       " 'prob_scapegoating': 0.30857164,\n",
       " 'label_scapegoating': 0}"
      ]
     },
     "execution_count": 179,
     "metadata": {},
     "output_type": "execute_result"
    }
   ],
   "source": [
    "classifications_dicts_list[0]"
   ]
  },
  {
   "cell_type": "code",
   "execution_count": 182,
   "metadata": {},
   "outputs": [],
   "source": [
    "classifications_df = pd.DataFrame(classifications_dicts_list)"
   ]
  },
  {
   "cell_type": "code",
   "execution_count": 184,
   "metadata": {},
   "outputs": [],
   "source": [
    "# join to the posts df on the did column\n",
    "enriched_posts_df = enriched_bluesky_pilot_posts_df.merge(\n",
    "    classifications_df,\n",
    "    left_on=\"uri\",\n",
    "    right_on=\"did\",\n",
    "    how=\"left\"\n",
    ")"
   ]
  },
  {
   "cell_type": "code",
   "execution_count": 185,
   "metadata": {},
   "outputs": [
    {
     "data": {
      "text/html": [
       "<div>\n",
       "<style scoped>\n",
       "    .dataframe tbody tr th:only-of-type {\n",
       "        vertical-align: middle;\n",
       "    }\n",
       "\n",
       "    .dataframe tbody tr th {\n",
       "        vertical-align: top;\n",
       "    }\n",
       "\n",
       "    .dataframe thead th {\n",
       "        text-align: right;\n",
       "    }\n",
       "</style>\n",
       "<table border=\"1\" class=\"dataframe\">\n",
       "  <thead>\n",
       "    <tr style=\"text-align: right;\">\n",
       "      <th></th>\n",
       "      <th>link</th>\n",
       "      <th>created_at</th>\n",
       "      <th>uri</th>\n",
       "      <th>num_likes</th>\n",
       "      <th>num_reposts</th>\n",
       "      <th>num_replies</th>\n",
       "      <th>civic</th>\n",
       "      <th>text_x</th>\n",
       "      <th>source_feed</th>\n",
       "      <th>author_handle</th>\n",
       "      <th>...</th>\n",
       "      <th>prob_alienation</th>\n",
       "      <th>label_alienation</th>\n",
       "      <th>prob_fearmongering</th>\n",
       "      <th>label_fearmongering</th>\n",
       "      <th>prob_generalization</th>\n",
       "      <th>label_generalization</th>\n",
       "      <th>prob_moral_outrage</th>\n",
       "      <th>label_moral_outrage</th>\n",
       "      <th>prob_scapegoating</th>\n",
       "      <th>label_scapegoating</th>\n",
       "    </tr>\n",
       "  </thead>\n",
       "  <tbody>\n",
       "    <tr>\n",
       "      <th>0</th>\n",
       "      <td>https://bsky.app/profile/gbbranstetter.bsky.so...</td>\n",
       "      <td>2024-03-16T12:17:36.784Z</td>\n",
       "      <td>at://did:plc:mlmouohgzbjofidukcp4pxf2/app.bsky...</td>\n",
       "      <td>384</td>\n",
       "      <td>83</td>\n",
       "      <td>9</td>\n",
       "      <td>True</td>\n",
       "      <td>A running theme in Woods' telling is how even ...</td>\n",
       "      <td>https://bsky.app/profile/did:plc:z72i7hdynmk6r...</td>\n",
       "      <td>gbbranstetter.bsky.social</td>\n",
       "      <td>...</td>\n",
       "      <td>0.684483</td>\n",
       "      <td>1</td>\n",
       "      <td>0.152372</td>\n",
       "      <td>0</td>\n",
       "      <td>0.552804</td>\n",
       "      <td>1</td>\n",
       "      <td>0.446574</td>\n",
       "      <td>0</td>\n",
       "      <td>0.308572</td>\n",
       "      <td>0</td>\n",
       "    </tr>\n",
       "    <tr>\n",
       "      <th>1</th>\n",
       "      <td>https://bsky.app/profile/juliusgoat.bsky.socia...</td>\n",
       "      <td>2024-03-16T12:32:35.934Z</td>\n",
       "      <td>at://did:plc:tzy4hibtkautrntsz5f3ns37/app.bsky...</td>\n",
       "      <td>346</td>\n",
       "      <td>89</td>\n",
       "      <td>8</td>\n",
       "      <td>True</td>\n",
       "      <td>And now conservatives today are making the sam...</td>\n",
       "      <td>https://bsky.app/profile/did:plc:z72i7hdynmk6r...</td>\n",
       "      <td>juliusgoat.bsky.social</td>\n",
       "      <td>...</td>\n",
       "      <td>0.821005</td>\n",
       "      <td>1</td>\n",
       "      <td>0.154572</td>\n",
       "      <td>0</td>\n",
       "      <td>0.848215</td>\n",
       "      <td>1</td>\n",
       "      <td>0.698824</td>\n",
       "      <td>1</td>\n",
       "      <td>0.844623</td>\n",
       "      <td>1</td>\n",
       "    </tr>\n",
       "    <tr>\n",
       "      <th>2</th>\n",
       "      <td>https://bsky.app/profile/jbouie.bsky.social/po...</td>\n",
       "      <td>2024-03-16T12:32:25.792Z</td>\n",
       "      <td>at://did:plc:nvfposmpmhegtyvhbs75s3pw/app.bsky...</td>\n",
       "      <td>926</td>\n",
       "      <td>280</td>\n",
       "      <td>27</td>\n",
       "      <td>True</td>\n",
       "      <td>this from @radleybalko.bsky.social is very good</td>\n",
       "      <td>https://bsky.app/profile/did:plc:z72i7hdynmk6r...</td>\n",
       "      <td>jbouie.bsky.social</td>\n",
       "      <td>...</td>\n",
       "      <td>0.126333</td>\n",
       "      <td>0</td>\n",
       "      <td>0.102600</td>\n",
       "      <td>0</td>\n",
       "      <td>0.083667</td>\n",
       "      <td>0</td>\n",
       "      <td>0.106318</td>\n",
       "      <td>0</td>\n",
       "      <td>0.130182</td>\n",
       "      <td>0</td>\n",
       "    </tr>\n",
       "    <tr>\n",
       "      <th>3</th>\n",
       "      <td>https://bsky.app/profile/gbbranstetter.bsky.so...</td>\n",
       "      <td>2024-03-16T12:32:05.540Z</td>\n",
       "      <td>at://did:plc:mlmouohgzbjofidukcp4pxf2/app.bsky...</td>\n",
       "      <td>99</td>\n",
       "      <td>20</td>\n",
       "      <td>1</td>\n",
       "      <td>True</td>\n",
       "      <td>They say this about Putin and Orban and their ...</td>\n",
       "      <td>https://bsky.app/profile/did:plc:z72i7hdynmk6r...</td>\n",
       "      <td>gbbranstetter.bsky.social</td>\n",
       "      <td>...</td>\n",
       "      <td>0.604766</td>\n",
       "      <td>1</td>\n",
       "      <td>0.218729</td>\n",
       "      <td>0</td>\n",
       "      <td>0.722730</td>\n",
       "      <td>1</td>\n",
       "      <td>0.267576</td>\n",
       "      <td>0</td>\n",
       "      <td>0.449304</td>\n",
       "      <td>0</td>\n",
       "    </tr>\n",
       "    <tr>\n",
       "      <th>4</th>\n",
       "      <td>https://bsky.app/profile/jameeljaffer.bsky.soc...</td>\n",
       "      <td>2024-03-16T12:28:54.641Z</td>\n",
       "      <td>at://did:plc:eqtfqntwixcnk2fn6im5ntwr/app.bsky...</td>\n",
       "      <td>252</td>\n",
       "      <td>32</td>\n",
       "      <td>11</td>\n",
       "      <td>True</td>\n",
       "      <td>This framing is really something.</td>\n",
       "      <td>https://bsky.app/profile/did:plc:z72i7hdynmk6r...</td>\n",
       "      <td>jameeljaffer.bsky.social</td>\n",
       "      <td>...</td>\n",
       "      <td>0.101003</td>\n",
       "      <td>0</td>\n",
       "      <td>0.137085</td>\n",
       "      <td>0</td>\n",
       "      <td>0.078890</td>\n",
       "      <td>0</td>\n",
       "      <td>0.112315</td>\n",
       "      <td>0</td>\n",
       "      <td>0.112025</td>\n",
       "      <td>0</td>\n",
       "    </tr>\n",
       "  </tbody>\n",
       "</table>\n",
       "<p>5 rows × 38 columns</p>\n",
       "</div>"
      ],
      "text/plain": [
       "                                                link  \\\n",
       "0  https://bsky.app/profile/gbbranstetter.bsky.so...   \n",
       "1  https://bsky.app/profile/juliusgoat.bsky.socia...   \n",
       "2  https://bsky.app/profile/jbouie.bsky.social/po...   \n",
       "3  https://bsky.app/profile/gbbranstetter.bsky.so...   \n",
       "4  https://bsky.app/profile/jameeljaffer.bsky.soc...   \n",
       "\n",
       "                 created_at  \\\n",
       "0  2024-03-16T12:17:36.784Z   \n",
       "1  2024-03-16T12:32:35.934Z   \n",
       "2  2024-03-16T12:32:25.792Z   \n",
       "3  2024-03-16T12:32:05.540Z   \n",
       "4  2024-03-16T12:28:54.641Z   \n",
       "\n",
       "                                                 uri  num_likes  num_reposts  \\\n",
       "0  at://did:plc:mlmouohgzbjofidukcp4pxf2/app.bsky...        384           83   \n",
       "1  at://did:plc:tzy4hibtkautrntsz5f3ns37/app.bsky...        346           89   \n",
       "2  at://did:plc:nvfposmpmhegtyvhbs75s3pw/app.bsky...        926          280   \n",
       "3  at://did:plc:mlmouohgzbjofidukcp4pxf2/app.bsky...         99           20   \n",
       "4  at://did:plc:eqtfqntwixcnk2fn6im5ntwr/app.bsky...        252           32   \n",
       "\n",
       "   num_replies  civic                                             text_x  \\\n",
       "0            9   True  A running theme in Woods' telling is how even ...   \n",
       "1            8   True  And now conservatives today are making the sam...   \n",
       "2           27   True    this from @radleybalko.bsky.social is very good   \n",
       "3            1   True  They say this about Putin and Orban and their ...   \n",
       "4           11   True                  This framing is really something.   \n",
       "\n",
       "                                         source_feed  \\\n",
       "0  https://bsky.app/profile/did:plc:z72i7hdynmk6r...   \n",
       "1  https://bsky.app/profile/did:plc:z72i7hdynmk6r...   \n",
       "2  https://bsky.app/profile/did:plc:z72i7hdynmk6r...   \n",
       "3  https://bsky.app/profile/did:plc:z72i7hdynmk6r...   \n",
       "4  https://bsky.app/profile/did:plc:z72i7hdynmk6r...   \n",
       "\n",
       "               author_handle  ... prob_alienation  label_alienation  \\\n",
       "0  gbbranstetter.bsky.social  ...        0.684483                 1   \n",
       "1     juliusgoat.bsky.social  ...        0.821005                 1   \n",
       "2         jbouie.bsky.social  ...        0.126333                 0   \n",
       "3  gbbranstetter.bsky.social  ...        0.604766                 1   \n",
       "4   jameeljaffer.bsky.social  ...        0.101003                 0   \n",
       "\n",
       "  prob_fearmongering label_fearmongering  prob_generalization  \\\n",
       "0           0.152372                   0             0.552804   \n",
       "1           0.154572                   0             0.848215   \n",
       "2           0.102600                   0             0.083667   \n",
       "3           0.218729                   0             0.722730   \n",
       "4           0.137085                   0             0.078890   \n",
       "\n",
       "   label_generalization  prob_moral_outrage  label_moral_outrage  \\\n",
       "0                     1            0.446574                    0   \n",
       "1                     1            0.698824                    1   \n",
       "2                     0            0.106318                    0   \n",
       "3                     1            0.267576                    0   \n",
       "4                     0            0.112315                    0   \n",
       "\n",
       "   prob_scapegoating  label_scapegoating  \n",
       "0           0.308572                   0  \n",
       "1           0.844623                   1  \n",
       "2           0.130182                   0  \n",
       "3           0.449304                   0  \n",
       "4           0.112025                   0  \n",
       "\n",
       "[5 rows x 38 columns]"
      ]
     },
     "execution_count": 185,
     "metadata": {},
     "output_type": "execute_result"
    }
   ],
   "source": [
    "enriched_posts_df.head()"
   ]
  },
  {
   "cell_type": "code",
   "execution_count": 186,
   "metadata": {},
   "outputs": [
    {
     "data": {
      "text/plain": [
       "Index(['link', 'created_at', 'uri', 'num_likes', 'num_reposts', 'num_replies',\n",
       "       'civic', 'text_x', 'source_feed', 'author_handle', 'handle',\n",
       "       'is_frequent_poster', 'did', 'text_y', 'prob_toxic', 'label_toxic',\n",
       "       'prob_affinity', 'label_affinity', 'prob_compassion',\n",
       "       'label_compassion', 'prob_constructive', 'label_constructive',\n",
       "       'prob_curiosity', 'label_curiosity', 'prob_nuance', 'label_nuance',\n",
       "       'prob_personal_story', 'label_personal_story', 'prob_alienation',\n",
       "       'label_alienation', 'prob_fearmongering', 'label_fearmongering',\n",
       "       'prob_generalization', 'label_generalization', 'prob_moral_outrage',\n",
       "       'label_moral_outrage', 'prob_scapegoating', 'label_scapegoating'],\n",
       "      dtype='object')"
      ]
     },
     "execution_count": 186,
     "metadata": {},
     "output_type": "execute_result"
    }
   ],
   "source": [
    "enriched_posts_df.columns"
   ]
  },
  {
   "cell_type": "code",
   "execution_count": 193,
   "metadata": {},
   "outputs": [],
   "source": [
    "# drop text_y, rename text_x to text\n",
    "enriched_posts_df = enriched_posts_df.drop(columns=[\"text_y\"])\n",
    "enriched_posts_df = enriched_posts_df.rename(columns={\"text_x\": \"text\"})"
   ]
  },
  {
   "cell_type": "code",
   "execution_count": 194,
   "metadata": {},
   "outputs": [],
   "source": [
    "# after adding features, save the .csv file again.\n",
    "enriched_posts_df.to_csv(\"bluesky_pilot_posts_with_all_features.csv\", index=False)"
   ]
  },
  {
   "cell_type": "markdown",
   "metadata": {},
   "source": [
    "Now that we have the full dataframe with all features, let's generate our feeds."
   ]
  },
  {
   "cell_type": "markdown",
   "metadata": {},
   "source": [
    "### Step 6: Generate feeds"
   ]
  },
  {
   "cell_type": "markdown",
   "metadata": {},
   "source": [
    "#### 6.1 Reverse-Chronological Feeds\n",
    "For the reverse-chronological, we will just sort based on timestamp.\n",
    "\n",
    "For these ones, we would likely get better results if we didn't grab all high-like posts. We could just grab random posts that were posted on the same day as well.\n",
    "\n",
    "I can pull these from the firehose? Or look for and sample posts that were posted on the same days as the other one."
   ]
  },
  {
   "cell_type": "markdown",
   "metadata": {},
   "source": [
    "#### 6.2 Engagement feed\n",
    "\n",
    "For the engagement feed, we can just sort on the sum of number of likes, reposts, and comments."
   ]
  },
  {
   "cell_type": "code",
   "execution_count": 195,
   "metadata": {},
   "outputs": [],
   "source": [
    "enriched_posts_df[\"total_engagement\"] = (\n",
    "    enriched_posts_df[\"num_likes\"]\n",
    "    + enriched_posts_df[\"num_reposts\"]\n",
    "    + enriched_posts_df[\"num_replies\"]\n",
    ")"
   ]
  },
  {
   "cell_type": "code",
   "execution_count": 204,
   "metadata": {},
   "outputs": [],
   "source": [
    "engagement_feed_df = enriched_posts_df.copy()"
   ]
  },
  {
   "cell_type": "code",
   "execution_count": 206,
   "metadata": {},
   "outputs": [],
   "source": [
    "# sort by total_engagement, then return the link, text, num_likes, num_reposts, num_replies, and total_engagement\n",
    "engagement_feed_df = (\n",
    "    engagement_feed_df.sort_values(by=\"total_engagement\", ascending=False)\n",
    "    .reset_index(drop=True)\n",
    ")"
   ]
  },
  {
   "cell_type": "code",
   "execution_count": 231,
   "metadata": {},
   "outputs": [
    {
     "data": {
      "text/html": [
       "<div>\n",
       "<style scoped>\n",
       "    .dataframe tbody tr th:only-of-type {\n",
       "        vertical-align: middle;\n",
       "    }\n",
       "\n",
       "    .dataframe tbody tr th {\n",
       "        vertical-align: top;\n",
       "    }\n",
       "\n",
       "    .dataframe thead th {\n",
       "        text-align: right;\n",
       "    }\n",
       "</style>\n",
       "<table border=\"1\" class=\"dataframe\">\n",
       "  <thead>\n",
       "    <tr style=\"text-align: right;\">\n",
       "      <th></th>\n",
       "      <th>link</th>\n",
       "      <th>created_at</th>\n",
       "      <th>uri</th>\n",
       "      <th>num_likes</th>\n",
       "      <th>num_reposts</th>\n",
       "      <th>num_replies</th>\n",
       "      <th>civic</th>\n",
       "      <th>text</th>\n",
       "      <th>source_feed</th>\n",
       "      <th>author_handle</th>\n",
       "      <th>...</th>\n",
       "      <th>label_alienation</th>\n",
       "      <th>prob_fearmongering</th>\n",
       "      <th>label_fearmongering</th>\n",
       "      <th>prob_generalization</th>\n",
       "      <th>label_generalization</th>\n",
       "      <th>prob_moral_outrage</th>\n",
       "      <th>label_moral_outrage</th>\n",
       "      <th>prob_scapegoating</th>\n",
       "      <th>label_scapegoating</th>\n",
       "      <th>total_engagement</th>\n",
       "    </tr>\n",
       "  </thead>\n",
       "  <tbody>\n",
       "    <tr>\n",
       "      <th>0</th>\n",
       "      <td>https://bsky.app/profile/stuflemingnz.bsky.social/post/3knhplc7vta2r</td>\n",
       "      <td>2024-03-12T02:26:24.296Z</td>\n",
       "      <td>at://did:plc:dg5vxv3natjdyzjbo2hjv5g3/app.bsky.feed.post/3knhplc7vta2r</td>\n",
       "      <td>7357</td>\n",
       "      <td>2521</td>\n",
       "      <td>95</td>\n",
       "      <td>False</td>\n",
       "      <td>The King of England lies dying and one of his sons has been exiled. A princess has vanished. Plague stalks the land and the Treasury has been plundered. NOW is the time for strange women lying in ponds to distribute swords to form the basis of government.</td>\n",
       "      <td>https://bsky.app/profile/did:plc:tenurhgjptubkk5zf5qhi3og/feed/catch-up-weekly</td>\n",
       "      <td>stuflemingnz.bsky.social</td>\n",
       "      <td>...</td>\n",
       "      <td>1</td>\n",
       "      <td>0.536391</td>\n",
       "      <td>1</td>\n",
       "      <td>0.539647</td>\n",
       "      <td>1</td>\n",
       "      <td>0.463428</td>\n",
       "      <td>0</td>\n",
       "      <td>0.433007</td>\n",
       "      <td>0</td>\n",
       "      <td>9973</td>\n",
       "    </tr>\n",
       "    <tr>\n",
       "      <th>1</th>\n",
       "      <td>https://bsky.app/profile/fallonturing.bsky.social/post/3knonywlopd24</td>\n",
       "      <td>2024-03-14T20:46:51.788Z</td>\n",
       "      <td>at://did:plc:5zfcmbupaqsvkiweknzwbt3x/app.bsky.feed.post/3knonywlopd24</td>\n",
       "      <td>4956</td>\n",
       "      <td>1439</td>\n",
       "      <td>39</td>\n",
       "      <td>False</td>\n",
       "      <td>This is the single funniest thing that an algorithm has ever done.</td>\n",
       "      <td>https://bsky.app/profile/did:plc:tenurhgjptubkk5zf5qhi3og/feed/catch-up-weekly</td>\n",
       "      <td>fallonturing.bsky.social</td>\n",
       "      <td>...</td>\n",
       "      <td>0</td>\n",
       "      <td>0.190371</td>\n",
       "      <td>0</td>\n",
       "      <td>0.267574</td>\n",
       "      <td>0</td>\n",
       "      <td>0.248058</td>\n",
       "      <td>0</td>\n",
       "      <td>0.198434</td>\n",
       "      <td>0</td>\n",
       "      <td>6434</td>\n",
       "    </tr>\n",
       "    <tr>\n",
       "      <th>2</th>\n",
       "      <td>https://bsky.app/profile/jwgoerlich.bsky.social/post/3knogawk33c2h</td>\n",
       "      <td>2024-03-14T18:28:12.025Z</td>\n",
       "      <td>at://did:plc:njxcscm7gcrfrimdx3d7vupb/app.bsky.feed.post/3knogawk33c2h</td>\n",
       "      <td>4176</td>\n",
       "      <td>1269</td>\n",
       "      <td>28</td>\n",
       "      <td>False</td>\n",
       "      <td>Shel Silverstein doesn’t get nearly enough credit for predicting ChatGPT.</td>\n",
       "      <td>https://bsky.app/profile/did:plc:tenurhgjptubkk5zf5qhi3og/feed/catch-up-weekly</td>\n",
       "      <td>jwgoerlich.bsky.social</td>\n",
       "      <td>...</td>\n",
       "      <td>0</td>\n",
       "      <td>0.079411</td>\n",
       "      <td>0</td>\n",
       "      <td>0.327739</td>\n",
       "      <td>0</td>\n",
       "      <td>0.146616</td>\n",
       "      <td>0</td>\n",
       "      <td>0.123458</td>\n",
       "      <td>0</td>\n",
       "      <td>5473</td>\n",
       "    </tr>\n",
       "  </tbody>\n",
       "</table>\n",
       "<p>3 rows × 38 columns</p>\n",
       "</div>"
      ],
      "text/plain": [
       "                                                                   link  \\\n",
       "0  https://bsky.app/profile/stuflemingnz.bsky.social/post/3knhplc7vta2r   \n",
       "1  https://bsky.app/profile/fallonturing.bsky.social/post/3knonywlopd24   \n",
       "2    https://bsky.app/profile/jwgoerlich.bsky.social/post/3knogawk33c2h   \n",
       "\n",
       "                 created_at  \\\n",
       "0  2024-03-12T02:26:24.296Z   \n",
       "1  2024-03-14T20:46:51.788Z   \n",
       "2  2024-03-14T18:28:12.025Z   \n",
       "\n",
       "                                                                      uri  \\\n",
       "0  at://did:plc:dg5vxv3natjdyzjbo2hjv5g3/app.bsky.feed.post/3knhplc7vta2r   \n",
       "1  at://did:plc:5zfcmbupaqsvkiweknzwbt3x/app.bsky.feed.post/3knonywlopd24   \n",
       "2  at://did:plc:njxcscm7gcrfrimdx3d7vupb/app.bsky.feed.post/3knogawk33c2h   \n",
       "\n",
       "   num_likes  num_reposts  num_replies  civic  \\\n",
       "0       7357         2521           95  False   \n",
       "1       4956         1439           39  False   \n",
       "2       4176         1269           28  False   \n",
       "\n",
       "                                                                                                                                                                                                                                                              text  \\\n",
       "0  The King of England lies dying and one of his sons has been exiled. A princess has vanished. Plague stalks the land and the Treasury has been plundered. NOW is the time for strange women lying in ponds to distribute swords to form the basis of government.   \n",
       "1                                                                                                                                                                                               This is the single funniest thing that an algorithm has ever done.   \n",
       "2                                                                                                                                                                                        Shel Silverstein doesn’t get nearly enough credit for predicting ChatGPT.   \n",
       "\n",
       "                                                                      source_feed  \\\n",
       "0  https://bsky.app/profile/did:plc:tenurhgjptubkk5zf5qhi3og/feed/catch-up-weekly   \n",
       "1  https://bsky.app/profile/did:plc:tenurhgjptubkk5zf5qhi3og/feed/catch-up-weekly   \n",
       "2  https://bsky.app/profile/did:plc:tenurhgjptubkk5zf5qhi3og/feed/catch-up-weekly   \n",
       "\n",
       "              author_handle  ... label_alienation  prob_fearmongering  \\\n",
       "0  stuflemingnz.bsky.social  ...                1            0.536391   \n",
       "1  fallonturing.bsky.social  ...                0            0.190371   \n",
       "2    jwgoerlich.bsky.social  ...                0            0.079411   \n",
       "\n",
       "  label_fearmongering  prob_generalization  label_generalization  \\\n",
       "0                   1             0.539647                     1   \n",
       "1                   0             0.267574                     0   \n",
       "2                   0             0.327739                     0   \n",
       "\n",
       "   prob_moral_outrage  label_moral_outrage  prob_scapegoating  \\\n",
       "0            0.463428                    0           0.433007   \n",
       "1            0.248058                    0           0.198434   \n",
       "2            0.146616                    0           0.123458   \n",
       "\n",
       "   label_scapegoating  total_engagement  \n",
       "0                   0              9973  \n",
       "1                   0              6434  \n",
       "2                   0              5473  \n",
       "\n",
       "[3 rows x 38 columns]"
      ]
     },
     "execution_count": 231,
     "metadata": {},
     "output_type": "execute_result"
    }
   ],
   "source": [
    "engagement_feed_df.head(3)"
   ]
  },
  {
   "cell_type": "code",
   "execution_count": 208,
   "metadata": {},
   "outputs": [],
   "source": [
    "engagement_feed_df.to_csv(\"engagement_feed.csv\", index=False)"
   ]
  },
  {
   "cell_type": "markdown",
   "metadata": {},
   "source": [
    "#### 6.3 Representative diversification (RD) feed\n",
    "\n",
    "For the representative diversification feed, we want to update our score based on the following:\n",
    "1. Penalize posts that are toxic and civic\n",
    "2. Penalize posts that are by frequent posters and are civic\n",
    "3. Uprank posts that are constructive and civic.\n",
    "\n",
    "We will take the base \"total_engagement\" score and modify it by these parameters.\n",
    "\n",
    "(Note: in the actual algorithm, we are measuring the probability of engagement that a user has for a given post, but that's not what we're doing here. The post here with the most engagement isn't necessary the post that we'd say, for a given user, has the highest odds of engagement. At first blush, we're just making a hand-wavey claim. But we can assume that all of these posts are likely generally engaging?)\n",
    "\n",
    "Let's take a log transform of the total engagement and work with that for now."
   ]
  },
  {
   "cell_type": "code",
   "execution_count": 214,
   "metadata": {},
   "outputs": [],
   "source": [
    "rd_df = enriched_posts_df.copy()"
   ]
  },
  {
   "cell_type": "code",
   "execution_count": 215,
   "metadata": {},
   "outputs": [],
   "source": [
    "rd_df[\"log_total_engagement\"] = rd_df[\"total_engagement\"].apply(lambda x: 0 if x == 0 else math.log(x))"
   ]
  },
  {
   "cell_type": "code",
   "execution_count": 220,
   "metadata": {},
   "outputs": [
    {
     "data": {
      "text/plain": [
       "<Axes: >"
      ]
     },
     "execution_count": 220,
     "metadata": {},
     "output_type": "execute_result"
    },
    {
     "data": {
      "image/png": "[encoded data removed]",
      "text/plain": [
       "<Figure size 640x480 with 1 Axes>"
      ]
     },
     "metadata": {},
     "output_type": "display_data"
    }
   ],
   "source": [
    "rd_df[\"log_total_engagement\"].hist()"
   ]
  },
  {
   "cell_type": "code",
   "execution_count": 219,
   "metadata": {},
   "outputs": [
    {
     "name": "stdout",
     "output_type": "stream",
     "text": [
      "Min log: 4.787491742782046\n",
      "Max log: 9.207636720401869\n"
     ]
    }
   ],
   "source": [
    "min_log = rd_df[\"log_total_engagement\"].min()\n",
    "max_log = rd_df[\"log_total_engagement\"].max()\n",
    "print(f\"Min log: {min_log}\")\n",
    "print(f\"Max log: {max_log}\")"
   ]
  },
  {
   "cell_type": "markdown",
   "metadata": {},
   "source": [
    "Now let's calculate the scores for each post, using the criteria stated above\n",
    "\n",
    "For the representative diversification feed, we want to update our score based on the following:\n",
    "1. Penalize posts that are toxic and civic\n",
    "2. Penalize posts that are by frequent posters and are civic\n",
    "3. Uprank posts that are constructive and civic."
   ]
  },
  {
   "cell_type": "code",
   "execution_count": 221,
   "metadata": {},
   "outputs": [],
   "source": [
    "# hyperparameters\n",
    "TOXIC_PENALTY = 0.5\n",
    "FREQUENT_POSTER_PENALITY = 0.5\n",
    "CONSTRUCTIVE_BONUS = 0.5"
   ]
  },
  {
   "cell_type": "code",
   "execution_count": 222,
   "metadata": {},
   "outputs": [],
   "source": [
    "rd_posts = rd_df.to_dict(orient=\"records\")"
   ]
  },
  {
   "cell_type": "code",
   "execution_count": 224,
   "metadata": {},
   "outputs": [],
   "source": [
    "def representative_diversification_score(post: dict) -> float:\n",
    "    if not post[\"civic\"]:\n",
    "        return post[\"log_total_engagement\"]\n",
    "\n",
    "    score = post[\"log_total_engagement\"]\n",
    "    if post[\"label_toxic\"]:\n",
    "        score -= TOXIC_PENALTY\n",
    "    if post[\"is_frequent_poster\"]:\n",
    "        score -= FREQUENT_POSTER_PENALITY\n",
    "    if post[\"label_constructive\"]:\n",
    "        score += CONSTRUCTIVE_BONUS\n",
    "    return score"
   ]
  },
  {
   "cell_type": "code",
   "execution_count": 225,
   "metadata": {},
   "outputs": [],
   "source": [
    "rd_scored_posts: list[dict] = []"
   ]
  },
  {
   "cell_type": "code",
   "execution_count": 226,
   "metadata": {},
   "outputs": [],
   "source": [
    "for post in rd_posts:\n",
    "    post[\"rd_score\"] = representative_diversification_score(post)\n",
    "    rd_scored_posts.append(post)"
   ]
  },
  {
   "cell_type": "code",
   "execution_count": 227,
   "metadata": {},
   "outputs": [],
   "source": [
    "rd_scored_posts_df = pd.DataFrame(rd_scored_posts)"
   ]
  },
  {
   "cell_type": "code",
   "execution_count": 228,
   "metadata": {},
   "outputs": [],
   "source": [
    "rd_feed_df = (\n",
    "    rd_scored_posts_df.sort_values(by=\"rd_score\", ascending=False)\n",
    "    .reset_index(drop=True)\n",
    ")"
   ]
  },
  {
   "cell_type": "code",
   "execution_count": 230,
   "metadata": {},
   "outputs": [],
   "source": [
    "rd_feed_df.to_csv(\"representative_diversification_feed.csv\", index=False)"
   ]
  },
  {
   "cell_type": "markdown",
   "metadata": {},
   "source": [
    "How does the scoring affect our ordering?"
   ]
  },
  {
   "cell_type": "code",
   "execution_count": null,
   "metadata": {},
   "outputs": [],
   "source": [
    "engagement_feed_df[[\"text\", \"total_engagement\"]].head(10)"
   ]
  },
  {
   "cell_type": "code",
   "execution_count": 229,
   "metadata": {},
   "outputs": [
    {
     "data": {
      "text/html": [
       "<div>\n",
       "<style scoped>\n",
       "    .dataframe tbody tr th:only-of-type {\n",
       "        vertical-align: middle;\n",
       "    }\n",
       "\n",
       "    .dataframe tbody tr th {\n",
       "        vertical-align: top;\n",
       "    }\n",
       "\n",
       "    .dataframe thead th {\n",
       "        text-align: right;\n",
       "    }\n",
       "</style>\n",
       "<table border=\"1\" class=\"dataframe\">\n",
       "  <thead>\n",
       "    <tr style=\"text-align: right;\">\n",
       "      <th></th>\n",
       "      <th>link</th>\n",
       "      <th>created_at</th>\n",
       "      <th>uri</th>\n",
       "      <th>num_likes</th>\n",
       "      <th>num_reposts</th>\n",
       "      <th>num_replies</th>\n",
       "      <th>civic</th>\n",
       "      <th>text</th>\n",
       "      <th>source_feed</th>\n",
       "      <th>author_handle</th>\n",
       "      <th>...</th>\n",
       "      <th>label_fearmongering</th>\n",
       "      <th>prob_generalization</th>\n",
       "      <th>label_generalization</th>\n",
       "      <th>prob_moral_outrage</th>\n",
       "      <th>label_moral_outrage</th>\n",
       "      <th>prob_scapegoating</th>\n",
       "      <th>label_scapegoating</th>\n",
       "      <th>total_engagement</th>\n",
       "      <th>log_total_engagement</th>\n",
       "      <th>rd_score</th>\n",
       "    </tr>\n",
       "  </thead>\n",
       "  <tbody>\n",
       "    <tr>\n",
       "      <th>0</th>\n",
       "      <td>https://bsky.app/profile/stuflemingnz.bsky.social/post/3knhplc7vta2r</td>\n",
       "      <td>2024-03-12T02:26:24.296Z</td>\n",
       "      <td>at://did:plc:dg5vxv3natjdyzjbo2hjv5g3/app.bsky.feed.post/3knhplc7vta2r</td>\n",
       "      <td>7357</td>\n",
       "      <td>2521</td>\n",
       "      <td>95</td>\n",
       "      <td>False</td>\n",
       "      <td>The King of England lies dying and one of his sons has been exiled. A princess has vanished. Plague stalks the land and the Treasury has been plundered. NOW is the time for strange women lying in ponds to distribute swords to form the basis of government.</td>\n",
       "      <td>https://bsky.app/profile/did:plc:tenurhgjptubkk5zf5qhi3og/feed/catch-up-weekly</td>\n",
       "      <td>stuflemingnz.bsky.social</td>\n",
       "      <td>...</td>\n",
       "      <td>1</td>\n",
       "      <td>0.539647</td>\n",
       "      <td>1</td>\n",
       "      <td>0.463428</td>\n",
       "      <td>0</td>\n",
       "      <td>0.433007</td>\n",
       "      <td>0</td>\n",
       "      <td>9973</td>\n",
       "      <td>9.207637</td>\n",
       "      <td>9.207637</td>\n",
       "    </tr>\n",
       "    <tr>\n",
       "      <th>1</th>\n",
       "      <td>https://bsky.app/profile/jbouie.bsky.social/post/3knqbtrdzrz2n</td>\n",
       "      <td>2024-03-15T12:14:34.788Z</td>\n",
       "      <td>at://did:plc:nvfposmpmhegtyvhbs75s3pw/app.bsky.feed.post/3knqbtrdzrz2n</td>\n",
       "      <td>4325</td>\n",
       "      <td>819</td>\n",
       "      <td>145</td>\n",
       "      <td>True</td>\n",
       "      <td>that’s right. there is a lot of very good evidence that americans are just as productive with a four-day work week and much happier to boot. what’s the point of having such a wealth society if we are not going to try to benefit from it?</td>\n",
       "      <td>https://bsky.app/profile/did:plc:tenurhgjptubkk5zf5qhi3og/feed/catch-up-weekly</td>\n",
       "      <td>jbouie.bsky.social</td>\n",
       "      <td>...</td>\n",
       "      <td>0</td>\n",
       "      <td>0.785128</td>\n",
       "      <td>1</td>\n",
       "      <td>0.287757</td>\n",
       "      <td>0</td>\n",
       "      <td>0.251855</td>\n",
       "      <td>0</td>\n",
       "      <td>5289</td>\n",
       "      <td>8.573384</td>\n",
       "      <td>9.073384</td>\n",
       "    </tr>\n",
       "    <tr>\n",
       "      <th>2</th>\n",
       "      <td>https://bsky.app/profile/lethalityjane.bsky.social/post/3kngn4umr3z2e</td>\n",
       "      <td>2024-03-11T16:09:53.810Z</td>\n",
       "      <td>at://did:plc:xhmwhdq4pj2wh5jeucxjhay2/app.bsky.feed.post/3kngn4umr3z2e</td>\n",
       "      <td>3688</td>\n",
       "      <td>821</td>\n",
       "      <td>195</td>\n",
       "      <td>True</td>\n",
       "      <td>The hill I will die on is that this is not a digital problem. We don't send younger kids out to play by themselves anymore for fear of kidnapping/CPS, and those kids become teens who don't do it either. There's also a loss of third spaces for teens. Even the freaking malls require chaperones.</td>\n",
       "      <td>https://bsky.app/profile/did:plc:tenurhgjptubkk5zf5qhi3og/feed/catch-up-weekly</td>\n",
       "      <td>lethalityjane.bsky.social</td>\n",
       "      <td>...</td>\n",
       "      <td>1</td>\n",
       "      <td>0.752765</td>\n",
       "      <td>1</td>\n",
       "      <td>0.439951</td>\n",
       "      <td>0</td>\n",
       "      <td>0.250548</td>\n",
       "      <td>0</td>\n",
       "      <td>4704</td>\n",
       "      <td>8.456168</td>\n",
       "      <td>8.956168</td>\n",
       "    </tr>\n",
       "    <tr>\n",
       "      <th>3</th>\n",
       "      <td>https://bsky.app/profile/esqueer.bsky.social/post/3knr77ifjqc2n</td>\n",
       "      <td>2024-03-15T21:00:06.688Z</td>\n",
       "      <td>at://did:plc:sefgphqp2xqwh2hawaixykwz/app.bsky.feed.post/3knr77ifjqc2n</td>\n",
       "      <td>3087</td>\n",
       "      <td>1409</td>\n",
       "      <td>155</td>\n",
       "      <td>True</td>\n",
       "      <td>Twitter is nuking every single post that mentions the name Hans Kristian Graebener, even in quotes. Everyone that posts it is getting hit. I've never seen sitewide censorship like this done specifically on behalf of a neo nazi.</td>\n",
       "      <td>https://bsky.app/profile/did:plc:tenurhgjptubkk5zf5qhi3og/feed/catch-up</td>\n",
       "      <td>esqueer.bsky.social</td>\n",
       "      <td>...</td>\n",
       "      <td>0</td>\n",
       "      <td>0.528855</td>\n",
       "      <td>1</td>\n",
       "      <td>0.518986</td>\n",
       "      <td>1</td>\n",
       "      <td>0.437284</td>\n",
       "      <td>0</td>\n",
       "      <td>4651</td>\n",
       "      <td>8.444838</td>\n",
       "      <td>8.944838</td>\n",
       "    </tr>\n",
       "    <tr>\n",
       "      <th>4</th>\n",
       "      <td>https://bsky.app/profile/fallonturing.bsky.social/post/3knonywlopd24</td>\n",
       "      <td>2024-03-14T20:46:51.788Z</td>\n",
       "      <td>at://did:plc:5zfcmbupaqsvkiweknzwbt3x/app.bsky.feed.post/3knonywlopd24</td>\n",
       "      <td>4956</td>\n",
       "      <td>1439</td>\n",
       "      <td>39</td>\n",
       "      <td>False</td>\n",
       "      <td>This is the single funniest thing that an algorithm has ever done.</td>\n",
       "      <td>https://bsky.app/profile/did:plc:tenurhgjptubkk5zf5qhi3og/feed/catch-up-weekly</td>\n",
       "      <td>fallonturing.bsky.social</td>\n",
       "      <td>...</td>\n",
       "      <td>0</td>\n",
       "      <td>0.267574</td>\n",
       "      <td>0</td>\n",
       "      <td>0.248058</td>\n",
       "      <td>0</td>\n",
       "      <td>0.198434</td>\n",
       "      <td>0</td>\n",
       "      <td>6434</td>\n",
       "      <td>8.769352</td>\n",
       "      <td>8.769352</td>\n",
       "    </tr>\n",
       "  </tbody>\n",
       "</table>\n",
       "<p>5 rows × 40 columns</p>\n",
       "</div>"
      ],
      "text/plain": [
       "                                                                    link  \\\n",
       "0   https://bsky.app/profile/stuflemingnz.bsky.social/post/3knhplc7vta2r   \n",
       "1         https://bsky.app/profile/jbouie.bsky.social/post/3knqbtrdzrz2n   \n",
       "2  https://bsky.app/profile/lethalityjane.bsky.social/post/3kngn4umr3z2e   \n",
       "3        https://bsky.app/profile/esqueer.bsky.social/post/3knr77ifjqc2n   \n",
       "4   https://bsky.app/profile/fallonturing.bsky.social/post/3knonywlopd24   \n",
       "\n",
       "                 created_at  \\\n",
       "0  2024-03-12T02:26:24.296Z   \n",
       "1  2024-03-15T12:14:34.788Z   \n",
       "2  2024-03-11T16:09:53.810Z   \n",
       "3  2024-03-15T21:00:06.688Z   \n",
       "4  2024-03-14T20:46:51.788Z   \n",
       "\n",
       "                                                                      uri  \\\n",
       "0  at://did:plc:dg5vxv3natjdyzjbo2hjv5g3/app.bsky.feed.post/3knhplc7vta2r   \n",
       "1  at://did:plc:nvfposmpmhegtyvhbs75s3pw/app.bsky.feed.post/3knqbtrdzrz2n   \n",
       "2  at://did:plc:xhmwhdq4pj2wh5jeucxjhay2/app.bsky.feed.post/3kngn4umr3z2e   \n",
       "3  at://did:plc:sefgphqp2xqwh2hawaixykwz/app.bsky.feed.post/3knr77ifjqc2n   \n",
       "4  at://did:plc:5zfcmbupaqsvkiweknzwbt3x/app.bsky.feed.post/3knonywlopd24   \n",
       "\n",
       "   num_likes  num_reposts  num_replies  civic  \\\n",
       "0       7357         2521           95  False   \n",
       "1       4325          819          145   True   \n",
       "2       3688          821          195   True   \n",
       "3       3087         1409          155   True   \n",
       "4       4956         1439           39  False   \n",
       "\n",
       "                                                                                                                                                                                                                                                                                                    text  \\\n",
       "0                                        The King of England lies dying and one of his sons has been exiled. A princess has vanished. Plague stalks the land and the Treasury has been plundered. NOW is the time for strange women lying in ponds to distribute swords to form the basis of government.   \n",
       "1                                                           that’s right. there is a lot of very good evidence that americans are just as productive with a four-day work week and much happier to boot. what’s the point of having such a wealth society if we are not going to try to benefit from it?   \n",
       "2  The hill I will die on is that this is not a digital problem. We don't send younger kids out to play by themselves anymore for fear of kidnapping/CPS, and those kids become teens who don't do it either. There's also a loss of third spaces for teens. Even the freaking malls require chaperones.   \n",
       "3                                                                    Twitter is nuking every single post that mentions the name Hans Kristian Graebener, even in quotes. Everyone that posts it is getting hit. I've never seen sitewide censorship like this done specifically on behalf of a neo nazi.   \n",
       "4                                                                                                                                                                                                                                     This is the single funniest thing that an algorithm has ever done.   \n",
       "\n",
       "                                                                      source_feed  \\\n",
       "0  https://bsky.app/profile/did:plc:tenurhgjptubkk5zf5qhi3og/feed/catch-up-weekly   \n",
       "1  https://bsky.app/profile/did:plc:tenurhgjptubkk5zf5qhi3og/feed/catch-up-weekly   \n",
       "2  https://bsky.app/profile/did:plc:tenurhgjptubkk5zf5qhi3og/feed/catch-up-weekly   \n",
       "3         https://bsky.app/profile/did:plc:tenurhgjptubkk5zf5qhi3og/feed/catch-up   \n",
       "4  https://bsky.app/profile/did:plc:tenurhgjptubkk5zf5qhi3og/feed/catch-up-weekly   \n",
       "\n",
       "               author_handle  ... label_fearmongering  prob_generalization  \\\n",
       "0   stuflemingnz.bsky.social  ...                   1             0.539647   \n",
       "1         jbouie.bsky.social  ...                   0             0.785128   \n",
       "2  lethalityjane.bsky.social  ...                   1             0.752765   \n",
       "3        esqueer.bsky.social  ...                   0             0.528855   \n",
       "4   fallonturing.bsky.social  ...                   0             0.267574   \n",
       "\n",
       "  label_generalization  prob_moral_outrage  label_moral_outrage  \\\n",
       "0                    1            0.463428                    0   \n",
       "1                    1            0.287757                    0   \n",
       "2                    1            0.439951                    0   \n",
       "3                    1            0.518986                    1   \n",
       "4                    0            0.248058                    0   \n",
       "\n",
       "   prob_scapegoating  label_scapegoating  total_engagement  \\\n",
       "0           0.433007                   0              9973   \n",
       "1           0.251855                   0              5289   \n",
       "2           0.250548                   0              4704   \n",
       "3           0.437284                   0              4651   \n",
       "4           0.198434                   0              6434   \n",
       "\n",
       "   log_total_engagement  rd_score  \n",
       "0              9.207637  9.207637  \n",
       "1              8.573384  9.073384  \n",
       "2              8.456168  8.956168  \n",
       "3              8.444838  8.944838  \n",
       "4              8.769352  8.769352  \n",
       "\n",
       "[5 rows x 40 columns]"
      ]
     },
     "execution_count": 229,
     "metadata": {},
     "output_type": "execute_result"
    }
   ],
   "source": [
    "rd_feed_df[[\"text\", \"total_engagement\", \"log_total_engagement\", \"rd_score\"]].head(10)"
   ]
  },
  {
   "cell_type": "code",
   "execution_count": null,
   "metadata": {},
   "outputs": [],
   "source": []
  }
 ],
 "metadata": {
  "kernelspec": {
   "display_name": "bluesky-research",
   "language": "python",
   "name": "python3"
  },
  "language_info": {
   "codemirror_mode": {
    "name": "ipython",
    "version": 3
   },
   "file_extension": ".py",
   "mimetype": "text/x-python",
   "name": "python",
   "nbconvert_exporter": "python",
   "pygments_lexer": "ipython3",
   "version": "3.10.13"
  }
 },
 "nbformat": 4,
 "nbformat_minor": 2
}
