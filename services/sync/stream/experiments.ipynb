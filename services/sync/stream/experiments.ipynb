{
 "cells": [
  {
   "cell_type": "markdown",
   "metadata": {},
   "source": [
    "Experiments to learn more about the data from the firehose as well as what's possible to get from the stream"
   ]
  },
  {
   "cell_type": "code",
   "execution_count": 1,
   "metadata": {},
   "outputs": [],
   "source": [
    "import peewee\n",
    "\n",
    "from services.sync.stream.database import db, Post"
   ]
  },
  {
   "cell_type": "code",
   "execution_count": 2,
   "metadata": {},
   "outputs": [
    {
     "ename": "OperationalError",
     "evalue": "Connection already opened.",
     "output_type": "error",
     "traceback": [
      "\u001b[0;31m---------------------------------------------------------------------------\u001b[0m",
      "\u001b[0;31mOperationalError\u001b[0m                          Traceback (most recent call last)",
      "Cell \u001b[0;32mIn[2], line 1\u001b[0m\n\u001b[0;32m----> 1\u001b[0m \u001b[43mdb\u001b[49m\u001b[38;5;241;43m.\u001b[39;49m\u001b[43mconnect\u001b[49m\u001b[43m(\u001b[49m\u001b[43m)\u001b[49m\n",
      "File \u001b[0;32m~/anaconda3/envs/bluesky-research/lib/python3.10/site-packages/peewee.py:3228\u001b[0m, in \u001b[0;36mDatabase.connect\u001b[0;34m(self, reuse_if_open)\u001b[0m\n\u001b[1;32m   3226\u001b[0m     \u001b[38;5;28;01mif\u001b[39;00m reuse_if_open:\n\u001b[1;32m   3227\u001b[0m         \u001b[38;5;28;01mreturn\u001b[39;00m \u001b[38;5;28;01mFalse\u001b[39;00m\n\u001b[0;32m-> 3228\u001b[0m     \u001b[38;5;28;01mraise\u001b[39;00m OperationalError(\u001b[38;5;124m'\u001b[39m\u001b[38;5;124mConnection already opened.\u001b[39m\u001b[38;5;124m'\u001b[39m)\n\u001b[1;32m   3230\u001b[0m \u001b[38;5;28mself\u001b[39m\u001b[38;5;241m.\u001b[39m_state\u001b[38;5;241m.\u001b[39mreset()\n\u001b[1;32m   3231\u001b[0m \u001b[38;5;28;01mwith\u001b[39;00m __exception_wrapper__:\n",
      "\u001b[0;31mOperationalError\u001b[0m: Connection already opened."
     ]
    }
   ],
   "source": [
    "db.connect()"
   ]
  },
  {
   "cell_type": "code",
   "execution_count": 2,
   "metadata": {},
   "outputs": [
    {
     "name": "stdout",
     "output_type": "stream",
     "text": [
      "The Post table has 94 rows.\n"
     ]
    }
   ],
   "source": [
    "# Query the Post table for the count of all rows\n",
    "post_count = Post.select().count()\n",
    "\n",
    "# Output the count\n",
    "print(f\"The Post table has {post_count} rows.\")"
   ]
  },
  {
   "cell_type": "code",
   "execution_count": 3,
   "metadata": {},
   "outputs": [
    {
     "data": {
      "text/plain": [
       "True"
      ]
     },
     "execution_count": 3,
     "metadata": {},
     "output_type": "execute_result"
    }
   ],
   "source": [
    "# Don't forget to close the database connection when done\n",
    "db.close()"
   ]
  },
  {
   "cell_type": "markdown",
   "metadata": {},
   "source": [
    "Let's see a subset of the rows in \"Post\""
   ]
  },
  {
   "cell_type": "code",
   "execution_count": 3,
   "metadata": {},
   "outputs": [],
   "source": [
    "subset_of_posts = Post.select().order_by(Post.created_at.desc()).limit(20)"
   ]
  },
  {
   "cell_type": "code",
   "execution_count": 4,
   "metadata": {},
   "outputs": [
    {
     "data": {
      "text/plain": [
       "{'__data__': {'id': 35,\n",
       "  'uri': 'at://did:plc:k4cp7wlzxrsglet3oti7qy2q/app.bsky.feed.post/3kktkmz5qxd2n',\n",
       "  'created_at': '2024-02-07T15:18:50.302Z',\n",
       "  'text': \"Slowly, I wanna work on proper Ref Sheets for the Dragon's Horde and other Synapsians important to #MindLESS Stories. For now, a bio on one of our Seeds, Blake~ Supposedly, you'll only ever see one iteration of them. I wonder which you'd see...?\",\n",
       "  'langs': 'en',\n",
       "  'entities': None,\n",
       "  'facets': 'tag:MindLESS',\n",
       "  'labels': None,\n",
       "  'reply': None,\n",
       "  'reply_parent': None,\n",
       "  'reply_root': None,\n",
       "  'tags': None,\n",
       "  'py_type': 'app.bsky.feed.post',\n",
       "  'cid': 'bafyreifc33f7badtxrw2kibpl6nmsj2zm2oyqo6i62urm2t42kyufo4gdm',\n",
       "  'author': 'did:plc:k4cp7wlzxrsglet3oti7qy2q',\n",
       "  'indexed_at': datetime.datetime(2024, 2, 7, 15, 14, 19, 205798)},\n",
       " '_dirty': set(),\n",
       " '__rel__': {}}"
      ]
     },
     "execution_count": 4,
     "metadata": {},
     "output_type": "execute_result"
    }
   ],
   "source": [
    "subset_of_posts[0].__dict__"
   ]
  },
  {
   "cell_type": "code",
   "execution_count": 5,
   "metadata": {},
   "outputs": [
    {
     "data": {
      "text/plain": [
       "{'__data__': {'id': 66,\n",
       "  'uri': 'at://did:plc:uy4q2imfi5y7v4zx36qqlj3p/app.bsky.feed.post/3kktkn7a4re2m',\n",
       "  'created_at': '2024-02-07T15:14:40.263Z',\n",
       "  'text': 'Utmost gorgeous, such a beautiful series! 😍',\n",
       "  'langs': 'en',\n",
       "  'entities': None,\n",
       "  'facets': None,\n",
       "  'labels': None,\n",
       "  'reply': \"parent=Main(cid='bafyreiajfhyfelkozctmut77bomgej6dq3frkmnjxyaefz77hmnjkgepwi', uri='at://did:plc:pr36ekeq2a55ujuvdbk6yuds/app.bsky.feed.post/3kktbcjrhq22u', py_type='com.atproto.repo.strongRef') root=Main(cid='bafyreiajfhyfelkozctmut77bomgej6dq3frkmnjxyaefz77hmnjkgepwi', uri='at://did:plc:pr36ekeq2a55ujuvdbk6yuds/app.bsky.feed.post/3kktbcjrhq22u', py_type='com.atproto.repo.strongRef') py_type='app.bsky.feed.post#replyRef'\",\n",
       "  'reply_parent': 'at://did:plc:pr36ekeq2a55ujuvdbk6yuds/app.bsky.feed.post/3kktbcjrhq22u',\n",
       "  'reply_root': 'at://did:plc:pr36ekeq2a55ujuvdbk6yuds/app.bsky.feed.post/3kktbcjrhq22u',\n",
       "  'tags': None,\n",
       "  'py_type': 'app.bsky.feed.post',\n",
       "  'cid': 'bafyreiay6ljhvod2whqqzspxj7f3zfapqleeouyp25mxuctyo4fjaitlp4',\n",
       "  'author': 'did:plc:uy4q2imfi5y7v4zx36qqlj3p',\n",
       "  'indexed_at': datetime.datetime(2024, 2, 7, 15, 14, 22, 822686)},\n",
       " '_dirty': set(),\n",
       " '__rel__': {}}"
      ]
     },
     "execution_count": 5,
     "metadata": {},
     "output_type": "execute_result"
    }
   ],
   "source": [
    "subset_of_posts[1].__dict__"
   ]
  },
  {
   "cell_type": "code",
   "execution_count": null,
   "metadata": {},
   "outputs": [],
   "source": []
  }
 ],
 "metadata": {
  "kernelspec": {
   "display_name": "bluesky-research",
   "language": "python",
   "name": "python3"
  },
  "language_info": {
   "codemirror_mode": {
    "name": "ipython",
    "version": 3
   },
   "file_extension": ".py",
   "mimetype": "text/x-python",
   "name": "python",
   "nbconvert_exporter": "python",
   "pygments_lexer": "ipython3",
   "version": "3.10.13"
  }
 },
 "nbformat": 4,
 "nbformat_minor": 2
}
