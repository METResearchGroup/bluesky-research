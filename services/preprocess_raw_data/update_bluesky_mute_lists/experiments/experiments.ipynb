{
 "cells": [
  {
   "cell_type": "markdown",
   "metadata": {},
   "source": [
    "# Filtering users who are on Bluesky mute lists\n",
    "\n",
    "Bluesky has [lists](https://docs.bsky.app/docs/tutorials/user-lists), which are lists of users. People can build lists of users for certain purposes (e.g., users who post about sports, users named \"Jake\", etc.). Bluesky has a system of [\"stackable moderation\"](https://bsky.social/about/blog/03-12-2024-stackable-moderation) and many users actively curate and maintain lists of users who, for example, post spam or NSFW content. We can subscribe to these community-curated lists in order to get the lists of users whose content we will likely want to filter out."
   ]
  },
  {
   "cell_type": "markdown",
   "metadata": {},
   "source": [
    "## 1. Setting up Bluesky"
   ]
  },
  {
   "cell_type": "code",
   "execution_count": 1,
   "metadata": {},
   "outputs": [],
   "source": [
    "from lib.helper import client"
   ]
  },
  {
   "cell_type": "code",
   "execution_count": 25,
   "metadata": {},
   "outputs": [],
   "source": [
    "from transform.bluesky_helper import get_author_did_from_handle"
   ]
  },
  {
   "cell_type": "code",
   "execution_count": 26,
   "metadata": {},
   "outputs": [
    {
     "name": "stderr",
     "output_type": "stream",
     "text": [
      "HTTP Request: GET https://bsky.social/xrpc/app.bsky.actor.getProfile?actor=nickwrightdata.ntw.app \"HTTP/1.1 200 OK\"\n"
     ]
    }
   ],
   "source": [
    "handle = \"nickwrightdata.ntw.app\"\n",
    "author_did = get_author_did_from_handle(handle)"
   ]
  },
  {
   "cell_type": "code",
   "execution_count": 27,
   "metadata": {},
   "outputs": [
    {
     "data": {
      "text/plain": [
       "'did:plc:7allko6vtrpvyxxcd5beapou'"
      ]
     },
     "execution_count": 27,
     "metadata": {},
     "output_type": "execute_result"
    }
   ],
   "source": [
    "author_did"
   ]
  },
  {
   "cell_type": "markdown",
   "metadata": {},
   "source": [
    "## 2. Toying around with the API"
   ]
  },
  {
   "cell_type": "code",
   "execution_count": 28,
   "metadata": {},
   "outputs": [],
   "source": [
    "params_dict = {\"actor\": author_did}"
   ]
  },
  {
   "cell_type": "code",
   "execution_count": 29,
   "metadata": {},
   "outputs": [
    {
     "name": "stderr",
     "output_type": "stream",
     "text": [
      "HTTP Request: GET https://bsky.social/xrpc/app.bsky.graph.getLists?actor=did%3Aplc%3A7allko6vtrpvyxxcd5beapou&limit=50 \"HTTP/1.1 200 OK\"\n"
     ]
    }
   ],
   "source": [
    "mutelist = client.app.bsky.graph.get_lists(params=params_dict)"
   ]
  },
  {
   "cell_type": "code",
   "execution_count": 30,
   "metadata": {},
   "outputs": [
    {
     "data": {
      "text/plain": [
       "Response(lists=[ListView(cid='bafyreifnizypcscq24ecse5a2wsphdtkopvar3s3a3x2c7cmhs6awsnaua', creator=ProfileView(did='did:plc:7allko6vtrpvyxxcd5beapou', handle='nickwrightdata.ntw.app', avatar='https://cdn.bsky.app/img/avatar/plain/did:plc:7allko6vtrpvyxxcd5beapou/bafkreibpxlcmt2kd7ezc3jsv3pdcnwmgveax745veovdxfbjpvunxyl6kq@jpeg', description='Me: ✝️👨\\u200d👩♾️📊👨🏻\\u200d💻🔬⚖️📍🌱👨🏻\\u200d🚀🤖🎮🔭📍CO, 🇺🇸\\n\\n🧑🏻\\u200d💻Creator of @nowbreezing.ntw.app\\n💬 nickwrightdata.01\\n☕ https://ko-fi.com/nickwrightdata\\n\\n-Looking forward to someone seeing 30+ \"new notifications\" on a Desktop tab after opening my account lol', display_name='(30+) Nick † Wright', indexed_at='2024-04-08T13:29:58.343Z', labels=[], viewer=ViewerState(blocked_by=False, blocking=None, blocking_by_list=None, followed_by=None, following=None, muted=False, muted_by_list=None, py_type='app.bsky.actor.defs#viewerState'), py_type='app.bsky.actor.defs#profileView'), indexed_at='2024-03-03T02:20:39.354Z', name=\"Keep Out of Ratio'd Feed\", purpose='app.bsky.graph.defs#curatelist', uri='at://did:plc:7allko6vtrpvyxxcd5beapou/app.bsky.graph.list/3kmr32obinz2q', avatar=None, description='This is a list of accounts that often give \"false ratios\". This may happen due to a number of reasons:\\n-people asking great questions and lots of other people answer happily\\n-someone creating a thread in a \"one-to-many\" reply style\\n-bots being bots', description_facets=None, viewer=ListViewerState(blocked=None, muted=False, py_type='app.bsky.graph.defs#listViewerState'), py_type='app.bsky.graph.defs#listView', labels=[]), ListView(cid='bafyreibgxamuro3qar76eftnliz6terjfqyi5ca76owaroqyifbw6m3y34', creator=ProfileView(did='did:plc:7allko6vtrpvyxxcd5beapou', handle='nickwrightdata.ntw.app', avatar='https://cdn.bsky.app/img/avatar/plain/did:plc:7allko6vtrpvyxxcd5beapou/bafkreibpxlcmt2kd7ezc3jsv3pdcnwmgveax745veovdxfbjpvunxyl6kq@jpeg', description='Me: ✝️👨\\u200d👩♾️📊👨🏻\\u200d💻🔬⚖️📍🌱👨🏻\\u200d🚀🤖🎮🔭📍CO, 🇺🇸\\n\\n🧑🏻\\u200d💻Creator of @nowbreezing.ntw.app\\n💬 nickwrightdata.01\\n☕ https://ko-fi.com/nickwrightdata\\n\\n-Looking forward to someone seeing 30+ \"new notifications\" on a Desktop tab after opening my account lol', display_name='(30+) Nick † Wright', indexed_at='2024-04-08T13:29:58.343Z', labels=[], viewer=ViewerState(blocked_by=False, blocking=None, blocking_by_list=None, followed_by=None, following=None, muted=False, muted_by_list=None, py_type='app.bsky.actor.defs#viewerState'), py_type='app.bsky.actor.defs#profileView'), indexed_at='2024-03-02T23:41:20.256Z', name='❌Red Triangle', purpose='app.bsky.graph.defs#modlist', uri='at://did:plc:7allko6vtrpvyxxcd5beapou/app.bsky.graph.list/3kmqs5s4q632b', avatar=None, description='e.g. 🔻 or 🔺 in bio/name/etc', description_facets=None, viewer=ListViewerState(blocked=None, muted=False, py_type='app.bsky.graph.defs#listViewerState'), py_type='app.bsky.graph.defs#listView', labels=[]), ListView(cid='bafyreifsw2wzspnlmp7a2mof5ytqtqyl22lvv3jwmlnawzko5rsfyx5ez4', creator=ProfileView(did='did:plc:7allko6vtrpvyxxcd5beapou', handle='nickwrightdata.ntw.app', avatar='https://cdn.bsky.app/img/avatar/plain/did:plc:7allko6vtrpvyxxcd5beapou/bafkreibpxlcmt2kd7ezc3jsv3pdcnwmgveax745veovdxfbjpvunxyl6kq@jpeg', description='Me: ✝️👨\\u200d👩♾️📊👨🏻\\u200d💻🔬⚖️📍🌱👨🏻\\u200d🚀🤖🎮🔭📍CO, 🇺🇸\\n\\n🧑🏻\\u200d💻Creator of @nowbreezing.ntw.app\\n💬 nickwrightdata.01\\n☕ https://ko-fi.com/nickwrightdata\\n\\n-Looking forward to someone seeing 30+ \"new notifications\" on a Desktop tab after opening my account lol', display_name='(30+) Nick † Wright', indexed_at='2024-04-08T13:29:58.343Z', labels=[], viewer=ViewerState(blocked_by=False, blocking=None, blocking_by_list=None, followed_by=None, following=None, muted=False, muted_by_list=None, py_type='app.bsky.actor.defs#viewerState'), py_type='app.bsky.actor.defs#profileView'), indexed_at='2024-02-22T19:19:27.460Z', name='❌Revenge Fantasists', purpose='app.bsky.graph.defs#modlist', uri='at://did:plc:7allko6vtrpvyxxcd5beapou/app.bsky.graph.list/3klzpdabrw22i', avatar=None, description='', description_facets=None, viewer=ListViewerState(blocked=None, muted=False, py_type='app.bsky.graph.defs#listViewerState'), py_type='app.bsky.graph.defs#listView', labels=[]), ListView(cid='bafyreidyib5mdq42nnpuu6pv5bcbq4uwxslolwxwscb3jm2ipgolxbxydm', creator=ProfileView(did='did:plc:7allko6vtrpvyxxcd5beapou', handle='nickwrightdata.ntw.app', avatar='https://cdn.bsky.app/img/avatar/plain/did:plc:7allko6vtrpvyxxcd5beapou/bafkreibpxlcmt2kd7ezc3jsv3pdcnwmgveax745veovdxfbjpvunxyl6kq@jpeg', description='Me: ✝️👨\\u200d👩♾️📊👨🏻\\u200d💻🔬⚖️📍🌱👨🏻\\u200d🚀🤖🎮🔭📍CO, 🇺🇸\\n\\n🧑🏻\\u200d💻Creator of @nowbreezing.ntw.app\\n💬 nickwrightdata.01\\n☕ https://ko-fi.com/nickwrightdata\\n\\n-Looking forward to someone seeing 30+ \"new notifications\" on a Desktop tab after opening my account lol', display_name='(30+) Nick † Wright', indexed_at='2024-04-08T13:29:58.343Z', labels=[], viewer=ViewerState(blocked_by=False, blocking=None, blocking_by_list=None, followed_by=None, following=None, muted=False, muted_by_list=None, py_type='app.bsky.actor.defs#viewerState'), py_type='app.bsky.actor.defs#profileView'), indexed_at='2023-11-14T19:41:51.715Z', name='🪗 \"Weird Al\" Yankovic', purpose='app.bsky.graph.defs#curatelist', uri='at://did:plc:7allko6vtrpvyxxcd5beapou/app.bsky.graph.list/3ke6bx7ck622w', avatar=None, description='', description_facets=None, viewer=ListViewerState(blocked=None, muted=False, py_type='app.bsky.graph.defs#listViewerState'), py_type='app.bsky.graph.defs#listView', labels=[]), ListView(cid='bafyreiawwrlsxsmvh2vswbr7qstxew22ehmjjsyn5c3esa4b6pqkrbudhq', creator=ProfileView(did='did:plc:7allko6vtrpvyxxcd5beapou', handle='nickwrightdata.ntw.app', avatar='https://cdn.bsky.app/img/avatar/plain/did:plc:7allko6vtrpvyxxcd5beapou/bafkreibpxlcmt2kd7ezc3jsv3pdcnwmgveax745veovdxfbjpvunxyl6kq@jpeg', description='Me: ✝️👨\\u200d👩♾️📊👨🏻\\u200d💻🔬⚖️📍🌱👨🏻\\u200d🚀🤖🎮🔭📍CO, 🇺🇸\\n\\n🧑🏻\\u200d💻Creator of @nowbreezing.ntw.app\\n💬 nickwrightdata.01\\n☕ https://ko-fi.com/nickwrightdata\\n\\n-Looking forward to someone seeing 30+ \"new notifications\" on a Desktop tab after opening my account lol', display_name='(30+) Nick † Wright', indexed_at='2024-04-08T13:29:58.343Z', labels=[], viewer=ViewerState(blocked_by=False, blocking=None, blocking_by_list=None, followed_by=None, following=None, muted=False, muted_by_list=None, py_type='app.bsky.actor.defs#viewerState'), py_type='app.bsky.actor.defs#profileView'), indexed_at='2023-11-13T23:23:05.352Z', name='🌿 Self-Reliance & Community-Reliance', purpose='app.bsky.graph.defs#curatelist', uri='at://did:plc:7allko6vtrpvyxxcd5beapou/app.bsky.graph.list/3ke45tvf4bs2m', avatar=None, description=\"You'll want to know these people if the corporations all collapse.\", description_facets=None, viewer=ListViewerState(blocked=None, muted=False, py_type='app.bsky.graph.defs#listViewerState'), py_type='app.bsky.graph.defs#listView', labels=[]), ListView(cid='bafyreifsfmllodrlpkixs3uruwlfirinuj2y2xgc4cvpc5so3q6lmbgjwq', creator=ProfileView(did='did:plc:7allko6vtrpvyxxcd5beapou', handle='nickwrightdata.ntw.app', avatar='https://cdn.bsky.app/img/avatar/plain/did:plc:7allko6vtrpvyxxcd5beapou/bafkreibpxlcmt2kd7ezc3jsv3pdcnwmgveax745veovdxfbjpvunxyl6kq@jpeg', description='Me: ✝️👨\\u200d👩♾️📊👨🏻\\u200d💻🔬⚖️📍🌱👨🏻\\u200d🚀🤖🎮🔭📍CO, 🇺🇸\\n\\n🧑🏻\\u200d💻Creator of @nowbreezing.ntw.app\\n💬 nickwrightdata.01\\n☕ https://ko-fi.com/nickwrightdata\\n\\n-Looking forward to someone seeing 30+ \"new notifications\" on a Desktop tab after opening my account lol', display_name='(30+) Nick † Wright', indexed_at='2024-04-08T13:29:58.343Z', labels=[], viewer=ViewerState(blocked_by=False, blocking=None, blocking_by_list=None, followed_by=None, following=None, muted=False, muted_by_list=None, py_type='app.bsky.actor.defs#viewerState'), py_type='app.bsky.actor.defs#profileView'), indexed_at='2023-11-13T21:43:22.111Z', name='✞ Christianity', purpose='app.bsky.graph.defs#curatelist', uri='at://did:plc:7allko6vtrpvyxxcd5beapou/app.bsky.graph.list/3ke3yblixxs2p', avatar=None, description='', description_facets=None, viewer=ListViewerState(blocked=None, muted=False, py_type='app.bsky.graph.defs#listViewerState'), py_type='app.bsky.graph.defs#listView', labels=[]), ListView(cid='bafyreig6bqp3digjafz4k7cc3j3gtsglbbh4vkhh74l75zens5z4d5vbkq', creator=ProfileView(did='did:plc:7allko6vtrpvyxxcd5beapou', handle='nickwrightdata.ntw.app', avatar='https://cdn.bsky.app/img/avatar/plain/did:plc:7allko6vtrpvyxxcd5beapou/bafkreibpxlcmt2kd7ezc3jsv3pdcnwmgveax745veovdxfbjpvunxyl6kq@jpeg', description='Me: ✝️👨\\u200d👩♾️📊👨🏻\\u200d💻🔬⚖️📍🌱👨🏻\\u200d🚀🤖🎮🔭📍CO, 🇺🇸\\n\\n🧑🏻\\u200d💻Creator of @nowbreezing.ntw.app\\n💬 nickwrightdata.01\\n☕ https://ko-fi.com/nickwrightdata\\n\\n-Looking forward to someone seeing 30+ \"new notifications\" on a Desktop tab after opening my account lol', display_name='(30+) Nick † Wright', indexed_at='2024-04-08T13:29:58.343Z', labels=[], viewer=ViewerState(blocked_by=False, blocking=None, blocking_by_list=None, followed_by=None, following=None, muted=False, muted_by_list=None, py_type='app.bsky.actor.defs#viewerState'), py_type='app.bsky.actor.defs#profileView'), indexed_at='2023-11-13T21:32:57.695Z', name='🎅 NICKS', purpose='app.bsky.graph.defs#curatelist', uri='at://did:plc:7allko6vtrpvyxxcd5beapou/app.bsky.graph.list/3ke3xoxwiut2f', avatar=None, description='', description_facets=None, viewer=ListViewerState(blocked=None, muted=False, py_type='app.bsky.graph.defs#listViewerState'), py_type='app.bsky.graph.defs#listView', labels=[]), ListView(cid='bafyreihtjnoh5ckq4uiny3hg35dbbm7v3hu5wu2q3rbrmpfo572qfoz6hm', creator=ProfileView(did='did:plc:7allko6vtrpvyxxcd5beapou', handle='nickwrightdata.ntw.app', avatar='https://cdn.bsky.app/img/avatar/plain/did:plc:7allko6vtrpvyxxcd5beapou/bafkreibpxlcmt2kd7ezc3jsv3pdcnwmgveax745veovdxfbjpvunxyl6kq@jpeg', description='Me: ✝️👨\\u200d👩♾️📊👨🏻\\u200d💻🔬⚖️📍🌱👨🏻\\u200d🚀🤖🎮🔭📍CO, 🇺🇸\\n\\n🧑🏻\\u200d💻Creator of @nowbreezing.ntw.app\\n💬 nickwrightdata.01\\n☕ https://ko-fi.com/nickwrightdata\\n\\n-Looking forward to someone seeing 30+ \"new notifications\" on a Desktop tab after opening my account lol', display_name='(30+) Nick † Wright', indexed_at='2024-04-08T13:29:58.343Z', labels=[], viewer=ViewerState(blocked_by=False, blocking=None, blocking_by_list=None, followed_by=None, following=None, muted=False, muted_by_list=None, py_type='app.bsky.actor.defs#viewerState'), py_type='app.bsky.actor.defs#profileView'), indexed_at='2023-11-13T20:51:23.535Z', name='🌫️ Fog of World', purpose='app.bsky.graph.defs#curatelist', uri='at://did:plc:7allko6vtrpvyxxcd5beapou/app.bsky.graph.list/3ke3vend6h223', avatar=None, description='', description_facets=None, viewer=ListViewerState(blocked=None, muted=False, py_type='app.bsky.graph.defs#listViewerState'), py_type='app.bsky.graph.defs#listView', labels=[]), ListView(cid='bafyreihhsb5yzerm4nnjax2b4phw77z4kxtucix53fmfu6hlqkt2pm3xlq', creator=ProfileView(did='did:plc:7allko6vtrpvyxxcd5beapou', handle='nickwrightdata.ntw.app', avatar='https://cdn.bsky.app/img/avatar/plain/did:plc:7allko6vtrpvyxxcd5beapou/bafkreibpxlcmt2kd7ezc3jsv3pdcnwmgveax745veovdxfbjpvunxyl6kq@jpeg', description='Me: ✝️👨\\u200d👩♾️📊👨🏻\\u200d💻🔬⚖️📍🌱👨🏻\\u200d🚀🤖🎮🔭📍CO, 🇺🇸\\n\\n🧑🏻\\u200d💻Creator of @nowbreezing.ntw.app\\n💬 nickwrightdata.01\\n☕ https://ko-fi.com/nickwrightdata\\n\\n-Looking forward to someone seeing 30+ \"new notifications\" on a Desktop tab after opening my account lol', display_name='(30+) Nick † Wright', indexed_at='2024-04-08T13:29:58.343Z', labels=[], viewer=ViewerState(blocked_by=False, blocking=None, blocking_by_list=None, followed_by=None, following=None, muted=False, muted_by_list=None, py_type='app.bsky.actor.defs#viewerState'), py_type='app.bsky.actor.defs#profileView'), indexed_at='2023-11-13T20:44:11.315Z', name='🦸\\u200d♂️ My Adventures w/ Superman', purpose='app.bsky.graph.defs#curatelist', uri='at://did:plc:7allko6vtrpvyxxcd5beapou/app.bsky.graph.list/3ke3uxr4nrd2z', avatar=None, description='', description_facets=None, viewer=ListViewerState(blocked=None, muted=False, py_type='app.bsky.graph.defs#listViewerState'), py_type='app.bsky.graph.defs#listView', labels=[]), ListView(cid='bafyreieuzx52dlm7vcakvlmovqmnkffagps56nehtmkoam6yg64qdof4d4', creator=ProfileView(did='did:plc:7allko6vtrpvyxxcd5beapou', handle='nickwrightdata.ntw.app', avatar='https://cdn.bsky.app/img/avatar/plain/did:plc:7allko6vtrpvyxxcd5beapou/bafkreibpxlcmt2kd7ezc3jsv3pdcnwmgveax745veovdxfbjpvunxyl6kq@jpeg', description='Me: ✝️👨\\u200d👩♾️📊👨🏻\\u200d💻🔬⚖️📍🌱👨🏻\\u200d🚀🤖🎮🔭📍CO, 🇺🇸\\n\\n🧑🏻\\u200d💻Creator of @nowbreezing.ntw.app\\n💬 nickwrightdata.01\\n☕ https://ko-fi.com/nickwrightdata\\n\\n-Looking forward to someone seeing 30+ \"new notifications\" on a Desktop tab after opening my account lol', display_name='(30+) Nick † Wright', indexed_at='2024-04-08T13:29:58.343Z', labels=[], viewer=ViewerState(blocked_by=False, blocking=None, blocking_by_list=None, followed_by=None, following=None, muted=False, muted_by_list=None, py_type='app.bsky.actor.defs#viewerState'), py_type='app.bsky.actor.defs#profileView'), indexed_at='2023-11-13T20:37:54.559Z', name='📚 Education', purpose='app.bsky.graph.defs#curatelist', uri='at://did:plc:7allko6vtrpvyxxcd5beapou/app.bsky.graph.list/3ke3umjynmt2d', avatar=None, description='', description_facets=None, viewer=ListViewerState(blocked=None, muted=False, py_type='app.bsky.graph.defs#listViewerState'), py_type='app.bsky.graph.defs#listView', labels=[]), ListView(cid='bafyreicjmlhb66uvm3i5p3em4vmz75nm5bfelcwipsuo4gz5xmaeluwfvi', creator=ProfileView(did='did:plc:7allko6vtrpvyxxcd5beapou', handle='nickwrightdata.ntw.app', avatar='https://cdn.bsky.app/img/avatar/plain/did:plc:7allko6vtrpvyxxcd5beapou/bafkreibpxlcmt2kd7ezc3jsv3pdcnwmgveax745veovdxfbjpvunxyl6kq@jpeg', description='Me: ✝️👨\\u200d👩♾️📊👨🏻\\u200d💻🔬⚖️📍🌱👨🏻\\u200d🚀🤖🎮🔭📍CO, 🇺🇸\\n\\n🧑🏻\\u200d💻Creator of @nowbreezing.ntw.app\\n💬 nickwrightdata.01\\n☕ https://ko-fi.com/nickwrightdata\\n\\n-Looking forward to someone seeing 30+ \"new notifications\" on a Desktop tab after opening my account lol', display_name='(30+) Nick † Wright', indexed_at='2024-04-08T13:29:58.343Z', labels=[], viewer=ViewerState(blocked_by=False, blocking=None, blocking_by_list=None, followed_by=None, following=None, muted=False, muted_by_list=None, py_type='app.bsky.actor.defs#viewerState'), py_type='app.bsky.actor.defs#profileView'), indexed_at='2023-11-13T01:34:52.638Z', name='😊Earnestposting', purpose='app.bsky.graph.defs#curatelist', uri='at://did:plc:7allko6vtrpvyxxcd5beapou/app.bsky.graph.list/3kdzuqo7abk2p', avatar=None, description='', description_facets=None, viewer=ListViewerState(blocked=None, muted=False, py_type='app.bsky.graph.defs#listViewerState'), py_type='app.bsky.graph.defs#listView', labels=[]), ListView(cid='bafyreidnivqdi7vzlqlzhiilrw2sas2qxkzm4hqlvvrfhj2tk5u7vvxezm', creator=ProfileView(did='did:plc:7allko6vtrpvyxxcd5beapou', handle='nickwrightdata.ntw.app', avatar='https://cdn.bsky.app/img/avatar/plain/did:plc:7allko6vtrpvyxxcd5beapou/bafkreibpxlcmt2kd7ezc3jsv3pdcnwmgveax745veovdxfbjpvunxyl6kq@jpeg', description='Me: ✝️👨\\u200d👩♾️📊👨🏻\\u200d💻🔬⚖️📍🌱👨🏻\\u200d🚀🤖🎮🔭📍CO, 🇺🇸\\n\\n🧑🏻\\u200d💻Creator of @nowbreezing.ntw.app\\n💬 nickwrightdata.01\\n☕ https://ko-fi.com/nickwrightdata\\n\\n-Looking forward to someone seeing 30+ \"new notifications\" on a Desktop tab after opening my account lol', display_name='(30+) Nick † Wright', indexed_at='2024-04-08T13:29:58.343Z', labels=[], viewer=ViewerState(blocked_by=False, blocking=None, blocking_by_list=None, followed_by=None, following=None, muted=False, muted_by_list=None, py_type='app.bsky.actor.defs#viewerState'), py_type='app.bsky.actor.defs#profileView'), indexed_at='2023-11-13T00:57:05.717Z', name='🪐Astronomy/Astrophotography', purpose='app.bsky.graph.defs#curatelist', uri='at://did:plc:7allko6vtrpvyxxcd5beapou/app.bsky.graph.list/3kdzsn3rnz42u', avatar=None, description='', description_facets=None, viewer=ListViewerState(blocked=None, muted=False, py_type='app.bsky.graph.defs#listViewerState'), py_type='app.bsky.graph.defs#listView', labels=[]), ListView(cid='bafyreiguz5o5qmzbkgqgovpzobv3phrf7f2sxhqvgzt6murtu6fi75f22u', creator=ProfileView(did='did:plc:7allko6vtrpvyxxcd5beapou', handle='nickwrightdata.ntw.app', avatar='https://cdn.bsky.app/img/avatar/plain/did:plc:7allko6vtrpvyxxcd5beapou/bafkreibpxlcmt2kd7ezc3jsv3pdcnwmgveax745veovdxfbjpvunxyl6kq@jpeg', description='Me: ✝️👨\\u200d👩♾️📊👨🏻\\u200d💻🔬⚖️📍🌱👨🏻\\u200d🚀🤖🎮🔭📍CO, 🇺🇸\\n\\n🧑🏻\\u200d💻Creator of @nowbreezing.ntw.app\\n💬 nickwrightdata.01\\n☕ https://ko-fi.com/nickwrightdata\\n\\n-Looking forward to someone seeing 30+ \"new notifications\" on a Desktop tab after opening my account lol', display_name='(30+) Nick † Wright', indexed_at='2024-04-08T13:29:58.343Z', labels=[], viewer=ViewerState(blocked_by=False, blocking=None, blocking_by_list=None, followed_by=None, following=None, muted=False, muted_by_list=None, py_type='app.bsky.actor.defs#viewerState'), py_type='app.bsky.actor.defs#profileView'), indexed_at='2023-11-13T00:33:18.598Z', name='💀The Funny', purpose='app.bsky.graph.defs#curatelist', uri='at://did:plc:7allko6vtrpvyxxcd5beapou/app.bsky.graph.list/3kdzrckr5dt2e', avatar=None, description='', description_facets=None, viewer=ListViewerState(blocked=None, muted=False, py_type='app.bsky.graph.defs#listViewerState'), py_type='app.bsky.graph.defs#listView', labels=[]), ListView(cid='bafyreid6wcfruzn5z3gsbjn6vgtb5ysmiyusli2t6ffuy35qx5kf2phrgm', creator=ProfileView(did='did:plc:7allko6vtrpvyxxcd5beapou', handle='nickwrightdata.ntw.app', avatar='https://cdn.bsky.app/img/avatar/plain/did:plc:7allko6vtrpvyxxcd5beapou/bafkreibpxlcmt2kd7ezc3jsv3pdcnwmgveax745veovdxfbjpvunxyl6kq@jpeg', description='Me: ✝️👨\\u200d👩♾️📊👨🏻\\u200d💻🔬⚖️📍🌱👨🏻\\u200d🚀🤖🎮🔭📍CO, 🇺🇸\\n\\n🧑🏻\\u200d💻Creator of @nowbreezing.ntw.app\\n💬 nickwrightdata.01\\n☕ https://ko-fi.com/nickwrightdata\\n\\n-Looking forward to someone seeing 30+ \"new notifications\" on a Desktop tab after opening my account lol', display_name='(30+) Nick † Wright', indexed_at='2024-04-08T13:29:58.343Z', labels=[], viewer=ViewerState(blocked_by=False, blocking=None, blocking_by_list=None, followed_by=None, following=None, muted=False, muted_by_list=None, py_type='app.bsky.actor.defs#viewerState'), py_type='app.bsky.actor.defs#profileView'), indexed_at='2023-11-13T00:18:20.006Z', name='🎮Video Games', purpose='app.bsky.graph.defs#curatelist', uri='at://did:plc:7allko6vtrpvyxxcd5beapou/app.bsky.graph.list/3kdzqhrrugc2p', avatar=None, description='Vidya, etcetera', description_facets=None, viewer=ListViewerState(blocked=None, muted=False, py_type='app.bsky.graph.defs#listViewerState'), py_type='app.bsky.graph.defs#listView', labels=[]), ListView(cid='bafyreibiqqmclbl6jrnmx5x5d5vssuynncspvwd3mzuughj2y5yr2vvjeu', creator=ProfileView(did='did:plc:7allko6vtrpvyxxcd5beapou', handle='nickwrightdata.ntw.app', avatar='https://cdn.bsky.app/img/avatar/plain/did:plc:7allko6vtrpvyxxcd5beapou/bafkreibpxlcmt2kd7ezc3jsv3pdcnwmgveax745veovdxfbjpvunxyl6kq@jpeg', description='Me: ✝️👨\\u200d👩♾️📊👨🏻\\u200d💻🔬⚖️📍🌱👨🏻\\u200d🚀🤖🎮🔭📍CO, 🇺🇸\\n\\n🧑🏻\\u200d💻Creator of @nowbreezing.ntw.app\\n💬 nickwrightdata.01\\n☕ https://ko-fi.com/nickwrightdata\\n\\n-Looking forward to someone seeing 30+ \"new notifications\" on a Desktop tab after opening my account lol', display_name='(30+) Nick † Wright', indexed_at='2024-04-08T13:29:58.343Z', labels=[], viewer=ViewerState(blocked_by=False, blocking=None, blocking_by_list=None, followed_by=None, following=None, muted=False, muted_by_list=None, py_type='app.bsky.actor.defs#viewerState'), py_type='app.bsky.actor.defs#profileView'), indexed_at='2023-11-12T23:59:43.005Z', name='⚖️Justice', purpose='app.bsky.graph.defs#curatelist', uri='at://did:plc:7allko6vtrpvyxxcd5beapou/app.bsky.graph.list/3kdzpgiuqnk2r', avatar=None, description='', description_facets=None, viewer=ListViewerState(blocked=None, muted=False, py_type='app.bsky.graph.defs#listViewerState'), py_type='app.bsky.graph.defs#listView', labels=[]), ListView(cid='bafyreigcuzutrepagtmv3etiuknpa3aztjrbi3bng72sm4mp26jtq5qzxe', creator=ProfileView(did='did:plc:7allko6vtrpvyxxcd5beapou', handle='nickwrightdata.ntw.app', avatar='https://cdn.bsky.app/img/avatar/plain/did:plc:7allko6vtrpvyxxcd5beapou/bafkreibpxlcmt2kd7ezc3jsv3pdcnwmgveax745veovdxfbjpvunxyl6kq@jpeg', description='Me: ✝️👨\\u200d👩♾️📊👨🏻\\u200d💻🔬⚖️📍🌱👨🏻\\u200d🚀🤖🎮🔭📍CO, 🇺🇸\\n\\n🧑🏻\\u200d💻Creator of @nowbreezing.ntw.app\\n💬 nickwrightdata.01\\n☕ https://ko-fi.com/nickwrightdata\\n\\n-Looking forward to someone seeing 30+ \"new notifications\" on a Desktop tab after opening my account lol', display_name='(30+) Nick † Wright', indexed_at='2024-04-08T13:29:58.343Z', labels=[], viewer=ViewerState(blocked_by=False, blocking=None, blocking_by_list=None, followed_by=None, following=None, muted=False, muted_by_list=None, py_type='app.bsky.actor.defs#viewerState'), py_type='app.bsky.actor.defs#profileView'), indexed_at='2023-11-12T23:55:45.946Z', name='💥Comics', purpose='app.bsky.graph.defs#curatelist', uri='at://did:plc:7allko6vtrpvyxxcd5beapou/app.bsky.graph.list/3kdzp7gvo4l2f', avatar=None, description='', description_facets=None, viewer=ListViewerState(blocked=None, muted=False, py_type='app.bsky.graph.defs#listViewerState'), py_type='app.bsky.graph.defs#listView', labels=[]), ListView(cid='bafyreidhgj276bmbd2pwmvaujdoouzjjkmrxn6qmi5h27k7kncorrrlwx4', creator=ProfileView(did='did:plc:7allko6vtrpvyxxcd5beapou', handle='nickwrightdata.ntw.app', avatar='https://cdn.bsky.app/img/avatar/plain/did:plc:7allko6vtrpvyxxcd5beapou/bafkreibpxlcmt2kd7ezc3jsv3pdcnwmgveax745veovdxfbjpvunxyl6kq@jpeg', description='Me: ✝️👨\\u200d👩♾️📊👨🏻\\u200d💻🔬⚖️📍🌱👨🏻\\u200d🚀🤖🎮🔭📍CO, 🇺🇸\\n\\n🧑🏻\\u200d💻Creator of @nowbreezing.ntw.app\\n💬 nickwrightdata.01\\n☕ https://ko-fi.com/nickwrightdata\\n\\n-Looking forward to someone seeing 30+ \"new notifications\" on a Desktop tab after opening my account lol', display_name='(30+) Nick † Wright', indexed_at='2024-04-08T13:29:58.343Z', labels=[], viewer=ViewerState(blocked_by=False, blocking=None, blocking_by_list=None, followed_by=None, following=None, muted=False, muted_by_list=None, py_type='app.bsky.actor.defs#viewerState'), py_type='app.bsky.actor.defs#profileView'), indexed_at='2023-11-12T21:59:29.934Z', name='📺TV/🎬Movies/🪗Entertainment', purpose='app.bsky.graph.defs#curatelist', uri='at://did:plc:7allko6vtrpvyxxcd5beapou/app.bsky.graph.list/3kdzipiv2cc2p', avatar=None, description=\"Havin' a good time!\", description_facets=None, viewer=ListViewerState(blocked=None, muted=False, py_type='app.bsky.graph.defs#listViewerState'), py_type='app.bsky.graph.defs#listView', labels=[]), ListView(cid='bafyreibffdj4lgrjl3wfzdpwtnxttym2m3w5uxad6zsau5u3lwx2mb4bqq', creator=ProfileView(did='did:plc:7allko6vtrpvyxxcd5beapou', handle='nickwrightdata.ntw.app', avatar='https://cdn.bsky.app/img/avatar/plain/did:plc:7allko6vtrpvyxxcd5beapou/bafkreibpxlcmt2kd7ezc3jsv3pdcnwmgveax745veovdxfbjpvunxyl6kq@jpeg', description='Me: ✝️👨\\u200d👩♾️📊👨🏻\\u200d💻🔬⚖️📍🌱👨🏻\\u200d🚀🤖🎮🔭📍CO, 🇺🇸\\n\\n🧑🏻\\u200d💻Creator of @nowbreezing.ntw.app\\n💬 nickwrightdata.01\\n☕ https://ko-fi.com/nickwrightdata\\n\\n-Looking forward to someone seeing 30+ \"new notifications\" on a Desktop tab after opening my account lol', display_name='(30+) Nick † Wright', indexed_at='2024-04-08T13:29:58.343Z', labels=[], viewer=ViewerState(blocked_by=False, blocking=None, blocking_by_list=None, followed_by=None, following=None, muted=False, muted_by_list=None, py_type='app.bsky.actor.defs#viewerState'), py_type='app.bsky.actor.defs#profileView'), indexed_at='2023-11-07T02:19:53.097Z', name='❌Thinks Israel is justified in slaughter of Palestinians', purpose='app.bsky.graph.defs#modlist', uri='at://did:plc:7allko6vtrpvyxxcd5beapou/app.bsky.graph.list/3kdkuhkdesq2g', avatar=None, description='', description_facets=None, viewer=ListViewerState(blocked=None, muted=False, py_type='app.bsky.graph.defs#listViewerState'), py_type='app.bsky.graph.defs#listView', labels=[]), ListView(cid='bafyreia46w2juzlv5lrk77hutcigdqeqdbgvxle6qnh6slesq3iifgy5ze', creator=ProfileView(did='did:plc:7allko6vtrpvyxxcd5beapou', handle='nickwrightdata.ntw.app', avatar='https://cdn.bsky.app/img/avatar/plain/did:plc:7allko6vtrpvyxxcd5beapou/bafkreibpxlcmt2kd7ezc3jsv3pdcnwmgveax745veovdxfbjpvunxyl6kq@jpeg', description='Me: ✝️👨\\u200d👩♾️📊👨🏻\\u200d💻🔬⚖️📍🌱👨🏻\\u200d🚀🤖🎮🔭📍CO, 🇺🇸\\n\\n🧑🏻\\u200d💻Creator of @nowbreezing.ntw.app\\n💬 nickwrightdata.01\\n☕ https://ko-fi.com/nickwrightdata\\n\\n-Looking forward to someone seeing 30+ \"new notifications\" on a Desktop tab after opening my account lol', display_name='(30+) Nick † Wright', indexed_at='2024-04-08T13:29:58.343Z', labels=[], viewer=ViewerState(blocked_by=False, blocking=None, blocking_by_list=None, followed_by=None, following=None, muted=False, muted_by_list=None, py_type='app.bsky.actor.defs#viewerState'), py_type='app.bsky.actor.defs#profileView'), indexed_at='2023-11-07T00:01:32.064Z', name='🗞️News', purpose='app.bsky.graph.defs#curatelist', uri='at://did:plc:7allko6vtrpvyxxcd5beapou/app.bsky.graph.list/3kdkmq6w7hi2x', avatar=None, description='Reporters, organizations, etc.', description_facets=None, viewer=ListViewerState(blocked=None, muted=False, py_type='app.bsky.graph.defs#listViewerState'), py_type='app.bsky.graph.defs#listView', labels=[]), ListView(cid='bafyreia7bzyvxjbltcn3bk2sq3b2xuxbc7srmkpl3mhk47liapf7bpqc2m', creator=ProfileView(did='did:plc:7allko6vtrpvyxxcd5beapou', handle='nickwrightdata.ntw.app', avatar='https://cdn.bsky.app/img/avatar/plain/did:plc:7allko6vtrpvyxxcd5beapou/bafkreibpxlcmt2kd7ezc3jsv3pdcnwmgveax745veovdxfbjpvunxyl6kq@jpeg', description='Me: ✝️👨\\u200d👩♾️📊👨🏻\\u200d💻🔬⚖️📍🌱👨🏻\\u200d🚀🤖🎮🔭📍CO, 🇺🇸\\n\\n🧑🏻\\u200d💻Creator of @nowbreezing.ntw.app\\n💬 nickwrightdata.01\\n☕ https://ko-fi.com/nickwrightdata\\n\\n-Looking forward to someone seeing 30+ \"new notifications\" on a Desktop tab after opening my account lol', display_name='(30+) Nick † Wright', indexed_at='2024-04-08T13:29:58.343Z', labels=[], viewer=ViewerState(blocked_by=False, blocking=None, blocking_by_list=None, followed_by=None, following=None, muted=False, muted_by_list=None, py_type='app.bsky.actor.defs#viewerState'), py_type='app.bsky.actor.defs#profileView'), indexed_at='2023-11-06T23:36:56.788Z', name='🔴POKÉMON TRAINERS', purpose='app.bsky.graph.defs#curatelist', uri='at://did:plc:7allko6vtrpvyxxcd5beapou/app.bsky.graph.list/3kdkle7zccv2s', avatar=None, description='', description_facets=None, viewer=ListViewerState(blocked=None, muted=False, py_type='app.bsky.graph.defs#listViewerState'), py_type='app.bsky.graph.defs#listView', labels=[]), ListView(cid='bafyreigirpbttntsbkdy3qy3c3wluvgn7edc2zvtyjmajimwtlamdpsx6y', creator=ProfileView(did='did:plc:7allko6vtrpvyxxcd5beapou', handle='nickwrightdata.ntw.app', avatar='https://cdn.bsky.app/img/avatar/plain/did:plc:7allko6vtrpvyxxcd5beapou/bafkreibpxlcmt2kd7ezc3jsv3pdcnwmgveax745veovdxfbjpvunxyl6kq@jpeg', description='Me: ✝️👨\\u200d👩♾️📊👨🏻\\u200d💻🔬⚖️📍🌱👨🏻\\u200d🚀🤖🎮🔭📍CO, 🇺🇸\\n\\n🧑🏻\\u200d💻Creator of @nowbreezing.ntw.app\\n💬 nickwrightdata.01\\n☕ https://ko-fi.com/nickwrightdata\\n\\n-Looking forward to someone seeing 30+ \"new notifications\" on a Desktop tab after opening my account lol', display_name='(30+) Nick † Wright', indexed_at='2024-04-08T13:29:58.343Z', labels=[], viewer=ViewerState(blocked_by=False, blocking=None, blocking_by_list=None, followed_by=None, following=None, muted=False, muted_by_list=None, py_type='app.bsky.actor.defs#viewerState'), py_type='app.bsky.actor.defs#profileView'), indexed_at='2023-11-06T23:24:43.547Z', name='🖖Trekkers/Trekkies', purpose='app.bsky.graph.defs#curatelist', uri='at://did:plc:7allko6vtrpvyxxcd5beapou/app.bsky.graph.list/3kdkkoeqhi62f', avatar=None, description='', description_facets=None, viewer=ListViewerState(blocked=None, muted=False, py_type='app.bsky.graph.defs#listViewerState'), py_type='app.bsky.graph.defs#listView', labels=[]), ListView(cid='bafyreidojjed46gz25epbhijgmwx5polbknfx3h2olisf4inqujpuo6mjm', creator=ProfileView(did='did:plc:7allko6vtrpvyxxcd5beapou', handle='nickwrightdata.ntw.app', avatar='https://cdn.bsky.app/img/avatar/plain/did:plc:7allko6vtrpvyxxcd5beapou/bafkreibpxlcmt2kd7ezc3jsv3pdcnwmgveax745veovdxfbjpvunxyl6kq@jpeg', description='Me: ✝️👨\\u200d👩♾️📊👨🏻\\u200d💻🔬⚖️📍🌱👨🏻\\u200d🚀🤖🎮🔭📍CO, 🇺🇸\\n\\n🧑🏻\\u200d💻Creator of @nowbreezing.ntw.app\\n💬 nickwrightdata.01\\n☕ https://ko-fi.com/nickwrightdata\\n\\n-Looking forward to someone seeing 30+ \"new notifications\" on a Desktop tab after opening my account lol', display_name='(30+) Nick † Wright', indexed_at='2024-04-08T13:29:58.343Z', labels=[], viewer=ViewerState(blocked_by=False, blocking=None, blocking_by_list=None, followed_by=None, following=None, muted=False, muted_by_list=None, py_type='app.bsky.actor.defs#viewerState'), py_type='app.bsky.actor.defs#profileView'), indexed_at='2023-11-06T23:16:04.931Z', name='🌐Internet Professionals', purpose='app.bsky.graph.defs#curatelist', uri='at://did:plc:7allko6vtrpvyxxcd5beapou/app.bsky.graph.list/3kdkk6w67bu24', avatar=None, description='', description_facets=None, viewer=ListViewerState(blocked=None, muted=False, py_type='app.bsky.graph.defs#listViewerState'), py_type='app.bsky.graph.defs#listView', labels=[]), ListView(cid='bafyreiegbnsieg4gqmlishqtoqrx6agcfjbeobra4vma2d5faptvxiw23i', creator=ProfileView(did='did:plc:7allko6vtrpvyxxcd5beapou', handle='nickwrightdata.ntw.app', avatar='https://cdn.bsky.app/img/avatar/plain/did:plc:7allko6vtrpvyxxcd5beapou/bafkreibpxlcmt2kd7ezc3jsv3pdcnwmgveax745veovdxfbjpvunxyl6kq@jpeg', description='Me: ✝️👨\\u200d👩♾️📊👨🏻\\u200d💻🔬⚖️📍🌱👨🏻\\u200d🚀🤖🎮🔭📍CO, 🇺🇸\\n\\n🧑🏻\\u200d💻Creator of @nowbreezing.ntw.app\\n💬 nickwrightdata.01\\n☕ https://ko-fi.com/nickwrightdata\\n\\n-Looking forward to someone seeing 30+ \"new notifications\" on a Desktop tab after opening my account lol', display_name='(30+) Nick † Wright', indexed_at='2024-04-08T13:29:58.343Z', labels=[], viewer=ViewerState(blocked_by=False, blocking=None, blocking_by_list=None, followed_by=None, following=None, muted=False, muted_by_list=None, py_type='app.bsky.actor.defs#viewerState'), py_type='app.bsky.actor.defs#profileView'), indexed_at='2023-11-06T23:04:28.243Z', name='⭐Famous/Notable Figures', purpose='app.bsky.graph.defs#curatelist', uri='at://did:plc:7allko6vtrpvyxxcd5beapou/app.bsky.graph.list/3kdkjk5r3sm2x', avatar=None, description='Household names, etc.\\n(Not including Government representatives--that has its own list)', description_facets=None, viewer=ListViewerState(blocked=None, muted=False, py_type='app.bsky.graph.defs#listViewerState'), py_type='app.bsky.graph.defs#listView', labels=[]), ListView(cid='bafyreiel7i36bf2v7tgnhckqow2742fmvwgwg6shq22duddzpyq777u2ru', creator=ProfileView(did='did:plc:7allko6vtrpvyxxcd5beapou', handle='nickwrightdata.ntw.app', avatar='https://cdn.bsky.app/img/avatar/plain/did:plc:7allko6vtrpvyxxcd5beapou/bafkreibpxlcmt2kd7ezc3jsv3pdcnwmgveax745veovdxfbjpvunxyl6kq@jpeg', description='Me: ✝️👨\\u200d👩♾️📊👨🏻\\u200d💻🔬⚖️📍🌱👨🏻\\u200d🚀🤖🎮🔭📍CO, 🇺🇸\\n\\n🧑🏻\\u200d💻Creator of @nowbreezing.ntw.app\\n💬 nickwrightdata.01\\n☕ https://ko-fi.com/nickwrightdata\\n\\n-Looking forward to someone seeing 30+ \"new notifications\" on a Desktop tab after opening my account lol', display_name='(30+) Nick † Wright', indexed_at='2024-04-08T13:29:58.343Z', labels=[], viewer=ViewerState(blocked_by=False, blocking=None, blocking_by_list=None, followed_by=None, following=None, muted=False, muted_by_list=None, py_type='app.bsky.actor.defs#viewerState'), py_type='app.bsky.actor.defs#profileView'), indexed_at='2023-11-06T23:03:02.606Z', name='🧑\\u200d💻DEVELOPERS', purpose='app.bsky.graph.defs#curatelist', uri='at://did:plc:7allko6vtrpvyxxcd5beapou/app.bsky.graph.list/3kdkjhm3kxd2b', avatar=None, description='\", DEVELOPERS, DEVELOPERS, DEVELOPERS, DEVELOPERS, DEVELOPERS....\"\\n\\n(tech professionals/etc.)', description_facets=None, viewer=ListViewerState(blocked=None, muted=False, py_type='app.bsky.graph.defs#listViewerState'), py_type='app.bsky.graph.defs#listView', labels=[]), ListView(cid='bafyreida6n5n3prvqkw7tu4cu5y7s75zk2kcevb3w7roksvovo2ygjdc7e', creator=ProfileView(did='did:plc:7allko6vtrpvyxxcd5beapou', handle='nickwrightdata.ntw.app', avatar='https://cdn.bsky.app/img/avatar/plain/did:plc:7allko6vtrpvyxxcd5beapou/bafkreibpxlcmt2kd7ezc3jsv3pdcnwmgveax745veovdxfbjpvunxyl6kq@jpeg', description='Me: ✝️👨\\u200d👩♾️📊👨🏻\\u200d💻🔬⚖️📍🌱👨🏻\\u200d🚀🤖🎮🔭📍CO, 🇺🇸\\n\\n🧑🏻\\u200d💻Creator of @nowbreezing.ntw.app\\n💬 nickwrightdata.01\\n☕ https://ko-fi.com/nickwrightdata\\n\\n-Looking forward to someone seeing 30+ \"new notifications\" on a Desktop tab after opening my account lol', display_name='(30+) Nick † Wright', indexed_at='2024-04-08T13:29:58.343Z', labels=[], viewer=ViewerState(blocked_by=False, blocking=None, blocking_by_list=None, followed_by=None, following=None, muted=False, muted_by_list=None, py_type='app.bsky.actor.defs#viewerState'), py_type='app.bsky.actor.defs#profileView'), indexed_at='2023-11-06T23:02:44.792Z', name='🤖COOL Bot Accounts', purpose='app.bsky.graph.defs#curatelist', uri='at://did:plc:7allko6vtrpvyxxcd5beapou/app.bsky.graph.list/3kdkjh34a2s2g', avatar=None, description='', description_facets=None, viewer=ListViewerState(blocked=None, muted=False, py_type='app.bsky.graph.defs#listViewerState'), py_type='app.bsky.graph.defs#listView', labels=[]), ListView(cid='bafyreihvucnqq5xmchp226zu4sme5r3asuscff4oq7jl7pp3ovh5fuzet4', creator=ProfileView(did='did:plc:7allko6vtrpvyxxcd5beapou', handle='nickwrightdata.ntw.app', avatar='https://cdn.bsky.app/img/avatar/plain/did:plc:7allko6vtrpvyxxcd5beapou/bafkreibpxlcmt2kd7ezc3jsv3pdcnwmgveax745veovdxfbjpvunxyl6kq@jpeg', description='Me: ✝️👨\\u200d👩♾️📊👨🏻\\u200d💻🔬⚖️📍🌱👨🏻\\u200d🚀🤖🎮🔭📍CO, 🇺🇸\\n\\n🧑🏻\\u200d💻Creator of @nowbreezing.ntw.app\\n💬 nickwrightdata.01\\n☕ https://ko-fi.com/nickwrightdata\\n\\n-Looking forward to someone seeing 30+ \"new notifications\" on a Desktop tab after opening my account lol', display_name='(30+) Nick † Wright', indexed_at='2024-04-08T13:29:58.343Z', labels=[], viewer=ViewerState(blocked_by=False, blocking=None, blocking_by_list=None, followed_by=None, following=None, muted=False, muted_by_list=None, py_type='app.bsky.actor.defs#viewerState'), py_type='app.bsky.actor.defs#profileView'), indexed_at='2023-11-06T23:00:19.611Z', name='🟦🦋Bluesky Team', purpose='app.bsky.graph.defs#curatelist', uri='at://did:plc:7allko6vtrpvyxxcd5beapou/app.bsky.graph.list/3kdkjcqo3n42n', avatar=None, description='...bsky.team\\n\"tluesky team\"\\n\"bsky team\"\\netc etc etc', description_facets=None, viewer=ListViewerState(blocked=None, muted=False, py_type='app.bsky.graph.defs#listViewerState'), py_type='app.bsky.graph.defs#listView', labels=[]), ListView(cid='bafyreidvof3cyoo2v726pijeig7r46qkee44yfeqsuair76hfdwgf2tr3u', creator=ProfileView(did='did:plc:7allko6vtrpvyxxcd5beapou', handle='nickwrightdata.ntw.app', avatar='https://cdn.bsky.app/img/avatar/plain/did:plc:7allko6vtrpvyxxcd5beapou/bafkreibpxlcmt2kd7ezc3jsv3pdcnwmgveax745veovdxfbjpvunxyl6kq@jpeg', description='Me: ✝️👨\\u200d👩♾️📊👨🏻\\u200d💻🔬⚖️📍🌱👨🏻\\u200d🚀🤖🎮🔭📍CO, 🇺🇸\\n\\n🧑🏻\\u200d💻Creator of @nowbreezing.ntw.app\\n💬 nickwrightdata.01\\n☕ https://ko-fi.com/nickwrightdata\\n\\n-Looking forward to someone seeing 30+ \"new notifications\" on a Desktop tab after opening my account lol', display_name='(30+) Nick † Wright', indexed_at='2024-04-08T13:29:58.343Z', labels=[], viewer=ViewerState(blocked_by=False, blocking=None, blocking_by_list=None, followed_by=None, following=None, muted=False, muted_by_list=None, py_type='app.bsky.actor.defs#viewerState'), py_type='app.bsky.actor.defs#profileView'), indexed_at='2023-11-06T22:59:24.852Z', name='🧪Scientistis/Science Educators/Communicators', purpose='app.bsky.graph.defs#curatelist', uri='at://did:plc:7allko6vtrpvyxxcd5beapou/app.bsky.graph.list/3kdkjb4gpaj2p', avatar=None, description='', description_facets=None, viewer=ListViewerState(blocked=None, muted=False, py_type='app.bsky.graph.defs#listViewerState'), py_type='app.bsky.graph.defs#listView', labels=[]), ListView(cid='bafyreihtw4lxfsbppwnzmakejdudi5qymgyvxh66pb3ljbjg545qsab6ye', creator=ProfileView(did='did:plc:7allko6vtrpvyxxcd5beapou', handle='nickwrightdata.ntw.app', avatar='https://cdn.bsky.app/img/avatar/plain/did:plc:7allko6vtrpvyxxcd5beapou/bafkreibpxlcmt2kd7ezc3jsv3pdcnwmgveax745veovdxfbjpvunxyl6kq@jpeg', description='Me: ✝️👨\\u200d👩♾️📊👨🏻\\u200d💻🔬⚖️📍🌱👨🏻\\u200d🚀🤖🎮🔭📍CO, 🇺🇸\\n\\n🧑🏻\\u200d💻Creator of @nowbreezing.ntw.app\\n💬 nickwrightdata.01\\n☕ https://ko-fi.com/nickwrightdata\\n\\n-Looking forward to someone seeing 30+ \"new notifications\" on a Desktop tab after opening my account lol', display_name='(30+) Nick † Wright', indexed_at='2024-04-08T13:29:58.343Z', labels=[], viewer=ViewerState(blocked_by=False, blocking=None, blocking_by_list=None, followed_by=None, following=None, muted=False, muted_by_list=None, py_type='app.bsky.actor.defs#viewerState'), py_type='app.bsky.actor.defs#profileView'), indexed_at='2023-11-06T22:58:42.258Z', name='🏛️US Government Representatives', purpose='app.bsky.graph.defs#curatelist', uri='at://did:plc:7allko6vtrpvyxxcd5beapou/app.bsky.graph.list/3kdkj7ttd242p', avatar=None, description='...or those who work closely with them', description_facets=None, viewer=ListViewerState(blocked=None, muted=False, py_type='app.bsky.graph.defs#listViewerState'), py_type='app.bsky.graph.defs#listView', labels=[]), ListView(cid='bafyreibbxsoidc5uqfchuypcm253dwyc7pmgbwpu4t6ajq3owugvchizce', creator=ProfileView(did='did:plc:7allko6vtrpvyxxcd5beapou', handle='nickwrightdata.ntw.app', avatar='https://cdn.bsky.app/img/avatar/plain/did:plc:7allko6vtrpvyxxcd5beapou/bafkreibpxlcmt2kd7ezc3jsv3pdcnwmgveax745veovdxfbjpvunxyl6kq@jpeg', description='Me: ✝️👨\\u200d👩♾️📊👨🏻\\u200d💻🔬⚖️📍🌱👨🏻\\u200d🚀🤖🎮🔭📍CO, 🇺🇸\\n\\n🧑🏻\\u200d💻Creator of @nowbreezing.ntw.app\\n💬 nickwrightdata.01\\n☕ https://ko-fi.com/nickwrightdata\\n\\n-Looking forward to someone seeing 30+ \"new notifications\" on a Desktop tab after opening my account lol', display_name='(30+) Nick † Wright', indexed_at='2024-04-08T13:29:58.343Z', labels=[], viewer=ViewerState(blocked_by=False, blocking=None, blocking_by_list=None, followed_by=None, following=None, muted=False, muted_by_list=None, py_type='app.bsky.actor.defs#viewerState'), py_type='app.bsky.actor.defs#profileView'), indexed_at='2023-11-06T22:25:11.801Z', name=\"🎟️People I've Invited\", purpose='app.bsky.graph.defs#curatelist', uri='at://did:plc:7allko6vtrpvyxxcd5beapou/app.bsky.graph.list/3kdkhdwiu7g2s', avatar=None, description=\"If I've made a mistake, or you don't want to be on this list, just ask, and I'll remove you, no questions asked!\\n\\nYou may have been invited from any of these five accounts:\\n@nickwrightdata.ntw.app\\n@nowbreezing.ntw.app\\n@remindmebot.bsky.social\\n@craigweeknotend.bsky.social\\n@nowbreezingdev.bsky.social\", description_facets=None, viewer=ListViewerState(blocked=None, muted=False, py_type='app.bsky.graph.defs#listViewerState'), py_type='app.bsky.graph.defs#listView', labels=[]), ListView(cid='bafyreib4cffqbllttztwoxedjintwcygxga6e7ybs6t7k6tszotilkmqhu', creator=ProfileView(did='did:plc:7allko6vtrpvyxxcd5beapou', handle='nickwrightdata.ntw.app', avatar='https://cdn.bsky.app/img/avatar/plain/did:plc:7allko6vtrpvyxxcd5beapou/bafkreibpxlcmt2kd7ezc3jsv3pdcnwmgveax745veovdxfbjpvunxyl6kq@jpeg', description='Me: ✝️👨\\u200d👩♾️📊👨🏻\\u200d💻🔬⚖️📍🌱👨🏻\\u200d🚀🤖🎮🔭📍CO, 🇺🇸\\n\\n🧑🏻\\u200d💻Creator of @nowbreezing.ntw.app\\n💬 nickwrightdata.01\\n☕ https://ko-fi.com/nickwrightdata\\n\\n-Looking forward to someone seeing 30+ \"new notifications\" on a Desktop tab after opening my account lol', display_name='(30+) Nick † Wright', indexed_at='2024-04-08T13:29:58.343Z', labels=[], viewer=ViewerState(blocked_by=False, blocking=None, blocking_by_list=None, followed_by=None, following=None, muted=False, muted_by_list=None, py_type='app.bsky.actor.defs#viewerState'), py_type='app.bsky.actor.defs#profileView'), indexed_at='2023-10-15T14:48:09.222Z', name='❌Spam/Scam', purpose='app.bsky.graph.defs#modlist', uri='at://did:plc:7allko6vtrpvyxxcd5beapou/app.bsky.graph.list/3kbsdkgupow2r', avatar=None, description='', description_facets=None, viewer=ListViewerState(blocked=None, muted=False, py_type='app.bsky.graph.defs#listViewerState'), py_type='app.bsky.graph.defs#listView', labels=[]), ListView(cid='bafyreieldsaio2on43uy3scqgjexb2gpyq4ksfmenzu5ehoxfmvvorftdy', creator=ProfileView(did='did:plc:7allko6vtrpvyxxcd5beapou', handle='nickwrightdata.ntw.app', avatar='https://cdn.bsky.app/img/avatar/plain/did:plc:7allko6vtrpvyxxcd5beapou/bafkreibpxlcmt2kd7ezc3jsv3pdcnwmgveax745veovdxfbjpvunxyl6kq@jpeg', description='Me: ✝️👨\\u200d👩♾️📊👨🏻\\u200d💻🔬⚖️📍🌱👨🏻\\u200d🚀🤖🎮🔭📍CO, 🇺🇸\\n\\n🧑🏻\\u200d💻Creator of @nowbreezing.ntw.app\\n💬 nickwrightdata.01\\n☕ https://ko-fi.com/nickwrightdata\\n\\n-Looking forward to someone seeing 30+ \"new notifications\" on a Desktop tab after opening my account lol', display_name='(30+) Nick † Wright', indexed_at='2024-04-08T13:29:58.343Z', labels=[], viewer=ViewerState(blocked_by=False, blocking=None, blocking_by_list=None, followed_by=None, following=None, muted=False, muted_by_list=None, py_type='app.bsky.actor.defs#viewerState'), py_type='app.bsky.actor.defs#profileView'), indexed_at='2023-10-15T02:55:27.828Z', name='❌Family Abolitionist/Tankie', purpose='app.bsky.graph.defs#modlist', uri='at://did:plc:7allko6vtrpvyxxcd5beapou/app.bsky.graph.list/3kbr3pzydj52t', avatar=None, description='We have nothing to lose but our chains! (YEAH!) ...oh and abolish the family (YEA--wait what)', description_facets=None, viewer=ListViewerState(blocked=None, muted=False, py_type='app.bsky.graph.defs#listViewerState'), py_type='app.bsky.graph.defs#listView', labels=[]), ListView(cid='bafyreiavpza5her4bofimwedciy63mfsflm5d3mv4zj3re4magykca7uhe', creator=ProfileView(did='did:plc:7allko6vtrpvyxxcd5beapou', handle='nickwrightdata.ntw.app', avatar='https://cdn.bsky.app/img/avatar/plain/did:plc:7allko6vtrpvyxxcd5beapou/bafkreibpxlcmt2kd7ezc3jsv3pdcnwmgveax745veovdxfbjpvunxyl6kq@jpeg', description='Me: ✝️👨\\u200d👩♾️📊👨🏻\\u200d💻🔬⚖️📍🌱👨🏻\\u200d🚀🤖🎮🔭📍CO, 🇺🇸\\n\\n🧑🏻\\u200d💻Creator of @nowbreezing.ntw.app\\n💬 nickwrightdata.01\\n☕ https://ko-fi.com/nickwrightdata\\n\\n-Looking forward to someone seeing 30+ \"new notifications\" on a Desktop tab after opening my account lol', display_name='(30+) Nick † Wright', indexed_at='2024-04-08T13:29:58.343Z', labels=[], viewer=ViewerState(blocked_by=False, blocking=None, blocking_by_list=None, followed_by=None, following=None, muted=False, muted_by_list=None, py_type='app.bsky.actor.defs#viewerState'), py_type='app.bsky.actor.defs#profileView'), indexed_at='2023-10-11T21:32:03.923Z', name='❌Opinion \"News\"', purpose='app.bsky.graph.defs#modlist', uri='at://did:plc:7allko6vtrpvyxxcd5beapou/app.bsky.graph.list/3kbiyayry2n2o', avatar=None, description='EW.', description_facets=None, viewer=ListViewerState(blocked=None, muted=False, py_type='app.bsky.graph.defs#listViewerState'), py_type='app.bsky.graph.defs#listView', labels=[]), ListView(cid='bafyreie2nnctd2tntkmgq5h4trtd5i7hc5lrplncx66xts3xkrk4jsll2e', creator=ProfileView(did='did:plc:7allko6vtrpvyxxcd5beapou', handle='nickwrightdata.ntw.app', avatar='https://cdn.bsky.app/img/avatar/plain/did:plc:7allko6vtrpvyxxcd5beapou/bafkreibpxlcmt2kd7ezc3jsv3pdcnwmgveax745veovdxfbjpvunxyl6kq@jpeg', description='Me: ✝️👨\\u200d👩♾️📊👨🏻\\u200d💻🔬⚖️📍🌱👨🏻\\u200d🚀🤖🎮🔭📍CO, 🇺🇸\\n\\n🧑🏻\\u200d💻Creator of @nowbreezing.ntw.app\\n💬 nickwrightdata.01\\n☕ https://ko-fi.com/nickwrightdata\\n\\n-Looking forward to someone seeing 30+ \"new notifications\" on a Desktop tab after opening my account lol', display_name='(30+) Nick † Wright', indexed_at='2024-04-08T13:29:58.343Z', labels=[], viewer=ViewerState(blocked_by=False, blocking=None, blocking_by_list=None, followed_by=None, following=None, muted=False, muted_by_list=None, py_type='app.bsky.actor.defs#viewerState'), py_type='app.bsky.actor.defs#profileView'), indexed_at='2023-10-11T21:29:13.572Z', name='❌Corporations', purpose='app.bsky.graph.defs#modlist', uri='at://did:plc:7allko6vtrpvyxxcd5beapou/app.bsky.graph.list/3kbiy3wd2yy2t', avatar=None, description='SILENCE, BRAND', description_facets=None, viewer=ListViewerState(blocked=None, muted=False, py_type='app.bsky.graph.defs#listViewerState'), py_type='app.bsky.graph.defs#listView', labels=[]), ListView(cid='bafyreicr47fcbh4aeroy2zw6h3hydu4s7vsluz2gg5v43ttlfmhwynpaea', creator=ProfileView(did='did:plc:7allko6vtrpvyxxcd5beapou', handle='nickwrightdata.ntw.app', avatar='https://cdn.bsky.app/img/avatar/plain/did:plc:7allko6vtrpvyxxcd5beapou/bafkreibpxlcmt2kd7ezc3jsv3pdcnwmgveax745veovdxfbjpvunxyl6kq@jpeg', description='Me: ✝️👨\\u200d👩♾️📊👨🏻\\u200d💻🔬⚖️📍🌱👨🏻\\u200d🚀🤖🎮🔭📍CO, 🇺🇸\\n\\n🧑🏻\\u200d💻Creator of @nowbreezing.ntw.app\\n💬 nickwrightdata.01\\n☕ https://ko-fi.com/nickwrightdata\\n\\n-Looking forward to someone seeing 30+ \"new notifications\" on a Desktop tab after opening my account lol', display_name='(30+) Nick † Wright', indexed_at='2024-04-08T13:29:58.343Z', labels=[], viewer=ViewerState(blocked_by=False, blocking=None, blocking_by_list=None, followed_by=None, following=None, muted=False, muted_by_list=None, py_type='app.bsky.actor.defs#viewerState'), py_type='app.bsky.actor.defs#profileView'), indexed_at='2023-10-09T17:56:32.819Z', name='❌Ableist', purpose='app.bsky.graph.defs#modlist', uri='at://did:plc:7allko6vtrpvyxxcd5beapou/app.bsky.graph.list/3kbdlbqisle2l', avatar=None, description='', description_facets=None, viewer=ListViewerState(blocked=None, muted=False, py_type='app.bsky.graph.defs#listViewerState'), py_type='app.bsky.graph.defs#listView', labels=[]), ListView(cid='bafyreie7hhbjbdtn3vdu2yltsvm5si5bgtemxmkg7e66yivuiaoa6elfya', creator=ProfileView(did='did:plc:7allko6vtrpvyxxcd5beapou', handle='nickwrightdata.ntw.app', avatar='https://cdn.bsky.app/img/avatar/plain/did:plc:7allko6vtrpvyxxcd5beapou/bafkreibpxlcmt2kd7ezc3jsv3pdcnwmgveax745veovdxfbjpvunxyl6kq@jpeg', description='Me: ✝️👨\\u200d👩♾️📊👨🏻\\u200d💻🔬⚖️📍🌱👨🏻\\u200d🚀🤖🎮🔭📍CO, 🇺🇸\\n\\n🧑🏻\\u200d💻Creator of @nowbreezing.ntw.app\\n💬 nickwrightdata.01\\n☕ https://ko-fi.com/nickwrightdata\\n\\n-Looking forward to someone seeing 30+ \"new notifications\" on a Desktop tab after opening my account lol', display_name='(30+) Nick † Wright', indexed_at='2024-04-08T13:29:58.343Z', labels=[], viewer=ViewerState(blocked_by=False, blocking=None, blocking_by_list=None, followed_by=None, following=None, muted=False, muted_by_list=None, py_type='app.bsky.actor.defs#viewerState'), py_type='app.bsky.actor.defs#profileView'), indexed_at='2023-10-09T16:35:06.316Z', name='❌A.I.', purpose='app.bsky.graph.defs#modlist', uri='at://did:plc:7allko6vtrpvyxxcd5beapou/app.bsky.graph.list/3kbdgq4gsut2n', avatar=None, description='AI bros, Bots irresponsibly powered by A.I., etc', description_facets=None, viewer=ListViewerState(blocked=None, muted=False, py_type='app.bsky.graph.defs#listViewerState'), py_type='app.bsky.graph.defs#listView', labels=[]), ListView(cid='bafyreifesjcoizorf6veadk3duhodcl5uugizwzddqkluiiu6tzhp6vk4q', creator=ProfileView(did='did:plc:7allko6vtrpvyxxcd5beapou', handle='nickwrightdata.ntw.app', avatar='https://cdn.bsky.app/img/avatar/plain/did:plc:7allko6vtrpvyxxcd5beapou/bafkreibpxlcmt2kd7ezc3jsv3pdcnwmgveax745veovdxfbjpvunxyl6kq@jpeg', description='Me: ✝️👨\\u200d👩♾️📊👨🏻\\u200d💻🔬⚖️📍🌱👨🏻\\u200d🚀🤖🎮🔭📍CO, 🇺🇸\\n\\n🧑🏻\\u200d💻Creator of @nowbreezing.ntw.app\\n💬 nickwrightdata.01\\n☕ https://ko-fi.com/nickwrightdata\\n\\n-Looking forward to someone seeing 30+ \"new notifications\" on a Desktop tab after opening my account lol', display_name='(30+) Nick † Wright', indexed_at='2024-04-08T13:29:58.343Z', labels=[], viewer=ViewerState(blocked_by=False, blocking=None, blocking_by_list=None, followed_by=None, following=None, muted=False, muted_by_list=None, py_type='app.bsky.actor.defs#viewerState'), py_type='app.bsky.actor.defs#profileView'), indexed_at='2023-10-09T15:42:04.641Z', name='❌MAGA', purpose='app.bsky.graph.defs#modlist', uri='at://did:plc:7allko6vtrpvyxxcd5beapou/app.bsky.graph.list/3kbddrc6toq2v', avatar=None, description='Or at the very least, thinks Trump is a \"lesser evil\".', description_facets=None, viewer=ListViewerState(blocked=None, muted=False, py_type='app.bsky.graph.defs#listViewerState'), py_type='app.bsky.graph.defs#listView', labels=[]), ListView(cid='bafyreibrdga2ix24n6hdduuxgv7wczbp436eykcjz7q7obvbybdn2ltq5m', creator=ProfileView(did='did:plc:7allko6vtrpvyxxcd5beapou', handle='nickwrightdata.ntw.app', avatar='https://cdn.bsky.app/img/avatar/plain/did:plc:7allko6vtrpvyxxcd5beapou/bafkreibpxlcmt2kd7ezc3jsv3pdcnwmgveax745veovdxfbjpvunxyl6kq@jpeg', description='Me: ✝️👨\\u200d👩♾️📊👨🏻\\u200d💻🔬⚖️📍🌱👨🏻\\u200d🚀🤖🎮🔭📍CO, 🇺🇸\\n\\n🧑🏻\\u200d💻Creator of @nowbreezing.ntw.app\\n💬 nickwrightdata.01\\n☕ https://ko-fi.com/nickwrightdata\\n\\n-Looking forward to someone seeing 30+ \"new notifications\" on a Desktop tab after opening my account lol', display_name='(30+) Nick † Wright', indexed_at='2024-04-08T13:29:58.343Z', labels=[], viewer=ViewerState(blocked_by=False, blocking=None, blocking_by_list=None, followed_by=None, following=None, muted=False, muted_by_list=None, py_type='app.bsky.actor.defs#viewerState'), py_type='app.bsky.actor.defs#profileView'), indexed_at='2023-10-09T15:40:09.459Z', name='❌Crypto Dudes', purpose='app.bsky.graph.defs#modlist', uri='at://did:plc:7allko6vtrpvyxxcd5beapou/app.bsky.graph.list/3kbddnueysi2v', avatar=None, description='', description_facets=None, viewer=ListViewerState(blocked=None, muted=False, py_type='app.bsky.graph.defs#listViewerState'), py_type='app.bsky.graph.defs#listView', labels=[]), ListView(cid='bafyreigijdoh766wi3gir5k6p5qrzvihlb5t6e4t64mf5k5d5rzhft3bne', creator=ProfileView(did='did:plc:7allko6vtrpvyxxcd5beapou', handle='nickwrightdata.ntw.app', avatar='https://cdn.bsky.app/img/avatar/plain/did:plc:7allko6vtrpvyxxcd5beapou/bafkreibpxlcmt2kd7ezc3jsv3pdcnwmgveax745veovdxfbjpvunxyl6kq@jpeg', description='Me: ✝️👨\\u200d👩♾️📊👨🏻\\u200d💻🔬⚖️📍🌱👨🏻\\u200d🚀🤖🎮🔭📍CO, 🇺🇸\\n\\n🧑🏻\\u200d💻Creator of @nowbreezing.ntw.app\\n💬 nickwrightdata.01\\n☕ https://ko-fi.com/nickwrightdata\\n\\n-Looking forward to someone seeing 30+ \"new notifications\" on a Desktop tab after opening my account lol', display_name='(30+) Nick † Wright', indexed_at='2024-04-08T13:29:58.343Z', labels=[], viewer=ViewerState(blocked_by=False, blocking=None, blocking_by_list=None, followed_by=None, following=None, muted=False, muted_by_list=None, py_type='app.bsky.actor.defs#viewerState'), py_type='app.bsky.actor.defs#profileView'), indexed_at='2023-10-09T15:39:04.497Z', name='🔕Not my thing', purpose='app.bsky.graph.defs#modlist', uri='at://did:plc:7allko6vtrpvyxxcd5beapou/app.bsky.graph.list/3kbddlwggur2v', avatar=None, description=\"They didn't do anything wrong, their style of posting is jot not for me.\\n\\nMute list, not a block list, so I can still see important posts.\", description_facets=None, viewer=ListViewerState(blocked=None, muted=False, py_type='app.bsky.graph.defs#listViewerState'), py_type='app.bsky.graph.defs#listView', labels=[]), ListView(cid='bafyreidtmvhsg7gg5xoui2okrgwnmakbbt4s6rpioem3iagdocwfwaemn4', creator=ProfileView(did='did:plc:7allko6vtrpvyxxcd5beapou', handle='nickwrightdata.ntw.app', avatar='https://cdn.bsky.app/img/avatar/plain/did:plc:7allko6vtrpvyxxcd5beapou/bafkreibpxlcmt2kd7ezc3jsv3pdcnwmgveax745veovdxfbjpvunxyl6kq@jpeg', description='Me: ✝️👨\\u200d👩♾️📊👨🏻\\u200d💻🔬⚖️📍🌱👨🏻\\u200d🚀🤖🎮🔭📍CO, 🇺🇸\\n\\n🧑🏻\\u200d💻Creator of @nowbreezing.ntw.app\\n💬 nickwrightdata.01\\n☕ https://ko-fi.com/nickwrightdata\\n\\n-Looking forward to someone seeing 30+ \"new notifications\" on a Desktop tab after opening my account lol', display_name='(30+) Nick † Wright', indexed_at='2024-04-08T13:29:58.343Z', labels=[], viewer=ViewerState(blocked_by=False, blocking=None, blocking_by_list=None, followed_by=None, following=None, muted=False, muted_by_list=None, py_type='app.bsky.actor.defs#viewerState'), py_type='app.bsky.actor.defs#profileView'), indexed_at='2023-10-09T06:12:12.514Z', name='❌Abusive', purpose='app.bsky.graph.defs#modlist', uri='at://did:plc:7allko6vtrpvyxxcd5beapou/app.bsky.graph.list/3kbcdwdrr652b', avatar=None, description='People who attack others online for inexcusable reasons', description_facets=None, viewer=ListViewerState(blocked=None, muted=False, py_type='app.bsky.graph.defs#listViewerState'), py_type='app.bsky.graph.defs#listView', labels=[]), ListView(cid='bafyreicfgf6rkz2ypt5gltztwtdumlf4q4ouju2h6fdt7shfuxk4p6u7cm', creator=ProfileView(did='did:plc:7allko6vtrpvyxxcd5beapou', handle='nickwrightdata.ntw.app', avatar='https://cdn.bsky.app/img/avatar/plain/did:plc:7allko6vtrpvyxxcd5beapou/bafkreibpxlcmt2kd7ezc3jsv3pdcnwmgveax745veovdxfbjpvunxyl6kq@jpeg', description='Me: ✝️👨\\u200d👩♾️📊👨🏻\\u200d💻🔬⚖️📍🌱👨🏻\\u200d🚀🤖🎮🔭📍CO, 🇺🇸\\n\\n🧑🏻\\u200d💻Creator of @nowbreezing.ntw.app\\n💬 nickwrightdata.01\\n☕ https://ko-fi.com/nickwrightdata\\n\\n-Looking forward to someone seeing 30+ \"new notifications\" on a Desktop tab after opening my account lol', display_name='(30+) Nick † Wright', indexed_at='2024-04-08T13:29:58.343Z', labels=[], viewer=ViewerState(blocked_by=False, blocking=None, blocking_by_list=None, followed_by=None, following=None, muted=False, muted_by_list=None, py_type='app.bsky.actor.defs#viewerState'), py_type='app.bsky.actor.defs#profileView'), indexed_at='2023-10-09T05:18:59.332Z', name='❌Bad Novelty Account', purpose='app.bsky.graph.defs#modlist', uri='at://did:plc:7allko6vtrpvyxxcd5beapou/app.bsky.graph.list/3kbcax6hxbs2q', avatar=None, description='Bad attempt at a humor/novelty account.', description_facets=None, viewer=ListViewerState(blocked=None, muted=False, py_type='app.bsky.graph.defs#listViewerState'), py_type='app.bsky.graph.defs#listView', labels=[]), ListView(cid='bafyreibr7mmd7p2fbc7qxub7grsqeddrnjemgenirewu6r3t3qjeehz3ga', creator=ProfileView(did='did:plc:7allko6vtrpvyxxcd5beapou', handle='nickwrightdata.ntw.app', avatar='https://cdn.bsky.app/img/avatar/plain/did:plc:7allko6vtrpvyxxcd5beapou/bafkreibpxlcmt2kd7ezc3jsv3pdcnwmgveax745veovdxfbjpvunxyl6kq@jpeg', description='Me: ✝️👨\\u200d👩♾️📊👨🏻\\u200d💻🔬⚖️📍🌱👨🏻\\u200d🚀🤖🎮🔭📍CO, 🇺🇸\\n\\n🧑🏻\\u200d💻Creator of @nowbreezing.ntw.app\\n💬 nickwrightdata.01\\n☕ https://ko-fi.com/nickwrightdata\\n\\n-Looking forward to someone seeing 30+ \"new notifications\" on a Desktop tab after opening my account lol', display_name='(30+) Nick † Wright', indexed_at='2024-04-08T13:29:58.343Z', labels=[], viewer=ViewerState(blocked_by=False, blocking=None, blocking_by_list=None, followed_by=None, following=None, muted=False, muted_by_list=None, py_type='app.bsky.actor.defs#viewerState'), py_type='app.bsky.actor.defs#profileView'), indexed_at='2023-10-09T04:17:23.490Z', name='❌Content Scrapers', purpose='app.bsky.graph.defs#modlist', uri='at://did:plc:7allko6vtrpvyxxcd5beapou/app.bsky.graph.list/3kbc5izrzqz24', avatar=None, description='', description_facets=None, viewer=ListViewerState(blocked=None, muted=False, py_type='app.bsky.graph.defs#listViewerState'), py_type='app.bsky.graph.defs#listView', labels=[]), ListView(cid='bafyreicbytw5vdvsamgmuu2stgcpjeqeedmau73sanh6mdjb23l4gh2eja', creator=ProfileView(did='did:plc:7allko6vtrpvyxxcd5beapou', handle='nickwrightdata.ntw.app', avatar='https://cdn.bsky.app/img/avatar/plain/did:plc:7allko6vtrpvyxxcd5beapou/bafkreibpxlcmt2kd7ezc3jsv3pdcnwmgveax745veovdxfbjpvunxyl6kq@jpeg', description='Me: ✝️👨\\u200d👩♾️📊👨🏻\\u200d💻🔬⚖️📍🌱👨🏻\\u200d🚀🤖🎮🔭📍CO, 🇺🇸\\n\\n🧑🏻\\u200d💻Creator of @nowbreezing.ntw.app\\n💬 nickwrightdata.01\\n☕ https://ko-fi.com/nickwrightdata\\n\\n-Looking forward to someone seeing 30+ \"new notifications\" on a Desktop tab after opening my account lol', display_name='(30+) Nick † Wright', indexed_at='2024-04-08T13:29:58.343Z', labels=[], viewer=ViewerState(blocked_by=False, blocking=None, blocking_by_list=None, followed_by=None, following=None, muted=False, muted_by_list=None, py_type='app.bsky.actor.defs#viewerState'), py_type='app.bsky.actor.defs#profileView'), indexed_at='2023-10-09T04:10:35.183Z', name='🔕NSFW', purpose='app.bsky.graph.defs#modlist', uri='at://did:plc:7allko6vtrpvyxxcd5beapou/app.bsky.graph.list/3kbc54ufb4g2j', avatar=None, description='', description_facets=None, viewer=ListViewerState(blocked=None, muted=False, py_type='app.bsky.graph.defs#listViewerState'), py_type='app.bsky.graph.defs#listView', labels=[]), ListView(cid='bafyreic2x2ahewnbw56mkdls5y3bnls5yc75bxvc53zi3l6vmclzu5vymq', creator=ProfileView(did='did:plc:7allko6vtrpvyxxcd5beapou', handle='nickwrightdata.ntw.app', avatar='https://cdn.bsky.app/img/avatar/plain/did:plc:7allko6vtrpvyxxcd5beapou/bafkreibpxlcmt2kd7ezc3jsv3pdcnwmgveax745veovdxfbjpvunxyl6kq@jpeg', description='Me: ✝️👨\\u200d👩♾️📊👨🏻\\u200d💻🔬⚖️📍🌱👨🏻\\u200d🚀🤖🎮🔭📍CO, 🇺🇸\\n\\n🧑🏻\\u200d💻Creator of @nowbreezing.ntw.app\\n💬 nickwrightdata.01\\n☕ https://ko-fi.com/nickwrightdata\\n\\n-Looking forward to someone seeing 30+ \"new notifications\" on a Desktop tab after opening my account lol', display_name='(30+) Nick † Wright', indexed_at='2024-04-08T13:29:58.343Z', labels=[], viewer=ViewerState(blocked_by=False, blocking=None, blocking_by_list=None, followed_by=None, following=None, muted=False, muted_by_list=None, py_type='app.bsky.actor.defs#viewerState'), py_type='app.bsky.actor.defs#profileView'), indexed_at='2023-10-09T03:51:15.846Z', name='❌Anti-Ukraine', purpose='app.bsky.graph.defs#modlist', uri='at://did:plc:7allko6vtrpvyxxcd5beapou/app.bsky.graph.list/3kbc42cr3vr2n', avatar=None, description='', description_facets=None, viewer=ListViewerState(blocked=None, muted=False, py_type='app.bsky.graph.defs#listViewerState'), py_type='app.bsky.graph.defs#listView', labels=[]), ListView(cid='bafyreiark3hduypitnlakbjuqfzhdfwno42nig3splhdbazmk6vpamzw6q', creator=ProfileView(did='did:plc:7allko6vtrpvyxxcd5beapou', handle='nickwrightdata.ntw.app', avatar='https://cdn.bsky.app/img/avatar/plain/did:plc:7allko6vtrpvyxxcd5beapou/bafkreibpxlcmt2kd7ezc3jsv3pdcnwmgveax745veovdxfbjpvunxyl6kq@jpeg', description='Me: ✝️👨\\u200d👩♾️📊👨🏻\\u200d💻🔬⚖️📍🌱👨🏻\\u200d🚀🤖🎮🔭📍CO, 🇺🇸\\n\\n🧑🏻\\u200d💻Creator of @nowbreezing.ntw.app\\n💬 nickwrightdata.01\\n☕ https://ko-fi.com/nickwrightdata\\n\\n-Looking forward to someone seeing 30+ \"new notifications\" on a Desktop tab after opening my account lol', display_name='(30+) Nick † Wright', indexed_at='2024-04-08T13:29:58.343Z', labels=[], viewer=ViewerState(blocked_by=False, blocking=None, blocking_by_list=None, followed_by=None, following=None, muted=False, muted_by_list=None, py_type='app.bsky.actor.defs#viewerState'), py_type='app.bsky.actor.defs#profileView'), indexed_at='2023-10-09T03:51:01.009Z', name='❌Personal Harassment', purpose='app.bsky.graph.defs#modlist', uri='at://did:plc:7allko6vtrpvyxxcd5beapou/app.bsky.graph.list/3kbc3zulu5i2a', avatar=None, description='', description_facets=None, viewer=ListViewerState(blocked=None, muted=False, py_type='app.bsky.graph.defs#listViewerState'), py_type='app.bsky.graph.defs#listView', labels=[]), ListView(cid='bafyreihd3zzzexht6ksgsvn7wpjkpuhasbdbxvgiwdldcudg63bbuezxie', creator=ProfileView(did='did:plc:7allko6vtrpvyxxcd5beapou', handle='nickwrightdata.ntw.app', avatar='https://cdn.bsky.app/img/avatar/plain/did:plc:7allko6vtrpvyxxcd5beapou/bafkreibpxlcmt2kd7ezc3jsv3pdcnwmgveax745veovdxfbjpvunxyl6kq@jpeg', description='Me: ✝️👨\\u200d👩♾️📊👨🏻\\u200d💻🔬⚖️📍🌱👨🏻\\u200d🚀🤖🎮🔭📍CO, 🇺🇸\\n\\n🧑🏻\\u200d💻Creator of @nowbreezing.ntw.app\\n💬 nickwrightdata.01\\n☕ https://ko-fi.com/nickwrightdata\\n\\n-Looking forward to someone seeing 30+ \"new notifications\" on a Desktop tab after opening my account lol', display_name='(30+) Nick † Wright', indexed_at='2024-04-08T13:29:58.343Z', labels=[], viewer=ViewerState(blocked_by=False, blocking=None, blocking_by_list=None, followed_by=None, following=None, muted=False, muted_by_list=None, py_type='app.bsky.actor.defs#viewerState'), py_type='app.bsky.actor.defs#profileView'), indexed_at='2023-10-09T03:47:15.939Z', name='❌Follow spammer', purpose='app.bsky.graph.defs#modlist', uri='at://did:plc:7allko6vtrpvyxxcd5beapou/app.bsky.graph.list/3kbc3t5xegp22', avatar=None, description='Follows tens of thousands of accounts in hopes a fraction will follow back.', description_facets=None, viewer=ListViewerState(blocked=None, muted=False, py_type='app.bsky.graph.defs#listViewerState'), py_type='app.bsky.graph.defs#listView', labels=[]), ListView(cid='bafyreiaqsid6zqf4bnq6lfsmnirvvpywuhtr4bze3cgmkam5bxzqcw4jmi', creator=ProfileView(did='did:plc:7allko6vtrpvyxxcd5beapou', handle='nickwrightdata.ntw.app', avatar='https://cdn.bsky.app/img/avatar/plain/did:plc:7allko6vtrpvyxxcd5beapou/bafkreibpxlcmt2kd7ezc3jsv3pdcnwmgveax745veovdxfbjpvunxyl6kq@jpeg', description='Me: ✝️👨\\u200d👩♾️📊👨🏻\\u200d💻🔬⚖️📍🌱👨🏻\\u200d🚀🤖🎮🔭📍CO, 🇺🇸\\n\\n🧑🏻\\u200d💻Creator of @nowbreezing.ntw.app\\n💬 nickwrightdata.01\\n☕ https://ko-fi.com/nickwrightdata\\n\\n-Looking forward to someone seeing 30+ \"new notifications\" on a Desktop tab after opening my account lol', display_name='(30+) Nick † Wright', indexed_at='2024-04-08T13:29:58.343Z', labels=[], viewer=ViewerState(blocked_by=False, blocking=None, blocking_by_list=None, followed_by=None, following=None, muted=False, muted_by_list=None, py_type='app.bsky.actor.defs#viewerState'), py_type='app.bsky.actor.defs#profileView'), indexed_at='2023-09-04T19:50:19.353Z', name='❌Racist', purpose='app.bsky.graph.defs#modlist', uri='at://did:plc:7allko6vtrpvyxxcd5beapou/app.bsky.graph.list/3k6lrcyxyej23', avatar=None, description='', description_facets=None, viewer=ListViewerState(blocked=None, muted=False, py_type='app.bsky.graph.defs#listViewerState'), py_type='app.bsky.graph.defs#listView', labels=[]), ListView(cid='bafyreiascbeuzl346kymvnzkfakv6tjx2hws6grg2vwt3tudfjqlcuwtky', creator=ProfileView(did='did:plc:7allko6vtrpvyxxcd5beapou', handle='nickwrightdata.ntw.app', avatar='https://cdn.bsky.app/img/avatar/plain/did:plc:7allko6vtrpvyxxcd5beapou/bafkreibpxlcmt2kd7ezc3jsv3pdcnwmgveax745veovdxfbjpvunxyl6kq@jpeg', description='Me: ✝️👨\\u200d👩♾️📊👨🏻\\u200d💻🔬⚖️📍🌱👨🏻\\u200d🚀🤖🎮🔭📍CO, 🇺🇸\\n\\n🧑🏻\\u200d💻Creator of @nowbreezing.ntw.app\\n💬 nickwrightdata.01\\n☕ https://ko-fi.com/nickwrightdata\\n\\n-Looking forward to someone seeing 30+ \"new notifications\" on a Desktop tab after opening my account lol', display_name='(30+) Nick † Wright', indexed_at='2024-04-08T13:29:58.343Z', labels=[], viewer=ViewerState(blocked_by=False, blocking=None, blocking_by_list=None, followed_by=None, following=None, muted=False, muted_by_list=None, py_type='app.bsky.actor.defs#viewerState'), py_type='app.bsky.actor.defs#profileView'), indexed_at='2023-09-04T19:44:33.605Z', name='❌Anti-vaxx/science', purpose='app.bsky.graph.defs#modlist', uri='at://did:plc:7allko6vtrpvyxxcd5beapou/app.bsky.graph.list/3k6lqypapqk27', avatar=None, description='', description_facets=None, viewer=ListViewerState(blocked=None, muted=False, py_type='app.bsky.graph.defs#listViewerState'), py_type='app.bsky.graph.defs#listView', labels=[]), ListView(cid='bafyreid77e6pbgibef4pqh6s2blyshovfroom5yfokwrmw5zb55eyxjhq4', creator=ProfileView(did='did:plc:7allko6vtrpvyxxcd5beapou', handle='nickwrightdata.ntw.app', avatar='https://cdn.bsky.app/img/avatar/plain/did:plc:7allko6vtrpvyxxcd5beapou/bafkreibpxlcmt2kd7ezc3jsv3pdcnwmgveax745veovdxfbjpvunxyl6kq@jpeg', description='Me: ✝️👨\\u200d👩♾️📊👨🏻\\u200d💻🔬⚖️📍🌱👨🏻\\u200d🚀🤖🎮🔭📍CO, 🇺🇸\\n\\n🧑🏻\\u200d💻Creator of @nowbreezing.ntw.app\\n💬 nickwrightdata.01\\n☕ https://ko-fi.com/nickwrightdata\\n\\n-Looking forward to someone seeing 30+ \"new notifications\" on a Desktop tab after opening my account lol', display_name='(30+) Nick † Wright', indexed_at='2024-04-08T13:29:58.343Z', labels=[], viewer=ViewerState(blocked_by=False, blocking=None, blocking_by_list=None, followed_by=None, following=None, muted=False, muted_by_list=None, py_type='app.bsky.actor.defs#viewerState'), py_type='app.bsky.actor.defs#profileView'), indexed_at='2023-09-04T19:38:53.205Z', name='❌Anti-\"woke\"', purpose='app.bsky.graph.defs#modlist', uri='at://did:plc:7allko6vtrpvyxxcd5beapou/app.bsky.graph.list/3k6lqokmct42m', avatar=None, description='Uses \"woke\" pejoratively', description_facets=None, viewer=ListViewerState(blocked=None, muted=False, py_type='app.bsky.graph.defs#listViewerState'), py_type='app.bsky.graph.defs#listView', labels=[]), ListView(cid='bafyreiflnvt3tixnt55w2akigueqrd3loov3mjn3wzek3gtaiyhwlxoaje', creator=ProfileView(did='did:plc:7allko6vtrpvyxxcd5beapou', handle='nickwrightdata.ntw.app', avatar='https://cdn.bsky.app/img/avatar/plain/did:plc:7allko6vtrpvyxxcd5beapou/bafkreibpxlcmt2kd7ezc3jsv3pdcnwmgveax745veovdxfbjpvunxyl6kq@jpeg', description='Me: ✝️👨\\u200d👩♾️📊👨🏻\\u200d💻🔬⚖️📍🌱👨🏻\\u200d🚀🤖🎮🔭📍CO, 🇺🇸\\n\\n🧑🏻\\u200d💻Creator of @nowbreezing.ntw.app\\n💬 nickwrightdata.01\\n☕ https://ko-fi.com/nickwrightdata\\n\\n-Looking forward to someone seeing 30+ \"new notifications\" on a Desktop tab after opening my account lol', display_name='(30+) Nick † Wright', indexed_at='2024-04-08T13:29:58.343Z', labels=[], viewer=ViewerState(blocked_by=False, blocking=None, blocking_by_list=None, followed_by=None, following=None, muted=False, muted_by_list=None, py_type='app.bsky.actor.defs#viewerState'), py_type='app.bsky.actor.defs#profileView'), indexed_at='2023-08-04T23:22:13.674Z', name='Keep out of Ratioed POST Feed! (Not a mute list)', purpose='app.bsky.graph.defs#modlist', uri='at://did:plc:7allko6vtrpvyxxcd5beapou/app.bsky.graph.list/3k466petikn27', avatar=None, description='Accounts that regularly have \"ratioed\" replies (replies with more replies than likes) but for reasons *other* than being a bad actor. Examples:\\n-Bot (or sometimes a user) that asks for replies (What\\'s your favorite...?\")\\n-User that replies to its own post 10+ times\\n-Extenuating Circumstances', description_facets=None, viewer=ListViewerState(blocked=None, muted=False, py_type='app.bsky.graph.defs#listViewerState'), py_type='app.bsky.graph.defs#listView', labels=[]), ListView(cid='bafyreidsy7iy5zy64tfcrc543zc4dtwa5izwtbhjzqwzhh4xqbs2skmowu', creator=ProfileView(did='did:plc:7allko6vtrpvyxxcd5beapou', handle='nickwrightdata.ntw.app', avatar='https://cdn.bsky.app/img/avatar/plain/did:plc:7allko6vtrpvyxxcd5beapou/bafkreibpxlcmt2kd7ezc3jsv3pdcnwmgveax745veovdxfbjpvunxyl6kq@jpeg', description='Me: ✝️👨\\u200d👩♾️📊👨🏻\\u200d💻🔬⚖️📍🌱👨🏻\\u200d🚀🤖🎮🔭📍CO, 🇺🇸\\n\\n🧑🏻\\u200d💻Creator of @nowbreezing.ntw.app\\n💬 nickwrightdata.01\\n☕ https://ko-fi.com/nickwrightdata\\n\\n-Looking forward to someone seeing 30+ \"new notifications\" on a Desktop tab after opening my account lol', display_name='(30+) Nick † Wright', indexed_at='2024-04-08T13:29:58.343Z', labels=[], viewer=ViewerState(blocked_by=False, blocking=None, blocking_by_list=None, followed_by=None, following=None, muted=False, muted_by_list=None, py_type='app.bsky.actor.defs#viewerState'), py_type='app.bsky.actor.defs#profileView'), indexed_at='2023-08-04T22:06:05.100Z', name='Keep out of Ratioed REPLY Feed! (Not a mute list)', purpose='app.bsky.graph.defs#modlist', uri='at://did:plc:7allko6vtrpvyxxcd5beapou/app.bsky.graph.list/3k462h7x5cb2i', avatar=None, description='Accounts that regularly have \"ratioed\" replies (replies with more replies than likes) but for reasons *other* than being a bad actor. Examples:\\n-Bot (or sometimes a user) that replies to users asking/prompting for replies.\\n-Users who handle large projects and get lots of replies on their own replies', description_facets=None, viewer=ListViewerState(blocked=None, muted=False, py_type='app.bsky.graph.defs#listViewerState'), py_type='app.bsky.graph.defs#listView', labels=[])], cursor='3k462h7x5cb2i')"
      ]
     },
     "execution_count": 30,
     "metadata": {},
     "output_type": "execute_result"
    }
   ],
   "source": [
    "mutelist"
   ]
  },
  {
   "cell_type": "markdown",
   "metadata": {},
   "source": [
    "OK, so we can get all the lists for a given user. We just need to provide the author DID. We can loop through all the lists, presumably."
   ]
  },
  {
   "cell_type": "code",
   "execution_count": 31,
   "metadata": {},
   "outputs": [
    {
     "data": {
      "text/plain": [
       "atproto_client.models.app.bsky.graph.get_lists.Response"
      ]
     },
     "execution_count": 31,
     "metadata": {},
     "output_type": "execute_result"
    }
   ],
   "source": [
    "type(mutelist)"
   ]
  },
  {
   "cell_type": "code",
   "execution_count": 34,
   "metadata": {},
   "outputs": [
    {
     "data": {
      "text/plain": [
       "dict_keys(['lists', 'cursor'])"
      ]
     },
     "execution_count": 34,
     "metadata": {},
     "output_type": "execute_result"
    }
   ],
   "source": [
    "mutelist.__dict__.keys()"
   ]
  },
  {
   "cell_type": "code",
   "execution_count": 36,
   "metadata": {},
   "outputs": [],
   "source": [
    "mutelists = mutelist.lists"
   ]
  },
  {
   "cell_type": "code",
   "execution_count": 41,
   "metadata": {},
   "outputs": [],
   "source": [
    "from atproto_client.models.app.bsky.graph.defs import ListView"
   ]
  },
  {
   "cell_type": "code",
   "execution_count": 37,
   "metadata": {},
   "outputs": [
    {
     "data": {
      "text/plain": [
       "atproto_client.models.app.bsky.graph.defs.ListView"
      ]
     },
     "execution_count": 37,
     "metadata": {},
     "output_type": "execute_result"
    }
   ],
   "source": [
    "type(mutelists[0])"
   ]
  },
  {
   "cell_type": "code",
   "execution_count": 42,
   "metadata": {},
   "outputs": [],
   "source": [
    "first_list: ListView = mutelists[0]"
   ]
  },
  {
   "cell_type": "code",
   "execution_count": 44,
   "metadata": {},
   "outputs": [
    {
     "data": {
      "text/plain": [
       "{'cid': 'bafyreifnizypcscq24ecse5a2wsphdtkopvar3s3a3x2c7cmhs6awsnaua',\n",
       " 'creator': ProfileView(did='did:plc:7allko6vtrpvyxxcd5beapou', handle='nickwrightdata.ntw.app', avatar='https://cdn.bsky.app/img/avatar/plain/did:plc:7allko6vtrpvyxxcd5beapou/bafkreibpxlcmt2kd7ezc3jsv3pdcnwmgveax745veovdxfbjpvunxyl6kq@jpeg', description='Me: ✝️👨\\u200d👩♾️📊👨🏻\\u200d💻🔬⚖️📍🌱👨🏻\\u200d🚀🤖🎮🔭📍CO, 🇺🇸\\n\\n🧑🏻\\u200d💻Creator of @nowbreezing.ntw.app\\n💬 nickwrightdata.01\\n☕ https://ko-fi.com/nickwrightdata\\n\\n-Looking forward to someone seeing 30+ \"new notifications\" on a Desktop tab after opening my account lol', display_name='(30+) Nick † Wright', indexed_at='2024-04-08T13:29:58.343Z', labels=[], viewer=ViewerState(blocked_by=False, blocking=None, blocking_by_list=None, followed_by=None, following=None, muted=False, muted_by_list=None, py_type='app.bsky.actor.defs#viewerState'), py_type='app.bsky.actor.defs#profileView'),\n",
       " 'indexed_at': '2024-03-03T02:20:39.354Z',\n",
       " 'name': \"Keep Out of Ratio'd Feed\",\n",
       " 'purpose': 'app.bsky.graph.defs#curatelist',\n",
       " 'uri': 'at://did:plc:7allko6vtrpvyxxcd5beapou/app.bsky.graph.list/3kmr32obinz2q',\n",
       " 'avatar': None,\n",
       " 'description': 'This is a list of accounts that often give \"false ratios\". This may happen due to a number of reasons:\\n-people asking great questions and lots of other people answer happily\\n-someone creating a thread in a \"one-to-many\" reply style\\n-bots being bots',\n",
       " 'description_facets': None,\n",
       " 'viewer': ListViewerState(blocked=None, muted=False, py_type='app.bsky.graph.defs#listViewerState'),\n",
       " 'py_type': 'app.bsky.graph.defs#listView'}"
      ]
     },
     "execution_count": 44,
     "metadata": {},
     "output_type": "execute_result"
    }
   ],
   "source": [
    "first_list.__dict__"
   ]
  },
  {
   "cell_type": "code",
   "execution_count": 45,
   "metadata": {},
   "outputs": [
    {
     "data": {
      "text/plain": [
       "{'cid': 'bafyreibgxamuro3qar76eftnliz6terjfqyi5ca76owaroqyifbw6m3y34',\n",
       " 'creator': ProfileView(did='did:plc:7allko6vtrpvyxxcd5beapou', handle='nickwrightdata.ntw.app', avatar='https://cdn.bsky.app/img/avatar/plain/did:plc:7allko6vtrpvyxxcd5beapou/bafkreibpxlcmt2kd7ezc3jsv3pdcnwmgveax745veovdxfbjpvunxyl6kq@jpeg', description='Me: ✝️👨\\u200d👩♾️📊👨🏻\\u200d💻🔬⚖️📍🌱👨🏻\\u200d🚀🤖🎮🔭📍CO, 🇺🇸\\n\\n🧑🏻\\u200d💻Creator of @nowbreezing.ntw.app\\n💬 nickwrightdata.01\\n☕ https://ko-fi.com/nickwrightdata\\n\\n-Looking forward to someone seeing 30+ \"new notifications\" on a Desktop tab after opening my account lol', display_name='(30+) Nick † Wright', indexed_at='2024-04-08T13:29:58.343Z', labels=[], viewer=ViewerState(blocked_by=False, blocking=None, blocking_by_list=None, followed_by=None, following=None, muted=False, muted_by_list=None, py_type='app.bsky.actor.defs#viewerState'), py_type='app.bsky.actor.defs#profileView'),\n",
       " 'indexed_at': '2024-03-02T23:41:20.256Z',\n",
       " 'name': '❌Red Triangle',\n",
       " 'purpose': 'app.bsky.graph.defs#modlist',\n",
       " 'uri': 'at://did:plc:7allko6vtrpvyxxcd5beapou/app.bsky.graph.list/3kmqs5s4q632b',\n",
       " 'avatar': None,\n",
       " 'description': 'e.g. 🔻 or 🔺 in bio/name/etc',\n",
       " 'description_facets': None,\n",
       " 'viewer': ListViewerState(blocked=None, muted=False, py_type='app.bsky.graph.defs#listViewerState'),\n",
       " 'py_type': 'app.bsky.graph.defs#listView'}"
      ]
     },
     "execution_count": 45,
     "metadata": {},
     "output_type": "execute_result"
    }
   ],
   "source": [
    "mutelists[1].__dict__"
   ]
  },
  {
   "cell_type": "code",
   "execution_count": 46,
   "metadata": {},
   "outputs": [
    {
     "data": {
      "text/plain": [
       "{'cid': 'bafyreifsw2wzspnlmp7a2mof5ytqtqyl22lvv3jwmlnawzko5rsfyx5ez4',\n",
       " 'creator': ProfileView(did='did:plc:7allko6vtrpvyxxcd5beapou', handle='nickwrightdata.ntw.app', avatar='https://cdn.bsky.app/img/avatar/plain/did:plc:7allko6vtrpvyxxcd5beapou/bafkreibpxlcmt2kd7ezc3jsv3pdcnwmgveax745veovdxfbjpvunxyl6kq@jpeg', description='Me: ✝️👨\\u200d👩♾️📊👨🏻\\u200d💻🔬⚖️📍🌱👨🏻\\u200d🚀🤖🎮🔭📍CO, 🇺🇸\\n\\n🧑🏻\\u200d💻Creator of @nowbreezing.ntw.app\\n💬 nickwrightdata.01\\n☕ https://ko-fi.com/nickwrightdata\\n\\n-Looking forward to someone seeing 30+ \"new notifications\" on a Desktop tab after opening my account lol', display_name='(30+) Nick † Wright', indexed_at='2024-04-08T13:29:58.343Z', labels=[], viewer=ViewerState(blocked_by=False, blocking=None, blocking_by_list=None, followed_by=None, following=None, muted=False, muted_by_list=None, py_type='app.bsky.actor.defs#viewerState'), py_type='app.bsky.actor.defs#profileView'),\n",
       " 'indexed_at': '2024-02-22T19:19:27.460Z',\n",
       " 'name': '❌Revenge Fantasists',\n",
       " 'purpose': 'app.bsky.graph.defs#modlist',\n",
       " 'uri': 'at://did:plc:7allko6vtrpvyxxcd5beapou/app.bsky.graph.list/3klzpdabrw22i',\n",
       " 'avatar': None,\n",
       " 'description': '',\n",
       " 'description_facets': None,\n",
       " 'viewer': ListViewerState(blocked=None, muted=False, py_type='app.bsky.graph.defs#listViewerState'),\n",
       " 'py_type': 'app.bsky.graph.defs#listView'}"
      ]
     },
     "execution_count": 46,
     "metadata": {},
     "output_type": "execute_result"
    }
   ],
   "source": [
    "mutelists[2].__dict__"
   ]
  },
  {
   "cell_type": "code",
   "execution_count": 47,
   "metadata": {},
   "outputs": [
    {
     "data": {
      "text/plain": [
       "{'cid': 'bafyreidyib5mdq42nnpuu6pv5bcbq4uwxslolwxwscb3jm2ipgolxbxydm',\n",
       " 'creator': ProfileView(did='did:plc:7allko6vtrpvyxxcd5beapou', handle='nickwrightdata.ntw.app', avatar='https://cdn.bsky.app/img/avatar/plain/did:plc:7allko6vtrpvyxxcd5beapou/bafkreibpxlcmt2kd7ezc3jsv3pdcnwmgveax745veovdxfbjpvunxyl6kq@jpeg', description='Me: ✝️👨\\u200d👩♾️📊👨🏻\\u200d💻🔬⚖️📍🌱👨🏻\\u200d🚀🤖🎮🔭📍CO, 🇺🇸\\n\\n🧑🏻\\u200d💻Creator of @nowbreezing.ntw.app\\n💬 nickwrightdata.01\\n☕ https://ko-fi.com/nickwrightdata\\n\\n-Looking forward to someone seeing 30+ \"new notifications\" on a Desktop tab after opening my account lol', display_name='(30+) Nick † Wright', indexed_at='2024-04-08T13:29:58.343Z', labels=[], viewer=ViewerState(blocked_by=False, blocking=None, blocking_by_list=None, followed_by=None, following=None, muted=False, muted_by_list=None, py_type='app.bsky.actor.defs#viewerState'), py_type='app.bsky.actor.defs#profileView'),\n",
       " 'indexed_at': '2023-11-14T19:41:51.715Z',\n",
       " 'name': '🪗 \"Weird Al\" Yankovic',\n",
       " 'purpose': 'app.bsky.graph.defs#curatelist',\n",
       " 'uri': 'at://did:plc:7allko6vtrpvyxxcd5beapou/app.bsky.graph.list/3ke6bx7ck622w',\n",
       " 'avatar': None,\n",
       " 'description': '',\n",
       " 'description_facets': None,\n",
       " 'viewer': ListViewerState(blocked=None, muted=False, py_type='app.bsky.graph.defs#listViewerState'),\n",
       " 'py_type': 'app.bsky.graph.defs#listView'}"
      ]
     },
     "execution_count": 47,
     "metadata": {},
     "output_type": "execute_result"
    }
   ],
   "source": [
    "mutelists[3].__dict__"
   ]
  },
  {
   "cell_type": "markdown",
   "metadata": {},
   "source": [
    "We can filter for the list uri, e.g. `at://did:plc:7allko6vtrpvyxxcd5beapou/app.bsky.graph.list/3ke6bx7ck622w`.\n",
    "\n",
    "Now that we can get the list URI, can we get the users blocked by the list?"
   ]
  },
  {
   "cell_type": "code",
   "execution_count": 48,
   "metadata": {},
   "outputs": [],
   "source": [
    "example_list_uri = mutelists[0].uri"
   ]
  },
  {
   "cell_type": "code",
   "execution_count": 64,
   "metadata": {},
   "outputs": [
    {
     "data": {
      "text/plain": [
       "'did:plc:7allko6vtrpvyxxcd5beapou'"
      ]
     },
     "execution_count": 64,
     "metadata": {},
     "output_type": "execute_result"
    }
   ],
   "source": [
    "author_did"
   ]
  },
  {
   "cell_type": "code",
   "execution_count": 63,
   "metadata": {},
   "outputs": [
    {
     "data": {
      "text/plain": [
       "'at://did:plc:7allko6vtrpvyxxcd5beapou/app.bsky.graph.list/3kmr32obinz2q'"
      ]
     },
     "execution_count": 63,
     "metadata": {},
     "output_type": "execute_result"
    }
   ],
   "source": [
    "example_list_uri"
   ]
  },
  {
   "cell_type": "code",
   "execution_count": 51,
   "metadata": {},
   "outputs": [
    {
     "name": "stderr",
     "output_type": "stream",
     "text": [
      "HTTP Request: GET https://bsky.social/xrpc/app.bsky.graph.getList?list=at%3A%2F%2Fdid%3Aplc%3A7allko6vtrpvyxxcd5beapou%2Fapp.bsky.graph.list%2F3kmr32obinz2q&limit=50 \"HTTP/1.1 200 OK\"\n"
     ]
    }
   ],
   "source": [
    "res = client.app.bsky.graph.get_list(params={\"list\": example_list_uri})"
   ]
  },
  {
   "cell_type": "code",
   "execution_count": 52,
   "metadata": {},
   "outputs": [
    {
     "data": {
      "text/plain": [
       "Response(items=[ListItemView(subject=ProfileView(did='did:plc:6yp7tjiwin65ulleuyqr67aq', handle='transprincemaxx.bsky.social', avatar='https://cdn.bsky.app/img/avatar/plain/did:plc:6yp7tjiwin65ulleuyqr67aq/bafkreicbtn7ri3hck5jstu32p5sgyamnxbvtnpprdv4kvht45or6paxeru@jpeg', description='He/They/It/Em\\nFree Palestine \\n21 ', display_name='Maxx', indexed_at='2024-04-04T21:06:17.943Z', labels=[], viewer=ViewerState(blocked_by=False, blocking=None, blocking_by_list=None, followed_by=None, following=None, muted=False, muted_by_list=None, py_type='app.bsky.actor.defs#viewerState'), py_type='app.bsky.actor.defs#profileView'), uri='at://did:plc:7allko6vtrpvyxxcd5beapou/app.bsky.graph.listitem/3kpfhioqcg62x', py_type='app.bsky.graph.defs#listItemView'), ListItemView(subject=ProfileView(did='did:plc:paxoqtmvpz3vxq5r6zk6fr26', handle='monewsdaily.bsky.social', avatar='https://cdn.bsky.app/img/avatar/plain/did:plc:paxoqtmvpz3vxq5r6zk6fr26/bafkreihfmgw3npo3lesfjocnccqx2cf2qrffx2cietotdjjfj7winudo2a@jpeg', description='Physician, Surgeon and Earth scientist\\nSubspecialties: renewable energy, EVs, ecology and agriculture', display_name='BartholamewEvansMD', indexed_at='2024-04-03T06:02:36.345Z', labels=[], viewer=ViewerState(blocked_by=False, blocking=None, blocking_by_list=None, followed_by=None, following=None, muted=False, muted_by_list=None, py_type='app.bsky.actor.defs#viewerState'), py_type='app.bsky.actor.defs#profileView'), uri='at://did:plc:7allko6vtrpvyxxcd5beapou/app.bsky.graph.listitem/3kpfhh76h7r2j', py_type='app.bsky.graph.defs#listItemView'), ListItemView(subject=ProfileView(did='did:plc:vtzoz7vdh65othkdr3mopspt', handle='paulineseidel.bsky.social', avatar='https://cdn.bsky.app/img/avatar/plain/did:plc:vtzoz7vdh65othkdr3mopspt/bafkreih7kq6nzip52vr45obqfgvwk5gkuqmxw7owb4ouhyn6ar7m5duz2m@jpeg', description='Geographin & Wissenschaftliche Mitarbeiterin @ Technische Uni Dresden, mit viel 💚 für Mikroplastik-Forschung, Böden & Kaffee ☕️\\n\\nGeographer & Research Assistant @ Technical University Dresden, w/ loads of 💚 for Microplastics Research, Soils & Coffee ☕️', display_name='Pauline Seidel', indexed_at='2024-03-20T11:37:22.052Z', labels=[], viewer=ViewerState(blocked_by=False, blocking=None, blocking_by_list=None, followed_by=None, following=None, muted=False, muted_by_list=None, py_type='app.bsky.actor.defs#viewerState'), py_type='app.bsky.actor.defs#profileView'), uri='at://did:plc:7allko6vtrpvyxxcd5beapou/app.bsky.graph.listitem/3kpfhd4tmha2w', py_type='app.bsky.graph.defs#listItemView'), ListItemView(subject=ProfileView(did='did:plc:7soujtbrvjfe4zbdc6yujra4', handle='loekalization.bsky.social', avatar='https://cdn.bsky.app/img/avatar/plain/did:plc:7soujtbrvjfe4zbdc6yujra4/bafkreichcoteslvikyvblsz26bsv74yd6ptac5yold7kxoi3paltkakmhm@jpeg', description='Loekalizing your games from and to Japanese, Chinese, Korean, English and Dutch. Portfolio: Shadow Gambit: The Cursed Crew, F1® 2023, Syberia: The World Before, Arma 3. Owner of www.loekalization.com Developer of www.c4ttitude.com (a CAT tool).', display_name='Loek van Kooten, MA', indexed_at='2024-01-26T02:33:59.789Z', labels=[], viewer=ViewerState(blocked_by=False, blocking=None, blocking_by_list=None, followed_by=None, following=None, muted=False, muted_by_list=None, py_type='app.bsky.actor.defs#viewerState'), py_type='app.bsky.actor.defs#profileView'), uri='at://did:plc:7allko6vtrpvyxxcd5beapou/app.bsky.graph.listitem/3kpfgiz3umj2j', py_type='app.bsky.graph.defs#listItemView'), ListItemView(subject=ProfileView(did='did:plc:fpqtpwwzj45fkbvqzb2mia4q', handle='wookietron9000.bsky.social', avatar='https://cdn.bsky.app/img/avatar/plain/did:plc:fpqtpwwzj45fkbvqzb2mia4q/bafkreifstfzyqw7ntnuz4xoexssuwr6euizavb3mmvg4nprzsm5lo5hggy@jpeg', description='This feed is my mental health journal, working on my shit:\\n\\ncPTSD/PTSD - BPD - CSA - TBI - Bipolar2-ultradian - CPP - Disabled veteran\\n\\nDigital Mystic - GNU/Linux, XFCE4 - (they/them/slave/it)\\n\\nSeattle', display_name='Wally Wookie (FullMetalWookie) 🏳️\\u200d🌈', indexed_at='2024-03-18T23:36:56.643Z', labels=[], viewer=ViewerState(blocked_by=False, blocking=None, blocking_by_list=None, followed_by=None, following=None, muted=False, muted_by_list=None, py_type='app.bsky.actor.defs#viewerState'), py_type='app.bsky.actor.defs#profileView'), uri='at://did:plc:7allko6vtrpvyxxcd5beapou/app.bsky.graph.listitem/3kpdkpidqqt2h', py_type='app.bsky.graph.defs#listItemView'), ListItemView(subject=ProfileView(did='did:plc:nz4yueep3cycfkhomsvwmlwa', handle='gcp-incidents.bsky.social', avatar='https://cdn.bsky.app/img/avatar/plain/did:plc:nz4yueep3cycfkhomsvwmlwa/bafkreidgbhba26rqehbg66iamcyrl2qq2rrb4tt3ynymeeuy2bwat77y7q@jpeg', description='Posts from Google Cloud Platform Incidents. This is not an official account from Google. Created by @januz.nl', display_name='GCP Incidents', indexed_at='2024-01-26T00:26:05.786Z', labels=[], viewer=ViewerState(blocked_by=False, blocking=None, blocking_by_list=None, followed_by=None, following=None, muted=False, muted_by_list=None, py_type='app.bsky.actor.defs#viewerState'), py_type='app.bsky.actor.defs#profileView'), uri='at://did:plc:7allko6vtrpvyxxcd5beapou/app.bsky.graph.listitem/3kmr57mkqw22z', py_type='app.bsky.graph.defs#listItemView'), ListItemView(subject=ProfileView(did='did:plc:w524f2zdqikl6g7gw2n46hea', handle='listigeplaylists.bsky.social', avatar='https://cdn.bsky.app/img/avatar/plain/did:plc:w524f2zdqikl6g7gw2n46hea/bafkreic525yp27jhc4c427gr6iy6nfjf4bscty3ujfxpv2fg7kbbjs4dgq@jpeg', description='🎶 Join me in shaping a dynamic, auto-updated Spotify playlist. Using BlueSky posts! 📻\\n\\n(beep/boop)\\n\\nAdding new track(s) every full hour to this playlist:\\nhttps://open.spotify.com/playlist/1PkWMirBslXWUtwW3ImA1F', display_name='Follow & Post Me Your Spotify Tracks For Playlisting🎧', indexed_at='2024-04-05T22:23:06.544Z', labels=[], viewer=ViewerState(blocked_by=False, blocking=None, blocking_by_list=None, followed_by=None, following=None, muted=False, muted_by_list=None, py_type='app.bsky.actor.defs#viewerState'), py_type='app.bsky.actor.defs#profileView'), uri='at://did:plc:7allko6vtrpvyxxcd5beapou/app.bsky.graph.listitem/3kmr4y4dzj32p', py_type='app.bsky.graph.defs#listItemView'), ListItemView(subject=ProfileView(did='did:plc:ebh4zxqz2cw6rtj2wmhkvu52', handle='eurekakreuzwort.bsky.social', avatar='https://cdn.bsky.app/img/avatar/plain/did:plc:ebh4zxqz2cw6rtj2wmhkvu52/bafkreidhogrop35k36lsyjxbf4jyqm74xkjxuu2okhm4fayqi5qhqlnwiu@jpeg', description='Täglich neue #Fakten! 🤯 Bereit für unendlichen Rätselspaß? Eureka Kreuzworträtsel jetzt als App erhältlich!\\nhttps://eurekaapp.de', display_name='Eureka! Fakten', indexed_at='2024-01-25T23:48:13.020Z', labels=[], viewer=ViewerState(blocked_by=False, blocking=None, blocking_by_list=None, followed_by=None, following=None, muted=False, muted_by_list=None, py_type='app.bsky.actor.defs#viewerState'), py_type='app.bsky.actor.defs#profileView'), uri='at://did:plc:7allko6vtrpvyxxcd5beapou/app.bsky.graph.listitem/3kmr4xdpbzq2l', py_type='app.bsky.graph.defs#listItemView'), ListItemView(subject=ProfileView(did='did:plc:w3xllhhb2fwejnvyg3z2qilk', handle='skylog.bsky.social', avatar='https://cdn.bsky.app/img/avatar/plain/did:plc:w3xllhhb2fwejnvyg3z2qilk/bafkreieulw2eeh4ac2igal2rc22uade63j6troffvnlxqe5g5nmskmyfli@jpeg', description='あなたの一日の投稿数・リポスト数などを集計します\\n集計に参加する方法は @skylog.bsky.social をフォロー\\n0:00 (JST)が日付の境目です\\n\\nBotの作者は @shino3.bsky.social', display_name='ソラログｯ!!!', indexed_at='2024-01-26T00:17:40.562Z', labels=[], viewer=ViewerState(blocked_by=False, blocking=None, blocking_by_list=None, followed_by=None, following=None, muted=False, muted_by_list=None, py_type='app.bsky.actor.defs#viewerState'), py_type='app.bsky.actor.defs#profileView'), uri='at://did:plc:7allko6vtrpvyxxcd5beapou/app.bsky.graph.listitem/3kmr35l74xw2a', py_type='app.bsky.graph.defs#listItemView'), ListItemView(subject=ProfileView(did='did:plc:4hqjfn7m6n5hno3doamuhgef', handle='yui.syui.ai', avatar='https://cdn.bsky.app/img/avatar/plain/did:plc:4hqjfn7m6n5hno3doamuhgef/bafkreiaxkv624mffw3cfyi67ufxtwuwsy2mjw2ygezsvtd44ycbgkfdo2a@jpeg', description='@ https://yui.syui.ai /help', display_name='ai', indexed_at='2024-02-25T10:18:38.782Z', labels=[], viewer=ViewerState(blocked_by=False, blocking=None, blocking_by_list=None, followed_by=None, following=None, muted=False, muted_by_list=None, py_type='app.bsky.actor.defs#viewerState'), py_type='app.bsky.actor.defs#profileView'), uri='at://did:plc:7allko6vtrpvyxxcd5beapou/app.bsky.graph.listitem/3kmr3573jmi2f', py_type='app.bsky.graph.defs#listItemView')], list=ListView(cid='bafyreifnizypcscq24ecse5a2wsphdtkopvar3s3a3x2c7cmhs6awsnaua', creator=ProfileView(did='did:plc:7allko6vtrpvyxxcd5beapou', handle='nickwrightdata.ntw.app', avatar='https://cdn.bsky.app/img/avatar/plain/did:plc:7allko6vtrpvyxxcd5beapou/bafkreibpxlcmt2kd7ezc3jsv3pdcnwmgveax745veovdxfbjpvunxyl6kq@jpeg', description='Me: ✝️👨\\u200d👩♾️📊👨🏻\\u200d💻🔬⚖️📍🌱👨🏻\\u200d🚀🤖🎮🔭📍CO, 🇺🇸\\n\\n🧑🏻\\u200d💻Creator of @nowbreezing.ntw.app\\n💬 nickwrightdata.01\\n☕ https://ko-fi.com/nickwrightdata\\n\\n-Looking forward to someone seeing 30+ \"new notifications\" on a Desktop tab after opening my account lol', display_name='(30+) Nick † Wright', indexed_at='2024-04-08T13:29:58.343Z', labels=[], viewer=ViewerState(blocked_by=False, blocking=None, blocking_by_list=None, followed_by=None, following=None, muted=False, muted_by_list=None, py_type='app.bsky.actor.defs#viewerState'), py_type='app.bsky.actor.defs#profileView'), indexed_at='2024-03-03T02:20:39.354Z', name=\"Keep Out of Ratio'd Feed\", purpose='app.bsky.graph.defs#curatelist', uri='at://did:plc:7allko6vtrpvyxxcd5beapou/app.bsky.graph.list/3kmr32obinz2q', avatar=None, description='This is a list of accounts that often give \"false ratios\". This may happen due to a number of reasons:\\n-people asking great questions and lots of other people answer happily\\n-someone creating a thread in a \"one-to-many\" reply style\\n-bots being bots', description_facets=None, viewer=ListViewerState(blocked=None, muted=False, py_type='app.bsky.graph.defs#listViewerState'), py_type='app.bsky.graph.defs#listView', labels=[]), cursor=None)"
      ]
     },
     "execution_count": 52,
     "metadata": {},
     "output_type": "execute_result"
    }
   ],
   "source": [
    "res"
   ]
  },
  {
   "cell_type": "code",
   "execution_count": 53,
   "metadata": {},
   "outputs": [],
   "source": [
    "items = res.items"
   ]
  },
  {
   "cell_type": "markdown",
   "metadata": {},
   "source": [
    "Looks like this is the list of users added to a list!"
   ]
  },
  {
   "cell_type": "code",
   "execution_count": 55,
   "metadata": {},
   "outputs": [
    {
     "data": {
      "text/plain": [
       "atproto_client.models.app.bsky.graph.defs.ListItemView"
      ]
     },
     "execution_count": 55,
     "metadata": {},
     "output_type": "execute_result"
    }
   ],
   "source": [
    "type(items[0])"
   ]
  },
  {
   "cell_type": "code",
   "execution_count": 56,
   "metadata": {},
   "outputs": [],
   "source": [
    "from atproto_client.models.app.bsky.graph.defs import ListItemView"
   ]
  },
  {
   "cell_type": "code",
   "execution_count": 88,
   "metadata": {},
   "outputs": [
    {
     "data": {
      "text/plain": [
       "'did:plc:6yp7tjiwin65ulleuyqr67aq'"
      ]
     },
     "execution_count": 88,
     "metadata": {},
     "output_type": "execute_result"
    }
   ],
   "source": [
    "items[0].subject.did"
   ]
  },
  {
   "cell_type": "code",
   "execution_count": 104,
   "metadata": {},
   "outputs": [],
   "source": [
    "def get_user_info_from_list_item(list_item: ListItemView):\n",
    "    \"\"\"Given a list item view (from the list view), return a dictionary with\n",
    "    the user's blocked user id (did) and their handle (username)\"\"\"\n",
    "    return {\"did\": list_item.subject.did, \"handle\": list_item.subject.handle}"
   ]
  },
  {
   "cell_type": "code",
   "execution_count": 105,
   "metadata": {},
   "outputs": [],
   "source": [
    "def get_users_added_to_list(list_items: list[ListItemView]) -> list[dict]:\n",
    "    \"\"\"Given a list of list items, return a list of dictionaries with the user's\n",
    "    blocked user id (did) and their handle (username)\"\"\"\n",
    "    return [get_user_info_from_list_item(item) for item in list_items]"
   ]
  },
  {
   "cell_type": "code",
   "execution_count": 60,
   "metadata": {},
   "outputs": [
    {
     "data": {
      "text/plain": [
       "atproto_client.models.app.bsky.graph.get_list.Response"
      ]
     },
     "execution_count": 60,
     "metadata": {},
     "output_type": "execute_result"
    }
   ],
   "source": [
    "type(res)"
   ]
  },
  {
   "cell_type": "code",
   "execution_count": 61,
   "metadata": {},
   "outputs": [],
   "source": [
    "from atproto_client.models.app.bsky.graph.get_list import Response as GetListResponse"
   ]
  },
  {
   "cell_type": "code",
   "execution_count": 82,
   "metadata": {},
   "outputs": [],
   "source": [
    "def generate_list_uri_given_list_url(list_url: str) -> str:\n",
    "    \"\"\"Given a list url, return the corresponding list uri.\n",
    "    \n",
    "    Example:\n",
    "    >> list_url = \"https://bsky.app/profile/nickwrightdata.ntw.app/lists/3kmr32obinz2q\"\n",
    "    >> generate_list_uri_given_list_url(list_url)\n",
    "    \"at://did:plc:7allko6vtrpvyxxcd5beapou/app.bsky.graph.list/3kmr32obinz2q\"\n",
    "    \"\"\"\n",
    "    split_url = list_url.split(\"/\")\n",
    "    author_handle: str = split_url[-3]\n",
    "    list_did: str = split_url[-1]\n",
    "\n",
    "    author_did: str = get_author_did_from_handle(author_handle)\n",
    "    list_uri = f\"at://{author_did}/app.bsky.graph.list/{list_did}\"\n",
    "    return list_uri"
   ]
  },
  {
   "cell_type": "code",
   "execution_count": 106,
   "metadata": {},
   "outputs": [],
   "source": [
    "def get_users_on_list_given_list_uri(list_uri: str) -> list[dict]:\n",
    "    \"\"\"Given a list uri, return a list of dictionaries with the user's\n",
    "    blocked user id (did) and their handle (username)\"\"\"\n",
    "    res: GetListResponse = client.app.bsky.graph.get_list(params={\"list\": list_uri})\n",
    "    return get_users_added_to_list(res.items)"
   ]
  },
  {
   "cell_type": "code",
   "execution_count": 101,
   "metadata": {},
   "outputs": [],
   "source": [
    "def get_users_in_list_given_list_url(list_url: str) -> list[dict]:\n",
    "    \"\"\"Given the URL to a list, return the users added to the list.\"\"\"\n",
    "    list_uri: str = generate_list_uri_given_list_url(list_url)\n",
    "    return get_users_on_list_given_list_uri(list_uri)"
   ]
  },
  {
   "cell_type": "markdown",
   "metadata": {},
   "source": [
    "Let's give it a shot"
   ]
  },
  {
   "cell_type": "code",
   "execution_count": 103,
   "metadata": {},
   "outputs": [
    {
     "name": "stderr",
     "output_type": "stream",
     "text": [
      "HTTP Request: GET https://bsky.social/xrpc/app.bsky.actor.getProfile?actor=nickwrightdata.ntw.app \"HTTP/1.1 200 OK\"\n",
      "HTTP Request: GET https://bsky.social/xrpc/app.bsky.graph.getList?list=at%3A%2F%2Fdid%3Aplc%3A7allko6vtrpvyxxcd5beapou%2Fapp.bsky.graph.list%2F3kbsdkgupow2r&limit=50 \"HTTP/1.1 200 OK\"\n"
     ]
    },
    {
     "name": "stdout",
     "output_type": "stream",
     "text": [
      "Res: items=[ListItemView(subject=ProfileView(did='did:plc:jd3myfjllwm2sg6s4akuw7rv', handle='albumscover.bsky.social', avatar='https://cdn.bsky.app/img/avatar/plain/did:plc:jd3myfjllwm2sg6s4akuw7rv/bafkreif5nrj7b2cnnat42bevdgp2lrhou7wmx3w36e73pphlwtkvsxdw5u@jpeg', description='DM for removal or submission .', display_name='Images That Could Be Album Covers', indexed_at='2024-01-26T03:34:13.692Z', labels=[], viewer=ViewerState(blocked_by=False, blocking=None, blocking_by_list=None, followed_by=None, following=None, muted=False, muted_by_list=None, py_type='app.bsky.actor.defs#viewerState'), py_type='app.bsky.actor.defs#profileView'), uri='at://did:plc:7allko6vtrpvyxxcd5beapou/app.bsky.graph.listitem/3kizuxlsgem2m', py_type='app.bsky.graph.defs#listItemView'), ListItemView(subject=ProfileView(did='did:plc:m5rp3imz6rydf5ev4qmkmlaw', handle='fox-news.bsky.social', avatar='https://cdn.bsky.app/img/avatar/plain/did:plc:m5rp3imz6rydf5ev4qmkmlaw/bafkreidee4k6ncxr63lnefzbqcpvj4xxgq4vtfzoo5lpopc2bk5wdje5da@jpeg', description='Inofficial fan account that shares fox news.', display_name='Fox News Bot | Headlines & Breaking News', indexed_at='2024-01-26T03:03:37.464Z', labels=[], viewer=ViewerState(blocked_by=False, blocking=None, blocking_by_list=None, followed_by=None, following=None, muted=False, muted_by_list=None, py_type='app.bsky.actor.defs#viewerState'), py_type='app.bsky.actor.defs#profileView'), uri='at://did:plc:7allko6vtrpvyxxcd5beapou/app.bsky.graph.listitem/3kibbt3ulbv2z', py_type='app.bsky.graph.defs#listItemView')] list=ListView(cid='bafyreib4cffqbllttztwoxedjintwcygxga6e7ybs6t7k6tszotilkmqhu', creator=ProfileView(did='did:plc:7allko6vtrpvyxxcd5beapou', handle='nickwrightdata.ntw.app', avatar='https://cdn.bsky.app/img/avatar/plain/did:plc:7allko6vtrpvyxxcd5beapou/bafkreibpxlcmt2kd7ezc3jsv3pdcnwmgveax745veovdxfbjpvunxyl6kq@jpeg', description='Me: ✝️👨\\u200d👩♾️📊👨🏻\\u200d💻🔬⚖️📍🌱👨🏻\\u200d🚀🤖🎮🔭📍CO, 🇺🇸\\n\\n🧑🏻\\u200d💻Creator of @nowbreezing.ntw.app\\n💬 nickwrightdata.01\\n☕ https://ko-fi.com/nickwrightdata\\n\\n-Looking forward to someone seeing 30+ \"new notifications\" on a Desktop tab after opening my account lol', display_name='(30+) Nick † Wright', indexed_at='2024-04-08T13:29:58.343Z', labels=[], viewer=ViewerState(blocked_by=False, blocking=None, blocking_by_list=None, followed_by=None, following=None, muted=False, muted_by_list=None, py_type='app.bsky.actor.defs#viewerState'), py_type='app.bsky.actor.defs#profileView'), indexed_at='2023-10-15T14:48:09.222Z', name='❌Spam/Scam', purpose='app.bsky.graph.defs#modlist', uri='at://did:plc:7allko6vtrpvyxxcd5beapou/app.bsky.graph.list/3kbsdkgupow2r', avatar=None, description='', description_facets=None, viewer=ListViewerState(blocked=None, muted=False, py_type='app.bsky.graph.defs#listViewerState'), py_type='app.bsky.graph.defs#listView', labels=[]) cursor=None\n",
      "List items: [ListItemView(subject=ProfileView(did='did:plc:jd3myfjllwm2sg6s4akuw7rv', handle='albumscover.bsky.social', avatar='https://cdn.bsky.app/img/avatar/plain/did:plc:jd3myfjllwm2sg6s4akuw7rv/bafkreif5nrj7b2cnnat42bevdgp2lrhou7wmx3w36e73pphlwtkvsxdw5u@jpeg', description='DM for removal or submission .', display_name='Images That Could Be Album Covers', indexed_at='2024-01-26T03:34:13.692Z', labels=[], viewer=ViewerState(blocked_by=False, blocking=None, blocking_by_list=None, followed_by=None, following=None, muted=False, muted_by_list=None, py_type='app.bsky.actor.defs#viewerState'), py_type='app.bsky.actor.defs#profileView'), uri='at://did:plc:7allko6vtrpvyxxcd5beapou/app.bsky.graph.listitem/3kizuxlsgem2m', py_type='app.bsky.graph.defs#listItemView'), ListItemView(subject=ProfileView(did='did:plc:m5rp3imz6rydf5ev4qmkmlaw', handle='fox-news.bsky.social', avatar='https://cdn.bsky.app/img/avatar/plain/did:plc:m5rp3imz6rydf5ev4qmkmlaw/bafkreidee4k6ncxr63lnefzbqcpvj4xxgq4vtfzoo5lpopc2bk5wdje5da@jpeg', description='Inofficial fan account that shares fox news.', display_name='Fox News Bot | Headlines & Breaking News', indexed_at='2024-01-26T03:03:37.464Z', labels=[], viewer=ViewerState(blocked_by=False, blocking=None, blocking_by_list=None, followed_by=None, following=None, muted=False, muted_by_list=None, py_type='app.bsky.actor.defs#viewerState'), py_type='app.bsky.actor.defs#profileView'), uri='at://did:plc:7allko6vtrpvyxxcd5beapou/app.bsky.graph.listitem/3kibbt3ulbv2z', py_type='app.bsky.graph.defs#listItemView')]\n",
      "Type of list_items: <class 'list'>\n",
      "First list item: subject=ProfileView(did='did:plc:jd3myfjllwm2sg6s4akuw7rv', handle='albumscover.bsky.social', avatar='https://cdn.bsky.app/img/avatar/plain/did:plc:jd3myfjllwm2sg6s4akuw7rv/bafkreif5nrj7b2cnnat42bevdgp2lrhou7wmx3w36e73pphlwtkvsxdw5u@jpeg', description='DM for removal or submission .', display_name='Images That Could Be Album Covers', indexed_at='2024-01-26T03:34:13.692Z', labels=[], viewer=ViewerState(blocked_by=False, blocking=None, blocking_by_list=None, followed_by=None, following=None, muted=False, muted_by_list=None, py_type='app.bsky.actor.defs#viewerState'), py_type='app.bsky.actor.defs#profileView') uri='at://did:plc:7allko6vtrpvyxxcd5beapou/app.bsky.graph.listitem/3kizuxlsgem2m' py_type='app.bsky.graph.defs#listItemView'\n",
      "Type of list_item: <class 'atproto_client.models.app.bsky.graph.defs.ListItemView'>\n",
      "Type of list_item: <class 'atproto_client.models.app.bsky.graph.defs.ListItemView'>\n"
     ]
    }
   ],
   "source": [
    "test_url = \"https://bsky.app/profile/nickwrightdata.ntw.app/lists/3kbsdkgupow2r\"\n",
    "users = get_users_in_list_given_list_url(test_url)"
   ]
  },
  {
   "cell_type": "code",
   "execution_count": 107,
   "metadata": {},
   "outputs": [
    {
     "data": {
      "text/plain": [
       "[{'did': 'did:plc:jd3myfjllwm2sg6s4akuw7rv',\n",
       "  'handle': 'albumscover.bsky.social'},\n",
       " {'did': 'did:plc:m5rp3imz6rydf5ev4qmkmlaw', 'handle': 'fox-news.bsky.social'}]"
      ]
     },
     "execution_count": 107,
     "metadata": {},
     "output_type": "execute_result"
    }
   ],
   "source": [
    "users"
   ]
  },
  {
   "cell_type": "markdown",
   "metadata": {},
   "source": [
    "Great! Now we can, given the link to the feed list, store the banned users.\n",
    "\n",
    "We should track the:\n",
    "- Lists that are used: we can track the list metadata (title, description, author, date last accessed, etc.)\n",
    "- Users: user did, handle, and the list that they're on. We can just take whichever list we've most recently processed if they happen to appear on multiple lists."
   ]
  },
  {
   "cell_type": "code",
   "execution_count": 110,
   "metadata": {},
   "outputs": [
    {
     "data": {
      "text/plain": [
       "{'cid': 'bafyreifnizypcscq24ecse5a2wsphdtkopvar3s3a3x2c7cmhs6awsnaua',\n",
       " 'creator': ProfileView(did='did:plc:7allko6vtrpvyxxcd5beapou', handle='nickwrightdata.ntw.app', avatar='https://cdn.bsky.app/img/avatar/plain/did:plc:7allko6vtrpvyxxcd5beapou/bafkreibpxlcmt2kd7ezc3jsv3pdcnwmgveax745veovdxfbjpvunxyl6kq@jpeg', description='Me: ✝️👨\\u200d👩♾️📊👨🏻\\u200d💻🔬⚖️📍🌱👨🏻\\u200d🚀🤖🎮🔭📍CO, 🇺🇸\\n\\n🧑🏻\\u200d💻Creator of @nowbreezing.ntw.app\\n💬 nickwrightdata.01\\n☕ https://ko-fi.com/nickwrightdata\\n\\n-Looking forward to someone seeing 30+ \"new notifications\" on a Desktop tab after opening my account lol', display_name='(30+) Nick † Wright', indexed_at='2024-04-08T13:29:58.343Z', labels=[], viewer=ViewerState(blocked_by=False, blocking=None, blocking_by_list=None, followed_by=None, following=None, muted=False, muted_by_list=None, py_type='app.bsky.actor.defs#viewerState'), py_type='app.bsky.actor.defs#profileView'),\n",
       " 'indexed_at': '2024-03-03T02:20:39.354Z',\n",
       " 'name': \"Keep Out of Ratio'd Feed\",\n",
       " 'purpose': 'app.bsky.graph.defs#curatelist',\n",
       " 'uri': 'at://did:plc:7allko6vtrpvyxxcd5beapou/app.bsky.graph.list/3kmr32obinz2q',\n",
       " 'avatar': None,\n",
       " 'description': 'This is a list of accounts that often give \"false ratios\". This may happen due to a number of reasons:\\n-people asking great questions and lots of other people answer happily\\n-someone creating a thread in a \"one-to-many\" reply style\\n-bots being bots',\n",
       " 'description_facets': None,\n",
       " 'viewer': ListViewerState(blocked=None, muted=False, py_type='app.bsky.graph.defs#listViewerState'),\n",
       " 'py_type': 'app.bsky.graph.defs#listView'}"
      ]
     },
     "execution_count": 110,
     "metadata": {},
     "output_type": "execute_result"
    }
   ],
   "source": [
    "res.list.__dict__"
   ]
  },
  {
   "cell_type": "code",
   "execution_count": 111,
   "metadata": {},
   "outputs": [],
   "source": [
    "def get_list_info_given_list_url(list_url: str) -> dict:\n",
    "    \"\"\"Given the URL of a list, get both the metadata for a list as well as\n",
    "    the users on the list.\"\"\"\n",
    "    list_uri: str = generate_list_uri_given_list_url(list_url)\n",
    "    res: GetListResponse = client.app.bsky.graph.get_list(params={\"list\": list_uri})\n",
    "    list_metadata: dict = {\n",
    "        \"cid\": res.list.cid,\n",
    "        \"name\": res.list.name,\n",
    "        \"uri\": res.list.uri,\n",
    "        \"description\": res.list.description,\n",
    "        \"author_did\": res.list.creator.did,\n",
    "        \"author_handle\": res.list.creator.handle,\n",
    "    }\n",
    "    users: list[dict] = get_users_added_to_list(res.items)\n",
    "    return {\"list_metadata\": list_metadata, \"users\": users}"
   ]
  },
  {
   "cell_type": "markdown",
   "metadata": {},
   "source": [
    "Let's give it a shot!"
   ]
  },
  {
   "cell_type": "code",
   "execution_count": 112,
   "metadata": {},
   "outputs": [
    {
     "name": "stderr",
     "output_type": "stream",
     "text": [
      "HTTP Request: GET https://bsky.social/xrpc/app.bsky.actor.getProfile?actor=nickwrightdata.ntw.app \"HTTP/1.1 200 OK\"\n",
      "HTTP Request: GET https://bsky.social/xrpc/app.bsky.graph.getList?list=at%3A%2F%2Fdid%3Aplc%3A7allko6vtrpvyxxcd5beapou%2Fapp.bsky.graph.list%2F3kbsdkgupow2r&limit=50 \"HTTP/1.1 200 OK\"\n"
     ]
    }
   ],
   "source": [
    "list_metadata_and_users = get_list_info_given_list_url(test_url)"
   ]
  },
  {
   "cell_type": "code",
   "execution_count": 113,
   "metadata": {},
   "outputs": [
    {
     "data": {
      "text/plain": [
       "{'list_metadata': {'cid': 'bafyreib4cffqbllttztwoxedjintwcygxga6e7ybs6t7k6tszotilkmqhu',\n",
       "  'name': '❌Spam/Scam',\n",
       "  'uri': 'at://did:plc:7allko6vtrpvyxxcd5beapou/app.bsky.graph.list/3kbsdkgupow2r',\n",
       "  'description': '',\n",
       "  'author_did': 'did:plc:7allko6vtrpvyxxcd5beapou',\n",
       "  'author_handle': 'nickwrightdata.ntw.app'},\n",
       " 'users': [{'did': 'did:plc:jd3myfjllwm2sg6s4akuw7rv',\n",
       "   'handle': 'albumscover.bsky.social'},\n",
       "  {'did': 'did:plc:m5rp3imz6rydf5ev4qmkmlaw',\n",
       "   'handle': 'fox-news.bsky.social'}]}"
      ]
     },
     "execution_count": 113,
     "metadata": {},
     "output_type": "execute_result"
    }
   ],
   "source": [
    "list_metadata_and_users"
   ]
  },
  {
   "cell_type": "markdown",
   "metadata": {},
   "source": [
    "Looks like it works! Let's see how we'd record all of this data. Let's first record the tables."
   ]
  },
  {
   "cell_type": "code",
   "execution_count": 114,
   "metadata": {},
   "outputs": [],
   "source": [
    "lists_list = []\n",
    "users_list = []"
   ]
  },
  {
   "cell_type": "markdown",
   "metadata": {},
   "source": [
    "Now let's get all the data for each list url"
   ]
  },
  {
   "cell_type": "code",
   "execution_count": 115,
   "metadata": {},
   "outputs": [],
   "source": [
    "from services.filter_raw_data.update_bluesky_mute_lists.constants import MUTE_LIST_LINKS"
   ]
  },
  {
   "cell_type": "code",
   "execution_count": 117,
   "metadata": {},
   "outputs": [
    {
     "name": "stderr",
     "output_type": "stream",
     "text": [
      "HTTP Request: POST https://bsky.social/xrpc/com.atproto.server.refreshSession \"HTTP/1.1 200 OK\"\n",
      "HTTP Request: GET https://bsky.social/xrpc/app.bsky.actor.getProfile?actor=nickwrightdata.ntw.app \"HTTP/1.1 200 OK\"\n",
      "HTTP Request: GET https://bsky.social/xrpc/app.bsky.graph.getList?list=at%3A%2F%2Fdid%3Aplc%3A7allko6vtrpvyxxcd5beapou%2Fapp.bsky.graph.list%2F3kmr32obinz2q&limit=50 \"HTTP/1.1 200 OK\"\n",
      "HTTP Request: GET https://bsky.social/xrpc/app.bsky.actor.getProfile?actor=nickwrightdata.ntw.app \"HTTP/1.1 200 OK\"\n",
      "HTTP Request: GET https://bsky.social/xrpc/app.bsky.graph.getList?list=at%3A%2F%2Fdid%3Aplc%3A7allko6vtrpvyxxcd5beapou%2Fapp.bsky.graph.list%2F3kdkjh34a2s2g&limit=50 \"HTTP/1.1 200 OK\"\n",
      "HTTP Request: GET https://bsky.social/xrpc/app.bsky.actor.getProfile?actor=nickwrightdata.ntw.app \"HTTP/1.1 200 OK\"\n",
      "HTTP Request: GET https://bsky.social/xrpc/app.bsky.graph.getList?list=at%3A%2F%2Fdid%3Aplc%3A7allko6vtrpvyxxcd5beapou%2Fapp.bsky.graph.list%2F3kbsdkgupow2r&limit=50 \"HTTP/1.1 200 OK\"\n",
      "HTTP Request: GET https://bsky.social/xrpc/app.bsky.actor.getProfile?actor=nickwrightdata.ntw.app \"HTTP/1.1 200 OK\"\n",
      "HTTP Request: GET https://bsky.social/xrpc/app.bsky.graph.getList?list=at%3A%2F%2Fdid%3Aplc%3A7allko6vtrpvyxxcd5beapou%2Fapp.bsky.graph.list%2F3kbc54ufb4g2j&limit=50 \"HTTP/1.1 200 OK\"\n",
      "HTTP Request: GET https://bsky.social/xrpc/app.bsky.actor.getProfile?actor=nickwrightdata.ntw.app \"HTTP/1.1 200 OK\"\n",
      "HTTP Request: GET https://bsky.social/xrpc/app.bsky.graph.getList?list=at%3A%2F%2Fdid%3Aplc%3A7allko6vtrpvyxxcd5beapou%2Fapp.bsky.graph.list%2F3kbc3t5xegp22&limit=50 \"HTTP/1.1 200 OK\"\n",
      "HTTP Request: GET https://bsky.social/xrpc/app.bsky.actor.getProfile?actor=nowbreezing.ntw.app \"HTTP/1.1 200 OK\"\n",
      "HTTP Request: GET https://bsky.social/xrpc/app.bsky.graph.getList?list=at%3A%2F%2Fdid%3Aplc%3Amcb6n67plnrlx4lg35natk2b%2Fapp.bsky.graph.list%2F3ki7g7lxg3i2q&limit=50 \"HTTP/1.1 200 OK\"\n"
     ]
    }
   ],
   "source": [
    "list_data_list = [get_list_info_given_list_url(url) for url in MUTE_LIST_LINKS]"
   ]
  },
  {
   "cell_type": "code",
   "execution_count": 142,
   "metadata": {},
   "outputs": [],
   "source": [
    "lists_list = []\n",
    "users_list = []"
   ]
  },
  {
   "cell_type": "code",
   "execution_count": 143,
   "metadata": {},
   "outputs": [],
   "source": [
    "from lib.constants import current_datetime_str"
   ]
  },
  {
   "cell_type": "code",
   "execution_count": 139,
   "metadata": {},
   "outputs": [],
   "source": [
    "for list_data in list_data_list:\n",
    "    # add the list metadata to the lists_list\n",
    "    lists_list.append(list_data[\"list_metadata\"])\n",
    "    # for each user, get their data plus which list it cames from\n",
    "    for user in list_data[\"users\"]:\n",
    "        user[\"source_list_uri\"] = list_data[\"list_metadata\"][\"uri\"]\n",
    "        user[\"source_list_name\"] = list_data[\"list_metadata\"][\"name\"]\n",
    "        user[\"timestamp_added\"] = current_datetime_str\n",
    "        users_list.append(user)"
   ]
  },
  {
   "cell_type": "code",
   "execution_count": 140,
   "metadata": {},
   "outputs": [
    {
     "data": {
      "text/plain": [
       "{'did': 'did:plc:6yp7tjiwin65ulleuyqr67aq',\n",
       " 'handle': 'transprincemaxx.bsky.social',\n",
       " 'list_uri': 'at://did:plc:7allko6vtrpvyxxcd5beapou/app.bsky.graph.list/3kmr32obinz2q',\n",
       " 'source_list_uri': 'at://did:plc:7allko6vtrpvyxxcd5beapou/app.bsky.graph.list/3kmr32obinz2q',\n",
       " 'source_list_name': \"Keep Out of Ratio'd Feed\",\n",
       " 'timestamp_added': '2024-04-08-23:03:39'}"
      ]
     },
     "execution_count": 140,
     "metadata": {},
     "output_type": "execute_result"
    }
   ],
   "source": [
    "users_list[0]"
   ]
  },
  {
   "cell_type": "code",
   "execution_count": 130,
   "metadata": {},
   "outputs": [],
   "source": [
    "# for each user in users_list, dedupe based on the \"did\" key. We only need\n",
    "# one entry per user.\n",
    "deduped_users_list = []\n",
    "seen_dids = set()\n",
    "for user in users_list:\n",
    "    if user[\"did\"] not in seen_dids:\n",
    "        deduped_users_list.append(user)\n",
    "        seen_dids.add(user[\"did\"])"
   ]
  },
  {
   "cell_type": "code",
   "execution_count": 131,
   "metadata": {},
   "outputs": [
    {
     "data": {
      "text/plain": [
       "{'cid': 'bafyreifnizypcscq24ecse5a2wsphdtkopvar3s3a3x2c7cmhs6awsnaua',\n",
       " 'name': \"Keep Out of Ratio'd Feed\",\n",
       " 'uri': 'at://did:plc:7allko6vtrpvyxxcd5beapou/app.bsky.graph.list/3kmr32obinz2q',\n",
       " 'description': 'This is a list of accounts that often give \"false ratios\". This may happen due to a number of reasons:\\n-people asking great questions and lots of other people answer happily\\n-someone creating a thread in a \"one-to-many\" reply style\\n-bots being bots',\n",
       " 'author_did': 'did:plc:7allko6vtrpvyxxcd5beapou',\n",
       " 'author_handle': 'nickwrightdata.ntw.app'}"
      ]
     },
     "execution_count": 131,
     "metadata": {},
     "output_type": "execute_result"
    }
   ],
   "source": [
    "lists_list[0]"
   ]
  },
  {
   "cell_type": "code",
   "execution_count": 132,
   "metadata": {},
   "outputs": [
    {
     "data": {
      "text/plain": [
       "{'did': 'did:plc:6yp7tjiwin65ulleuyqr67aq',\n",
       " 'handle': 'transprincemaxx.bsky.social',\n",
       " 'list_uri': 'at://did:plc:7allko6vtrpvyxxcd5beapou/app.bsky.graph.list/3kmr32obinz2q',\n",
       " 'source_list_uri': 'at://did:plc:7allko6vtrpvyxxcd5beapou/app.bsky.graph.list/3kmr32obinz2q',\n",
       " 'source_list_name': \"Keep Out of Ratio'd Feed\"}"
      ]
     },
     "execution_count": 132,
     "metadata": {},
     "output_type": "execute_result"
    }
   ],
   "source": [
    "deduped_users_list[0]"
   ]
  },
  {
   "cell_type": "markdown",
   "metadata": {},
   "source": [
    "Now I just need to add these list and user data to the database."
   ]
  }
 ],
 "metadata": {
  "kernelspec": {
   "display_name": "bluesky-research",
   "language": "python",
   "name": "python3"
  },
  "language_info": {
   "codemirror_mode": {
    "name": "ipython",
    "version": 3
   },
   "file_extension": ".py",
   "mimetype": "text/x-python",
   "name": "python",
   "nbconvert_exporter": "python",
   "pygments_lexer": "ipython3",
   "version": "3.10.13"
  }
 },
 "nbformat": 4,
 "nbformat_minor": 2
}
