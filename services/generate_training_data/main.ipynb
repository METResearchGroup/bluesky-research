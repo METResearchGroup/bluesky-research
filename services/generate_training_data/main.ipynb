{
 "cells": [
  {
   "cell_type": "markdown",
   "metadata": {},
   "source": [
    "# Generate annotated training data\n",
    "\n",
    "This Jupyter notebook will be the hub for generating annotated training data. We'll go through the following steps:\n",
    "\n",
    "1. Set up labeling session\n",
    "2. Label data\n",
    "3. Export labeled data"
   ]
  },
  {
   "cell_type": "markdown",
   "metadata": {},
   "source": [
    "## Part I: Set up labeling session\n",
    "\n",
    "In this part, we will (1) get the training data that we will label, and (2) get (and save) the configurations for our annotation session. This is all done automatically via a helper function, `set_up_labeling_session`, which optionally takes a parameter `config_path` that is a local path to a configuration .json file."
   ]
  },
  {
   "cell_type": "code",
   "execution_count": 5,
   "metadata": {},
   "outputs": [],
   "source": [
    "import json\n",
    "\n",
    "from services.generate_training_data.helper import set_up_labeling_session"
   ]
  },
  {
   "cell_type": "markdown",
   "metadata": {},
   "source": [
    "You can set up a labeling session manually:"
   ]
  },
  {
   "cell_type": "code",
   "execution_count": null,
   "metadata": {},
   "outputs": [],
   "source": [
    "session_dict: dict = set_up_labeling_session()"
   ]
  },
  {
   "cell_type": "markdown",
   "metadata": {},
   "source": [
    "You can also use an existing config. This is an example configuration file:"
   ]
  },
  {
   "cell_type": "code",
   "execution_count": 4,
   "metadata": {},
   "outputs": [],
   "source": [
    "sample_config = {\n",
    "    'num_samples': 100,\n",
    "    'task_name': 'post-ranking',\n",
    "    'task_description': \"Ranking posts as those we want to uprank ('uprank'), downrank ('downrank') or neither ('neutral')\",\n",
    "    'label_options': ['uprank', 'downrank', 'neutral'],\n",
    "    'labeling_session_name': 'post-ranking_2024-04-06-07:10:56',\n",
    "    'data_to_label_filename': 'post-ranking_2024-04-06-07:10:56.jsonl',\n",
    "    'notes': '',\n",
    "    'config_name': 'post-ranking_2024-04-06-07:10:56.json'\n",
    "}"
   ]
  },
  {
   "cell_type": "code",
   "execution_count": 6,
   "metadata": {},
   "outputs": [],
   "source": [
    "with open(\"example_config.json\", \"w\") as f:\n",
    "    f.write(json.dumps(sample_config, indent=4))"
   ]
  },
  {
   "cell_type": "markdown",
   "metadata": {},
   "source": [
    "To load an example configuration file, we can do the following:"
   ]
  },
  {
   "cell_type": "code",
   "execution_count": null,
   "metadata": {},
   "outputs": [],
   "source": [
    "with open(\"example_config.json\", 'r') as f:\n",
    "    config = json.load(f)"
   ]
  },
  {
   "cell_type": "markdown",
   "metadata": {},
   "source": [
    "## Part II: Label data"
   ]
  },
  {
   "cell_type": "code",
   "execution_count": null,
   "metadata": {},
   "outputs": [],
   "source": []
  },
  {
   "cell_type": "markdown",
   "metadata": {},
   "source": [
    "## Part III: Export labeled data"
   ]
  },
  {
   "cell_type": "markdown",
   "metadata": {},
   "source": []
  }
 ],
 "metadata": {
  "kernelspec": {
   "display_name": "bluesky-research",
   "language": "python",
   "name": "python3"
  },
  "language_info": {
   "codemirror_mode": {
    "name": "ipython",
    "version": 3
   },
   "file_extension": ".py",
   "mimetype": "text/x-python",
   "name": "python",
   "nbconvert_exporter": "python",
   "pygments_lexer": "ipython3",
   "version": "3.10.13"
  }
 },
 "nbformat": 4,
 "nbformat_minor": 2
}
