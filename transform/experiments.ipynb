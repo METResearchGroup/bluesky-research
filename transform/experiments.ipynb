{
 "cells": [
  {
   "cell_type": "code",
   "execution_count": 11,
   "metadata": {},
   "outputs": [],
   "source": [
    "from pprint import pprint\n",
    "\n",
    "from lib.helper import client\n",
    "from transform.bluesky_helper import get_post_record_from_post_link\n",
    "from transform.transform_raw_data import flatten_firehose_post"
   ]
  },
  {
   "cell_type": "markdown",
   "metadata": {},
   "source": [
    "If we don't have the parent posts, we should probably hydrate that?"
   ]
  },
  {
   "cell_type": "code",
   "execution_count": 34,
   "metadata": {},
   "outputs": [
    {
     "name": "stderr",
     "output_type": "stream",
     "text": [
      "HTTP Request: GET https://bsky.social/xrpc/app.bsky.actor.getProfile?actor=jst47.bsky.social \"HTTP/1.1 200 OK\"\n"
     ]
    },
    {
     "name": "stdout",
     "output_type": "stream",
     "text": [
      "Getting post record for 3kp2p4iv2uc26 by did:plc:ubvuetpkv6gmbk7tl2iphaun\n"
     ]
    },
    {
     "name": "stderr",
     "output_type": "stream",
     "text": [
      "HTTP Request: GET https://bsky.social/xrpc/com.atproto.repo.getRecord?collection=app.bsky.feed.post&repo=did%3Aplc%3Aubvuetpkv6gmbk7tl2iphaun&rkey=3kp2p4iv2uc26 \"HTTP/1.1 200 OK\"\n"
     ]
    }
   ],
   "source": [
    "new_example_post_link = \"https://bsky.app/profile/jst47.bsky.social/post/3kp2p4iv2uc26\"\n",
    "new_post_record = get_post_record_from_post_link(new_example_post_link)"
   ]
  },
  {
   "cell_type": "code",
   "execution_count": 36,
   "metadata": {},
   "outputs": [
    {
     "data": {
      "text/plain": [
       "{'created_at': '2024-04-01T09:03:55.674Z',\n",
       " 'text': 'Si yo fuera portugués tendría serias dudas de dónde apuntarme, en cambio tienen casillas diferenciadas para británicos, escoceses e irlandeses.',\n",
       " 'embed': Main(record=Main(cid='bafyreianc5p55dxtaysu2qv2z3aqal4ma5nntkk7erald6axvevfkbz4g4', uri='at://did:plc:77ug4j5ul7ce64gl6ogpe4o3/app.bsky.feed.post/3koyeyk4fdy2h', py_type='com.atproto.repo.strongRef'), py_type='app.bsky.embed.record'),\n",
       " 'entities': None,\n",
       " 'facets': None,\n",
       " 'labels': None,\n",
       " 'langs': ['es'],\n",
       " 'reply': None,\n",
       " 'tags': None,\n",
       " 'py_type': 'app.bsky.feed.post'}"
      ]
     },
     "execution_count": 36,
     "metadata": {},
     "output_type": "execute_result"
    }
   ],
   "source": [
    "new_post_record.value.__dict__"
   ]
  },
  {
   "cell_type": "code",
   "execution_count": 37,
   "metadata": {},
   "outputs": [],
   "source": [
    "embed = new_post_record.value.embed"
   ]
  },
  {
   "cell_type": "code",
   "execution_count": 50,
   "metadata": {},
   "outputs": [
    {
     "data": {
      "text/plain": [
       "atproto_client.models.app.bsky.embed.record.Main"
      ]
     },
     "execution_count": 50,
     "metadata": {},
     "output_type": "execute_result"
    }
   ],
   "source": [
    "type(embed)"
   ]
  },
  {
   "cell_type": "code",
   "execution_count": 77,
   "metadata": {},
   "outputs": [
    {
     "data": {
      "text/plain": [
       "{'record': Main(cid='bafyreianc5p55dxtaysu2qv2z3aqal4ma5nntkk7erald6axvevfkbz4g4', uri='at://did:plc:77ug4j5ul7ce64gl6ogpe4o3/app.bsky.feed.post/3koyeyk4fdy2h', py_type='com.atproto.repo.strongRef'),\n",
       " 'py_type': 'app.bsky.embed.record'}"
      ]
     },
     "execution_count": 77,
     "metadata": {},
     "output_type": "execute_result"
    }
   ],
   "source": [
    "embed.__dict__"
   ]
  },
  {
   "cell_type": "code",
   "execution_count": 76,
   "metadata": {},
   "outputs": [
    {
     "data": {
      "text/plain": [
       "atproto_client.models.com.atproto.repo.strong_ref.Main"
      ]
     },
     "execution_count": 76,
     "metadata": {},
     "output_type": "execute_result"
    }
   ],
   "source": [
    "type(embed.record)"
   ]
  },
  {
   "cell_type": "code",
   "execution_count": 75,
   "metadata": {},
   "outputs": [
    {
     "data": {
      "text/plain": [
       "Main(record=Main(cid='bafyreianc5p55dxtaysu2qv2z3aqal4ma5nntkk7erald6axvevfkbz4g4', uri='at://did:plc:77ug4j5ul7ce64gl6ogpe4o3/app.bsky.feed.post/3koyeyk4fdy2h', py_type='com.atproto.repo.strongRef'), py_type='app.bsky.embed.record')"
      ]
     },
     "execution_count": 75,
     "metadata": {},
     "output_type": "execute_result"
    }
   ],
   "source": [
    "embed"
   ]
  },
  {
   "cell_type": "code",
   "execution_count": 40,
   "metadata": {},
   "outputs": [
    {
     "data": {
      "text/plain": [
       "{'cid': 'bafyreianc5p55dxtaysu2qv2z3aqal4ma5nntkk7erald6axvevfkbz4g4',\n",
       " 'uri': 'at://did:plc:77ug4j5ul7ce64gl6ogpe4o3/app.bsky.feed.post/3koyeyk4fdy2h',\n",
       " 'py_type': 'com.atproto.repo.strongRef'}"
      ]
     },
     "execution_count": 40,
     "metadata": {},
     "output_type": "execute_result"
    }
   ],
   "source": [
    "embed.record.__dict__"
   ]
  },
  {
   "cell_type": "code",
   "execution_count": 49,
   "metadata": {},
   "outputs": [
    {
     "data": {
      "text/plain": [
       "atproto_client.models.app.bsky.embed.record.Main"
      ]
     },
     "execution_count": 49,
     "metadata": {},
     "output_type": "execute_result"
    }
   ],
   "source": [
    "type(embed)"
   ]
  },
  {
   "cell_type": "code",
   "execution_count": 41,
   "metadata": {},
   "outputs": [
    {
     "data": {
      "text/plain": [
       "Main(cid='bafyreianc5p55dxtaysu2qv2z3aqal4ma5nntkk7erald6axvevfkbz4g4', uri='at://did:plc:77ug4j5ul7ce64gl6ogpe4o3/app.bsky.feed.post/3koyeyk4fdy2h', py_type='com.atproto.repo.strongRef')"
      ]
     },
     "execution_count": 41,
     "metadata": {},
     "output_type": "execute_result"
    }
   ],
   "source": [
    "embed.record"
   ]
  },
  {
   "cell_type": "markdown",
   "metadata": {},
   "source": [
    "I should look through more posts to see what I can learn."
   ]
  },
  {
   "cell_type": "code",
   "execution_count": 42,
   "metadata": {},
   "outputs": [],
   "source": [
    "link = \"https://bsky.app/profile/karlrolson.com/post/3kp3ucdyzlk26\""
   ]
  },
  {
   "cell_type": "code",
   "execution_count": 43,
   "metadata": {},
   "outputs": [
    {
     "name": "stderr",
     "output_type": "stream",
     "text": [
      "HTTP Request: POST https://bsky.social/xrpc/com.atproto.server.refreshSession \"HTTP/1.1 200 OK\"\n",
      "HTTP Request: GET https://bsky.social/xrpc/app.bsky.actor.getProfile?actor=karlrolson.com \"HTTP/1.1 200 OK\"\n"
     ]
    },
    {
     "name": "stdout",
     "output_type": "stream",
     "text": [
      "Getting post record for 3kp3ucdyzlk26 by did:plc:5k6vvdogljoh3ughyhef5b6z\n"
     ]
    },
    {
     "name": "stderr",
     "output_type": "stream",
     "text": [
      "HTTP Request: GET https://bsky.social/xrpc/com.atproto.repo.getRecord?collection=app.bsky.feed.post&repo=did%3Aplc%3A5k6vvdogljoh3ughyhef5b6z&rkey=3kp3ucdyzlk26 \"HTTP/1.1 200 OK\"\n"
     ]
    }
   ],
   "source": [
    "record = get_post_record_from_post_link(link)"
   ]
  },
  {
   "cell_type": "code",
   "execution_count": 45,
   "metadata": {},
   "outputs": [
    {
     "data": {
      "text/plain": [
       "{'created_at': '2024-04-01T20:09:20.096Z',\n",
       " 'text': 'A terminology proposal:',\n",
       " 'embed': Main(images=[Image(alt='Disgusted face/interest face meme with the following scenario:\\n\\ndisgusted face: ARTIFICIAL INTELLIGENCE (AI)\\n\\ninterested face: PLAGIARIZED INFORMATION SYNTHESIS SYSTEM (PISS)', image=BlobRef(mime_type='image/jpeg', size=252203, ref=IpldLink(link='bafkreiexhf5s7lbnwpqrp5cslfef3x547ssyztymt3oave6dly2wjahtae'), py_type='blob'), aspect_ratio=AspectRatio(height=500, width=678, py_type='app.bsky.embed.images#aspectRatio'), py_type='app.bsky.embed.images#image')], py_type='app.bsky.embed.images'),\n",
       " 'entities': None,\n",
       " 'facets': None,\n",
       " 'labels': None,\n",
       " 'langs': ['en'],\n",
       " 'reply': None,\n",
       " 'tags': None,\n",
       " 'py_type': 'app.bsky.feed.post'}"
      ]
     },
     "execution_count": 45,
     "metadata": {},
     "output_type": "execute_result"
    }
   ],
   "source": [
    "record.value.__dict__"
   ]
  },
  {
   "cell_type": "code",
   "execution_count": 48,
   "metadata": {},
   "outputs": [
    {
     "data": {
      "text/plain": [
       "atproto_client.models.app.bsky.embed.images.Main"
      ]
     },
     "execution_count": 48,
     "metadata": {},
     "output_type": "execute_result"
    }
   ],
   "source": [
    "type(record.value.embed)"
   ]
  },
  {
   "cell_type": "code",
   "execution_count": 52,
   "metadata": {},
   "outputs": [
    {
     "data": {
      "text/plain": [
       "{'images': [Image(alt='Disgusted face/interest face meme with the following scenario:\\n\\ndisgusted face: ARTIFICIAL INTELLIGENCE (AI)\\n\\ninterested face: PLAGIARIZED INFORMATION SYNTHESIS SYSTEM (PISS)', image=BlobRef(mime_type='image/jpeg', size=252203, ref=IpldLink(link='bafkreiexhf5s7lbnwpqrp5cslfef3x547ssyztymt3oave6dly2wjahtae'), py_type='blob'), aspect_ratio=AspectRatio(height=500, width=678, py_type='app.bsky.embed.images#aspectRatio'), py_type='app.bsky.embed.images#image')],\n",
       " 'py_type': 'app.bsky.embed.images'}"
      ]
     },
     "execution_count": 52,
     "metadata": {},
     "output_type": "execute_result"
    }
   ],
   "source": [
    "record.value.embed.__dict__"
   ]
  },
  {
   "cell_type": "code",
   "execution_count": 54,
   "metadata": {},
   "outputs": [],
   "source": [
    "import json"
   ]
  },
  {
   "cell_type": "code",
   "execution_count": 53,
   "metadata": {},
   "outputs": [
    {
     "data": {
      "text/plain": [
       "[Image(alt='Disgusted face/interest face meme with the following scenario:\\n\\ndisgusted face: ARTIFICIAL INTELLIGENCE (AI)\\n\\ninterested face: PLAGIARIZED INFORMATION SYNTHESIS SYSTEM (PISS)', image=BlobRef(mime_type='image/jpeg', size=252203, ref=IpldLink(link='bafkreiexhf5s7lbnwpqrp5cslfef3x547ssyztymt3oave6dly2wjahtae'), py_type='blob'), aspect_ratio=AspectRatio(height=500, width=678, py_type='app.bsky.embed.images#aspectRatio'), py_type='app.bsky.embed.images#image')]"
      ]
     },
     "execution_count": 53,
     "metadata": {},
     "output_type": "execute_result"
    }
   ],
   "source": [
    "record.value.embed.images"
   ]
  },
  {
   "cell_type": "code",
   "execution_count": 56,
   "metadata": {},
   "outputs": [
    {
     "data": {
      "text/plain": [
       "atproto_client.models.app.bsky.embed.images.Image"
      ]
     },
     "execution_count": 56,
     "metadata": {},
     "output_type": "execute_result"
    }
   ],
   "source": [
    "type(record.value.embed.images[0])"
   ]
  },
  {
   "cell_type": "code",
   "execution_count": 57,
   "metadata": {},
   "outputs": [],
   "source": [
    "img = record.value.embed.images[0]"
   ]
  },
  {
   "cell_type": "code",
   "execution_count": 58,
   "metadata": {},
   "outputs": [
    {
     "data": {
      "text/plain": [
       "{'alt': 'Disgusted face/interest face meme with the following scenario:\\n\\ndisgusted face: ARTIFICIAL INTELLIGENCE (AI)\\n\\ninterested face: PLAGIARIZED INFORMATION SYNTHESIS SYSTEM (PISS)',\n",
       " 'image': BlobRef(mime_type='image/jpeg', size=252203, ref=IpldLink(link='bafkreiexhf5s7lbnwpqrp5cslfef3x547ssyztymt3oave6dly2wjahtae'), py_type='blob'),\n",
       " 'aspect_ratio': AspectRatio(height=500, width=678, py_type='app.bsky.embed.images#aspectRatio'),\n",
       " 'py_type': 'app.bsky.embed.images#image'}"
      ]
     },
     "execution_count": 58,
     "metadata": {},
     "output_type": "execute_result"
    }
   ],
   "source": [
    "img.__dict__"
   ]
  },
  {
   "cell_type": "code",
   "execution_count": 59,
   "metadata": {},
   "outputs": [
    {
     "data": {
      "text/plain": [
       "'Disgusted face/interest face meme with the following scenario:\\n\\ndisgusted face: ARTIFICIAL INTELLIGENCE (AI)\\n\\ninterested face: PLAGIARIZED INFORMATION SYNTHESIS SYSTEM (PISS)'"
      ]
     },
     "execution_count": 59,
     "metadata": {},
     "output_type": "execute_result"
    }
   ],
   "source": [
    "img.alt"
   ]
  },
  {
   "cell_type": "code",
   "execution_count": 60,
   "metadata": {},
   "outputs": [
    {
     "data": {
      "text/plain": [
       "BlobRef(mime_type='image/jpeg', size=252203, ref=IpldLink(link='bafkreiexhf5s7lbnwpqrp5cslfef3x547ssyztymt3oave6dly2wjahtae'), py_type='blob')"
      ]
     },
     "execution_count": 60,
     "metadata": {},
     "output_type": "execute_result"
    }
   ],
   "source": [
    "img.image"
   ]
  },
  {
   "cell_type": "code",
   "execution_count": 61,
   "metadata": {},
   "outputs": [
    {
     "data": {
      "text/plain": [
       "atproto_client.models.blob_ref.BlobRef"
      ]
     },
     "execution_count": 61,
     "metadata": {},
     "output_type": "execute_result"
    }
   ],
   "source": [
    "type(img.image)"
   ]
  },
  {
   "cell_type": "code",
   "execution_count": 62,
   "metadata": {},
   "outputs": [
    {
     "data": {
      "text/plain": [
       "CID(_cid='bafkreiexhf5s7lbnwpqrp5cslfef3x547ssyztymt3oave6dly2wjahtae', version=1, codec=85, hash=Multihash(code=18, size=32, digest=b'\\x979{/\\xac-\\xb3\\xe1\\x17\\xf4RYH]\\xdf\\xbc\\xfc\\xa5\\x8c\\xcf\\x0c\\x9e\\xdc\\n\\x93\\xc3^5d\\x80\\xf3\\x01'))"
      ]
     },
     "execution_count": 62,
     "metadata": {},
     "output_type": "execute_result"
    }
   ],
   "source": [
    "img.image.cid"
   ]
  },
  {
   "cell_type": "code",
   "execution_count": 63,
   "metadata": {},
   "outputs": [
    {
     "data": {
      "text/plain": [
       "{'mime_type': 'image/jpeg',\n",
       " 'size': 252203,\n",
       " 'ref': IpldLink(link='bafkreiexhf5s7lbnwpqrp5cslfef3x547ssyztymt3oave6dly2wjahtae'),\n",
       " 'py_type': 'blob'}"
      ]
     },
     "execution_count": 63,
     "metadata": {},
     "output_type": "execute_result"
    }
   ],
   "source": [
    "img.image.__dict__"
   ]
  },
  {
   "cell_type": "code",
   "execution_count": 65,
   "metadata": {},
   "outputs": [
    {
     "data": {
      "text/plain": [
       "'bafkreiexhf5s7lbnwpqrp5cslfef3x547ssyztymt3oave6dly2wjahtae'"
      ]
     },
     "execution_count": 65,
     "metadata": {},
     "output_type": "execute_result"
    }
   ],
   "source": [
    "img.image.ref.link"
   ]
  },
  {
   "cell_type": "code",
   "execution_count": 66,
   "metadata": {},
   "outputs": [],
   "source": [
    "from atproto_core.cid import CID"
   ]
  },
  {
   "cell_type": "code",
   "execution_count": 67,
   "metadata": {},
   "outputs": [],
   "source": [
    "decoded_link = CID.decode(img.image.ref.link)"
   ]
  },
  {
   "cell_type": "code",
   "execution_count": 68,
   "metadata": {},
   "outputs": [
    {
     "data": {
      "text/plain": [
       "CID(_cid='bafkreiexhf5s7lbnwpqrp5cslfef3x547ssyztymt3oave6dly2wjahtae', version=1, codec=85, hash=Multihash(code=18, size=32, digest=b'\\x979{/\\xac-\\xb3\\xe1\\x17\\xf4RYH]\\xdf\\xbc\\xfc\\xa5\\x8c\\xcf\\x0c\\x9e\\xdc\\n\\x93\\xc3^5d\\x80\\xf3\\x01'))"
      ]
     },
     "execution_count": 68,
     "metadata": {},
     "output_type": "execute_result"
    }
   ],
   "source": [
    "decoded_link"
   ]
  },
  {
   "cell_type": "code",
   "execution_count": 70,
   "metadata": {},
   "outputs": [
    {
     "name": "stdout",
     "output_type": "stream",
     "text": [
      "{'_cid': 'bafkreiexhf5s7lbnwpqrp5cslfef3x547ssyztymt3oave6dly2wjahtae', 'version': 1, 'codec': 85, 'hash': Multihash(code=18, size=32, digest=b'\\x979{/\\xac-\\xb3\\xe1\\x17\\xf4RYH]\\xdf\\xbc\\xfc\\xa5\\x8c\\xcf\\x0c\\x9e\\xdc\\n\\x93\\xc3^5d\\x80\\xf3\\x01')}\n"
     ]
    }
   ],
   "source": [
    "print(decoded_link.__dict__)"
   ]
  },
  {
   "cell_type": "code",
   "execution_count": 71,
   "metadata": {},
   "outputs": [],
   "source": [
    "decoded_hash = decoded_link.hash.digest.hex()"
   ]
  },
  {
   "cell_type": "code",
   "execution_count": 72,
   "metadata": {},
   "outputs": [
    {
     "data": {
      "text/plain": [
       "'97397b2fac2db3e117f45259485ddfbcfca58ccf0c9edc0a93c35e356480f301'"
      ]
     },
     "execution_count": 72,
     "metadata": {},
     "output_type": "execute_result"
    }
   ],
   "source": [
    "decoded_hash"
   ]
  },
  {
   "cell_type": "code",
   "execution_count": 74,
   "metadata": {},
   "outputs": [
    {
     "data": {
      "text/plain": [
       "['_SERVER_TIMEZONE',\n",
       " '__annotations__',\n",
       " '__class__',\n",
       " '__delattr__',\n",
       " '__dict__',\n",
       " '__dir__',\n",
       " '__doc__',\n",
       " '__eq__',\n",
       " '__format__',\n",
       " '__ge__',\n",
       " '__getattribute__',\n",
       " '__gt__',\n",
       " '__hash__',\n",
       " '__init__',\n",
       " '__init_subclass__',\n",
       " '__le__',\n",
       " '__lt__',\n",
       " '__module__',\n",
       " '__ne__',\n",
       " '__new__',\n",
       " '__reduce__',\n",
       " '__reduce_ex__',\n",
       " '__repr__',\n",
       " '__setattr__',\n",
       " '__sizeof__',\n",
       " '__str__',\n",
       " '__subclasshook__',\n",
       " '__weakref__',\n",
       " '_access_jwt',\n",
       " '_access_jwt_payload',\n",
       " '_base_url',\n",
       " '_build_url',\n",
       " '_call_on_session_change_callbacks',\n",
       " '_get_and_set_session',\n",
       " '_get_auth_headers',\n",
       " '_import_session_string',\n",
       " '_invoke',\n",
       " '_on_session_change_async_callbacks',\n",
       " '_on_session_change_callbacks',\n",
       " '_refresh_and_set_session',\n",
       " '_refresh_jwt',\n",
       " '_refresh_jwt_payload',\n",
       " '_refresh_lock',\n",
       " '_request',\n",
       " '_session',\n",
       " '_set_auth_headers',\n",
       " '_set_session',\n",
       " '_set_session_common',\n",
       " '_should_refresh_session',\n",
       " '_strong_ref_arg_backward_compatibility',\n",
       " 'app',\n",
       " 'com',\n",
       " 'delete_follow',\n",
       " 'delete_like',\n",
       " 'delete_post',\n",
       " 'delete_repost',\n",
       " 'export_session_string',\n",
       " 'follow',\n",
       " 'get_author_feed',\n",
       " 'get_current_time',\n",
       " 'get_current_time_iso',\n",
       " 'get_followers',\n",
       " 'get_follows',\n",
       " 'get_likes',\n",
       " 'get_post',\n",
       " 'get_post_thread',\n",
       " 'get_posts',\n",
       " 'get_profile',\n",
       " 'get_profiles',\n",
       " 'get_reposted_by',\n",
       " 'get_time_from_timestamp',\n",
       " 'get_timeline',\n",
       " 'invoke_procedure',\n",
       " 'invoke_query',\n",
       " 'like',\n",
       " 'login',\n",
       " 'me',\n",
       " 'mute',\n",
       " 'on_session_change',\n",
       " 'post',\n",
       " 'repost',\n",
       " 'request',\n",
       " 'resolve_handle',\n",
       " 'send_image',\n",
       " 'send_post',\n",
       " 'unfollow',\n",
       " 'unlike',\n",
       " 'unmute',\n",
       " 'unrepost',\n",
       " 'unsend',\n",
       " 'update_handle',\n",
       " 'upload_blob']"
      ]
     },
     "execution_count": 74,
     "metadata": {},
     "output_type": "execute_result"
    }
   ],
   "source": [
    "dir(client)"
   ]
  },
  {
   "cell_type": "markdown",
   "metadata": {},
   "source": [
    "OK, let me find examples of other embed types."
   ]
  },
  {
   "cell_type": "code",
   "execution_count": 122,
   "metadata": {},
   "outputs": [],
   "source": [
    "link = \"https://bsky.app/profile/danhon.com/post/3kowih4ezkc2q\""
   ]
  },
  {
   "cell_type": "code",
   "execution_count": 123,
   "metadata": {},
   "outputs": [
    {
     "name": "stderr",
     "output_type": "stream",
     "text": [
      "HTTP Request: GET https://bsky.social/xrpc/app.bsky.actor.getProfile?actor=danhon.com \"HTTP/1.1 200 OK\"\n"
     ]
    },
    {
     "name": "stdout",
     "output_type": "stream",
     "text": [
      "Getting post record for 3kowih4ezkc2q by did:plc:okcllivvkleedwsmroggepzd\n"
     ]
    },
    {
     "name": "stderr",
     "output_type": "stream",
     "text": [
      "HTTP Request: GET https://bsky.social/xrpc/com.atproto.repo.getRecord?collection=app.bsky.feed.post&repo=did%3Aplc%3Aokcllivvkleedwsmroggepzd&rkey=3kowih4ezkc2q \"HTTP/1.1 200 OK\"\n"
     ]
    }
   ],
   "source": [
    "record = get_post_record_from_post_link(link)"
   ]
  },
  {
   "cell_type": "code",
   "execution_count": 124,
   "metadata": {},
   "outputs": [
    {
     "data": {
      "text/plain": [
       "{'created_at': '2024-03-30T16:53:56.496Z',\n",
       " 'text': 'Oops',\n",
       " 'embed': Main(media=Main(images=[Image(alt='A screen cap of Elon Musk\\'s post on Twitter, dated 3/29/24, 9:31pm \\n\\n\"If you reuse the truss steel that fell, it could be functioning in 3 to 6 months.\\nThe repair should be put to commercial bid with a massive incentive for early and safe completion.\"', image=BlobRef(mime_type='image/jpeg', size=178736, ref=IpldLink(link='bafkreifzkiuqoaglichsuied2c2qeextrh3ninsgvhkx7egjjgcgrunhsi'), py_type='blob'), aspect_ratio=AspectRatio(height=724, width=1080, py_type='app.bsky.embed.images#aspectRatio'), py_type='app.bsky.embed.images#image')], py_type='app.bsky.embed.images'), record=Main(record=Main(cid='bafyreihddk5sxk535xg3gdsw5suhimu7dh7j3btmxcq2wmjbfj3svibvtm', uri='at://did:plc:okcllivvkleedwsmroggepzd/app.bsky.feed.post/3kos37qjqzl2e', py_type='com.atproto.repo.strongRef'), py_type='app.bsky.embed.record'), py_type='app.bsky.embed.recordWithMedia'),\n",
       " 'entities': None,\n",
       " 'facets': None,\n",
       " 'labels': None,\n",
       " 'langs': ['en'],\n",
       " 'reply': None,\n",
       " 'tags': None,\n",
       " 'py_type': 'app.bsky.feed.post'}"
      ]
     },
     "execution_count": 124,
     "metadata": {},
     "output_type": "execute_result"
    }
   ],
   "source": [
    "record.value.__dict__"
   ]
  },
  {
   "cell_type": "code",
   "execution_count": 119,
   "metadata": {},
   "outputs": [],
   "source": [
    "embed = record.value.embed"
   ]
  },
  {
   "cell_type": "code",
   "execution_count": 120,
   "metadata": {},
   "outputs": [
    {
     "data": {
      "text/plain": [
       "atproto_client.models.app.bsky.embed.record_with_media.Main"
      ]
     },
     "execution_count": 120,
     "metadata": {},
     "output_type": "execute_result"
    }
   ],
   "source": [
    "type(embed)"
   ]
  },
  {
   "cell_type": "code",
   "execution_count": 126,
   "metadata": {},
   "outputs": [
    {
     "data": {
      "text/plain": [
       "{'media': Main(images=[Image(alt='A screen cap of Elon Musk\\'s post on Twitter, dated 3/29/24, 9:31pm \\n\\n\"If you reuse the truss steel that fell, it could be functioning in 3 to 6 months.\\nThe repair should be put to commercial bid with a massive incentive for early and safe completion.\"', image=BlobRef(mime_type='image/jpeg', size=178736, ref=IpldLink(link='bafkreifzkiuqoaglichsuied2c2qeextrh3ninsgvhkx7egjjgcgrunhsi'), py_type='blob'), aspect_ratio=AspectRatio(height=724, width=1080, py_type='app.bsky.embed.images#aspectRatio'), py_type='app.bsky.embed.images#image')], py_type='app.bsky.embed.images'),\n",
       " 'record': Main(record=Main(cid='bafyreihddk5sxk535xg3gdsw5suhimu7dh7j3btmxcq2wmjbfj3svibvtm', uri='at://did:plc:okcllivvkleedwsmroggepzd/app.bsky.feed.post/3kos37qjqzl2e', py_type='com.atproto.repo.strongRef'), py_type='app.bsky.embed.record'),\n",
       " 'py_type': 'app.bsky.embed.recordWithMedia'}"
      ]
     },
     "execution_count": 126,
     "metadata": {},
     "output_type": "execute_result"
    }
   ],
   "source": [
    "embed.__dict__"
   ]
  },
  {
   "cell_type": "code",
   "execution_count": null,
   "metadata": {},
   "outputs": [],
   "source": [
    "embed."
   ]
  },
  {
   "cell_type": "code",
   "execution_count": 128,
   "metadata": {},
   "outputs": [
    {
     "data": {
      "text/plain": [
       "atproto_client.models.app.bsky.embed.record.Main"
      ]
     },
     "execution_count": 128,
     "metadata": {},
     "output_type": "execute_result"
    }
   ],
   "source": [
    "type(embed.record)"
   ]
  },
  {
   "cell_type": "code",
   "execution_count": 125,
   "metadata": {},
   "outputs": [
    {
     "name": "stdout",
     "output_type": "stream",
     "text": [
      "{'created_at': '2024-03-30T16:53:56.496Z',\n",
      " 'embed': Main(media=Main(images=[Image(alt='A screen cap of Elon Musk\\'s post on Twitter, dated 3/29/24, 9:31pm \\n\\n\"If you reuse the truss steel that fell, it could be functioning in 3 to 6 months.\\nThe repair should be put to commercial bid with a massive incentive for early and safe completion.\"', image=BlobRef(mime_type='image/jpeg', size=178736, ref=IpldLink(link='bafkreifzkiuqoaglichsuied2c2qeextrh3ninsgvhkx7egjjgcgrunhsi'), py_type='blob'), aspect_ratio=AspectRatio(height=724, width=1080, py_type='app.bsky.embed.images#aspectRatio'), py_type='app.bsky.embed.images#image')], py_type='app.bsky.embed.images'), record=Main(record=Main(cid='bafyreihddk5sxk535xg3gdsw5suhimu7dh7j3btmxcq2wmjbfj3svibvtm', uri='at://did:plc:okcllivvkleedwsmroggepzd/app.bsky.feed.post/3kos37qjqzl2e', py_type='com.atproto.repo.strongRef'), py_type='app.bsky.embed.record'), py_type='app.bsky.embed.recordWithMedia'),\n",
      " 'entities': None,\n",
      " 'facets': None,\n",
      " 'labels': None,\n",
      " 'langs': ['en'],\n",
      " 'py_type': 'app.bsky.feed.post',\n",
      " 'reply': None,\n",
      " 'tags': None,\n",
      " 'text': 'Oops'}\n"
     ]
    }
   ],
   "source": [
    "from pprint import pprint\n",
    "pprint(record.value.__dict__)"
   ]
  },
  {
   "cell_type": "code",
   "execution_count": 129,
   "metadata": {},
   "outputs": [
    {
     "data": {
      "text/plain": [
       "atproto_client.models.app.bsky.embed.images.Main"
      ]
     },
     "execution_count": 129,
     "metadata": {},
     "output_type": "execute_result"
    }
   ],
   "source": [
    "type(embed.media)"
   ]
  },
  {
   "cell_type": "markdown",
   "metadata": {},
   "source": [
    "Let's redo the facet functionality."
   ]
  },
  {
   "cell_type": "code",
   "execution_count": 6,
   "metadata": {},
   "outputs": [],
   "source": [
    "link = \"https://bsky.app/profile/jayrosen.bsky.social/post/3kowgtslfl22v\""
   ]
  },
  {
   "cell_type": "code",
   "execution_count": 7,
   "metadata": {},
   "outputs": [
    {
     "name": "stderr",
     "output_type": "stream",
     "text": [
      "HTTP Request: GET https://bsky.social/xrpc/app.bsky.actor.getProfile?actor=jayrosen.bsky.social \"HTTP/1.1 200 OK\"\n"
     ]
    },
    {
     "name": "stdout",
     "output_type": "stream",
     "text": [
      "Getting post record for 3kowgtslfl22v by did:plc:3t37x6vfigdzzp2gjcfnzlz4\n"
     ]
    },
    {
     "name": "stderr",
     "output_type": "stream",
     "text": [
      "HTTP Request: GET https://bsky.social/xrpc/com.atproto.repo.getRecord?collection=app.bsky.feed.post&repo=did%3Aplc%3A3t37x6vfigdzzp2gjcfnzlz4&rkey=3kowgtslfl22v \"HTTP/1.1 200 OK\"\n"
     ]
    }
   ],
   "source": [
    "record = get_post_record_from_post_link(link)"
   ]
  },
  {
   "cell_type": "code",
   "execution_count": 8,
   "metadata": {},
   "outputs": [
    {
     "data": {
      "text/plain": [
       "{'created_at': '2024-03-30T16:25:14.902Z',\n",
       " 'text': 'A newspaper editor — Chris Quinn of the Cleveland Plain Dealer — says it as clearly as he can:\\n\\n\"Our Trump reporting upsets some readers, but there aren’t two sides to facts.\" www.cleveland.com/news/2024/03...\\n\\nQuinn writes of a different kind of access. Access to our own eyes and ears:',\n",
       " 'embed': Main(images=[Image(alt='', image=BlobRef(mime_type='image/jpeg', size=399062, ref=IpldLink(link='bafkreiagbvatb77ka6hxsknjqpomcgfo7n3ext6fouzh66rlizt52aok6y'), py_type='blob'), aspect_ratio=AspectRatio(height=1040, width=1096, py_type='app.bsky.embed.images#aspectRatio'), py_type='app.bsky.embed.images#image')], py_type='app.bsky.embed.images'),\n",
       " 'entities': None,\n",
       " 'facets': [Main(features=[Link(uri='https://www.cleveland.com/news/2024/03/our-trump-reporting-upsets-some-readers-but-there-arent-two-sides-to-facts-letter-from-the-editor.html', py_type='app.bsky.richtext.facet#link')], index=ByteSlice(byte_end=215, byte_start=182, py_type='app.bsky.richtext.facet#byteSlice'), py_type='app.bsky.richtext.facet')],\n",
       " 'labels': None,\n",
       " 'langs': ['en'],\n",
       " 'reply': None,\n",
       " 'tags': None,\n",
       " 'py_type': 'app.bsky.feed.post'}"
      ]
     },
     "execution_count": 8,
     "metadata": {},
     "output_type": "execute_result"
    }
   ],
   "source": [
    "record.value.__dict__"
   ]
  },
  {
   "cell_type": "code",
   "execution_count": 10,
   "metadata": {},
   "outputs": [],
   "source": [
    "facets = record.value.facets"
   ]
  },
  {
   "cell_type": "code",
   "execution_count": 11,
   "metadata": {},
   "outputs": [],
   "source": [
    "facet = facets[0]"
   ]
  },
  {
   "cell_type": "code",
   "execution_count": 12,
   "metadata": {},
   "outputs": [
    {
     "data": {
      "text/plain": [
       "atproto_client.models.app.bsky.richtext.facet.Main"
      ]
     },
     "execution_count": 12,
     "metadata": {},
     "output_type": "execute_result"
    }
   ],
   "source": [
    "type(facet)"
   ]
  },
  {
   "cell_type": "code",
   "execution_count": 15,
   "metadata": {},
   "outputs": [
    {
     "data": {
      "text/plain": [
       "{'created_at': '2024-03-30T16:25:14.902Z',\n",
       " 'text': 'A newspaper editor — Chris Quinn of the Cleveland Plain Dealer — says it as clearly as he can:\\n\\n\"Our Trump reporting upsets some readers, but there aren’t two sides to facts.\" www.cleveland.com/news/2024/03...\\n\\nQuinn writes of a different kind of access. Access to our own eyes and ears:',\n",
       " 'embed': Main(images=[Image(alt='', image=BlobRef(mime_type='image/jpeg', size=399062, ref=IpldLink(link='bafkreiagbvatb77ka6hxsknjqpomcgfo7n3ext6fouzh66rlizt52aok6y'), py_type='blob'), aspect_ratio=AspectRatio(height=1040, width=1096, py_type='app.bsky.embed.images#aspectRatio'), py_type='app.bsky.embed.images#image')], py_type='app.bsky.embed.images'),\n",
       " 'entities': None,\n",
       " 'facets': [Main(features=[Link(uri='https://www.cleveland.com/news/2024/03/our-trump-reporting-upsets-some-readers-but-there-arent-two-sides-to-facts-letter-from-the-editor.html', py_type='app.bsky.richtext.facet#link')], index=ByteSlice(byte_end=215, byte_start=182, py_type='app.bsky.richtext.facet#byteSlice'), py_type='app.bsky.richtext.facet')],\n",
       " 'labels': None,\n",
       " 'langs': ['en'],\n",
       " 'reply': None,\n",
       " 'tags': None,\n",
       " 'py_type': 'app.bsky.feed.post'}"
      ]
     },
     "execution_count": 15,
     "metadata": {},
     "output_type": "execute_result"
    }
   ],
   "source": [
    "record.value.__dict__"
   ]
  },
  {
   "cell_type": "code",
   "execution_count": 17,
   "metadata": {},
   "outputs": [
    {
     "data": {
      "text/plain": [
       "atproto_client.models.app.bsky.richtext.facet.Main"
      ]
     },
     "execution_count": 17,
     "metadata": {},
     "output_type": "execute_result"
    }
   ],
   "source": [
    "type(facet)"
   ]
  },
  {
   "cell_type": "code",
   "execution_count": 18,
   "metadata": {},
   "outputs": [
    {
     "data": {
      "text/plain": [
       "{'features': [Link(uri='https://www.cleveland.com/news/2024/03/our-trump-reporting-upsets-some-readers-but-there-arent-two-sides-to-facts-letter-from-the-editor.html', py_type='app.bsky.richtext.facet#link')],\n",
       " 'index': ByteSlice(byte_end=215, byte_start=182, py_type='app.bsky.richtext.facet#byteSlice'),\n",
       " 'py_type': 'app.bsky.richtext.facet'}"
      ]
     },
     "execution_count": 18,
     "metadata": {},
     "output_type": "execute_result"
    }
   ],
   "source": [
    "facet.__dict__"
   ]
  },
  {
   "cell_type": "code",
   "execution_count": 19,
   "metadata": {},
   "outputs": [
    {
     "data": {
      "text/plain": [
       "atproto_client.models.app.bsky.richtext.facet.Main"
      ]
     },
     "execution_count": 19,
     "metadata": {},
     "output_type": "execute_result"
    }
   ],
   "source": [
    "type(facet)"
   ]
  },
  {
   "cell_type": "code",
   "execution_count": 21,
   "metadata": {},
   "outputs": [
    {
     "data": {
      "text/plain": [
       "atproto_client.models.app.bsky.richtext.facet.Link"
      ]
     },
     "execution_count": 21,
     "metadata": {},
     "output_type": "execute_result"
    }
   ],
   "source": [
    "type(facet.features[0])"
   ]
  },
  {
   "cell_type": "code",
   "execution_count": 22,
   "metadata": {},
   "outputs": [],
   "source": [
    "link = facet.features[0]"
   ]
  },
  {
   "cell_type": "code",
   "execution_count": 23,
   "metadata": {},
   "outputs": [
    {
     "data": {
      "text/plain": [
       "Link(uri='https://www.cleveland.com/news/2024/03/our-trump-reporting-upsets-some-readers-but-there-arent-two-sides-to-facts-letter-from-the-editor.html', py_type='app.bsky.richtext.facet#link')"
      ]
     },
     "execution_count": 23,
     "metadata": {},
     "output_type": "execute_result"
    }
   ],
   "source": [
    "link"
   ]
  },
  {
   "cell_type": "markdown",
   "metadata": {},
   "source": [
    "I'm creating tests for the bluesky_helper tools. I'll use a NYTimes article for that so that it is unlikely to be taken down."
   ]
  },
  {
   "cell_type": "code",
   "execution_count": 26,
   "metadata": {},
   "outputs": [],
   "source": [
    "link = \"https://bsky.app/profile/nytimes.com/post/3kowbajil7r2y\""
   ]
  },
  {
   "cell_type": "code",
   "execution_count": 27,
   "metadata": {},
   "outputs": [],
   "source": [
    "from transform.bluesky_helper import *"
   ]
  },
  {
   "cell_type": "code",
   "execution_count": 30,
   "metadata": {},
   "outputs": [],
   "source": [
    "post_and_author_dict = get_author_handle_and_post_id_from_link(link)"
   ]
  },
  {
   "cell_type": "code",
   "execution_count": 31,
   "metadata": {},
   "outputs": [],
   "source": [
    "author_handle = post_and_author_dict[\"author\"]\n",
    "post_id = post_and_author_dict[\"post_id\"]"
   ]
  },
  {
   "cell_type": "code",
   "execution_count": 32,
   "metadata": {},
   "outputs": [
    {
     "name": "stderr",
     "output_type": "stream",
     "text": [
      "HTTP Request: GET https://bsky.social/xrpc/app.bsky.actor.getProfile?actor=nytimes.com \"HTTP/1.1 200 OK\"\n"
     ]
    }
   ],
   "source": [
    "author_did = get_author_did_from_handle(author_handle)"
   ]
  },
  {
   "cell_type": "code",
   "execution_count": 4,
   "metadata": {},
   "outputs": [],
   "source": [
    "link = \"https://bsky.app/profile/nytimes.com/post/3kowbajil7r2y\""
   ]
  },
  {
   "cell_type": "code",
   "execution_count": 5,
   "metadata": {},
   "outputs": [
    {
     "name": "stderr",
     "output_type": "stream",
     "text": [
      "HTTP Request: GET https://bsky.social/xrpc/app.bsky.actor.getProfile?actor=nytimes.com \"HTTP/1.1 200 OK\"\n"
     ]
    },
    {
     "name": "stdout",
     "output_type": "stream",
     "text": [
      "Getting post record for 3kowbajil7r2y by did:plc:eclio37ymobqex2ncko63h4r\n"
     ]
    },
    {
     "name": "stderr",
     "output_type": "stream",
     "text": [
      "HTTP Request: GET https://bsky.social/xrpc/com.atproto.repo.getRecord?collection=app.bsky.feed.post&repo=did%3Aplc%3Aeclio37ymobqex2ncko63h4r&rkey=3kowbajil7r2y \"HTTP/1.1 200 OK\"\n"
     ]
    }
   ],
   "source": [
    "record = get_post_record_from_post_link(link)"
   ]
  },
  {
   "cell_type": "code",
   "execution_count": 39,
   "metadata": {},
   "outputs": [
    {
     "data": {
      "text/plain": [
       "atproto_client.models.app.bsky.feed.post.GetRecordResponse"
      ]
     },
     "execution_count": 39,
     "metadata": {},
     "output_type": "execute_result"
    }
   ],
   "source": [
    "type(record)"
   ]
  },
  {
   "cell_type": "code",
   "execution_count": 43,
   "metadata": {},
   "outputs": [],
   "source": [
    "record_value = record.value"
   ]
  },
  {
   "cell_type": "code",
   "execution_count": 44,
   "metadata": {},
   "outputs": [
    {
     "data": {
      "text/plain": [
       "atproto_client.models.app.bsky.feed.post.Record"
      ]
     },
     "execution_count": 44,
     "metadata": {},
     "output_type": "execute_result"
    }
   ],
   "source": [
    "type(record_value)"
   ]
  },
  {
   "cell_type": "code",
   "execution_count": 6,
   "metadata": {},
   "outputs": [
    {
     "data": {
      "text/plain": [
       "{'created_at': '2024-03-30T14:44:59.095Z',\n",
       " 'text': 'With Democrats holding a one-seat majority and defending seats from Maryland to Arizona, control of the Senate could easily flip to the Republicans. Here are the Senate races to watch in 2024.',\n",
       " 'embed': Main(external=External(description='With Democrats holding a one-seat majority and defending seats from Maryland to Arizona, control of the Senate could easily flip to the G.O.P.', title='10 Senate Races to Watch in 2024', uri='https://www.nytimes.com/article/senate-races-2024-election.html?smtyp=cur&smid=bsky-nytimes', thumb=BlobRef(mime_type='image/jpeg', size=453134, ref=IpldLink(link='bafkreid7h2zlnhu5ff36qjpppwqhvmxrttwg6pxs2nlgizufyh7qfn7nba'), py_type='blob'), py_type='app.bsky.embed.external#external'), py_type='app.bsky.embed.external'),\n",
       " 'entities': None,\n",
       " 'facets': None,\n",
       " 'labels': None,\n",
       " 'langs': ['en'],\n",
       " 'reply': None,\n",
       " 'tags': None,\n",
       " 'py_type': 'app.bsky.feed.post'}"
      ]
     },
     "execution_count": 6,
     "metadata": {},
     "output_type": "execute_result"
    }
   ],
   "source": [
    "record.value.__dict__"
   ]
  },
  {
   "cell_type": "code",
   "execution_count": 45,
   "metadata": {},
   "outputs": [
    {
     "data": {
      "text/plain": [
       "{'uri': 'at://did:plc:eclio37ymobqex2ncko63h4r/app.bsky.feed.post/3kowbajil7r2y',\n",
       " 'value': Record(created_at='2024-03-30T14:44:59.095Z', text='With Democrats holding a one-seat majority and defending seats from Maryland to Arizona, control of the Senate could easily flip to the Republicans. Here are the Senate races to watch in 2024.', embed=Main(external=External(description='With Democrats holding a one-seat majority and defending seats from Maryland to Arizona, control of the Senate could easily flip to the G.O.P.', title='10 Senate Races to Watch in 2024', uri='https://www.nytimes.com/article/senate-races-2024-election.html?smtyp=cur&smid=bsky-nytimes', thumb=BlobRef(mime_type='image/jpeg', size=453134, ref=IpldLink(link='bafkreid7h2zlnhu5ff36qjpppwqhvmxrttwg6pxs2nlgizufyh7qfn7nba'), py_type='blob'), py_type='app.bsky.embed.external#external'), py_type='app.bsky.embed.external'), entities=None, facets=None, labels=None, langs=['en'], reply=None, tags=None, py_type='app.bsky.feed.post'),\n",
       " 'cid': 'bafyreicmozjihgi5fbc76r6nfxdv4bvrhnpbglkfpzy7uv6l4suvxw2miu'}"
      ]
     },
     "execution_count": 45,
     "metadata": {},
     "output_type": "execute_result"
    }
   ],
   "source": [
    "record.__dict__"
   ]
  },
  {
   "cell_type": "code",
   "execution_count": 42,
   "metadata": {},
   "outputs": [
    {
     "data": {
      "text/plain": [
       "atproto_client.models.app.bsky.feed.post.Record"
      ]
     },
     "execution_count": 42,
     "metadata": {},
     "output_type": "execute_result"
    }
   ],
   "source": [
    "type(record.value)"
   ]
  },
  {
   "cell_type": "code",
   "execution_count": 36,
   "metadata": {},
   "outputs": [
    {
     "data": {
      "text/plain": [
       "{'uri': 'at://did:plc:eclio37ymobqex2ncko63h4r/app.bsky.feed.post/3kowbajil7r2y',\n",
       " 'value': Record(created_at='2024-03-30T14:44:59.095Z', text='With Democrats holding a one-seat majority and defending seats from Maryland to Arizona, control of the Senate could easily flip to the Republicans. Here are the Senate races to watch in 2024.', embed=Main(external=External(description='With Democrats holding a one-seat majority and defending seats from Maryland to Arizona, control of the Senate could easily flip to the G.O.P.', title='10 Senate Races to Watch in 2024', uri='https://www.nytimes.com/article/senate-races-2024-election.html?smtyp=cur&smid=bsky-nytimes', thumb=BlobRef(mime_type='image/jpeg', size=453134, ref=IpldLink(link='bafkreid7h2zlnhu5ff36qjpppwqhvmxrttwg6pxs2nlgizufyh7qfn7nba'), py_type='blob'), py_type='app.bsky.embed.external#external'), py_type='app.bsky.embed.external'), entities=None, facets=None, labels=None, langs=['en'], reply=None, tags=None, py_type='app.bsky.feed.post'),\n",
       " 'cid': 'bafyreicmozjihgi5fbc76r6nfxdv4bvrhnpbglkfpzy7uv6l4suvxw2miu'}"
      ]
     },
     "execution_count": 36,
     "metadata": {},
     "output_type": "execute_result"
    }
   ],
   "source": [
    "record.__dict__"
   ]
  },
  {
   "cell_type": "code",
   "execution_count": 7,
   "metadata": {},
   "outputs": [],
   "source": [
    "expected_post_uri = \"at://did:plc:eclio37ymobqex2ncko63h4r/app.bsky.feed.post/3kowbajil7r2y\" # available at record.uri\n",
    "expoected_post_cid = \"bafyreicmozjihgi5fbc76r6nfxdv4bvrhnpbglkfpzy7uv6l4suvxw2miu\" # available at record.cid\n",
    "expected_post_author_did = \"did:plc:eclio37ymobqex2ncko63h4r\""
   ]
  },
  {
   "cell_type": "code",
   "execution_count": 8,
   "metadata": {},
   "outputs": [],
   "source": [
    "post_dict = {\n",
    "    \"record\": record.value,\n",
    "    \"uri\": expected_post_uri,\n",
    "    \"cid\": expoected_post_cid,\n",
    "    \"author\": expected_post_author_did\n",
    "}"
   ]
  },
  {
   "cell_type": "code",
   "execution_count": 10,
   "metadata": {},
   "outputs": [],
   "source": [
    "flattened_firehose_post = flatten_firehose_post(post_dict)"
   ]
  },
  {
   "cell_type": "code",
   "execution_count": 13,
   "metadata": {},
   "outputs": [
    {
     "name": "stdout",
     "output_type": "stream",
     "text": [
      "{'author': 'did:plc:eclio37ymobqex2ncko63h4r',\n",
      " 'cid': 'bafyreicmozjihgi5fbc76r6nfxdv4bvrhnpbglkfpzy7uv6l4suvxw2miu',\n",
      " 'created_at': '2024-03-30T14:44:59.095Z',\n",
      " 'embed': '{\"has_image\": false, \"image_alt_text\": null, \"has_embedded_record\": '\n",
      "          'false, \"embedded_record\": null, \"has_external\": true, \"external\": '\n",
      "          '\"{\\\\\"description\\\\\": \\\\\"With Democrats holding a one-seat majority '\n",
      "          'and defending seats from Maryland to Arizona, control of the Senate '\n",
      "          'could easily flip to the G.O.P.\\\\\", \\\\\"title\\\\\": \\\\\"10 Senate Races '\n",
      "          'to Watch in 2024\\\\\", \\\\\"uri\\\\\": '\n",
      "          '\\\\\"https://www.nytimes.com/article/senate-races-2024-election.html?smtyp=cur&smid=bsky-nytimes\\\\\"}\"}',\n",
      " 'entities': None,\n",
      " 'facets': None,\n",
      " 'labels': None,\n",
      " 'langs': 'en',\n",
      " 'py_type': 'app.bsky.feed.post',\n",
      " 'reply_parent': None,\n",
      " 'reply_root': None,\n",
      " 'tags': None,\n",
      " 'text': 'With Democrats holding a one-seat majority and defending seats from '\n",
      "         'Maryland to Arizona, control of the Senate could easily flip to the '\n",
      "         'Republicans. Here are the Senate races to watch in 2024.',\n",
      " 'uri': 'at://did:plc:eclio37ymobqex2ncko63h4r/app.bsky.feed.post/3kowbajil7r2y'}\n"
     ]
    }
   ],
   "source": [
    "pprint(flattened_firehose_post)"
   ]
  },
  {
   "cell_type": "code",
   "execution_count": 14,
   "metadata": {},
   "outputs": [],
   "source": [
    "expected_flattened_firehose_post = {\n",
    "    'author': 'did:plc:eclio37ymobqex2ncko63h4r',\n",
    "    'cid': 'bafyreicmozjihgi5fbc76r6nfxdv4bvrhnpbglkfpzy7uv6l4suvxw2miu',\n",
    "    'created_at': '2024-03-30T14:44:59.095Z',\n",
    "    'embed': '{\"has_image\": false, \"image_alt_text\": null, \"has_embedded_record\": '\n",
    "            'false, \"embedded_record\": null, \"has_external\": true, \"external\": '\n",
    "            '\"{\\\\\"description\\\\\": \\\\\"With Democrats holding a one-seat majority '\n",
    "            'and defending seats from Maryland to Arizona, control of the Senate '\n",
    "            'could easily flip to the G.O.P.\\\\\", \\\\\"title\\\\\": \\\\\"10 Senate Races '\n",
    "            'to Watch in 2024\\\\\", \\\\\"uri\\\\\": '\n",
    "            '\\\\\"https://www.nytimes.com/article/senate-races-2024-election.html?smtyp=cur&smid=bsky-nytimes\\\\\"}\"}',\n",
    "    'entities': None,\n",
    "    'facets': None,\n",
    "    'labels': None,\n",
    "    'langs': 'en',\n",
    "    'py_type': 'app.bsky.feed.post',\n",
    "    'reply_parent': None,\n",
    "    'reply_root': None,\n",
    "    'tags': None,\n",
    "    'text': 'With Democrats holding a one-seat majority and defending seats from '\n",
    "            'Maryland to Arizona, control of the Senate could easily flip to the '\n",
    "            'Republicans. Here are the Senate races to watch in 2024.',\n",
    "    'uri': 'at://did:plc:eclio37ymobqex2ncko63h4r/app.bsky.feed.post/3kowbajil7r2y'\n",
    "}"
   ]
  },
  {
   "cell_type": "code",
   "execution_count": 16,
   "metadata": {},
   "outputs": [
    {
     "data": {
      "text/plain": [
       "True"
      ]
     },
     "execution_count": 16,
     "metadata": {},
     "output_type": "execute_result"
    }
   ],
   "source": [
    "flattened_firehose_post == expected_flattened_firehose_post"
   ]
  },
  {
   "cell_type": "markdown",
   "metadata": {},
   "source": [
    "Let's try another post"
   ]
  },
  {
   "cell_type": "code",
   "execution_count": 17,
   "metadata": {},
   "outputs": [
    {
     "name": "stderr",
     "output_type": "stream",
     "text": [
      "HTTP Request: GET https://bsky.social/xrpc/app.bsky.actor.getProfile?actor=nytimes.com \"HTTP/1.1 200 OK\"\n"
     ]
    },
    {
     "name": "stdout",
     "output_type": "stream",
     "text": [
      "Getting post record for 3koueui3yld24 by did:plc:eclio37ymobqex2ncko63h4r\n"
     ]
    },
    {
     "name": "stderr",
     "output_type": "stream",
     "text": [
      "HTTP Request: GET https://bsky.social/xrpc/com.atproto.repo.getRecord?collection=app.bsky.feed.post&repo=did%3Aplc%3Aeclio37ymobqex2ncko63h4r&rkey=3koueui3yld24 \"HTTP/1.1 200 OK\"\n"
     ]
    }
   ],
   "source": [
    "link = \"https://bsky.app/profile/nytimes.com/post/3koueui3yld24\"\n",
    "record = get_post_record_from_post_link(link)"
   ]
  },
  {
   "cell_type": "code",
   "execution_count": 19,
   "metadata": {},
   "outputs": [
    {
     "data": {
      "text/plain": [
       "{'uri': 'at://did:plc:eclio37ymobqex2ncko63h4r/app.bsky.feed.post/3koueui3yld24',\n",
       " 'value': Record(created_at='2024-03-29T20:44:30.388Z', text=\"A cyberattack shut down the largest U.S. health care payment system last month. Here's what to know as hospitals, health insurers, physician clinics and others in the industry increasingly become the targets of significant hacks. www.nytimes.com/2024/03/29/h...\", embed=Main(images=[Image(alt='UnitedHealth Group’s headquarters in Minnetonka, Minnesota. A headline reads: \"What to Know About Health Care Cyberattacks.\" Photo by Unitedhealth Group, via Reuters.', image=BlobRef(mime_type='image/jpeg', size=400486, ref=IpldLink(link='bafkreid7npt6hx3ndaxbvolgqjdni35lx23can3vgmfxoedht4wafo2hv4'), py_type='blob'), aspect_ratio=AspectRatio(height=1350, width=1080, py_type='app.bsky.embed.images#aspectRatio'), py_type='app.bsky.embed.images#image')], py_type='app.bsky.embed.images'), entities=None, facets=[Main(features=[Link(uri='https://www.nytimes.com/2024/03/29/health/cyber-attack-unitedhealth-hospital-patients.html?smtyp=cur&smid=bsky-nytimes', py_type='app.bsky.richtext.facet#link')], index=ByteSlice(byte_end=261, byte_start=230, py_type='app.bsky.richtext.facet#byteSlice'), py_type='app.bsky.richtext.facet')], labels=None, langs=['en'], reply=None, tags=None, py_type='app.bsky.feed.post'),\n",
       " 'cid': 'bafyreieuyk7ga7ldbvn3ayhe3c3ntnz7rlbgdqlfnp53v2wwjaanmrl3dm'}"
      ]
     },
     "execution_count": 19,
     "metadata": {},
     "output_type": "execute_result"
    }
   ],
   "source": [
    "record.__dict__"
   ]
  },
  {
   "cell_type": "code",
   "execution_count": 20,
   "metadata": {},
   "outputs": [
    {
     "data": {
      "text/plain": [
       "{'created_at': '2024-03-29T20:44:30.388Z',\n",
       " 'text': \"A cyberattack shut down the largest U.S. health care payment system last month. Here's what to know as hospitals, health insurers, physician clinics and others in the industry increasingly become the targets of significant hacks. www.nytimes.com/2024/03/29/h...\",\n",
       " 'embed': Main(images=[Image(alt='UnitedHealth Group’s headquarters in Minnetonka, Minnesota. A headline reads: \"What to Know About Health Care Cyberattacks.\" Photo by Unitedhealth Group, via Reuters.', image=BlobRef(mime_type='image/jpeg', size=400486, ref=IpldLink(link='bafkreid7npt6hx3ndaxbvolgqjdni35lx23can3vgmfxoedht4wafo2hv4'), py_type='blob'), aspect_ratio=AspectRatio(height=1350, width=1080, py_type='app.bsky.embed.images#aspectRatio'), py_type='app.bsky.embed.images#image')], py_type='app.bsky.embed.images'),\n",
       " 'entities': None,\n",
       " 'facets': [Main(features=[Link(uri='https://www.nytimes.com/2024/03/29/health/cyber-attack-unitedhealth-hospital-patients.html?smtyp=cur&smid=bsky-nytimes', py_type='app.bsky.richtext.facet#link')], index=ByteSlice(byte_end=261, byte_start=230, py_type='app.bsky.richtext.facet#byteSlice'), py_type='app.bsky.richtext.facet')],\n",
       " 'labels': None,\n",
       " 'langs': ['en'],\n",
       " 'reply': None,\n",
       " 'tags': None,\n",
       " 'py_type': 'app.bsky.feed.post'}"
      ]
     },
     "execution_count": 20,
     "metadata": {},
     "output_type": "execute_result"
    }
   ],
   "source": [
    "record.value.__dict__"
   ]
  },
  {
   "cell_type": "code",
   "execution_count": 21,
   "metadata": {},
   "outputs": [],
   "source": [
    "expected_post_uri = record.uri\n",
    "expoected_post_cid = record.cid\n",
    "expected_post_author_did = \"did:plc:eclio37ymobqex2ncko63h4r\" # NYTimes"
   ]
  },
  {
   "cell_type": "code",
   "execution_count": 22,
   "metadata": {},
   "outputs": [],
   "source": [
    "post_dict = {\n",
    "    \"record\": record.value,\n",
    "    \"uri\": expected_post_uri,\n",
    "    \"cid\": expoected_post_cid,\n",
    "    \"author\": expected_post_author_did\n",
    "}"
   ]
  },
  {
   "cell_type": "code",
   "execution_count": 24,
   "metadata": {},
   "outputs": [],
   "source": [
    "flattened_firehose_post = flatten_firehose_post(post_dict)"
   ]
  },
  {
   "cell_type": "code",
   "execution_count": 25,
   "metadata": {},
   "outputs": [
    {
     "name": "stdout",
     "output_type": "stream",
     "text": [
      "{'author': 'did:plc:eclio37ymobqex2ncko63h4r',\n",
      " 'cid': 'bafyreieuyk7ga7ldbvn3ayhe3c3ntnz7rlbgdqlfnp53v2wwjaanmrl3dm',\n",
      " 'created_at': '2024-03-29T20:44:30.388Z',\n",
      " 'embed': '{\"has_image\": true, \"image_alt_text\": \"UnitedHealth Group\\\\u2019s '\n",
      "          'headquarters in Minnetonka, Minnesota. A headline reads: \\\\\"What to '\n",
      "          'Know About Health Care Cyberattacks.\\\\\" Photo by Unitedhealth '\n",
      "          'Group, via Reuters.\", \"has_embedded_record\": false, '\n",
      "          '\"embedded_record\": null, \"has_external\": false, \"external\": null}',\n",
      " 'entities': None,\n",
      " 'facets': 'link:https://www.nytimes.com/2024/03/29/health/cyber-attack-unitedhealth-hospital-patients.html?smtyp=cur&smid=bsky-nytimes',\n",
      " 'labels': None,\n",
      " 'langs': 'en',\n",
      " 'py_type': 'app.bsky.feed.post',\n",
      " 'reply_parent': None,\n",
      " 'reply_root': None,\n",
      " 'tags': None,\n",
      " 'text': 'A cyberattack shut down the largest U.S. health care payment system '\n",
      "         \"last month. Here's what to know as hospitals, health insurers, \"\n",
      "         'physician clinics and others in the industry increasingly become the '\n",
      "         'targets of significant hacks. www.nytimes.com/2024/03/29/h...',\n",
      " 'uri': 'at://did:plc:eclio37ymobqex2ncko63h4r/app.bsky.feed.post/3koueui3yld24'}\n"
     ]
    }
   ],
   "source": [
    "pprint(flattened_firehose_post)"
   ]
  },
  {
   "cell_type": "code",
   "execution_count": 26,
   "metadata": {},
   "outputs": [],
   "source": [
    "expected_flattened_firehose_post = {\n",
    "    'author': 'did:plc:eclio37ymobqex2ncko63h4r',\n",
    "    'cid': 'bafyreieuyk7ga7ldbvn3ayhe3c3ntnz7rlbgdqlfnp53v2wwjaanmrl3dm',\n",
    "    'created_at': '2024-03-29T20:44:30.388Z',\n",
    "    'embed': '{\"has_image\": true, \"image_alt_text\": \"UnitedHealth Group\\\\u2019s '\n",
    "            'headquarters in Minnetonka, Minnesota. A headline reads: \\\\\"What to '\n",
    "            'Know About Health Care Cyberattacks.\\\\\" Photo by Unitedhealth '\n",
    "            'Group, via Reuters.\", \"has_embedded_record\": false, '\n",
    "            '\"embedded_record\": null, \"has_external\": false, \"external\": null}',\n",
    "    'entities': None,\n",
    "    'facets': 'link:https://www.nytimes.com/2024/03/29/health/cyber-attack-unitedhealth-hospital-patients.html?smtyp=cur&smid=bsky-nytimes',\n",
    "    'labels': None,\n",
    "    'langs': 'en',\n",
    "    'py_type': 'app.bsky.feed.post',\n",
    "    'reply_parent': None,\n",
    "    'reply_root': None,\n",
    "    'tags': None,\n",
    "    'text': 'A cyberattack shut down the largest U.S. health care payment system '\n",
    "            \"last month. Here's what to know as hospitals, health insurers, \"\n",
    "            'physician clinics and others in the industry increasingly become the '\n",
    "            'targets of significant hacks. www.nytimes.com/2024/03/29/h...',\n",
    "    'uri': 'at://did:plc:eclio37ymobqex2ncko63h4r/app.bsky.feed.post/3koueui3yld24'\n",
    "}"
   ]
  },
  {
   "cell_type": "code",
   "execution_count": 27,
   "metadata": {},
   "outputs": [
    {
     "data": {
      "text/plain": [
       "True"
      ]
     },
     "execution_count": 27,
     "metadata": {},
     "output_type": "execute_result"
    }
   ],
   "source": [
    "flattened_firehose_post == expected_flattened_firehose_post"
   ]
  },
  {
   "cell_type": "code",
   "execution_count": null,
   "metadata": {},
   "outputs": [],
   "source": []
  }
 ],
 "metadata": {
  "kernelspec": {
   "display_name": "bluesky-research",
   "language": "python",
   "name": "python3"
  },
  "language_info": {
   "codemirror_mode": {
    "name": "ipython",
    "version": 3
   },
   "file_extension": ".py",
   "mimetype": "text/x-python",
   "name": "python",
   "nbconvert_exporter": "python",
   "pygments_lexer": "ipython3",
   "version": "3.10.13"
  }
 },
 "nbformat": 4,
 "nbformat_minor": 2
}
