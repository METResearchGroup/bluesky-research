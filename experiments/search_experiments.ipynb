{
 "cells": [
  {
   "cell_type": "code",
   "execution_count": 2,
   "metadata": {},
   "outputs": [],
   "source": [
    "from pprint import pprint\n",
    "\n",
    "from lib.helper import client\n",
    "\n",
    "from services.sync.search.search_by_user import get_posts_by_user"
   ]
  },
  {
   "cell_type": "code",
   "execution_count": 5,
   "metadata": {},
   "outputs": [],
   "source": [
    "author_handle = \"williambrady.bsky.social\"\n",
    "#author_handle = \"nytimes.com\"\n",
    "#lst = client.get_author_feed(actor=author_handle)"
   ]
  },
  {
   "cell_type": "code",
   "execution_count": 6,
   "metadata": {},
   "outputs": [
    {
     "name": "stdout",
     "output_type": "stream",
     "text": [
      "Limit of 300 exceeds the maximum of 100.\n",
      "Will batch requests in chunks of 100.\n",
      "Limit: 300\n",
      "Fetching posts for williambrady.bsky.social...\n"
     ]
    },
    {
     "name": "stderr",
     "output_type": "stream",
     "text": [
      "HTTP Request: GET https://bsky.social/xrpc/app.bsky.feed.getAuthorFeed?actor=williambrady.bsky.social&limit=100 \"HTTP/1.1 200 OK\"\n"
     ]
    },
    {
     "name": "stdout",
     "output_type": "stream",
     "text": [
      "Fetched 14 posts.\n",
      "Total fetched posts: 14\n",
      "Total posts to fetch: 286\n"
     ]
    }
   ],
   "source": [
    "posts = get_posts_by_user(author_handle=author_handle, limit=300)"
   ]
  },
  {
   "cell_type": "code",
   "execution_count": 4,
   "metadata": {},
   "outputs": [
    {
     "data": {
      "text/plain": [
       "300"
      ]
     },
     "execution_count": 4,
     "metadata": {},
     "output_type": "execute_result"
    }
   ],
   "source": [
    "len(posts)"
   ]
  },
  {
   "cell_type": "code",
   "execution_count": 7,
   "metadata": {},
   "outputs": [
    {
     "data": {
      "text/plain": [
       "{'author_did': 'did:plc:e4itbqoxctxwrrfqgs2rauga',\n",
       " 'author_handle': 'williambrady.bsky.social',\n",
       " 'author_display_name': 'William J. Brady',\n",
       " 'created_at': '2024-01-19T16:08:25.789Z',\n",
       " 'text': 'Review: \"14 studies implicated the YouTube recommender system in facilitating problematic content pathways, 7 produced mixed results, and two did not implicate the recommender system in facilitating pathways to problematic content\" | osf.io/preprints/ps...',\n",
       " 'langs': ['en'],\n",
       " 'cid': 'bafyreialxgly7e5pqhzhfflqjn3wzmojhqlstuvylkaahtkxxw2p5nch3u',\n",
       " 'indexed_at': '2024-01-19T16:08:25.789Z',\n",
       " 'like_count': 2,\n",
       " 'reply_count': 0,\n",
       " 'repost_count': 0}"
      ]
     },
     "execution_count": 7,
     "metadata": {},
     "output_type": "execute_result"
    }
   ],
   "source": [
    "posts[0]"
   ]
  },
  {
   "cell_type": "code",
   "execution_count": 9,
   "metadata": {},
   "outputs": [
    {
     "name": "stderr",
     "output_type": "stream",
     "text": [
      "HTTP Request: GET https://bsky.social/xrpc/app.bsky.actor.getProfile?actor=nytimes.com \"HTTP/1.1 200 OK\"\n"
     ]
    }
   ],
   "source": [
    "test = client.get_profile(\"nytimes.com\")"
   ]
  },
  {
   "cell_type": "code",
   "execution_count": 11,
   "metadata": {},
   "outputs": [
    {
     "data": {
      "text/plain": [
       "atproto_client.models.app.bsky.actor.defs.ProfileViewDetailed"
      ]
     },
     "execution_count": 11,
     "metadata": {},
     "output_type": "execute_result"
    }
   ],
   "source": [
    "type(test)"
   ]
  },
  {
   "cell_type": "code",
   "execution_count": 12,
   "metadata": {},
   "outputs": [
    {
     "data": {
      "text/plain": [
       "ProfileViewDetailed(did='did:plc:eclio37ymobqex2ncko63h4r', handle='nytimes.com', avatar='https://cdn.bsky.app/img/avatar/plain/did:plc:eclio37ymobqex2ncko63h4r/bafkreidvvqj5jymmpaeklwkpq6gi532el447mjy2yultuukypzqm5ohfju@jpeg', banner='https://cdn.bsky.app/img/banner/plain/did:plc:eclio37ymobqex2ncko63h4r/bafkreiaiorkgl6t2j5w3sf6nj37drvwuvriq3e3vqwf4yn3pchpwfbekta@jpeg', description='In-depth, independent reporting to better understand the world, now on Bluesky. News tips? Share them here: http://nyti.ms/2FVHq9v', display_name='The New York Times', followers_count=204711, follows_count=8, indexed_at='2024-01-25T23:46:23.929Z', labels=[], posts_count=1984, viewer=ViewerState(blocked_by=False, blocking=None, blocking_by_list=None, followed_by=None, following='at://did:plc:w5mjarupsl6ihdrzwgnzdh4y/app.bsky.graph.follow/3kkvauysemf2p', muted=False, muted_by_list=None, py_type='app.bsky.actor.defs#viewerState'), py_type='app.bsky.actor.defs#profileViewDetailed')"
      ]
     },
     "execution_count": 12,
     "metadata": {},
     "output_type": "execute_result"
    }
   ],
   "source": [
    "test"
   ]
  },
  {
   "cell_type": "code",
   "execution_count": 13,
   "metadata": {},
   "outputs": [
    {
     "data": {
      "text/plain": [
       "{'did': 'did:plc:eclio37ymobqex2ncko63h4r',\n",
       " 'handle': 'nytimes.com',\n",
       " 'avatar': 'https://cdn.bsky.app/img/avatar/plain/did:plc:eclio37ymobqex2ncko63h4r/bafkreidvvqj5jymmpaeklwkpq6gi532el447mjy2yultuukypzqm5ohfju@jpeg',\n",
       " 'banner': 'https://cdn.bsky.app/img/banner/plain/did:plc:eclio37ymobqex2ncko63h4r/bafkreiaiorkgl6t2j5w3sf6nj37drvwuvriq3e3vqwf4yn3pchpwfbekta@jpeg',\n",
       " 'description': 'In-depth, independent reporting to better understand the world, now on Bluesky. News tips? Share them here: http://nyti.ms/2FVHq9v',\n",
       " 'display_name': 'The New York Times',\n",
       " 'followers_count': 204711,\n",
       " 'follows_count': 8,\n",
       " 'indexed_at': '2024-01-25T23:46:23.929Z',\n",
       " 'labels': [],\n",
       " 'posts_count': 1984,\n",
       " 'viewer': ViewerState(blocked_by=False, blocking=None, blocking_by_list=None, followed_by=None, following='at://did:plc:w5mjarupsl6ihdrzwgnzdh4y/app.bsky.graph.follow/3kkvauysemf2p', muted=False, muted_by_list=None, py_type='app.bsky.actor.defs#viewerState'),\n",
       " 'py_type': 'app.bsky.actor.defs#profileViewDetailed'}"
      ]
     },
     "execution_count": 13,
     "metadata": {},
     "output_type": "execute_result"
    }
   ],
   "source": [
    "test.__dict__"
   ]
  },
  {
   "cell_type": "code",
   "execution_count": 6,
   "metadata": {},
   "outputs": [],
   "source": [
    "object_methods = [method_name for method_name in dir(client)\n",
    "                  if callable(getattr(client, method_name))]"
   ]
  },
  {
   "cell_type": "code",
   "execution_count": 28,
   "metadata": {},
   "outputs": [
    {
     "name": "stderr",
     "output_type": "stream",
     "text": [
      "HTTP Request: GET https://bsky.social/xrpc/app.bsky.feed.searchPosts?q=python&limit=25 \"HTTP/1.1 200 OK\"\n"
     ]
    },
    {
     "name": "stdout",
     "output_type": "stream",
     "text": [
      "posts=[PostView(author=ProfileViewBasic(did='did:plc:esesfyq4guis6bhd3pmzob3i', handle='owltips.bsky.social', avatar='https://cdn.bsky.app/img/avatar/plain/did:plc:esesfyq4guis6bhd3pmzob3i/bafkreifliujg32t6g73piabgdqtpnfo7s546ptll2eketdxayk5g2tu2se@jpeg', display_name='ふくろー@獣医師', labels=[], viewer=ViewerState(blocked_by=False, blocking=None, blocking_by_list=None, followed_by=None, following=None, muted=False, muted_by_list=None, py_type='app.bsky.actor.defs#viewerState'), py_type='app.bsky.actor.defs#profileViewBasic'), cid='bafyreia23k7g4dc2pnccsgquqydn2czfr3tn2hhtrudlobgij4xc6fci6u', indexed_at='2024-02-08T10:13:19.626Z', record=Main(created_at='2024-02-08T10:13:19.626Z', text='PythonのYouTubeみながらカレーの具材を電気圧力鍋にぶち込んで豚汁作ってる。白米はよ。', embed=None, entities=None, facets=None, labels=None, langs=['ja'], reply=None, tags=None, py_type='app.bsky.feed.post'), uri='at://did:plc:esesfyq4guis6bhd3pmzob3i/app.bsky.feed.post/3kkvkbslvld2d', embed=None, labels=[], like_count=0, reply_count=0, repost_count=0, threadgate=None, viewer=ViewerState(like=None, reply_disabled=None, repost=None, py_type='app.bsky.feed.defs#viewerState'), py_type='app.bsky.feed.defs#postView'), PostView(author=ProfileViewBasic(did='did:plc:tcyv5gk43e5gekr5wo3vglhl', handle='infosec.skyfleet.blue', avatar='https://cdn.bsky.app/img/avatar/plain/did:plc:tcyv5gk43e5gekr5wo3vglhl/bafkreibpnoilqgb25bht7b2pineff2gldhhkn6qc2xhqbsb5m7pzhf7bju@jpeg', display_name='InfoSec', labels=[], viewer=ViewerState(blocked_by=False, blocking=None, blocking_by_list=None, followed_by=None, following=None, muted=False, muted_by_list=None, py_type='app.bsky.actor.defs#viewerState'), py_type='app.bsky.actor.defs#profileViewBasic'), cid='bafyreif55egc6oulz3hik43tgtuyaatjnoyzypr3nb5wogeuhpvdy2ps4i', indexed_at='2024-02-08T10:10:56.320Z', record=Main(created_at='2024-02-08T10:10:56.320Z', text='Understanding Python disassembly with ChatGPT', embed=Main(external=External(description='Hello, I am morimolymoly!', title='Understanding Python disassembly with ChatGPT', uri='https://infosecwriteups.com/understanding-python-disassembly-with-chatgpt-216e04c2e1ff', thumb=BlobRef(mime_type='image/jpeg', size=39935, ref=IpldLink(link='bafkreig63gf2mhtkykkqgo7mctei2d3lzmmx3nddd4izam7v4hiimjppzy'), py_type='blob'), py_type='app.bsky.embed.external#external'), py_type='app.bsky.embed.external'), entities=None, facets=None, labels=None, langs=['en'], reply=None, tags=None, py_type='app.bsky.feed.post'), uri='at://did:plc:tcyv5gk43e5gekr5wo3vglhl/app.bsky.feed.post/3kkvk5jti452f', embed=View(external=ViewExternal(description='Hello, I am morimolymoly!', title='Understanding Python disassembly with ChatGPT', uri='https://infosecwriteups.com/understanding-python-disassembly-with-chatgpt-216e04c2e1ff', thumb='https://cdn.bsky.app/img/feed_thumbnail/plain/did:plc:tcyv5gk43e5gekr5wo3vglhl/bafkreig63gf2mhtkykkqgo7mctei2d3lzmmx3nddd4izam7v4hiimjppzy@jpeg', py_type='app.bsky.embed.external#viewExternal'), py_type='app.bsky.embed.external#view'), labels=[], like_count=0, reply_count=0, repost_count=0, threadgate=None, viewer=ViewerState(like=None, reply_disabled=None, repost=None, py_type='app.bsky.feed.defs#viewerState'), py_type='app.bsky.feed.defs#postView'), PostView(author=ProfileViewBasic(did='did:plc:urrcchumbnp6wuqxkcg5fsxk', handle='mugenunicorn.bsky.social', avatar='https://cdn.bsky.app/img/avatar/plain/did:plc:urrcchumbnp6wuqxkcg5fsxk/bafkreidedivplckyc5glg4hefmu3qn46emxtktziiqm52gkebmgv3hvori@jpeg', display_name='スイリー', labels=[], viewer=ViewerState(blocked_by=False, blocking=None, blocking_by_list=None, followed_by=None, following=None, muted=False, muted_by_list=None, py_type='app.bsky.actor.defs#viewerState'), py_type='app.bsky.actor.defs#profileViewBasic'), cid='bafyreifftfqzdh3sea4l6nv3jetxolq5a5gsr4pjh5txq4a644lnhdtal4', indexed_at='2024-02-08T10:08:42.659Z', record=Main(created_at='2024-02-08T10:08:42.659Z', text='JS今やってんのに下手したら3月からPythonの案件なの理解ができなくて死にたい\\n墓前にはガンプラを置いてください…', embed=None, entities=None, facets=None, labels=None, langs=['ja'], reply=None, tags=None, py_type='app.bsky.feed.post'), uri='at://did:plc:urrcchumbnp6wuqxkcg5fsxk/app.bsky.feed.post/3kkvjzky73z2m', embed=None, labels=[], like_count=0, reply_count=0, repost_count=0, threadgate=None, viewer=ViewerState(like=None, reply_disabled=None, repost=None, py_type='app.bsky.feed.defs#viewerState'), py_type='app.bsky.feed.defs#postView'), PostView(author=ProfileViewBasic(did='did:plc:irkrtsaoyv7d6kugx7gulrxq', handle='ablativehen.bsky.social', avatar='https://cdn.bsky.app/img/avatar/plain/did:plc:irkrtsaoyv7d6kugx7gulrxq/bafkreia6fbtqc54g7hdgucx7uuby43ft4j7q5owgs3626fepquavh4nsum@jpeg', display_name='absolutive hen', labels=[], viewer=ViewerState(blocked_by=False, blocking=None, blocking_by_list=None, followed_by=None, following=None, muted=False, muted_by_list=None, py_type='app.bsky.actor.defs#viewerState'), py_type='app.bsky.actor.defs#profileViewBasic'), cid='bafyreia7lny4xjcfdwld6ef32ahqixemwfbdn6kkxq6uxrpou6tfbsrsnq', indexed_at='2024-02-08T09:58:49.912Z', record=Main(created_at='2024-02-08T09:58:49.912Z', text='Pythonのハードルがかなり下がったので、このままderivativDTVとクラスタリングまでやれそう', embed=None, entities=None, facets=None, labels=None, langs=['ja'], reply=ReplyRef(parent=Main(cid='bafyreie65qaek6e27f6w2fjikpitvsv4cmmqmbb6svogafyafn4quz74l4', uri='at://did:plc:irkrtsaoyv7d6kugx7gulrxq/app.bsky.feed.post/3kkvjeycfew2f', py_type='com.atproto.repo.strongRef'), root=Main(cid='bafyreie65qaek6e27f6w2fjikpitvsv4cmmqmbb6svogafyafn4quz74l4', uri='at://did:plc:irkrtsaoyv7d6kugx7gulrxq/app.bsky.feed.post/3kkvjeycfew2f', py_type='com.atproto.repo.strongRef'), py_type='app.bsky.feed.post#replyRef'), tags=None, py_type='app.bsky.feed.post'), uri='at://did:plc:irkrtsaoyv7d6kugx7gulrxq/app.bsky.feed.post/3kkvjhv653d24', embed=None, labels=[], like_count=1, reply_count=0, repost_count=0, threadgate=None, viewer=ViewerState(like=None, reply_disabled=None, repost=None, py_type='app.bsky.feed.defs#viewerState'), py_type='app.bsky.feed.defs#postView'), PostView(author=ProfileViewBasic(did='did:plc:irkrtsaoyv7d6kugx7gulrxq', handle='ablativehen.bsky.social', avatar='https://cdn.bsky.app/img/avatar/plain/did:plc:irkrtsaoyv7d6kugx7gulrxq/bafkreia6fbtqc54g7hdgucx7uuby43ft4j7q5owgs3626fepquavh4nsum@jpeg', display_name='absolutive hen', labels=[], viewer=ViewerState(blocked_by=False, blocking=None, blocking_by_list=None, followed_by=None, following=None, muted=False, muted_by_list=None, py_type='app.bsky.actor.defs#viewerState'), py_type='app.bsky.actor.defs#profileViewBasic'), cid='bafyreie65qaek6e27f6w2fjikpitvsv4cmmqmbb6svogafyafn4quz74l4', indexed_at='2024-02-08T09:57:12.472Z', record=Main(created_at='2024-02-08T09:57:12.472Z', text='chatGPTに助けてもらいながら、いつもはその目的で使わないPythonでfo曲線の描画をやった。複数のファイルの重ね合わせ、平均値の計算とそれの重ね合わせまで、GUIみたいにできるのすごすぎる', embed=None, entities=None, facets=None, labels=None, langs=['ja'], reply=None, tags=None, py_type='app.bsky.feed.post'), uri='at://did:plc:irkrtsaoyv7d6kugx7gulrxq/app.bsky.feed.post/3kkvjeycfew2f', embed=None, labels=[], like_count=2, reply_count=1, repost_count=0, threadgate=None, viewer=ViewerState(like=None, reply_disabled=None, repost=None, py_type='app.bsky.feed.defs#viewerState'), py_type='app.bsky.feed.defs#postView'), PostView(author=ProfileViewBasic(did='did:plc:4ebqbwwu6ndlr7z6oht43qtw', handle='hyperfelt.bsky.social', avatar='https://cdn.bsky.app/img/avatar/plain/did:plc:4ebqbwwu6ndlr7z6oht43qtw/bafkreigs3ynzrpgyzgy4p5pwiy2lpejaa6bp4qnb3jn42jzspppjfzyb7u@jpeg', display_name='Hyperfelt', labels=[], viewer=ViewerState(blocked_by=False, blocking=None, blocking_by_list=None, followed_by=None, following=None, muted=False, muted_by_list=None, py_type='app.bsky.actor.defs#viewerState'), py_type='app.bsky.actor.defs#profileViewBasic'), cid='bafyreig4edgfmulqlaglbcgnibqfj3hh7jo3pqazlg2rbaap5jblss22pe', indexed_at='2024-02-08T09:47:04.178Z', record=Main(created_at='2024-02-08T09:47:04.178Z', text='#Python developers will be happy to work in C# 12! 😁 #csharp #dotnet #microsoft #array', embed=Main(images=[Image(alt='', image=BlobRef(mime_type='image/jpeg', size=66895, ref=IpldLink(link='bafkreid4jezk2ks7hnsrrneg7owihsm4nj7gz7msmin3hvszii4b3hogra'), py_type='blob'), aspect_ratio=AspectRatio(height=157, width=377, py_type='app.bsky.embed.images#aspectRatio'), py_type='app.bsky.embed.images#image')], py_type='app.bsky.embed.images'), entities=None, facets=[Main(features=[Tag(tag='Python', py_type='app.bsky.richtext.facet#tag')], index=ByteSlice(byte_end=7, byte_start=0, py_type='app.bsky.richtext.facet#byteSlice'), py_type='app.bsky.richtext.facet'), Main(features=[Tag(tag='csharp', py_type='app.bsky.richtext.facet#tag')], index=ByteSlice(byte_end=63, byte_start=56, py_type='app.bsky.richtext.facet#byteSlice'), py_type='app.bsky.richtext.facet'), Main(features=[Tag(tag='dotnet', py_type='app.bsky.richtext.facet#tag')], index=ByteSlice(byte_end=71, byte_start=64, py_type='app.bsky.richtext.facet#byteSlice'), py_type='app.bsky.richtext.facet'), Main(features=[Tag(tag='microsoft', py_type='app.bsky.richtext.facet#tag')], index=ByteSlice(byte_end=82, byte_start=72, py_type='app.bsky.richtext.facet#byteSlice'), py_type='app.bsky.richtext.facet'), Main(features=[Tag(tag='array', py_type='app.bsky.richtext.facet#tag')], index=ByteSlice(byte_end=89, byte_start=83, py_type='app.bsky.richtext.facet#byteSlice'), py_type='app.bsky.richtext.facet')], labels=None, langs=['en'], reply=None, tags=None, py_type='app.bsky.feed.post'), uri='at://did:plc:4ebqbwwu6ndlr7z6oht43qtw/app.bsky.feed.post/3kkvisue54m2t', embed=View(images=[ViewImage(alt='', fullsize='https://cdn.bsky.app/img/feed_fullsize/plain/did:plc:4ebqbwwu6ndlr7z6oht43qtw/bafkreid4jezk2ks7hnsrrneg7owihsm4nj7gz7msmin3hvszii4b3hogra@jpeg', thumb='https://cdn.bsky.app/img/feed_thumbnail/plain/did:plc:4ebqbwwu6ndlr7z6oht43qtw/bafkreid4jezk2ks7hnsrrneg7owihsm4nj7gz7msmin3hvszii4b3hogra@jpeg', aspect_ratio=AspectRatio(height=157, width=377, py_type='app.bsky.embed.images#aspectRatio'), py_type='app.bsky.embed.images#viewImage')], py_type='app.bsky.embed.images#view'), labels=[], like_count=0, reply_count=0, repost_count=0, threadgate=None, viewer=ViewerState(like=None, reply_disabled=None, repost=None, py_type='app.bsky.feed.defs#viewerState'), py_type='app.bsky.feed.defs#postView'), PostView(author=ProfileViewBasic(did='did:plc:vsclht6nutfvrxcsjm22e6kq', handle='pumpkin-jack.bsky.social', avatar='https://cdn.bsky.app/img/avatar/plain/did:plc:vsclht6nutfvrxcsjm22e6kq/bafkreihbhcdhhszokumgdv2qrtyhnzhnr4xwqvmz2szeezm4cwkb6twvcy@jpeg', display_name='Pumpkin-jack', labels=[], viewer=ViewerState(blocked_by=False, blocking=None, blocking_by_list=None, followed_by=None, following=None, muted=False, muted_by_list=None, py_type='app.bsky.actor.defs#viewerState'), py_type='app.bsky.actor.defs#profileViewBasic'), cid='bafyreia7p4krbakttotyvqh72mixxna6mort2t6ywbbailr2yvf7j3ybdy', indexed_at='2024-02-08T09:39:19.149Z', record=Main(created_at='2024-02-08T09:39:20.411Z', text='現職はシステムエンジニアなので、技術的な話も少しすると思います。\\n\\ndjango/python\\nflutter/dart\\nJava/Android\\n\\n上記が主な領域なので、blueskyさん頑張って情報収集してTLに流してくださいね(他力本願)', embed=None, entities=None, facets=None, labels=None, langs=['ja'], reply=None, tags=None, py_type='app.bsky.feed.post'), uri='at://did:plc:vsclht6nutfvrxcsjm22e6kq/app.bsky.feed.post/3kkviey6uei26', embed=None, labels=[], like_count=1, reply_count=0, repost_count=0, threadgate=None, viewer=ViewerState(like=None, reply_disabled=None, repost=None, py_type='app.bsky.feed.defs#viewerState'), py_type='app.bsky.feed.defs#postView'), PostView(author=ProfileViewBasic(did='did:plc:r2lx7y5acswcnaglf2scmpd2', handle='ototo-tgz.bsky.social', avatar='https://cdn.bsky.app/img/avatar/plain/did:plc:r2lx7y5acswcnaglf2scmpd2/bafkreifox4zz5qfs3iyzsavwodnuoypip6lkwgotzvq6odljvwm4x6akze@jpeg', display_name='おとと(F1.2L)', labels=[], viewer=ViewerState(blocked_by=False, blocking=None, blocking_by_list=None, followed_by=None, following=None, muted=False, muted_by_list=None, py_type='app.bsky.actor.defs#viewerState'), py_type='app.bsky.actor.defs#profileViewBasic'), cid='bafyreihaa3tongme6vku5ymncclcufpl23i37hivp7lhnokbvlaq53px34', indexed_at='2024-02-08T09:27:55.391Z', record=Main(created_at='2024-02-08T09:27:55.391Z', text='Perlも頑張ってやってたんですが、もはや下火ですもんねぇ。言語は先が分からぬものです……ExcelはPython使えるようになったんでしたっけ。便利になっちゃうなぁ(*´ω｀*)', embed=None, entities=None, facets=None, labels=None, langs=['ja'], reply=ReplyRef(parent=Main(cid='bafyreia53t5po2ih2436vptlapahtfupnh6tmj2m2cznuwaimjk5dyeaby', uri='at://did:plc:twcnpn376qwsyhgyhlnohe44/app.bsky.feed.post/3kkvgmkwbm72w', py_type='com.atproto.repo.strongRef'), root=Main(cid='bafyreiggjpuwxq2p225hyzhstncrdpirppuk66fp6rrb3ljtbnaziwsqwq', uri='at://did:plc:r2lx7y5acswcnaglf2scmpd2/app.bsky.feed.post/3kkvgc76mgg2z', py_type='com.atproto.repo.strongRef'), py_type='app.bsky.feed.post#replyRef'), tags=None, py_type='app.bsky.feed.post'), uri='at://did:plc:r2lx7y5acswcnaglf2scmpd2/app.bsky.feed.post/3kkvhqmnhqt2w', embed=None, labels=[], like_count=1, reply_count=1, repost_count=0, threadgate=None, viewer=ViewerState(like=None, reply_disabled=None, repost=None, py_type='app.bsky.feed.defs#viewerState'), py_type='app.bsky.feed.defs#postView'), PostView(author=ProfileViewBasic(did='did:plc:wayvid6lxjnvj7bnjwwjnu6x', handle='twena.bsky.social', avatar='https://cdn.bsky.app/img/avatar/plain/did:plc:wayvid6lxjnvj7bnjwwjnu6x/bafkreidrn6oc6ueabuzlzpn5mzlsahdlljguxddctkat3cpfj4zqrj27xq@jpeg', display_name='twena', labels=[], viewer=ViewerState(blocked_by=False, blocking=None, blocking_by_list=None, followed_by=None, following=None, muted=False, muted_by_list=None, py_type='app.bsky.actor.defs#viewerState'), py_type='app.bsky.actor.defs#profileViewBasic'), cid='bafyreigclq2x2d7a3lu3k6fj3v6ne3g5lpu5x2ki3ow4vlgxrulh4ygd7e', indexed_at='2024-02-08T09:26:41.584Z', record=Main(created_at='2024-02-08T09:26:41.584Z', text=\"I am a strange hybrid of what I'm interested in; what I brought to my last job is the exact opposite of what I'm bringing to this one. I haven't read theory in ages, but this helps more here than my terribly sad Python skills 😅\", embed=None, entities=None, facets=None, labels=None, langs=['en'], reply=None, tags=None, py_type='app.bsky.feed.post'), uri='at://did:plc:wayvid6lxjnvj7bnjwwjnu6x/app.bsky.feed.post/3kkvhogozg72l', embed=None, labels=[], like_count=0, reply_count=0, repost_count=0, threadgate=None, viewer=ViewerState(like=None, reply_disabled=None, repost=None, py_type='app.bsky.feed.defs#viewerState'), py_type='app.bsky.feed.defs#postView'), PostView(author=ProfileViewBasic(did='did:plc:kloscgjqokdkurxhnrpn7tlg', handle='quess1221.bsky.social', avatar='https://cdn.bsky.app/img/avatar/plain/did:plc:kloscgjqokdkurxhnrpn7tlg/bafkreigjhvtfejpse4n2zfmjdwihtlsfnrxvmqiypzljhxkjk7z5oxj4dm@jpeg', display_name='くえす(作曲・阪神・ドラクエ10)', labels=[], viewer=ViewerState(blocked_by=False, blocking=None, blocking_by_list=None, followed_by=None, following=None, muted=False, muted_by_list=None, py_type='app.bsky.actor.defs#viewerState'), py_type='app.bsky.actor.defs#profileViewBasic'), cid='bafyreifdad5bwdcsroi6asalnpstwy46oxt7khvbt3z27asihek72crae4', indexed_at='2024-02-08T09:25:35.632Z', record=Main(created_at='2024-02-08T09:25:35.632Z', text='お。Blueskyもすでにapiあるんですな…見よう見まねでPythonのモジュールだけインストールしといた。使うかどうかは分かんないというか使えるかも分からんけど、今のtwitter(x)の投稿数の制限の仕様がクソなので虎風実況はBluesky移行も視野に入れたいかな。見てくれる人いるかは知らんけど(笑)', embed=None, entities=None, facets=None, labels=None, langs=['ja'], reply=None, tags=None, py_type='app.bsky.feed.post'), uri='at://did:plc:kloscgjqokdkurxhnrpn7tlg/app.bsky.feed.post/3kkvhmhdpur2e', embed=None, labels=[], like_count=1, reply_count=0, repost_count=0, threadgate=None, viewer=ViewerState(like=None, reply_disabled=None, repost=None, py_type='app.bsky.feed.defs#viewerState'), py_type='app.bsky.feed.defs#postView'), PostView(author=ProfileViewBasic(did='did:plc:twcnpn376qwsyhgyhlnohe44', handle='wkbdi.bsky.social', avatar='https://cdn.bsky.app/img/avatar/plain/did:plc:twcnpn376qwsyhgyhlnohe44/bafkreihygjkeiileb2nnyjaj4byn4ouf4ajgcn4km4h4yk4xp5gmddbmz4@jpeg', display_name='緑つり革のわ か ば だ い', labels=[], viewer=ViewerState(blocked_by=False, blocking=None, blocking_by_list=None, followed_by=None, following=None, muted=False, muted_by_list=None, py_type='app.bsky.actor.defs#viewerState'), py_type='app.bsky.actor.defs#profileViewBasic'), cid='bafyreia53t5po2ih2436vptlapahtfupnh6tmj2m2cznuwaimjk5dyeaby', indexed_at='2024-02-08T09:07:45.727Z', record=Main(created_at='2024-02-08T09:07:45.727Z', text='私はPythonでしたね（言語と言えるならHTML/CSSも）。\\nその意味ではExcelは必修科目だと思います。', embed=None, entities=None, facets=None, labels=None, langs=['ja'], reply=ReplyRef(parent=Main(cid='bafyreiggjpuwxq2p225hyzhstncrdpirppuk66fp6rrb3ljtbnaziwsqwq', uri='at://did:plc:r2lx7y5acswcnaglf2scmpd2/app.bsky.feed.post/3kkvgc76mgg2z', py_type='com.atproto.repo.strongRef'), root=Main(cid='bafyreiggjpuwxq2p225hyzhstncrdpirppuk66fp6rrb3ljtbnaziwsqwq', uri='at://did:plc:r2lx7y5acswcnaglf2scmpd2/app.bsky.feed.post/3kkvgc76mgg2z', py_type='com.atproto.repo.strongRef'), py_type='app.bsky.feed.post#replyRef'), tags=None, py_type='app.bsky.feed.post'), uri='at://did:plc:twcnpn376qwsyhgyhlnohe44/app.bsky.feed.post/3kkvgmkwbm72w', embed=None, labels=[], like_count=1, reply_count=1, repost_count=0, threadgate=None, viewer=ViewerState(like=None, reply_disabled=None, repost=None, py_type='app.bsky.feed.defs#viewerState'), py_type='app.bsky.feed.defs#postView'), PostView(author=ProfileViewBasic(did='did:plc:4m5bvt32vskeg5zaglsnpws6', handle='incforg.bsky.social', avatar='https://cdn.bsky.app/img/avatar/plain/did:plc:4m5bvt32vskeg5zaglsnpws6/bafkreie74nojjaif5envk7iwwtayqalhpt67mkafrhdwk2nejj54zbyh3a@jpeg', display_name='INCF', labels=[], viewer=ViewerState(blocked_by=False, blocking=None, blocking_by_list=None, followed_by=None, following=None, muted=False, muted_by_list=None, py_type='app.bsky.actor.defs#viewerState'), py_type='app.bsky.actor.defs#profileViewBasic'), cid='bafyreianf2j77zghzzxl6ki7g7sour4ti4fbl5yuckgsngdsqcpmlqarcu', indexed_at='2024-02-08T09:07:16.000Z', record=Main(created_at='2024-02-08T09:07:16.000Z', text='📢Community review requested: NetPyNE📢\\n\\nNetPyNE is an open-source #Python package designed for the development, simulation, & analysis of biological neuronal networks 🧠\\n\\n⚠️ The review period ends TOMORROW - Fri Feb 09!\\n\\nUsed this standard? Review it here: http://bit.ly/4beRciC\\n\\n#neuroskyence', embed=Main(images=[Image(alt='', image=BlobRef(mime_type='image/jpeg', size=12779, ref=IpldLink(link='bafkreiebqg5fnebqvuik7tu36q63fjybvqkpvkwtxj5z6zvi5rcnk4jvyi'), py_type='blob'), aspect_ratio=None, py_type='app.bsky.embed.images#image')], py_type='app.bsky.embed.images'), entities=None, facets=[Main(features=[Link(uri='http://bit.ly/4beRciC', py_type='app.bsky.richtext.facet#link')], index=ByteSlice(byte_end=289, byte_start=268, py_type='app.bsky.richtext.facet#byteSlice'), py_type='app.bsky.richtext.facet')], labels=None, langs=None, reply=None, tags=None, py_type='app.bsky.feed.post'), uri='at://did:plc:4m5bvt32vskeg5zaglsnpws6/app.bsky.feed.post/3kkvglow3hn2f', embed=View(images=[ViewImage(alt='', fullsize='https://cdn.bsky.app/img/feed_fullsize/plain/did:plc:4m5bvt32vskeg5zaglsnpws6/bafkreiebqg5fnebqvuik7tu36q63fjybvqkpvkwtxj5z6zvi5rcnk4jvyi@jpeg', thumb='https://cdn.bsky.app/img/feed_thumbnail/plain/did:plc:4m5bvt32vskeg5zaglsnpws6/bafkreiebqg5fnebqvuik7tu36q63fjybvqkpvkwtxj5z6zvi5rcnk4jvyi@jpeg', aspect_ratio=None, py_type='app.bsky.embed.images#viewImage')], py_type='app.bsky.embed.images#view'), labels=[], like_count=0, reply_count=0, repost_count=0, threadgate=None, viewer=ViewerState(like=None, reply_disabled=None, repost=None, py_type='app.bsky.feed.defs#viewerState'), py_type='app.bsky.feed.defs#postView'), PostView(author=ProfileViewBasic(did='did:plc:r2lx7y5acswcnaglf2scmpd2', handle='ototo-tgz.bsky.social', avatar='https://cdn.bsky.app/img/avatar/plain/did:plc:r2lx7y5acswcnaglf2scmpd2/bafkreifox4zz5qfs3iyzsavwodnuoypip6lkwgotzvq6odljvwm4x6akze@jpeg', display_name='おとと(F1.2L)', labels=[], viewer=ViewerState(blocked_by=False, blocking=None, blocking_by_list=None, followed_by=None, following=None, muted=False, muted_by_list=None, py_type='app.bsky.actor.defs#viewerState'), py_type='app.bsky.actor.defs#profileViewBasic'), cid='bafyreiggjpuwxq2p225hyzhstncrdpirppuk66fp6rrb3ljtbnaziwsqwq', indexed_at='2024-02-08T09:01:57.520Z', record=Main(created_at='2024-02-08T09:01:57.520Z', text='英語の次は、俺はCだったけど、今ならPythonとかJavaScriptかもしれねぇなぁ。もちろんC#でもJavaでもいい。', embed=Main(record=Main(cid='bafyreihc3q5sly5blheigpazrgr3feasdmrzgw2ns27z5y4k7f6nzvz444', uri='at://did:plc:twcnpn376qwsyhgyhlnohe44/app.bsky.feed.post/3kkvg7j3y732f', py_type='com.atproto.repo.strongRef'), py_type='app.bsky.embed.record'), entities=None, facets=None, labels=None, langs=['ja'], reply=None, tags=None, py_type='app.bsky.feed.post'), uri='at://did:plc:r2lx7y5acswcnaglf2scmpd2/app.bsky.feed.post/3kkvgc76mgg2z', embed=View(record=ViewRecord(author=ProfileViewBasic(did='did:plc:twcnpn376qwsyhgyhlnohe44', handle='wkbdi.bsky.social', avatar='https://cdn.bsky.app/img/avatar/plain/did:plc:twcnpn376qwsyhgyhlnohe44/bafkreihygjkeiileb2nnyjaj4byn4ouf4ajgcn4km4h4yk4xp5gmddbmz4@jpeg', display_name='緑つり革のわ か ば だ い', labels=[], viewer=ViewerState(blocked_by=False, blocking=None, blocking_by_list=None, followed_by=None, following=None, muted=False, muted_by_list=None, py_type='app.bsky.actor.defs#viewerState'), py_type='app.bsky.actor.defs#profileViewBasic'), cid='bafyreihc3q5sly5blheigpazrgr3feasdmrzgw2ns27z5y4k7f6nzvz444', indexed_at='2024-02-08T09:00:26.853Z', uri='at://did:plc:twcnpn376qwsyhgyhlnohe44/app.bsky.feed.post/3kkvg7j3y732f', value=Main(created_at='2024-02-08T09:00:26.853Z', text='英語の次に勉強すべきは学問やるならドイツ語だと思うし、その次はラテン語だと思ってる', embed=None, entities=None, facets=None, labels=None, langs=['ja'], reply=None, tags=None, py_type='app.bsky.feed.post'), embeds=[], labels=[], py_type='app.bsky.embed.record#viewRecord'), py_type='app.bsky.embed.record#view'), labels=[], like_count=1, reply_count=1, repost_count=0, threadgate=None, viewer=ViewerState(like=None, reply_disabled=None, repost=None, py_type='app.bsky.feed.defs#viewerState'), py_type='app.bsky.feed.defs#postView'), PostView(author=ProfileViewBasic(did='did:plc:ucjxl5fu6qtv26wofnadke3g', handle='avadiax.bsky.social', avatar='https://cdn.bsky.app/img/avatar/plain/did:plc:ucjxl5fu6qtv26wofnadke3g/bafkreigvk567uwh5qan456rw23waomspxxcnuwitlmk53v6l7shnnkmkjq@jpeg', display_name='Avadiax', labels=[], viewer=ViewerState(blocked_by=False, blocking=None, blocking_by_list=None, followed_by=None, following=None, muted=False, muted_by_list=None, py_type='app.bsky.actor.defs#viewerState'), py_type='app.bsky.actor.defs#profileViewBasic'), cid='bafyreibufcijzybz7luco2klmf6sy3kfer2s6ytlklg5y3dwojznhy6lzq', indexed_at='2024-02-08T08:51:31.301Z', record=Main(created_at='2024-02-08T08:51:31.301406+00:00', text='Python IDE in your browser is awesome! http://pythonfiddle.com/', embed=None, entities=None, facets=[], labels=None, langs=['en'], reply=None, tags=None, py_type='app.bsky.feed.post'), uri='at://did:plc:ucjxl5fu6qtv26wofnadke3g/app.bsky.feed.post/3kkvfpjvyxq25', embed=None, labels=[], like_count=0, reply_count=0, repost_count=0, threadgate=None, viewer=ViewerState(like=None, reply_disabled=None, repost=None, py_type='app.bsky.feed.defs#viewerState'), py_type='app.bsky.feed.defs#postView'), PostView(author=ProfileViewBasic(did='did:plc:srzuazebez52n6odhfuplmpq', handle='kdmsnr.com', avatar='https://cdn.bsky.app/img/avatar/plain/did:plc:srzuazebez52n6odhfuplmpq/bafkreicrhdrgcg6le4soqtv42kjlpstzwoz73z7di5uym2yhyka4lzqsci@jpeg', display_name='Masanori Kado', labels=[], viewer=ViewerState(blocked_by=False, blocking=None, blocking_by_list=None, followed_by=None, following=None, muted=False, muted_by_list=None, py_type='app.bsky.actor.defs#viewerState'), py_type='app.bsky.actor.defs#profileViewBasic'), cid='bafyreiagqya5uyzybtggmbo47b672v32oceanbrepnmmqacukkpu4gbtom', indexed_at='2024-02-08T08:31:04.463Z', record=Main(created_at='2024-02-08T08:31:04.463Z', text='へえ\\n> RustPython can be embedded into Rust programs to use Python as a scripting language for your application, or it can be compiled to WebAssembly in order to run Python in the browser.', embed=None, entities=None, facets=[], labels=None, langs=['en', 'ja', 'fr'], reply=ReplyRef(parent=Main(cid='bafyreif227nu4rcdl6ozecl5f7yq2oiroyrocasqezo5fbuc6qxks6kjtq', uri='at://did:plc:srzuazebez52n6odhfuplmpq/app.bsky.feed.post/3kktzmfbqw727', py_type='com.atproto.repo.strongRef'), root=Main(cid='bafyreif227nu4rcdl6ozecl5f7yq2oiroyrocasqezo5fbuc6qxks6kjtq', uri='at://did:plc:srzuazebez52n6odhfuplmpq/app.bsky.feed.post/3kktzmfbqw727', py_type='com.atproto.repo.strongRef'), py_type='app.bsky.feed.post#replyRef'), tags=None, py_type='app.bsky.feed.post', via='TOKIMEKI'), uri='at://did:plc:srzuazebez52n6odhfuplmpq/app.bsky.feed.post/3kkvekxxq3t2z', embed=None, labels=[], like_count=0, reply_count=0, repost_count=0, threadgate=None, viewer=ViewerState(like=None, reply_disabled=None, repost=None, py_type='app.bsky.feed.defs#viewerState'), py_type='app.bsky.feed.defs#postView'), PostView(author=ProfileViewBasic(did='did:plc:sjqlxdpgql3ovcdj6wsgc27u', handle='hackernewsbot.bsky.social', avatar='https://cdn.bsky.app/img/avatar/plain/did:plc:sjqlxdpgql3ovcdj6wsgc27u/bafkreiaowesled27rksncgsym6j6yblcggxu6zjurkf25b5bzyee2jzviy@jpeg', display_name='Hacker News Top Stories', labels=[], viewer=ViewerState(blocked_by=False, blocking=None, blocking_by_list=None, followed_by=None, following=None, muted=False, muted_by_list=None, py_type='app.bsky.actor.defs#viewerState'), py_type='app.bsky.actor.defs#profileViewBasic'), cid='bafyreievx3tv2wjm4drz2ka6ix6bvon2a4yrftcfq52cpnnzbjfb4qsnae', indexed_at='2024-02-08T08:30:02.025Z', record=Main(created_at='2024-02-08T08:30:02.025Z', text='SQLite-Web: Web-based SQLite database browser written in Python https://news.ycombinator.com/item?id=39297776', embed=None, entities=None, facets=[Main(features=[Link(uri='https://news.ycombinator.com/item?id=39297776', py_type='app.bsky.richtext.facet#link')], index=ByteSlice(byte_end=109, byte_start=64, py_type='app.bsky.richtext.facet#byteSlice'), py_type='app.bsky.richtext.facet')], labels=None, langs=None, reply=None, tags=None, py_type='app.bsky.feed.post'), uri='at://did:plc:sjqlxdpgql3ovcdj6wsgc27u/app.bsky.feed.post/3kkvej43m6j2o', embed=None, labels=[], like_count=0, reply_count=0, repost_count=0, threadgate=None, viewer=ViewerState(like=None, reply_disabled=None, repost=None, py_type='app.bsky.feed.defs#viewerState'), py_type='app.bsky.feed.defs#postView'), PostView(author=ProfileViewBasic(did='did:plc:qljmdpye34caiyjzuh7g6sdk', handle='chapman.wiki', avatar='https://cdn.bsky.app/img/avatar/plain/did:plc:qljmdpye34caiyjzuh7g6sdk/bafkreickj5nh4ckwudixviljy6a25c3ibdi62z7ak5n3fxhthbxjeccfui@jpeg', display_name='Nigel Chapman', labels=[], viewer=ViewerState(blocked_by=False, blocking=None, blocking_by_list=None, followed_by=None, following=None, muted=False, muted_by_list=None, py_type='app.bsky.actor.defs#viewerState'), py_type='app.bsky.actor.defs#profileViewBasic'), cid='bafyreib5d3eg4op4ynw4quz7ngyd2hylh3a6ycb3scvflmuoxucxwrmnr4', indexed_at='2024-02-08T08:27:17.802Z', record=Main(created_at='2024-02-08T08:27:17.802Z', text='#Melbourne #python meetup, Wed 21 Feb at 5:30pm.', embed=Main(external=External(description='', title='', uri='https://www.meetup.com/melbourne-python-user-group/events/299001907', thumb=None, py_type='app.bsky.embed.external#external'), py_type='app.bsky.embed.external'), entities=None, facets=[Main(features=[Tag(tag='Melbourne', py_type='app.bsky.richtext.facet#tag')], index=ByteSlice(byte_end=10, byte_start=0, py_type='app.bsky.richtext.facet#byteSlice'), py_type='app.bsky.richtext.facet'), Main(features=[Tag(tag='python', py_type='app.bsky.richtext.facet#tag')], index=ByteSlice(byte_end=18, byte_start=11, py_type='app.bsky.richtext.facet#byteSlice'), py_type='app.bsky.richtext.facet')], labels=None, langs=['en'], reply=None, tags=None, py_type='app.bsky.feed.post'), uri='at://did:plc:qljmdpye34caiyjzuh7g6sdk/app.bsky.feed.post/3kkveea6oh724', embed=View(external=ViewExternal(description='', title='', uri='https://www.meetup.com/melbourne-python-user-group/events/299001907', thumb=None, py_type='app.bsky.embed.external#viewExternal'), py_type='app.bsky.embed.external#view'), labels=[], like_count=0, reply_count=0, repost_count=0, threadgate=None, viewer=ViewerState(like=None, reply_disabled=None, repost=None, py_type='app.bsky.feed.defs#viewerState'), py_type='app.bsky.feed.defs#postView'), PostView(author=ProfileViewBasic(did='did:plc:oklkinuievllgvhrv2nia4gu', handle='bearstech.bsky.social', avatar='https://cdn.bsky.app/img/avatar/plain/did:plc:oklkinuievllgvhrv2nia4gu/bafkreido6n7zkc7ogsw4vrtpnqw6cfjo2hxccde5jltrxqpfhpowpqiouy@jpeg', display_name='Bearstech', labels=[], viewer=ViewerState(blocked_by=False, blocking=None, blocking_by_list=None, followed_by=None, following=None, muted=False, muted_by_list=None, py_type='app.bsky.actor.defs#viewerState'), py_type='app.bsky.actor.defs#profileViewBasic'), cid='bafyreidmiez62p6dweqbrv66uebbqb25x4vlihborcgu2przquefngcaqi', indexed_at='2024-02-08T08:22:52.000Z', record=Main(created_at='2024-02-08T08:22:52.000Z', text='Un interpreter Python 3 Open Source (CPython >= 3.11.0) écrit en Rust 🐍 😱\\nrustpython.github.io/', embed=Main(external=External(description='An open source Python 3 (CPython >= 3.11.0) interpreter written in Rust 🐍 😱 🤘', title='RustPython', uri='https://rustpython.github.io/', thumb=None, py_type='app.bsky.embed.external#external'), py_type='app.bsky.embed.external'), entities=None, facets=[Main(features=[Link(uri='https://rustpython.github.io/', py_type='app.bsky.richtext.facet#link')], index=ByteSlice(byte_end=102, byte_start=81, py_type='app.bsky.richtext.facet#byteSlice'), py_type='app.bsky.richtext.facet')], labels=None, langs=None, reply=None, tags=None, py_type='app.bsky.feed.post'), uri='at://did:plc:oklkinuievllgvhrv2nia4gu/app.bsky.feed.post/3kkve4crd5v26', embed=View(external=ViewExternal(description='An open source Python 3 (CPython >= 3.11.0) interpreter written in Rust 🐍 😱 🤘', title='RustPython', uri='https://rustpython.github.io/', thumb=None, py_type='app.bsky.embed.external#viewExternal'), py_type='app.bsky.embed.external#view'), labels=[], like_count=0, reply_count=1, repost_count=0, threadgate=None, viewer=ViewerState(like=None, reply_disabled=None, repost=None, py_type='app.bsky.feed.defs#viewerState'), py_type='app.bsky.feed.defs#postView'), PostView(author=ProfileViewBasic(did='did:plc:kregktid6vosbw6jv5kf7i34', handle='hiddengamingnerd.bsky.social', avatar='https://cdn.bsky.app/img/avatar/plain/did:plc:kregktid6vosbw6jv5kf7i34/bafkreigrbyhgq6i57zfklajdlek3unzi7wmllnuxmcmoyjsxgn75zyx44q@jpeg', display_name='ゲーマーの裏垢', labels=[], viewer=ViewerState(blocked_by=False, blocking=None, blocking_by_list=None, followed_by=None, following=None, muted=False, muted_by_list=None, py_type='app.bsky.actor.defs#viewerState'), py_type='app.bsky.actor.defs#profileViewBasic'), cid='bafyreid7fcjfq5shhfp2enmdne7uommdzkays763atzrbscgbhg7gguvfm', indexed_at='2024-02-08T08:21:19.071Z', record=Main(created_at='2024-02-08T08:21:19.071Z', text='Python基礎講座\\u3000第一回\\nわからんことはChatGPTに聞け', embed=None, entities=None, facets=None, labels=None, langs=['ja'], reply=None, tags=None, py_type='app.bsky.feed.post'), uri='at://did:plc:kregktid6vosbw6jv5kf7i34/app.bsky.feed.post/3kkvdzjmu7r2y', embed=None, labels=[], like_count=1, reply_count=0, repost_count=1, threadgate=None, viewer=ViewerState(like=None, reply_disabled=None, repost=None, py_type='app.bsky.feed.defs#viewerState'), py_type='app.bsky.feed.defs#postView'), PostView(author=ProfileViewBasic(did='did:plc:mtna4ozxk723lm3ej46cntzq', handle='bainari.bsky.social', avatar='https://cdn.bsky.app/img/avatar/plain/did:plc:mtna4ozxk723lm3ej46cntzq/bafkreiewlygkft5fcmyolc5dzusirp7gygjpwulaib5zbtttnuwmnhs4wa@jpeg', display_name='倍成', labels=[], viewer=ViewerState(blocked_by=False, blocking=None, blocking_by_list=None, followed_by=None, following=None, muted=False, muted_by_list=None, py_type='app.bsky.actor.defs#viewerState'), py_type='app.bsky.actor.defs#profileViewBasic'), cid='bafyreifwokbalg2caatrjmi2iffosvbv23lr35mig7p3uwewmktzszstaa', indexed_at='2024-02-08T08:18:04.746Z', record=Main(created_at='2024-02-08T08:18:04.746Z', text='今日私も会社で外部参照できないpcのアプリ画面を、Pythonで定時クリック・スクショしてメールでメンバーのスマホに飛ばす簡単なプログラムを作ったら感謝されました😊ギルドに入ってなかったら無縁のまま', embed=None, entities=None, facets=None, labels=None, langs=['ja'], reply=ReplyRef(parent=Main(cid='bafyreicgoj24plfvsrlvalhxdi2vicruzygmllk3iayahbhqbi2tupnovy', uri='at://did:plc:3glmbyatujcrddachhzx7hty/app.bsky.feed.post/3kkvangk3em2k', py_type='com.atproto.repo.strongRef'), root=Main(cid='bafyreicgoj24plfvsrlvalhxdi2vicruzygmllk3iayahbhqbi2tupnovy', uri='at://did:plc:3glmbyatujcrddachhzx7hty/app.bsky.feed.post/3kkvangk3em2k', py_type='com.atproto.repo.strongRef'), py_type='app.bsky.feed.post#replyRef'), tags=None, py_type='app.bsky.feed.post'), uri='at://did:plc:mtna4ozxk723lm3ej46cntzq/app.bsky.feed.post/3kkvdtq2v7n2i', embed=None, labels=[], like_count=4, reply_count=0, repost_count=0, threadgate=None, viewer=ViewerState(like=None, reply_disabled=None, repost=None, py_type='app.bsky.feed.defs#viewerState'), py_type='app.bsky.feed.defs#postView'), PostView(author=ProfileViewBasic(did='did:plc:oagxttivmfvg2na5uc3p2xhk', handle='marachi.bsky.social', avatar='https://cdn.bsky.app/img/avatar/plain/did:plc:oagxttivmfvg2na5uc3p2xhk/bafkreihujqg5eqp7th6iiezhiw56m2v3lt7sz3da4rqnezpemocnpwjwxq@jpeg', display_name='まらち🚬\\U0001fabc', labels=[], viewer=ViewerState(blocked_by=False, blocking=None, blocking_by_list=None, followed_by=None, following=None, muted=False, muted_by_list=None, py_type='app.bsky.actor.defs#viewerState'), py_type='app.bsky.actor.defs#profileViewBasic'), cid='bafyreicuj3slixrnqjcyjw4pcrtytkt7heinr6b2wbt72qsijiulex3keq', indexed_at='2024-02-08T08:17:46.116Z', record=Main(created_at='2024-02-08T08:17:46.116Z', text='・プログラミング（Python,HTML,CSS,JavaScript）\\n加わりました。', embed=Main(record=Main(cid='bafyreibq3whrq32kqvkx4c6ga4vope4w5qrxcpjv3644fzp4r7ylylkdq4', uri='at://did:plc:oagxttivmfvg2na5uc3p2xhk/app.bsky.feed.post/3kkvdqlcoa223', py_type='com.atproto.repo.strongRef'), py_type='app.bsky.embed.record'), entities=None, facets=None, labels=None, langs=['ja'], reply=None, tags=None, py_type='app.bsky.feed.post'), uri='at://did:plc:oagxttivmfvg2na5uc3p2xhk/app.bsky.feed.post/3kkvdtat3ns23', embed=View(record=ViewRecord(author=ProfileViewBasic(did='did:plc:oagxttivmfvg2na5uc3p2xhk', handle='marachi.bsky.social', avatar='https://cdn.bsky.app/img/avatar/plain/did:plc:oagxttivmfvg2na5uc3p2xhk/bafkreihujqg5eqp7th6iiezhiw56m2v3lt7sz3da4rqnezpemocnpwjwxq@jpeg', display_name='まらち🚬\\U0001fabc', labels=[], viewer=ViewerState(blocked_by=False, blocking=None, blocking_by_list=None, followed_by=None, following=None, muted=False, muted_by_list=None, py_type='app.bsky.actor.defs#viewerState'), py_type='app.bsky.actor.defs#profileViewBasic'), cid='bafyreibq3whrq32kqvkx4c6ga4vope4w5qrxcpjv3644fzp4r7ylylkdq4', indexed_at='2024-02-08T08:16:16.098Z', uri='at://did:plc:oagxttivmfvg2na5uc3p2xhk/app.bsky.feed.post/3kkvdqlcoa223', value=Main(created_at='2024-02-08T08:16:16.098Z', text='科目が「英語」「デザイン」「広告運用」しかない類塾開きます。開きません。', embed=None, entities=None, facets=None, labels=None, langs=['ja'], reply=None, tags=None, py_type='app.bsky.feed.post'), embeds=[], labels=[], py_type='app.bsky.embed.record#viewRecord'), py_type='app.bsky.embed.record#view'), labels=[], like_count=2, reply_count=1, repost_count=0, threadgate=None, viewer=ViewerState(like=None, reply_disabled=None, repost=None, py_type='app.bsky.feed.defs#viewerState'), py_type='app.bsky.feed.defs#postView'), PostView(author=ProfileViewBasic(did='did:plc:kregktid6vosbw6jv5kf7i34', handle='hiddengamingnerd.bsky.social', avatar='https://cdn.bsky.app/img/avatar/plain/did:plc:kregktid6vosbw6jv5kf7i34/bafkreigrbyhgq6i57zfklajdlek3unzi7wmllnuxmcmoyjsxgn75zyx44q@jpeg', display_name='ゲーマーの裏垢', labels=[], viewer=ViewerState(blocked_by=False, blocking=None, blocking_by_list=None, followed_by=None, following=None, muted=False, muted_by_list=None, py_type='app.bsky.actor.defs#viewerState'), py_type='app.bsky.actor.defs#profileViewBasic'), cid='bafyreidp7l4b6ijzyt73btrlteko4pcoxlj27dsnlddfeju25w72xhr6s4', indexed_at='2024-02-08T08:16:55.556Z', record=Main(created_at='2024-02-08T08:16:55.690Z', text='あとプログラミング（Python,HTML,CSS,JavaScript）も科目にいれといて', embed=None, entities=None, facets=None, labels=None, langs=['ja'], reply=ReplyRef(parent=Main(cid='bafyreibq3whrq32kqvkx4c6ga4vope4w5qrxcpjv3644fzp4r7ylylkdq4', uri='at://did:plc:oagxttivmfvg2na5uc3p2xhk/app.bsky.feed.post/3kkvdqlcoa223', py_type='com.atproto.repo.strongRef'), root=Main(cid='bafyreibq3whrq32kqvkx4c6ga4vope4w5qrxcpjv3644fzp4r7ylylkdq4', uri='at://did:plc:oagxttivmfvg2na5uc3p2xhk/app.bsky.feed.post/3kkvdqlcoa223', py_type='com.atproto.repo.strongRef'), py_type='app.bsky.feed.post#replyRef'), tags=None, py_type='app.bsky.feed.post'), uri='at://did:plc:kregktid6vosbw6jv5kf7i34/app.bsky.feed.post/3kkvdrns3ga2w', embed=None, labels=[], like_count=2, reply_count=0, repost_count=0, threadgate=None, viewer=ViewerState(like=None, reply_disabled=None, repost=None, py_type='app.bsky.feed.defs#viewerState'), py_type='app.bsky.feed.defs#postView'), PostView(author=ProfileViewBasic(did='did:plc:72o4tpcwhspjsbuevbjk3sis', handle='lolmcbride.bsky.social', avatar='https://cdn.bsky.app/img/avatar/plain/did:plc:72o4tpcwhspjsbuevbjk3sis/bafkreibmroswto7szfn5qbaxrxysfpxix6qoypq3cgwu46uv2oftptmupm@jpeg', display_name='lolmc ', labels=[], viewer=ViewerState(blocked_by=False, blocking=None, blocking_by_list=None, followed_by=None, following=None, muted=False, muted_by_list=None, py_type='app.bsky.actor.defs#viewerState'), py_type='app.bsky.actor.defs#profileViewBasic'), cid='bafyreidckjmwd6tnxtnz23sukznfvmtyon3tl7naa4dtys2zcrpub2ufzu', indexed_at='2024-02-08T08:09:47.054Z', record=Main(created_at='2024-02-08T08:09:48.206Z', text='The current bee in my bonnet is around using old 🖥️ to run LLM models locally on CPU in an AI crew using Ollama and python frameworks to link them together.\\nRust LLM crates are calling me like a siren but I lack the rust knowledge tbh.\\nAnyone else interested in this kind of thing?', embed=None, entities=None, facets=None, labels=None, langs=['en'], reply=None, tags=None, py_type='app.bsky.feed.post'), uri='at://did:plc:72o4tpcwhspjsbuevbjk3sis/app.bsky.feed.post/3kkvdev6arg2j', embed=None, labels=[], like_count=0, reply_count=0, repost_count=0, threadgate=None, viewer=ViewerState(like=None, reply_disabled=None, repost=None, py_type='app.bsky.feed.defs#viewerState'), py_type='app.bsky.feed.defs#postView'), PostView(author=ProfileViewBasic(did='did:plc:4brmhnsqxcjturyo7kmeq4d2', handle='veit.bsky.social', avatar='https://cdn.bsky.app/img/avatar/plain/did:plc:4brmhnsqxcjturyo7kmeq4d2/bafkreidxqrz2jj623fhwuaggdplbyd2y4dwgwt4akpsucn5vnid4sxmb64@jpeg', display_name='Veit Schiele', labels=[], viewer=ViewerState(blocked_by=False, blocking=None, blocking_by_list=None, followed_by=None, following=None, muted=False, muted_by_list=None, py_type='app.bsky.actor.defs#viewerState'), py_type='app.bsky.actor.defs#profileViewBasic'), cid='bafyreic33meetneqebt4flxlspleym4ihisb77vdrnrq3k76dntelxrl3a', indexed_at='2024-02-08T07:47:29.017Z', record=Main(created_at='2024-02-08T07:47:29.017Z', text='OTD 23 years ago, Zen of Python was added to the CPython repository, but in a way that contradicts everything Zen of Python stands for: github.com/python/cpyth...', embed=None, entities=None, facets=[Main(features=[Link(uri='https://github.com/python/cpython/blob/main/Lib/this.py', py_type='app.bsky.richtext.facet#link')], index=ByteSlice(byte_end=162, byte_start=136, py_type='app.bsky.richtext.facet#byteSlice'), py_type='app.bsky.richtext.facet')], labels=None, langs=['en'], reply=None, tags=None, py_type='app.bsky.feed.post'), uri='at://did:plc:4brmhnsqxcjturyo7kmeq4d2/app.bsky.feed.post/3kkvc4zvbjn2p', embed=None, labels=[], like_count=1, reply_count=0, repost_count=0, threadgate=None, viewer=ViewerState(like=None, reply_disabled=None, repost=None, py_type='app.bsky.feed.defs#viewerState'), py_type='app.bsky.feed.defs#postView')] cursor='25' hits_total=None\n"
     ]
    }
   ],
   "source": [
    "print(client.app.bsky.feed.search_posts({'q': 'python'}))"
   ]
  },
  {
   "cell_type": "code",
   "execution_count": 29,
   "metadata": {},
   "outputs": [
    {
     "name": "stderr",
     "output_type": "stream",
     "text": [
      "HTTP Request: GET https://bsky.social/xrpc/app.bsky.feed.searchPosts?q=python&limit=100 \"HTTP/1.1 200 OK\"\n"
     ]
    }
   ],
   "source": [
    "posts = client.app.bsky.feed.search_posts({'q': 'python', 'limit': 100})"
   ]
  },
  {
   "cell_type": "code",
   "execution_count": 31,
   "metadata": {},
   "outputs": [
    {
     "data": {
      "text/plain": [
       "91"
      ]
     },
     "execution_count": 31,
     "metadata": {},
     "output_type": "execute_result"
    }
   ],
   "source": [
    "len(posts[\"posts\"])"
   ]
  },
  {
   "cell_type": "code",
   "execution_count": 33,
   "metadata": {},
   "outputs": [
    {
     "name": "stderr",
     "output_type": "stream",
     "text": [
      "HTTP Request: GET https://bsky.social/xrpc/app.bsky.feed.searchPosts?q=politics&limit=50 \"HTTP/1.1 200 OK\"\n"
     ]
    }
   ],
   "source": [
    "politics = client.app.bsky.feed.search_posts({'q': 'politics', 'limit': 50})"
   ]
  },
  {
   "cell_type": "code",
   "execution_count": 34,
   "metadata": {},
   "outputs": [
    {
     "data": {
      "text/plain": [
       "dict_keys(['posts', 'cursor', 'hits_total'])"
      ]
     },
     "execution_count": 34,
     "metadata": {},
     "output_type": "execute_result"
    }
   ],
   "source": [
    "politics.__dict__.keys()"
   ]
  },
  {
   "cell_type": "code",
   "execution_count": 42,
   "metadata": {},
   "outputs": [
    {
     "data": {
      "text/plain": [
       "{'author': ProfileViewBasic(did='did:plc:7punls2ofrpj3x4tikb5n7ho', handle='lfb.bsky.social', avatar='https://cdn.bsky.app/img/avatar/plain/did:plc:7punls2ofrpj3x4tikb5n7ho/bafkreieyz7vk7o524asr4zgl2fsnpiezyjmntl6fyc3cpnageorsx7rnli@jpeg', display_name='Kuřák na paprice 🌶️', labels=[Label(cts='1970-01-01T00:00:00.000Z', src='did:plc:7punls2ofrpj3x4tikb5n7ho', uri='at://did:plc:7punls2ofrpj3x4tikb5n7ho/app.bsky.actor.profile/self', val='!no-unauthenticated', cid='bafyreichedyddadjykey3ilwmrhtrtsr2roelvbw6mexxjpuqcbjdurnie', neg=False, py_type='com.atproto.label.defs#label')], viewer=ViewerState(blocked_by=False, blocking=None, blocking_by_list=None, followed_by=None, following=None, muted=False, muted_by_list=None, py_type='app.bsky.actor.defs#viewerState'), py_type='app.bsky.actor.defs#profileViewBasic'),\n",
       " 'cid': 'bafyreiahnq3wcuzbyeorboua3duuxbvd3saxiyuqdwu23cpebb6e3bf3km',\n",
       " 'indexed_at': '2024-02-08T10:10:09.453Z',\n",
       " 'record': Main(created_at='2024-02-08T10:10:09.453Z', text=\"Oh no! How dare you, pronoucing your opinion about politics which might be influencing your very life. In a public space? Willy-nilly? Not on that guy's watch.\", embed=Main(images=[Image(alt='', image=BlobRef(mime_type='image/jpeg', size=49277, ref=IpldLink(link='bafkreihxwhsyvjvfi5ttp73ctrzqxkpnhk4kvgiqaxxoqbuerdm45p4dn4'), py_type='blob'), aspect_ratio=AspectRatio(height=197, width=256, py_type='app.bsky.embed.images#aspectRatio'), py_type='app.bsky.embed.images#image')], py_type='app.bsky.embed.images'), entities=None, facets=None, labels=None, langs=['cs'], reply=ReplyRef(parent=Main(cid='bafyreifdjsjf27qcmoa4ajdrzqvk62pmokm5pyyvrnw2cd3lw5hcz5kzue', uri='at://did:plc:atwgx3kry3qwsd67eve5wkwd/app.bsky.feed.post/3kkvjexa6nl2e', py_type='com.atproto.repo.strongRef'), root=Main(cid='bafyreic3xabs2jpcaer7ppk7zzuv55batlenxynjgtekd6mcjwbinmottu', uri='at://did:plc:atwgx3kry3qwsd67eve5wkwd/app.bsky.feed.post/3kkrkrgmizs2y', py_type='com.atproto.repo.strongRef'), py_type='app.bsky.feed.post#replyRef'), tags=None, py_type='app.bsky.feed.post'),\n",
       " 'uri': 'at://did:plc:7punls2ofrpj3x4tikb5n7ho/app.bsky.feed.post/3kkvk45mviq2b',\n",
       " 'embed': View(images=[ViewImage(alt='', fullsize='https://cdn.bsky.app/img/feed_fullsize/plain/did:plc:7punls2ofrpj3x4tikb5n7ho/bafkreihxwhsyvjvfi5ttp73ctrzqxkpnhk4kvgiqaxxoqbuerdm45p4dn4@jpeg', thumb='https://cdn.bsky.app/img/feed_thumbnail/plain/did:plc:7punls2ofrpj3x4tikb5n7ho/bafkreihxwhsyvjvfi5ttp73ctrzqxkpnhk4kvgiqaxxoqbuerdm45p4dn4@jpeg', aspect_ratio=AspectRatio(height=197, width=256, py_type='app.bsky.embed.images#aspectRatio'), py_type='app.bsky.embed.images#viewImage')], py_type='app.bsky.embed.images#view'),\n",
       " 'labels': [],\n",
       " 'like_count': 0,\n",
       " 'reply_count': 0,\n",
       " 'repost_count': 0,\n",
       " 'threadgate': None,\n",
       " 'viewer': ViewerState(like=None, reply_disabled=None, repost=None, py_type='app.bsky.feed.defs#viewerState'),\n",
       " 'py_type': 'app.bsky.feed.defs#postView'}"
      ]
     },
     "execution_count": 42,
     "metadata": {},
     "output_type": "execute_result"
    }
   ],
   "source": [
    "politics.posts[0].__dict__"
   ]
  },
  {
   "cell_type": "code",
   "execution_count": 43,
   "metadata": {},
   "outputs": [],
   "source": [
    "from services.transform.transform_raw_data import flatten_post"
   ]
  },
  {
   "cell_type": "code",
   "execution_count": 44,
   "metadata": {},
   "outputs": [],
   "source": [
    "flattened_post = flatten_post(politics.posts[0])"
   ]
  },
  {
   "cell_type": "code",
   "execution_count": 45,
   "metadata": {},
   "outputs": [
    {
     "data": {
      "text/plain": [
       "{'author_did': 'did:plc:7punls2ofrpj3x4tikb5n7ho',\n",
       " 'author_handle': 'lfb.bsky.social',\n",
       " 'author_display_name': 'Kuřák na paprice 🌶️',\n",
       " 'created_at': '2024-02-08T10:10:09.453Z',\n",
       " 'text': \"Oh no! How dare you, pronoucing your opinion about politics which might be influencing your very life. In a public space? Willy-nilly? Not on that guy's watch.\",\n",
       " 'langs': ['cs'],\n",
       " 'cid': 'bafyreiahnq3wcuzbyeorboua3duuxbvd3saxiyuqdwu23cpebb6e3bf3km',\n",
       " 'indexed_at': '2024-02-08T10:10:09.453Z',\n",
       " 'like_count': 0,\n",
       " 'reply_count': 0,\n",
       " 'repost_count': 0}"
      ]
     },
     "execution_count": 45,
     "metadata": {},
     "output_type": "execute_result"
    }
   ],
   "source": [
    "flattened_post"
   ]
  },
  {
   "cell_type": "code",
   "execution_count": 39,
   "metadata": {},
   "outputs": [
    {
     "name": "stderr",
     "output_type": "stream",
     "text": [
      "HTTP Request: GET https://bsky.social/xrpc/app.bsky.feed.searchPosts?q=politics&cursor=50&limit=80 \"HTTP/1.1 200 OK\"\n"
     ]
    }
   ],
   "source": [
    "politics_more = client.app.bsky.feed.search_posts({'q': 'politics', 'cursor': '50', 'limit': 80})"
   ]
  },
  {
   "cell_type": "code",
   "execution_count": null,
   "metadata": {},
   "outputs": [],
   "source": []
  }
 ],
 "metadata": {
  "kernelspec": {
   "display_name": "bluesky-research",
   "language": "python",
   "name": "python3"
  },
  "language_info": {
   "codemirror_mode": {
    "name": "ipython",
    "version": 3
   },
   "file_extension": ".py",
   "mimetype": "text/x-python",
   "name": "python",
   "nbconvert_exporter": "python",
   "pygments_lexer": "ipython3",
   "version": "3.10.13"
  }
 },
 "nbformat": 4,
 "nbformat_minor": 2
}
